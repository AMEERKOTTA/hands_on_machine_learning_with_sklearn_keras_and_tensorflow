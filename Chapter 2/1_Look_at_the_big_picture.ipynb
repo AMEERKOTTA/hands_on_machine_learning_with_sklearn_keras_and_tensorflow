{
 "cells": [
  {
   "cell_type": "markdown",
   "metadata": {},
   "source": [
    "# Look at the Big Picture - Frame the Problem.\n",
    "### TASK 1\n",
    "\n",
    "+ Use California Senses data to build a Model for Housing Prices in the State.\n",
    "+ Your Model should learn from this Housing Price Data.\n",
    "+ And should be able to Predict the median housing price in any District Given all other Metrics.\n",
    "\n",
    "### FIRST IMPORTANT QUESTION\n",
    "\n",
    "+ The first Important Question to the Bussiness is\n",
    "+ What is the Exact Business Objective?\n",
    "+ How does the Compnay Expects to Benefit from the Model.\n",
    "+ By framing all these problem, you should be able to\n",
    "  + Select the Algorithms\n",
    "  + Select the Perfomance Measure.\n",
    "  + Select how to Evaluate the Model.\n",
    "  + How much efforts you will spend tweaking it.\n",
    "\n",
    "### SOLUTION\n",
    "\n",
    "The output of the model will be fed to another another ML system along with many other Signals. This downstream system will determine whether it is worth investing in a given area or not. Getting this right is critical, as it directly affects the revenue\n",
    "\n",
    "### PIPELINES\n",
    "\n",
    "+ Seqeunce of Data Processing Components.\n",
    "+ There will be a lot of Data Manipulation and Data Transformations will apply.\n",
    "+ These Components run Asynchronously.\n",
    "+ The Interface between components is Data Stores.\n",
    "+ This makes the System simple to Grasp. And different Teams can focus on Different Components.\n",
    "+ If one component is breaks, we can still run the system with stable data for a while.\n",
    "+ It will buy time to fix the bugs in broken components.\n",
    "\n",
    "\n",
    "### SECOND IMPORATANT QUESTION\n",
    "\n",
    "What is the Current Solution that you are relying on, and What is the Perfomance of that System?\n",
    "SOLUTION\n",
    "\n",
    "+ It is manually calculated.\n",
    "+ The Results are 20% way off than we expected.\n",
    "\n",
    "### WHAT KIND OF PROBLEM IS IT\n",
    "\n",
    "+ It is a Supervised Learning Task, Since you are given a Labelled Data.\n",
    "+ It is a Regresssion Task, Since we have to Pedict some values.\n",
    "+ And it is a Batch Learning Task, Since there is no Continuous Incoming of Data, the Data will be fit in memory, and no need to Change data Rapidly.\n",
    "\n",
    "### SELECT A PERFOMANCE MEASURE\n",
    "\n",
    "+ For Regression TAsk, we use RMSE (Root Mean Square Error)\n",
    "+ RMSE will give an Ideaof how much Error the System typically makes in the predictions.\n",
    "+ If there are Outliers Districts, then we can use MAE (Mean Absolute Error)\n",
    "+ If the Output of the System is to be COnverted to Classes like Cheap, Medium or Expensive\n",
    "+ then It is a Classification Problem."
   ]
  },
  {
   "cell_type": "code",
   "execution_count": null,
   "metadata": {},
   "outputs": [],
   "source": []
  }
 ],
 "metadata": {
  "kernelspec": {
   "display_name": "Python 3",
   "language": "python",
   "name": "python3"
  },
  "language_info": {
   "codemirror_mode": {
    "name": "ipython",
    "version": 3
   },
   "file_extension": ".py",
   "mimetype": "text/x-python",
   "name": "python",
   "nbconvert_exporter": "python",
   "pygments_lexer": "ipython3",
   "version": "3.8.3"
  }
 },
 "nbformat": 4,
 "nbformat_minor": 4
}
