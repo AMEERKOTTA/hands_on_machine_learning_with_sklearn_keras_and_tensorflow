{
 "cells": [
  {
   "cell_type": "markdown",
   "metadata": {},
   "source": [
    "### CUSTOM ACTIVATION FUNCTIONS, INITIALIZERS, REGULARIZERS, AND CONSTRAINTS\n",
    "\n",
    "+ Most keras functionalities such as below can be customized.\n",
    "     + losses\n",
    "     + regularizers\n",
    "     + constraints\n",
    "     + initializers\n",
    "     + metrics\n",
    "     + activation functions\n",
    "     + layers\n",
    "     + even full model\n",
    "+ Here are custom functions that are equivalent to\n",
    "    + activation function - `keras.activations.softplus() or tf.nn.softplus()`\n",
    "    + Glorot Initializer - `keras.initializers.glorot_normal()`\n",
    "    + l1 regularizers - `keras.regularizers.l1(0.01)`\n",
    "    + custom constraint that ensures weights are all positives - `keras.constraints.nonneg() or tf.nn.relu()`"
   ]
  },
  {
   "cell_type": "code",
   "execution_count": 2,
   "metadata": {},
   "outputs": [],
   "source": [
    "import pandas as pd\n",
    "import numpy as np\n",
    "import matplotlib.pyplot as plt\n",
    "\n",
    "import tensorflow as tf\n",
    "from tensorflow import keras\n",
    "from sklearn.datasets import fetch_california_housing\n",
    "from sklearn.model_selection import train_test_split\n",
    "from sklearn.preprocessing import StandardScaler"
   ]
  },
  {
   "cell_type": "code",
   "execution_count": 9,
   "metadata": {},
   "outputs": [
    {
     "name": "stdout",
     "output_type": "stream",
     "text": [
      "dict_keys(['data', 'target', 'frame', 'target_names', 'feature_names', 'DESCR'])\n",
      "\n",
      "====================================Complete Dataset======================================\n",
      "(15480, 8)\n",
      "(5160, 8)\n",
      "(15480, 1)\n",
      "(5160, 1)\n",
      "\n",
      "====================================Dataset After Splitting to Validation Set======================================\n",
      "(11610, 8)\n",
      "(3870, 8)\n",
      "(11610, 1)\n",
      "(3870, 1)\n",
      "\n",
      "=================================Standardize the Data==============================================\n",
      "(11610, 8)\n",
      "(3870, 8)\n",
      "(5160, 8)\n",
      "(8,)\n"
     ]
    }
   ],
   "source": [
    "## fetch the data.\n",
    "housing = fetch_california_housing()\n",
    "# housing.data\n",
    "# housing.target\n",
    "print(housing.keys())\n",
    "print()\n",
    "print(\"====================================Complete Dataset======================================\")\n",
    "## X_train_full, X_test, y_train_full, y_test\n",
    "X_train_full, X_test, y_train_full, y_test = train_test_split(housing.data, housing.target.reshape(-1,1), random_state = 42)\n",
    "print(X_train_full.shape)\n",
    "print(X_test.shape)\n",
    "print(y_train_full.shape)\n",
    "print(y_test.shape)\n",
    "print()\n",
    "print(\"====================================Dataset After Splitting to Validation Set======================================\")\n",
    "## X_valid, X_test, y_valid, y_test\n",
    "X_train, X_valid, y_train, y_valid = train_test_split(X_train_full, y_train_full, random_state=42)\n",
    "print(X_train.shape)\n",
    "print(X_valid.shape)\n",
    "print(y_train.shape)\n",
    "print(y_valid.shape)\n",
    "print()\n",
    "\n",
    "print(\"=================================Standardize the Data==============================================\")\n",
    "## Standardize the data\n",
    "scaler = StandardScaler()\n",
    "X_train_scaled = scaler.fit_transform(X_train)\n",
    "print(X_train_scaled.shape)\n",
    "X_valid_scaled = scaler.transform(X_valid)\n",
    "print(X_valid_scaled.shape)\n",
    "X_test_scaled = scaler.transform(X_test)\n",
    "print(X_test_scaled.shape)\n",
    "\n",
    "## defining the input shape\n",
    "input_shape = X_train.shape[1:]\n",
    "print(input_shape)"
   ]
  },
  {
   "cell_type": "code",
   "execution_count": 10,
   "metadata": {},
   "outputs": [],
   "source": [
    "## activation function\n",
    "def my_softplus(z): # return value is just tf.nn.softplus(z)\n",
    "    return tf.math.log(tf.exp(z) + 1.0)\n",
    "\n",
    "## glorot initialization\n",
    "def my_glorot_initializer(shape, dtype=tf.float32):\n",
    "    stddev = tf.sqrt(2. / (shape[0] + shape[1]))\n",
    "    return tf.random.normal(shape, stddev=stddev, dtype=dtype)\n",
    "\n",
    "## l1 regularization\n",
    "def my_l1_regularizer(weights):\n",
    "    return tf.reduce_sum(tf.abs(0.01 * weights))\n",
    "\n",
    "## positive metrics for weights.\n",
    "def my_positive_weights(weights): # return value is just tf.nn.relu(weights)\n",
    "    return tf.where(weights < 0., tf.zeros_like(weights), weights)"
   ]
  },
  {
   "cell_type": "code",
   "execution_count": 11,
   "metadata": {},
   "outputs": [
    {
     "name": "stdout",
     "output_type": "stream",
     "text": [
      "=======================DEFINING THE MODEL=========================\n",
      "=======================COMPILE THE MODEL===========================\n",
      "=======================TRAIN THE MODEL=============================\n",
      "Epoch 1/20\n",
      "363/363 [==============================] - 4s 3ms/step - loss: 1.5194 - mae: 0.8601 - val_loss: inf - val_mae: inf\n",
      "Epoch 2/20\n",
      "363/363 [==============================] - 1s 2ms/step - loss: 0.6237 - mae: 0.5165 - val_loss: inf - val_mae: inf\n",
      "Epoch 3/20\n",
      "363/363 [==============================] - 1s 2ms/step - loss: 0.5559 - mae: 0.4999 - val_loss: inf - val_mae: inf\n",
      "Epoch 4/20\n",
      "363/363 [==============================] - 1s 2ms/step - loss: 0.5270 - mae: 0.4926 - val_loss: inf - val_mae: inf\n",
      "Epoch 5/20\n",
      "363/363 [==============================] - 1s 2ms/step - loss: 0.5130 - mae: 0.4893 - val_loss: inf - val_mae: inf\n",
      "Epoch 6/20\n",
      "363/363 [==============================] - 1s 2ms/step - loss: 0.5031 - mae: 0.4872 - val_loss: 2.4822 - val_mae: 0.5001\n",
      "Epoch 7/20\n",
      "363/363 [==============================] - 1s 2ms/step - loss: 0.4963 - mae: 0.4862 - val_loss: 2.0379 - val_mae: 0.4970\n",
      "Epoch 8/20\n",
      "363/363 [==============================] - 1s 2ms/step - loss: 0.4930 - mae: 0.4847 - val_loss: 1.6573 - val_mae: 0.4903\n",
      "Epoch 9/20\n",
      "363/363 [==============================] - 1s 2ms/step - loss: 0.4879 - mae: 0.4839 - val_loss: 1.3674 - val_mae: 0.4861\n",
      "Epoch 10/20\n",
      "363/363 [==============================] - 1s 2ms/step - loss: 0.4844 - mae: 0.4825 - val_loss: 1.1708 - val_mae: 0.4843\n",
      "Epoch 11/20\n",
      "363/363 [==============================] - 1s 2ms/step - loss: 0.4826 - mae: 0.4830 - val_loss: 1.0466 - val_mae: 0.4772\n",
      "Epoch 12/20\n",
      "363/363 [==============================] - 1s 2ms/step - loss: 0.4809 - mae: 0.4815 - val_loss: 0.9554 - val_mae: 0.4729\n",
      "Epoch 13/20\n",
      "363/363 [==============================] - 1s 2ms/step - loss: 0.4789 - mae: 0.4804 - val_loss: 0.8580 - val_mae: 0.4763\n",
      "Epoch 14/20\n",
      "363/363 [==============================] - 1s 2ms/step - loss: 0.4766 - mae: 0.4796 - val_loss: 0.8348 - val_mae: 0.4744\n",
      "Epoch 15/20\n",
      "363/363 [==============================] - 1s 2ms/step - loss: 0.4752 - mae: 0.4796 - val_loss: 0.7579 - val_mae: 0.4717\n",
      "Epoch 16/20\n",
      "363/363 [==============================] - 1s 2ms/step - loss: 0.4742 - mae: 0.4790 - val_loss: 0.7784 - val_mae: 0.4714\n",
      "Epoch 17/20\n",
      "363/363 [==============================] - 1s 2ms/step - loss: 0.4709 - mae: 0.4767 - val_loss: 0.7309 - val_mae: 0.4670\n",
      "Epoch 18/20\n",
      "363/363 [==============================] - 1s 2ms/step - loss: 0.4694 - mae: 0.4768 - val_loss: 0.7557 - val_mae: 0.4623\n",
      "Epoch 19/20\n",
      "363/363 [==============================] - 1s 2ms/step - loss: 0.4679 - mae: 0.4753 - val_loss: 0.6848 - val_mae: 0.4655\n",
      "Epoch 20/20\n",
      "363/363 [==============================] - 1s 2ms/step - loss: 0.4656 - mae: 0.4735 - val_loss: 0.7009 - val_mae: 0.4692\n"
     ]
    },
    {
     "data": {
      "text/plain": [
       "<keras.callbacks.History at 0x1ad314ceca0>"
      ]
     },
     "execution_count": 11,
     "metadata": {},
     "output_type": "execute_result"
    }
   ],
   "source": [
    "## defining the final layer of the model\n",
    "## all hyperpaarameter are custom made.\n",
    "layer = keras.layers.Dense(1, activation=my_softplus,\n",
    "                           kernel_initializer=my_glorot_initializer,\n",
    "                           kernel_regularizer=my_l1_regularizer,\n",
    "                           kernel_constraint=my_positive_weights)\n",
    "\n",
    "## defining the model\n",
    "print(\"=======================DEFINING THE MODEL=========================\")\n",
    "model = keras.models.Sequential([\n",
    "    keras.layers.Dense(30, activation=\"selu\", kernel_initializer=\"lecun_normal\",\n",
    "                       input_shape=input_shape),\n",
    "    keras.layers.Dense(1, activation=my_softplus,\n",
    "                       kernel_regularizer=my_l1_regularizer,\n",
    "                       kernel_constraint=my_positive_weights,\n",
    "                       kernel_initializer=my_glorot_initializer),\n",
    "])\n",
    "print(\"=======================COMPILE THE MODEL===========================\")\n",
    "model.compile(loss=\"mse\", optimizer=\"nadam\", metrics=[\"mae\"])\n",
    "\n",
    "print(\"=======================TRAIN THE MODEL=============================\")\n",
    "model.fit(X_train_scaled, y_train, epochs=20,\n",
    "          validation_data=(X_valid_scaled, y_valid))"
   ]
  },
  {
   "cell_type": "code",
   "execution_count": 12,
   "metadata": {},
   "outputs": [],
   "source": [
    "## save the model\n",
    "model.save(\"my_model_with_many_custom_parts.h5\")"
   ]
  },
  {
   "cell_type": "markdown",
   "metadata": {},
   "source": [
    "Now when you load the model, you have to specify the hyperparameters that were defined and used before"
   ]
  },
  {
   "cell_type": "code",
   "execution_count": 13,
   "metadata": {},
   "outputs": [],
   "source": [
    "model_loaded = keras.models.load_model(\n",
    "    \"my_model_with_many_custom_parts.h5\",\n",
    "    custom_objects={\n",
    "       \"my_l1_regularizer\": my_l1_regularizer,\n",
    "       \"my_positive_weights\": my_positive_weights,\n",
    "       \"my_glorot_initializer\": my_glorot_initializer,\n",
    "       \"my_softplus\": my_softplus,\n",
    "    })"
   ]
  },
  {
   "cell_type": "code",
   "execution_count": 14,
   "metadata": {},
   "outputs": [
    {
     "name": "stdout",
     "output_type": "stream",
     "text": [
      "Epoch 1/2\n",
      "363/363 [==============================] - 1s 2ms/step - loss: 0.4642 - mae: 0.4737 - val_loss: 0.5867 - val_mae: 0.4624\n",
      "Epoch 2/2\n",
      "363/363 [==============================] - 1s 2ms/step - loss: 0.4613 - mae: 0.4709 - val_loss: 0.6076 - val_mae: 0.4571\n"
     ]
    },
    {
     "data": {
      "text/plain": [
       "<keras.callbacks.History at 0x1ad348d8190>"
      ]
     },
     "execution_count": 14,
     "metadata": {},
     "output_type": "execute_result"
    }
   ],
   "source": [
    "model_loaded.fit(X_train_scaled, y_train, epochs=2,\n",
    "          validation_data=(X_valid_scaled, y_valid))"
   ]
  },
  {
   "cell_type": "code",
   "execution_count": 16,
   "metadata": {},
   "outputs": [
    {
     "name": "stdout",
     "output_type": "stream",
     "text": [
      "Epoch 1/2\n",
      "363/363 [==============================] - 1s 2ms/step - loss: 1.6164 - mae: 0.8978 - val_loss: inf - val_mae: inf\n",
      "Epoch 2/2\n",
      "363/363 [==============================] - 1s 2ms/step - loss: 0.6711 - mae: 0.5363 - val_loss: inf - val_mae: inf\n"
     ]
    },
    {
     "data": {
      "text/plain": [
       "<keras.callbacks.History at 0x1ad339d9490>"
      ]
     },
     "execution_count": 16,
     "metadata": {},
     "output_type": "execute_result"
    }
   ],
   "source": [
    "## defineing the l1 regularization class.\n",
    "## this is to save the scores when saving the model\n",
    "class MyL1Regularizer(keras.regularizers.Regularizer):\n",
    "    def __init__(self, factor):\n",
    "        self.factor = factor\n",
    "    def __call__(self, weights):\n",
    "        return tf.reduce_sum(tf.abs(self.factor * weights))\n",
    "    def get_config(self):\n",
    "        return {\"factor\": self.factor}\n",
    "    \n",
    "model = keras.models.Sequential([\n",
    "    keras.layers.Dense(30, activation=\"selu\", kernel_initializer=\"lecun_normal\",\n",
    "                       input_shape=input_shape),\n",
    "    keras.layers.Dense(1, activation=my_softplus,\n",
    "                       kernel_regularizer=MyL1Regularizer(0.01),\n",
    "                       kernel_constraint=my_positive_weights,\n",
    "                       kernel_initializer=my_glorot_initializer),\n",
    "])\n",
    "\n",
    "model.compile(loss=\"mse\", optimizer=\"nadam\", metrics=[\"mae\"])\n",
    "\n",
    "model.fit(X_train_scaled, y_train, epochs=2,\n",
    "          validation_data=(X_valid_scaled, y_valid))"
   ]
  },
  {
   "cell_type": "code",
   "execution_count": 17,
   "metadata": {},
   "outputs": [],
   "source": [
    "## saving the model here again\n",
    "model.save(\"my_model_with_many_custom_parts_with_l1_regularizer.h5\")"
   ]
  },
  {
   "cell_type": "code",
   "execution_count": 18,
   "metadata": {},
   "outputs": [
    {
     "name": "stdout",
     "output_type": "stream",
     "text": [
      "Epoch 1/2\n",
      "363/363 [==============================] - 1s 2ms/step - loss: 0.5852 - mae: 0.5089 - val_loss: inf - val_mae: inf\n",
      "Epoch 2/2\n",
      "363/363 [==============================] - 1s 2ms/step - loss: 0.5469 - mae: 0.4962 - val_loss: inf - val_mae: inf\n"
     ]
    },
    {
     "data": {
      "text/plain": [
       "<keras.callbacks.History at 0x1ad34d30a60>"
      ]
     },
     "execution_count": 18,
     "metadata": {},
     "output_type": "execute_result"
    }
   ],
   "source": [
    "## when you are loading the model again\n",
    "## we need to specify the hyperparameters that we were defined and used before here\n",
    "model = keras.models.load_model(\n",
    "    \"my_model_with_many_custom_parts_with_l1_regularizer.h5\",\n",
    "    custom_objects={\n",
    "       \"MyL1Regularizer\": MyL1Regularizer,\n",
    "       \"my_positive_weights\": my_positive_weights,\n",
    "       \"my_glorot_initializer\": my_glorot_initializer,\n",
    "       \"my_softplus\": my_softplus,\n",
    "    })\n",
    "\n",
    "model.fit(X_train_scaled, y_train, epochs=2,\n",
    "          validation_data=(X_valid_scaled, y_valid))"
   ]
  },
  {
   "cell_type": "code",
   "execution_count": 24,
   "metadata": {},
   "outputs": [
    {
     "data": {
      "text/plain": [
       "[<tf.Tensor: shape=(), dtype=float32, numpy=0.040859472>]"
      ]
     },
     "execution_count": 24,
     "metadata": {},
     "output_type": "execute_result"
    }
   ],
   "source": [
    "model.losses"
   ]
  },
  {
   "cell_type": "code",
   "execution_count": null,
   "metadata": {},
   "outputs": [],
   "source": []
  }
 ],
 "metadata": {
  "kernelspec": {
   "display_name": "Python 3",
   "language": "python",
   "name": "python3"
  },
  "language_info": {
   "codemirror_mode": {
    "name": "ipython",
    "version": 3
   },
   "file_extension": ".py",
   "mimetype": "text/x-python",
   "name": "python",
   "nbconvert_exporter": "python",
   "pygments_lexer": "ipython3",
   "version": "3.8.3"
  }
 },
 "nbformat": 4,
 "nbformat_minor": 4
}
