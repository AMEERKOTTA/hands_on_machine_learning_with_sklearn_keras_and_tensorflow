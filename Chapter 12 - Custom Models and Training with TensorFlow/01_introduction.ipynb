{
 "cells": [
  {
   "cell_type": "markdown",
   "metadata": {},
   "source": [
    "### CUSTOM MODELS AND TRAINING WITH TENSORFLOW\n",
    "\n",
    "TOPICS :--\n",
    "\n",
    "+ Using Tensorflow like NumPy.\n",
    "+ Customizing Models and Training Algorithms.\n",
    "+ Tensorflow Functions and Graphs."
   ]
  },
  {
   "cell_type": "markdown",
   "metadata": {},
   "source": [
    "Here we will try to do things differently as Customized. This will be helpful when we need Extra Control to\n",
    "\n",
    "+ Write Custom Loss Functions.\n",
    "+ Custom Metrics.\n",
    "+ Custom Layers.\n",
    "+ Custom Models.\n",
    "+ Custom Initializers.\n",
    "+ Custom Regularizers.\n",
    "+ Custom Weight Contraints and More.\n",
    "\n",
    "+ Even we will be able to fully control the training loop.\n",
    "\n",
    "\n",
    "EXAMPLE :--\n",
    "\n",
    "+ Apply Special Transformations or Contraints to the Gradient.\n",
    "+ Using Multiple Optimizers for Different Parts of the Network.\n",
    "\n",
    "\n",
    "Finally, also look how to boost the Custom Models and training Algorithms using Tensorflow's automatic graph Generation Feature.\n",
    "\n",
    "***"
   ]
  }
 ],
 "metadata": {
  "kernelspec": {
   "display_name": "Python 3",
   "language": "python",
   "name": "python3"
  },
  "language_info": {
   "codemirror_mode": {
    "name": "ipython",
    "version": 3
   },
   "file_extension": ".py",
   "mimetype": "text/x-python",
   "name": "python",
   "nbconvert_exporter": "python",
   "pygments_lexer": "ipython3",
   "version": "3.8.3"
  }
 },
 "nbformat": 4,
 "nbformat_minor": 4
}
