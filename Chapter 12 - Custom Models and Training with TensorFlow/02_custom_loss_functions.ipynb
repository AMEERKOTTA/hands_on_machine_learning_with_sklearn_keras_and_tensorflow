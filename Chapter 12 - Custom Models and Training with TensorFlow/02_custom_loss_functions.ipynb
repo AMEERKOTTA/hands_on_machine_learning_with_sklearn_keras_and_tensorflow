{
 "cells": [
  {
   "cell_type": "markdown",
   "metadata": {},
   "source": [
    "### CUSTOM LOSS FUNCTIONS\n",
    "#### *1. HUBER LOSS FUNCTION*\n",
    "\n",
    "+ Suppose you are training a Regression Model.\n",
    "+ But your data is noisy.\n",
    "+ So you will clean the data and remove or fix the Outliers.\n",
    "+ But Still the data is noisy.\n",
    "+ So which loss function will you use.\n",
    "+ If we use MSE, it might not penalize the large error.\n",
    "+ If we use MAE, it woud not penalize outliers.\n",
    "+ Here we are Implementing the Huber Loss Function.\n",
    "+ It is available on `keras.losses.huber`\n",
    "+ But we are trying to Implement that functionally."
   ]
  },
  {
   "cell_type": "code",
   "execution_count": 36,
   "metadata": {},
   "outputs": [
    {
     "data": {
      "image/png": "[encoded data removed]",
      "text/plain": [
       "<Figure size 576x252 with 1 Axes>"
      ]
     },
     "metadata": {
      "needs_background": "light"
     },
     "output_type": "display_data"
    }
   ],
   "source": [
    "import tensorflow as tf\n",
    "from tensorflow import keras\n",
    "import matplotlib.pyplot as plt\n",
    "import numpy as np\n",
    "\n",
    "from sklearn.datasets import fetch_california_housing\n",
    "from sklearn.model_selection import train_test_split\n",
    "from sklearn.preprocessing import StandardScaler\n",
    "\n",
    "## defining the huber function\n",
    "## this is the loss function\n",
    "def huber_fn(y_true, y_pred):\n",
    "    ## define the error from y_true and y_pred, that will be the difference\n",
    "    error = y_true - y_pred\n",
    "    #print(error)\n",
    "    is_small_error = tf.abs(error) < 1\n",
    "    squared_loss = tf.square(error) / 2\n",
    "    linear_loss = tf.abs(error) - 0.5\n",
    "    return tf.where(is_small_error, squared_loss, linear_loss)\n",
    "\n",
    "plt.figure(figsize=(8, 3.5))\n",
    "z = np.linspace(-4, 4, 200)\n",
    "plt.plot(z, huber_fn(0, z), \"b-\", linewidth=2, label=\"huber($z$)\")\n",
    "plt.plot(z, z**2 / 2, \"b:\", linewidth=1, label=r\"$\\frac{1}{2}z^2$\")\n",
    "plt.plot([-1, -1], [0, huber_fn(0., -1.)], \"r--\")\n",
    "plt.plot([1, 1], [0, huber_fn(0., 1.)], \"r--\")\n",
    "plt.gca().axhline(y=0, color='k')\n",
    "plt.gca().axvline(x=0, color='k')\n",
    "plt.axis([-4, 4, 0, 4])\n",
    "plt.grid(True)\n",
    "plt.xlabel(\"$z$\")\n",
    "plt.legend(fontsize=14)\n",
    "plt.title(\"Huber loss\", fontsize=14)\n",
    "plt.show()"
   ]
  },
  {
   "cell_type": "code",
   "execution_count": 46,
   "metadata": {},
   "outputs": [
    {
     "name": "stdout",
     "output_type": "stream",
     "text": [
      "dict_keys(['data', 'target', 'frame', 'target_names', 'feature_names', 'DESCR'])\n",
      "\n",
      "====================================Complete Dataset======================================\n",
      "(15480, 8)\n",
      "(5160, 8)\n",
      "(15480, 1)\n",
      "(5160, 1)\n",
      "\n",
      "====================================Dataset After Splitting to Validation Set======================================\n",
      "(11610, 8)\n",
      "(3870, 8)\n",
      "(11610, 1)\n",
      "(3870, 1)\n",
      "\n",
      "=================================Standardize the Data==============================================\n",
      "(11610, 8)\n",
      "(3870, 8)\n",
      "(5160, 8)\n",
      "=================================Defining and Develop the Model===================================\n",
      "(8,)\n",
      "=============================Compile the Model=================================\n",
      "Model: \"sequential_4\"\n",
      "_________________________________________________________________\n",
      " Layer (type)                Output Shape              Param #   \n",
      "=================================================================\n",
      " dense_9 (Dense)             (None, 30)                270       \n",
      "                                                                 \n",
      " dense_10 (Dense)            (None, 1)                 31        \n",
      "                                                                 \n",
      "=================================================================\n",
      "Total params: 301\n",
      "Trainable params: 301\n",
      "Non-trainable params: 0\n",
      "_________________________________________________________________\n",
      "None\n",
      "=================================Train the Model=======================================\n",
      "Epoch 1/20\n",
      "363/363 [==============================] - 2s 2ms/step - loss: 13.9860 - mae: 14.4667 - val_loss: 1.5951 - val_mae: 2.0533\n",
      "Epoch 2/20\n",
      "363/363 [==============================] - 1s 2ms/step - loss: 3.6076 - mae: 4.0824 - val_loss: 1.5940 - val_mae: 2.0566\n",
      "Epoch 3/20\n",
      "363/363 [==============================] - 1s 2ms/step - loss: 3.2527 - mae: 3.7262 - val_loss: 1.5993 - val_mae: 2.0650\n",
      "Epoch 4/20\n",
      "363/363 [==============================] - 1s 2ms/step - loss: 3.1089 - mae: 3.5846 - val_loss: 1.6020 - val_mae: 2.0689\n",
      "Epoch 5/20\n",
      "363/363 [==============================] - 1s 2ms/step - loss: 2.8955 - mae: 3.3697 - val_loss: 1.6014 - val_mae: 2.0673\n",
      "Epoch 6/20\n",
      "363/363 [==============================] - 1s 2ms/step - loss: 2.6164 - mae: 3.0846 - val_loss: 1.6057 - val_mae: 2.0733\n",
      "Epoch 7/20\n",
      "363/363 [==============================] - 1s 2ms/step - loss: 2.5751 - mae: 3.0454 - val_loss: 1.6081 - val_mae: 2.0732\n",
      "Epoch 8/20\n",
      "363/363 [==============================] - 1s 2ms/step - loss: 2.4387 - mae: 2.9083 - val_loss: 1.6093 - val_mae: 2.0760\n",
      "Epoch 9/20\n",
      "363/363 [==============================] - 1s 2ms/step - loss: 2.2568 - mae: 2.7219 - val_loss: 1.6091 - val_mae: 2.0744\n",
      "Epoch 10/20\n",
      "363/363 [==============================] - 1s 2ms/step - loss: 2.2067 - mae: 2.6740 - val_loss: 1.6162 - val_mae: 2.0829\n",
      "Epoch 11/20\n",
      "363/363 [==============================] - 1s 2ms/step - loss: 2.0895 - mae: 2.5526 - val_loss: 1.6127 - val_mae: 2.0775\n",
      "Epoch 12/20\n",
      "363/363 [==============================] - 1s 2ms/step - loss: 1.9699 - mae: 2.4306 - val_loss: 1.6172 - val_mae: 2.0810\n",
      "Epoch 13/20\n",
      "363/363 [==============================] - 1s 2ms/step - loss: 1.9099 - mae: 2.3722 - val_loss: 1.6173 - val_mae: 2.0808\n",
      "Epoch 14/20\n",
      "363/363 [==============================] - 1s 2ms/step - loss: 1.7929 - mae: 2.2489 - val_loss: 1.6164 - val_mae: 2.0785\n",
      "Epoch 15/20\n",
      "363/363 [==============================] - 1s 2ms/step - loss: 1.7600 - mae: 2.2162 - val_loss: 1.6246 - val_mae: 2.0888\n",
      "Epoch 16/20\n",
      "363/363 [==============================] - 1s 2ms/step - loss: 1.6819 - mae: 2.1351 - val_loss: 1.6277 - val_mae: 2.0904\n",
      "Epoch 17/20\n",
      "363/363 [==============================] - 1s 2ms/step - loss: 1.6176 - mae: 2.0709 - val_loss: 1.6329 - val_mae: 2.0962\n",
      "Epoch 18/20\n",
      "363/363 [==============================] - 1s 2ms/step - loss: 1.5596 - mae: 2.0091 - val_loss: 1.6333 - val_mae: 2.0957\n",
      "Epoch 19/20\n",
      "363/363 [==============================] - 1s 2ms/step - loss: 1.5247 - mae: 1.9764 - val_loss: 1.6362 - val_mae: 2.0990\n",
      "Epoch 20/20\n",
      "363/363 [==============================] - 1s 2ms/step - loss: 1.4625 - mae: 1.9100 - val_loss: 1.6336 - val_mae: 2.0960\n"
     ]
    },
    {
     "data": {
      "text/plain": [
       "<keras.callbacks.History at 0x1ab3e476130>"
      ]
     },
     "execution_count": 46,
     "metadata": {},
     "output_type": "execute_result"
    }
   ],
   "source": [
    "## fetch the data.\n",
    "housing = fetch_california_housing()\n",
    "# housing.data\n",
    "# housing.target\n",
    "print(housing.keys())\n",
    "print()\n",
    "print(\"====================================Complete Dataset======================================\")\n",
    "## X_train_full, X_test, y_train_full, y_test\n",
    "X_train_full, X_test, y_train_full, y_test = train_test_split(housing.data, housing.target.reshape(-1,1), random_state = 42)\n",
    "print(X_train_full.shape)\n",
    "print(X_test.shape)\n",
    "print(y_train_full.shape)\n",
    "print(y_test.shape)\n",
    "print()\n",
    "print(\"====================================Dataset After Splitting to Validation Set======================================\")\n",
    "## X_valid, X_test, y_valid, y_test\n",
    "X_train, X_valid, y_train, y_valid = train_test_split(X_train_full, y_train_full, random_state=42)\n",
    "print(X_train.shape)\n",
    "print(X_valid.shape)\n",
    "print(y_train.shape)\n",
    "print(y_valid.shape)\n",
    "print()\n",
    "\n",
    "print(\"=================================Standardize the Data==============================================\")\n",
    "## Standardize the data\n",
    "scaler = StandardScaler()\n",
    "X_train_scaled = scaler.fit_transform(X_train)\n",
    "print(X_train_scaled.shape)\n",
    "X_valid_scaled = scaler.transform(X_valid)\n",
    "print(y_valid_scaled.shape)\n",
    "X_test_scaled = scaler.transform(X_test)\n",
    "print(X_test_scaled.shape)\n",
    "\n",
    "print(\"=================================Defining and Develop the Model===================================\")\n",
    "## defining the input shape\n",
    "input_shape = X_train.shape[1:]\n",
    "print(input_shape)\n",
    "model = keras.models.Sequential([\n",
    "    keras.layers.Dense(30, activation = \"selu\", kernel_initializer = \"lecun_normal\", input_shape = input_shape),\n",
    "    keras.layers.Dense(1)\n",
    "])\n",
    "\n",
    "print(\"=============================Compile the Model=================================\")\n",
    "model.compile(loss = huber_fn, optimizer = \"nadam\", metrics = [\"mae\"])\n",
    "print(model.summary())\n",
    "\n",
    "print(\"=================================Train the Model=======================================\")\n",
    "model.fit(X_train, y_train, epochs = 20, validation_data = (X_valid_scaled, y_valid))"
   ]
  },
  {
   "cell_type": "code",
   "execution_count": 48,
   "metadata": {},
   "outputs": [
    {
     "name": "stdout",
     "output_type": "stream",
     "text": [
      "=============================Compile the Model=================================\n",
      "Model: \"sequential_4\"\n",
      "_________________________________________________________________\n",
      " Layer (type)                Output Shape              Param #   \n",
      "=================================================================\n",
      " dense_9 (Dense)             (None, 30)                270       \n",
      "                                                                 \n",
      " dense_10 (Dense)            (None, 1)                 31        \n",
      "                                                                 \n",
      "=================================================================\n",
      "Total params: 301\n",
      "Trainable params: 301\n",
      "Non-trainable params: 0\n",
      "_________________________________________________________________\n",
      "None\n",
      "=================================Train the Model=======================================\n",
      "Epoch 1/20\n",
      "363/363 [==============================] - 1s 2ms/step - loss: 3.0943 - mse: 23.9494 - val_loss: 1.6247 - val_mse: 6.0515\n",
      "Epoch 2/20\n",
      "363/363 [==============================] - 1s 2ms/step - loss: 2.8963 - mse: 20.5328 - val_loss: 1.6254 - val_mse: 6.0609\n",
      "Epoch 3/20\n",
      "363/363 [==============================] - 1s 2ms/step - loss: 2.7873 - mse: 19.5649 - val_loss: 1.6263 - val_mse: 6.0848\n",
      "Epoch 4/20\n",
      "363/363 [==============================] - 1s 2ms/step - loss: 2.6330 - mse: 17.6647 - val_loss: 1.6249 - val_mse: 6.0981\n",
      "Epoch 5/20\n",
      "363/363 [==============================] - 1s 2ms/step - loss: 2.4754 - mse: 15.5721 - val_loss: 1.6230 - val_mse: 6.0841\n",
      "Epoch 6/20\n",
      "363/363 [==============================] - 1s 2ms/step - loss: 2.3774 - mse: 14.3395 - val_loss: 1.6231 - val_mse: 6.0703\n",
      "Epoch 7/20\n",
      "363/363 [==============================] - 1s 2ms/step - loss: 2.2228 - mse: 13.3213 - val_loss: 1.6276 - val_mse: 6.1204\n",
      "Epoch 8/20\n",
      "363/363 [==============================] - 1s 2ms/step - loss: 2.1637 - mse: 12.8238 - val_loss: 1.6225 - val_mse: 6.0962\n",
      "Epoch 9/20\n",
      "363/363 [==============================] - 1s 2ms/step - loss: 2.0535 - mse: 11.6782 - val_loss: 1.6235 - val_mse: 6.1152\n",
      "Epoch 10/20\n",
      "363/363 [==============================] - 1s 2ms/step - loss: 1.9950 - mse: 10.8736 - val_loss: 1.6212 - val_mse: 6.1122\n",
      "Epoch 11/20\n",
      "363/363 [==============================] - 1s 2ms/step - loss: 1.8775 - mse: 9.7929 - val_loss: 1.6230 - val_mse: 6.1299\n",
      "Epoch 12/20\n",
      "363/363 [==============================] - 1s 2ms/step - loss: 1.8080 - mse: 9.3198 - val_loss: 1.6202 - val_mse: 6.1069\n",
      "Epoch 13/20\n",
      "363/363 [==============================] - 1s 2ms/step - loss: 1.6887 - mse: 8.4772 - val_loss: 1.6206 - val_mse: 6.1009\n",
      "Epoch 14/20\n",
      "363/363 [==============================] - 1s 2ms/step - loss: 1.6505 - mse: 8.2729 - val_loss: 1.6213 - val_mse: 6.1062\n",
      "Epoch 15/20\n",
      "363/363 [==============================] - 1s 2ms/step - loss: 1.5829 - mse: 7.9503 - val_loss: 1.6215 - val_mse: 6.1222\n",
      "Epoch 16/20\n",
      "363/363 [==============================] - 1s 2ms/step - loss: 1.5173 - mse: 7.0906 - val_loss: 1.6236 - val_mse: 6.1145\n",
      "Epoch 17/20\n",
      "363/363 [==============================] - 1s 2ms/step - loss: 1.4855 - mse: 6.9276 - val_loss: 1.6176 - val_mse: 6.0720\n",
      "Epoch 18/20\n",
      "363/363 [==============================] - 1s 2ms/step - loss: 1.4242 - mse: 6.6397 - val_loss: 1.6173 - val_mse: 6.0812\n",
      "Epoch 19/20\n",
      "363/363 [==============================] - 1s 2ms/step - loss: 1.3826 - mse: 6.2131 - val_loss: 1.6150 - val_mse: 6.0564\n",
      "Epoch 20/20\n",
      "363/363 [==============================] - 1s 2ms/step - loss: 1.2584 - mse: 5.3974 - val_loss: 1.6156 - val_mse: 6.0473\n"
     ]
    },
    {
     "data": {
      "text/plain": [
       "<keras.callbacks.History at 0x1ab478ff970>"
      ]
     },
     "execution_count": 48,
     "metadata": {},
     "output_type": "execute_result"
    }
   ],
   "source": [
    "## training the model using the mse metrics\n",
    "print(\"=============================Compile the Model=================================\")\n",
    "model.compile(loss = huber_fn, optimizer = \"nadam\", metrics = [\"mse\"])\n",
    "print(model.summary())\n",
    "\n",
    "print(\"=================================Train the Model=======================================\")\n",
    "model.fit(X_train, y_train, epochs = 20, validation_data = (X_valid_scaled, y_valid))"
   ]
  },
  {
   "cell_type": "code",
   "execution_count": 49,
   "metadata": {},
   "outputs": [],
   "source": [
    "## save the model\n",
    "model.save(\"my_model_with_a_custom_loss.h5\")"
   ]
  },
  {
   "cell_type": "markdown",
   "metadata": {},
   "source": [
    "#### *2. SAVING AND LOADNG THE MODELS THAT CONTAIN CUSTOM COMPONENTS*\n",
    "\n",
    "+ When you load a model containing custom objects you need to map the name to the objects.\n",
    "+ "
   ]
  },
  {
   "cell_type": "code",
   "execution_count": 51,
   "metadata": {},
   "outputs": [
    {
     "name": "stdout",
     "output_type": "stream",
     "text": [
      "Epoch 1/20\n",
      "363/363 [==============================] - 1s 2ms/step - loss: 0.3862 - mse: 1.1175 - val_loss: 0.2800 - val_mse: 6.5311\n",
      "Epoch 2/20\n",
      "363/363 [==============================] - 1s 2ms/step - loss: 0.2275 - mse: 0.5973 - val_loss: 0.2512 - val_mse: 4.5090\n",
      "Epoch 3/20\n",
      "363/363 [==============================] - 1s 2ms/step - loss: 0.2150 - mse: 0.5376 - val_loss: 0.2359 - val_mse: 3.2253\n",
      "Epoch 4/20\n",
      "363/363 [==============================] - 1s 2ms/step - loss: 0.2097 - mse: 0.5149 - val_loss: 0.2223 - val_mse: 2.1146\n",
      "Epoch 5/20\n",
      "363/363 [==============================] - 1s 2ms/step - loss: 0.2058 - mse: 0.4925 - val_loss: 0.2108 - val_mse: 1.2770\n",
      "Epoch 6/20\n",
      "363/363 [==============================] - 1s 2ms/step - loss: 0.2030 - mse: 0.4809 - val_loss: 0.1959 - val_mse: 0.6308\n",
      "Epoch 7/20\n",
      "363/363 [==============================] - 1s 2ms/step - loss: 0.2003 - mse: 0.4667 - val_loss: 0.1837 - val_mse: 0.4208\n",
      "Epoch 8/20\n",
      "363/363 [==============================] - 1s 2ms/step - loss: 0.1978 - mse: 0.4594 - val_loss: 0.1892 - val_mse: 0.5425\n",
      "Epoch 9/20\n",
      "363/363 [==============================] - 1s 2ms/step - loss: 0.1960 - mse: 0.4563 - val_loss: 0.1806 - val_mse: 0.4156\n",
      "Epoch 10/20\n",
      "363/363 [==============================] - 1s 2ms/step - loss: 0.1942 - mse: 0.4509 - val_loss: 0.1782 - val_mse: 0.4043\n",
      "Epoch 11/20\n",
      "363/363 [==============================] - 1s 2ms/step - loss: 0.1925 - mse: 0.4459 - val_loss: 0.1766 - val_mse: 0.4026\n",
      "Epoch 12/20\n",
      "363/363 [==============================] - 1s 2ms/step - loss: 0.1905 - mse: 0.4395 - val_loss: 0.1844 - val_mse: 0.5895\n",
      "Epoch 13/20\n",
      "363/363 [==============================] - 1s 2ms/step - loss: 0.1893 - mse: 0.4369 - val_loss: 0.1762 - val_mse: 0.4154\n",
      "Epoch 14/20\n",
      "363/363 [==============================] - 1s 2ms/step - loss: 0.1874 - mse: 0.4312 - val_loss: 0.1766 - val_mse: 0.4452\n",
      "Epoch 15/20\n",
      "363/363 [==============================] - 1s 2ms/step - loss: 0.1861 - mse: 0.4261 - val_loss: 0.1710 - val_mse: 0.3900\n",
      "Epoch 16/20\n",
      "363/363 [==============================] - 1s 2ms/step - loss: 0.1847 - mse: 0.4242 - val_loss: 0.1838 - val_mse: 0.6842\n",
      "Epoch 17/20\n",
      "363/363 [==============================] - 1s 2ms/step - loss: 0.1834 - mse: 0.4205 - val_loss: 0.1725 - val_mse: 0.4053\n",
      "Epoch 18/20\n",
      "363/363 [==============================] - 1s 2ms/step - loss: 0.1816 - mse: 0.4156 - val_loss: 0.1715 - val_mse: 0.3967\n",
      "Epoch 19/20\n",
      "363/363 [==============================] - 1s 2ms/step - loss: 0.1806 - mse: 0.4123 - val_loss: 0.1867 - val_mse: 1.0021\n",
      "Epoch 20/20\n",
      "363/363 [==============================] - 1s 2ms/step - loss: 0.1804 - mse: 0.4150 - val_loss: 0.1731 - val_mse: 0.4880\n"
     ]
    },
    {
     "data": {
      "text/plain": [
       "<keras.callbacks.History at 0x1ab489ec9d0>"
      ]
     },
     "execution_count": 51,
     "metadata": {},
     "output_type": "execute_result"
    }
   ],
   "source": [
    "## when you load the model, need to specify the name of the object.\n",
    "model = keras.models.load_model(\"my_model_with_a_custom_loss.h5\", custom_objects = {\"huber_fn\":huber_fn})\n",
    "## train the model.\n",
    "model.fit(X_train_scaled, y_train, epochs=20,validation_data=(X_valid_scaled, y_valid))"
   ]
  },
  {
   "cell_type": "markdown",
   "metadata": {},
   "source": [
    "+ any error between -1 and 1 considered as small.\n",
    "+ But if you want different threshold, we will have to build new function for it."
   ]
  },
  {
   "cell_type": "code",
   "execution_count": 54,
   "metadata": {},
   "outputs": [
    {
     "name": "stdout",
     "output_type": "stream",
     "text": [
      "=============================Compile the Model=================================\n",
      "Model: \"sequential_4\"\n",
      "_________________________________________________________________\n",
      " Layer (type)                Output Shape              Param #   \n",
      "=================================================================\n",
      " dense_9 (Dense)             (None, 30)                270       \n",
      "                                                                 \n",
      " dense_10 (Dense)            (None, 1)                 31        \n",
      "                                                                 \n",
      "=================================================================\n",
      "Total params: 301\n",
      "Trainable params: 301\n",
      "Non-trainable params: 0\n",
      "_________________________________________________________________\n",
      "None\n",
      "=================================Train the Model=======================================\n",
      "Epoch 1/20\n",
      "363/363 [==============================] - 1s 2ms/step - loss: 6.5918 - mae: 4.2092 - val_loss: 0.2580 - val_mae: 0.5239\n",
      "Epoch 2/20\n",
      "363/363 [==============================] - 1s 2ms/step - loss: 5.3298 - mae: 3.5683 - val_loss: 0.2688 - val_mae: 0.5278\n",
      "Epoch 3/20\n",
      "363/363 [==============================] - 1s 2ms/step - loss: 4.9270 - mae: 3.3594 - val_loss: 0.2885 - val_mae: 0.5426\n",
      "Epoch 4/20\n",
      "363/363 [==============================] - 1s 2ms/step - loss: 4.5244 - mae: 3.1509 - val_loss: 0.3092 - val_mae: 0.5576\n",
      "Epoch 5/20\n",
      "363/363 [==============================] - 1s 2ms/step - loss: 4.2260 - mae: 2.9928 - val_loss: 0.3256 - val_mae: 0.5652\n",
      "Epoch 6/20\n",
      "363/363 [==============================] - 1s 2ms/step - loss: 3.9571 - mae: 2.8561 - val_loss: 0.3308 - val_mae: 0.5652\n",
      "Epoch 7/20\n",
      "363/363 [==============================] - 1s 2ms/step - loss: 3.7301 - mae: 2.7378 - val_loss: 0.3478 - val_mae: 0.5798\n",
      "Epoch 8/20\n",
      "363/363 [==============================] - 1s 2ms/step - loss: 3.3979 - mae: 2.5473 - val_loss: 0.3528 - val_mae: 0.5830\n",
      "Epoch 9/20\n",
      "363/363 [==============================] - 1s 2ms/step - loss: 3.3015 - mae: 2.4959 - val_loss: 0.3583 - val_mae: 0.5860\n",
      "Epoch 10/20\n",
      "363/363 [==============================] - 1s 2ms/step - loss: 3.1705 - mae: 2.4299 - val_loss: 0.3706 - val_mae: 0.5942\n",
      "Epoch 11/20\n",
      "363/363 [==============================] - 1s 2ms/step - loss: 2.9385 - mae: 2.3027 - val_loss: 0.3714 - val_mae: 0.5955\n",
      "Epoch 12/20\n",
      "363/363 [==============================] - 1s 2ms/step - loss: 2.7810 - mae: 2.2193 - val_loss: 0.3803 - val_mae: 0.5998\n",
      "Epoch 13/20\n",
      "363/363 [==============================] - 1s 2ms/step - loss: 2.6116 - mae: 2.1145 - val_loss: 0.3941 - val_mae: 0.6123\n",
      "Epoch 14/20\n",
      "363/363 [==============================] - 1s 2ms/step - loss: 2.5629 - mae: 2.0940 - val_loss: 0.3946 - val_mae: 0.6091\n",
      "Epoch 15/20\n",
      "363/363 [==============================] - 1s 2ms/step - loss: 2.3221 - mae: 1.9515 - val_loss: 0.4046 - val_mae: 0.6194\n",
      "Epoch 16/20\n",
      "363/363 [==============================] - 1s 2ms/step - loss: 2.2478 - mae: 1.9103 - val_loss: 0.4040 - val_mae: 0.6180\n",
      "Epoch 17/20\n",
      "363/363 [==============================] - 1s 2ms/step - loss: 2.1935 - mae: 1.8798 - val_loss: 0.3984 - val_mae: 0.6123\n",
      "Epoch 18/20\n",
      "363/363 [==============================] - 1s 2ms/step - loss: 1.9815 - mae: 1.7438 - val_loss: 0.3969 - val_mae: 0.6085\n",
      "Epoch 19/20\n",
      "363/363 [==============================] - 1s 2ms/step - loss: 1.9566 - mae: 1.7356 - val_loss: 0.3978 - val_mae: 0.6092\n",
      "Epoch 20/20\n",
      "363/363 [==============================] - 1s 2ms/step - loss: 1.9413 - mae: 1.7325 - val_loss: 0.4095 - val_mae: 0.6186\n"
     ]
    },
    {
     "data": {
      "text/plain": [
       "<keras.callbacks.History at 0x1ab49beffa0>"
      ]
     },
     "execution_count": 54,
     "metadata": {},
     "output_type": "execute_result"
    }
   ],
   "source": [
    "def create_huber(threshold=1.0):\n",
    "    def huber_fn(y_true, y_pred):\n",
    "        error = y_true - y_pred\n",
    "        is_small_error = tf.abs(error) < threshold\n",
    "        squared_loss = tf.square(error) / 2\n",
    "        linear_loss  = threshold * tf.abs(error) - threshold**2 / 2\n",
    "        return tf.where(is_small_error, squared_loss, linear_loss)\n",
    "    return huber_fn\n",
    "\n",
    "## training the model using the mse metrics\n",
    "print(\"=============================Compile the Model=================================\")\n",
    "model.compile(loss = create_huber(2.0), optimizer = \"nadam\", metrics = [\"mae\"])\n",
    "print(model.summary())\n",
    "\n",
    "print(\"=================================Train the Model=======================================\")\n",
    "model.fit(X_train, y_train, epochs = 20, validation_data = (X_valid_scaled, y_valid))"
   ]
  },
  {
   "cell_type": "code",
   "execution_count": 55,
   "metadata": {},
   "outputs": [],
   "source": [
    "## saving the latest model\n",
    "model.save(\"my_model_with_a_custom_loss_threshold_2.h5\")"
   ]
  },
  {
   "cell_type": "markdown",
   "metadata": {},
   "source": [
    "+ when the model is saved, the threshold will not get saved.\n",
    "+ So when you load the model, we have to specify the threshold value."
   ]
  },
  {
   "cell_type": "code",
   "execution_count": 57,
   "metadata": {},
   "outputs": [
    {
     "name": "stdout",
     "output_type": "stream",
     "text": [
      "=================================Train the Model=======================================\n",
      "Epoch 1/20\n",
      "363/363 [==============================] - 1s 2ms/step - loss: 1.8387 - mae: 1.6689 - val_loss: 0.4120 - val_mae: 0.6215\n",
      "Epoch 2/20\n",
      "363/363 [==============================] - 1s 2ms/step - loss: 1.6924 - mae: 1.5631 - val_loss: 0.4151 - val_mae: 0.6245\n",
      "Epoch 3/20\n",
      "363/363 [==============================] - 1s 2ms/step - loss: 1.6804 - mae: 1.5697 - val_loss: 0.4152 - val_mae: 0.6233\n",
      "Epoch 4/20\n",
      "363/363 [==============================] - 1s 2ms/step - loss: 1.5833 - mae: 1.4992 - val_loss: 0.4195 - val_mae: 0.6259\n",
      "Epoch 5/20\n",
      "363/363 [==============================] - 1s 2ms/step - loss: 1.5996 - mae: 1.5261 - val_loss: 0.4246 - val_mae: 0.6311\n",
      "Epoch 6/20\n",
      "363/363 [==============================] - 1s 2ms/step - loss: 1.4970 - mae: 1.4609 - val_loss: 0.4280 - val_mae: 0.6326\n",
      "Epoch 7/20\n",
      "363/363 [==============================] - 1s 2ms/step - loss: 1.5177 - mae: 1.4651 - val_loss: 0.4340 - val_mae: 0.6373\n",
      "Epoch 8/20\n",
      "363/363 [==============================] - 1s 2ms/step - loss: 1.3911 - mae: 1.3910 - val_loss: 0.4327 - val_mae: 0.6371\n",
      "Epoch 9/20\n",
      "363/363 [==============================] - 1s 2ms/step - loss: 1.3766 - mae: 1.3766 - val_loss: 0.4456 - val_mae: 0.6484\n",
      "Epoch 10/20\n",
      "363/363 [==============================] - 1s 2ms/step - loss: 1.3629 - mae: 1.3625 - val_loss: 0.4394 - val_mae: 0.6421\n",
      "Epoch 11/20\n",
      "363/363 [==============================] - 1s 2ms/step - loss: 1.3001 - mae: 1.3272 - val_loss: 0.4360 - val_mae: 0.6397\n",
      "Epoch 12/20\n",
      "363/363 [==============================] - 1s 2ms/step - loss: 1.3379 - mae: 1.3548 - val_loss: 0.4343 - val_mae: 0.6398\n",
      "Epoch 13/20\n",
      "363/363 [==============================] - 1s 2ms/step - loss: 1.2795 - mae: 1.3199 - val_loss: 0.4425 - val_mae: 0.6463\n",
      "Epoch 14/20\n",
      "363/363 [==============================] - 1s 2ms/step - loss: 1.2084 - mae: 1.2793 - val_loss: 0.4428 - val_mae: 0.6473\n",
      "Epoch 15/20\n",
      "363/363 [==============================] - 1s 2ms/step - loss: 1.1634 - mae: 1.2265 - val_loss: 0.4465 - val_mae: 0.6496\n",
      "Epoch 16/20\n",
      "363/363 [==============================] - 1s 2ms/step - loss: 1.1885 - mae: 1.2460 - val_loss: 0.4515 - val_mae: 0.6535\n",
      "Epoch 17/20\n",
      "363/363 [==============================] - 1s 2ms/step - loss: 1.1969 - mae: 1.2553 - val_loss: 0.4461 - val_mae: 0.6478\n",
      "Epoch 18/20\n",
      "363/363 [==============================] - 1s 2ms/step - loss: 1.1349 - mae: 1.2131 - val_loss: 0.4518 - val_mae: 0.6545\n",
      "Epoch 19/20\n",
      "363/363 [==============================] - 1s 2ms/step - loss: 1.1112 - mae: 1.2023 - val_loss: 0.4503 - val_mae: 0.6527\n",
      "Epoch 20/20\n",
      "363/363 [==============================] - 1s 2ms/step - loss: 1.1479 - mae: 1.2208 - val_loss: 0.4636 - val_mae: 0.6655\n"
     ]
    },
    {
     "data": {
      "text/plain": [
       "<keras.callbacks.History at 0x1ab4aea4430>"
      ]
     },
     "execution_count": 57,
     "metadata": {},
     "output_type": "execute_result"
    }
   ],
   "source": [
    "model = keras.models.load_model(\"my_model_with_a_custom_loss_threshold_2.h5\",\n",
    "                                custom_objects={\"huber_fn\": create_huber(2.0)})\n",
    "print(\"=================================Train the Model=======================================\")\n",
    "model.fit(X_train, y_train, epochs = 20, validation_data = (X_valid_scaled, y_valid))"
   ]
  },
  {
   "cell_type": "markdown",
   "metadata": {},
   "source": [
    "#### DOING THE SAME USING A CLASS OBJECT."
   ]
  },
  {
   "cell_type": "code",
   "execution_count": 65,
   "metadata": {},
   "outputs": [
    {
     "name": "stdout",
     "output_type": "stream",
     "text": [
      "==============DEVELOP THE MODEL==================\n",
      "=============COMPILE THE MODEL===================\n",
      "==============TRAIN THE MODEL====================\n",
      "Epoch 1/20\n",
      "363/363 [==============================] - 2s 2ms/step - loss: 0.8213 - mae: 0.9919 - val_loss: 0.2731 - val_mae: 0.5192\n",
      "Epoch 2/20\n",
      "363/363 [==============================] - 1s 2ms/step - loss: 0.2324 - mae: 0.5046 - val_loss: 0.2461 - val_mae: 0.5001\n",
      "Epoch 3/20\n",
      "363/363 [==============================] - 1s 2ms/step - loss: 0.2254 - mae: 0.4964 - val_loss: 0.2251 - val_mae: 0.4883\n",
      "Epoch 4/20\n",
      "363/363 [==============================] - 1s 2ms/step - loss: 0.2217 - mae: 0.4920 - val_loss: 0.2124 - val_mae: 0.4765\n",
      "Epoch 5/20\n",
      "363/363 [==============================] - 1s 2ms/step - loss: 0.2182 - mae: 0.4884 - val_loss: 0.2028 - val_mae: 0.4714\n",
      "Epoch 6/20\n",
      "363/363 [==============================] - 1s 2ms/step - loss: 0.2155 - mae: 0.4851 - val_loss: 0.2263 - val_mae: 0.4809\n",
      "Epoch 7/20\n",
      "363/363 [==============================] - 1s 2ms/step - loss: 0.2119 - mae: 0.4798 - val_loss: 0.2096 - val_mae: 0.4724\n",
      "Epoch 8/20\n",
      "363/363 [==============================] - 1s 2ms/step - loss: 0.2106 - mae: 0.4784 - val_loss: 0.2065 - val_mae: 0.4679\n",
      "Epoch 9/20\n",
      "363/363 [==============================] - 1s 2ms/step - loss: 0.2082 - mae: 0.4746 - val_loss: 0.2419 - val_mae: 0.4852\n",
      "Epoch 10/20\n",
      "363/363 [==============================] - 1s 2ms/step - loss: 0.2070 - mae: 0.4727 - val_loss: 0.2147 - val_mae: 0.4730\n",
      "Epoch 11/20\n",
      "363/363 [==============================] - 1s 2ms/step - loss: 0.2054 - mae: 0.4715 - val_loss: 0.1897 - val_mae: 0.4504\n",
      "Epoch 12/20\n",
      "363/363 [==============================] - 1s 2ms/step - loss: 0.2030 - mae: 0.4675 - val_loss: 0.2208 - val_mae: 0.4746\n",
      "Epoch 13/20\n",
      "363/363 [==============================] - 1s 2ms/step - loss: 0.2015 - mae: 0.4657 - val_loss: 0.2204 - val_mae: 0.4650\n",
      "Epoch 14/20\n",
      "363/363 [==============================] - 1s 2ms/step - loss: 0.2008 - mae: 0.4638 - val_loss: 0.2244 - val_mae: 0.4661\n",
      "Epoch 15/20\n",
      "363/363 [==============================] - 1s 2ms/step - loss: 0.1991 - mae: 0.4621 - val_loss: 0.2218 - val_mae: 0.4642\n",
      "Epoch 16/20\n",
      "363/363 [==============================] - 1s 2ms/step - loss: 0.1983 - mae: 0.4604 - val_loss: 0.2237 - val_mae: 0.4648\n",
      "Epoch 17/20\n",
      "363/363 [==============================] - 1s 2ms/step - loss: 0.1959 - mae: 0.4568 - val_loss: 0.2132 - val_mae: 0.4567\n",
      "Epoch 18/20\n",
      "363/363 [==============================] - 1s 2ms/step - loss: 0.1952 - mae: 0.4557 - val_loss: 0.2118 - val_mae: 0.4566\n",
      "Epoch 19/20\n",
      "363/363 [==============================] - 1s 2ms/step - loss: 0.1942 - mae: 0.4540 - val_loss: 0.2059 - val_mae: 0.4567\n",
      "Epoch 20/20\n",
      "363/363 [==============================] - 1s 2ms/step - loss: 0.1937 - mae: 0.4536 - val_loss: 0.2016 - val_mae: 0.4484\n",
      "==============SAVE THE MODEL======================\n"
     ]
    }
   ],
   "source": [
    "class HuberLoss(keras.losses.Loss):\n",
    "    def __init__(self, threshold=1.0, **kwargs):\n",
    "        self.threshold = threshold\n",
    "        super().__init__(**kwargs)\n",
    "    def call(self, y_true, y_pred):\n",
    "        error = y_true - y_pred\n",
    "        is_small_error = tf.abs(error) < self.threshold\n",
    "        squared_loss = tf.square(error) / 2\n",
    "        linear_loss  = self.threshold * tf.abs(error) - self.threshold**2 / 2\n",
    "        return tf.where(is_small_error, squared_loss, linear_loss)\n",
    "    def get_config(self):\n",
    "        base_config = super().get_config()\n",
    "        return {**base_config, \"threshold\": self.threshold}\n",
    "    \n",
    "print(\"==============DEVELOP THE MODEL==================\")\n",
    "model = keras.models.Sequential([\n",
    "    keras.layers.Dense(30, activation=\"selu\", kernel_initializer=\"lecun_normal\",\n",
    "                       input_shape=input_shape),\n",
    "    keras.layers.Dense(1),\n",
    "])\n",
    "\n",
    "print(\"=============COMPILE THE MODEL===================\")\n",
    "model.compile(loss=HuberLoss(2.), optimizer=\"nadam\", metrics=[\"mae\"])\n",
    "\n",
    "print(\"==============TRAIN THE MODEL====================\")\n",
    "model.fit(X_train_scaled, y_train, epochs=20,validation_data=(X_valid_scaled, y_valid))\n",
    "\n",
    "print(\"==============SAVE THE MODEL======================\")\n",
    "model.save(\"my_model_with_a_custom_loss_class.h5\")"
   ]
  },
  {
   "cell_type": "code",
   "execution_count": 66,
   "metadata": {},
   "outputs": [
    {
     "name": "stdout",
     "output_type": "stream",
     "text": [
      "Epoch 1/20\n",
      "363/363 [==============================] - 1s 2ms/step - loss: 0.1914 - mae: 0.4491 - val_loss: 0.2410 - val_mae: 0.4732\n",
      "Epoch 2/20\n",
      "363/363 [==============================] - 1s 2ms/step - loss: 0.1913 - mae: 0.4478 - val_loss: 0.2148 - val_mae: 0.4615\n",
      "Epoch 3/20\n",
      "363/363 [==============================] - 1s 2ms/step - loss: 0.1903 - mae: 0.4481 - val_loss: 0.2413 - val_mae: 0.4701\n",
      "Epoch 4/20\n",
      "363/363 [==============================] - 1s 2ms/step - loss: 0.1903 - mae: 0.4462 - val_loss: 0.1898 - val_mae: 0.4384\n",
      "Epoch 5/20\n",
      "363/363 [==============================] - 1s 2ms/step - loss: 0.1879 - mae: 0.4439 - val_loss: 0.1997 - val_mae: 0.4456\n",
      "Epoch 6/20\n",
      "363/363 [==============================] - 1s 2ms/step - loss: 0.1880 - mae: 0.4437 - val_loss: 0.2135 - val_mae: 0.4538\n",
      "Epoch 7/20\n",
      "363/363 [==============================] - 1s 2ms/step - loss: 0.1874 - mae: 0.4428 - val_loss: 0.1828 - val_mae: 0.4407\n",
      "Epoch 8/20\n",
      "363/363 [==============================] - 1s 2ms/step - loss: 0.1852 - mae: 0.4403 - val_loss: 0.1885 - val_mae: 0.4370\n",
      "Epoch 9/20\n",
      "363/363 [==============================] - 1s 2ms/step - loss: 0.1845 - mae: 0.4394 - val_loss: 0.2147 - val_mae: 0.4470\n",
      "Epoch 10/20\n",
      "363/363 [==============================] - 1s 2ms/step - loss: 0.1849 - mae: 0.4387 - val_loss: 0.2199 - val_mae: 0.4489\n",
      "Epoch 11/20\n",
      "363/363 [==============================] - 1s 2ms/step - loss: 0.1842 - mae: 0.4385 - val_loss: 0.2269 - val_mae: 0.4529\n",
      "Epoch 12/20\n",
      "363/363 [==============================] - 1s 2ms/step - loss: 0.1835 - mae: 0.4366 - val_loss: 0.2325 - val_mae: 0.4603\n",
      "Epoch 13/20\n",
      "363/363 [==============================] - 1s 2ms/step - loss: 0.1833 - mae: 0.4361 - val_loss: 0.1963 - val_mae: 0.4398\n",
      "Epoch 14/20\n",
      "363/363 [==============================] - 1s 2ms/step - loss: 0.1816 - mae: 0.4347 - val_loss: 0.2245 - val_mae: 0.4529\n",
      "Epoch 15/20\n",
      "363/363 [==============================] - 1s 2ms/step - loss: 0.1821 - mae: 0.4351 - val_loss: 0.2145 - val_mae: 0.4457\n",
      "Epoch 16/20\n",
      "363/363 [==============================] - 1s 2ms/step - loss: 0.1814 - mae: 0.4340 - val_loss: 0.2126 - val_mae: 0.4447\n",
      "Epoch 17/20\n",
      "363/363 [==============================] - 1s 2ms/step - loss: 0.1801 - mae: 0.4319 - val_loss: 0.2236 - val_mae: 0.4584\n",
      "Epoch 18/20\n",
      "363/363 [==============================] - 1s 2ms/step - loss: 0.1801 - mae: 0.4317 - val_loss: 0.2224 - val_mae: 0.4500\n",
      "Epoch 19/20\n",
      "363/363 [==============================] - 1s 2ms/step - loss: 0.1792 - mae: 0.4305 - val_loss: 0.1837 - val_mae: 0.4248\n",
      "Epoch 20/20\n",
      "363/363 [==============================] - 1s 2ms/step - loss: 0.1793 - mae: 0.4301 - val_loss: 0.2114 - val_mae: 0.4418\n"
     ]
    },
    {
     "data": {
      "text/plain": [
       "<keras.callbacks.History at 0x1ab4d214340>"
      ]
     },
     "execution_count": 66,
     "metadata": {},
     "output_type": "execute_result"
    }
   ],
   "source": [
    "## loading the model\n",
    "model = keras.models.load_model(\"my_model_with_a_custom_loss_class.h5\",\n",
    "                                custom_objects={\"HuberLoss\": HuberLoss})\n",
    "\n",
    "## train the model again.\n",
    "model.fit(X_train_scaled, y_train, epochs=20,validation_data=(X_valid_scaled, y_valid))"
   ]
  },
  {
   "cell_type": "code",
   "execution_count": 67,
   "metadata": {},
   "outputs": [
    {
     "data": {
      "text/plain": [
       "2.0"
      ]
     },
     "execution_count": 67,
     "metadata": {},
     "output_type": "execute_result"
    }
   ],
   "source": [
    "model.loss.threshold"
   ]
  },
  {
   "cell_type": "markdown",
   "metadata": {},
   "source": [
    "+ When the model is saved, the threshold will be saved along with it.\n",
    "+ When the model is load, you just need to map the class name to the class itself.\n",
    "\n",
    "***"
   ]
  }
 ],
 "metadata": {
  "kernelspec": {
   "display_name": "Python 3",
   "language": "python",
   "name": "python3"
  },
  "language_info": {
   "codemirror_mode": {
    "name": "ipython",
    "version": 3
   },
   "file_extension": ".py",
   "mimetype": "text/x-python",
   "name": "python",
   "nbconvert_exporter": "python",
   "pygments_lexer": "ipython3",
   "version": "3.8.3"
  }
 },
 "nbformat": 4,
 "nbformat_minor": 4
}
