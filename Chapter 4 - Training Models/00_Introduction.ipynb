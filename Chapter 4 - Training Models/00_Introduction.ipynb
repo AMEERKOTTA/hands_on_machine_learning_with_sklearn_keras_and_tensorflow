{
 "cells": [
  {
   "cell_type": "markdown",
   "metadata": {},
   "source": [
    "### TRAINING MODELS\n",
    "\n",
    "+ In this section we will discuss about the Linear Regression Model.\n",
    "+ Two Different way to train it.\n",
    "\n",
    "+ Using Direct Equation Method - **Normal Equation**\n",
    "\n",
    "+ Using **Gradient Descent** Method\n",
    "\n",
    "Next Important Content in this Sections are \n",
    "\n",
    "+ Polynomial Regression :- more complex model that can fit Non-Linear Datasets.\n",
    "\n",
    "+ Learning Curves.\n",
    "\n",
    "+ Regularization Methods\n",
    "\n",
    "Two more Models that are used for Classification.\n",
    "\n",
    "        + Lo"
   ]
  },
  {
   "cell_type": "code",
   "execution_count": null,
   "metadata": {},
   "outputs": [],
   "source": []
  }
 ],
 "metadata": {
  "kernelspec": {
   "display_name": "Python 3",
   "language": "python",
   "name": "python3"
  },
  "language_info": {
   "codemirror_mode": {
    "name": "ipython",
    "version": 3
   },
   "file_extension": ".py",
   "mimetype": "text/x-python",
   "name": "python",
   "nbconvert_exporter": "python",
   "pygments_lexer": "ipython3",
   "version": "3.8.3"
  }
 },
 "nbformat": 4,
 "nbformat_minor": 4
}
