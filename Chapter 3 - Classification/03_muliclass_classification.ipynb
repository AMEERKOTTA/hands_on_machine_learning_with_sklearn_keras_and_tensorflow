{
 "cells": [
  {
   "cell_type": "markdown",
   "metadata": {},
   "source": [
    "### MULTICLASS CLASSIFICATION"
   ]
  },
  {
   "cell_type": "markdown",
   "metadata": {},
   "source": [
    "+ Classifying more than 2 Classes.\n",
    "\n",
    "+ Algorithms used for MultiClass Classifications are\n",
    "\n",
    "        + SGD Classifiers.\n",
    "        + Random Forest Classifier.\n",
    "        + Naive Bayes Classifier.\n",
    "        \n",
    "        \n",
    "+ Algorithms Strictly for Binary Classification.\n",
    "\n",
    "        + Logistic Regression\n",
    "        + Support Vector Machines.\n",
    "        \n",
    "        \n",
    "+ Also with multiple binary classifier we can do the multiclass classification.\n",
    "\n",
    "+ Here we have 10 classes, from 0 to 9.\n",
    "+ So with the help of binary classifiers, we will have to build 10 binary classifiers.\n",
    "+ Lets use Support Vector Machine Classifier here for Example."
   ]
  },
  {
   "cell_type": "code",
   "execution_count": 2,
   "metadata": {},
   "outputs": [],
   "source": [
    "import numpy as np\n",
    "import pandas as pd\n",
    "from sklearn.datasets import fetch_openml\n",
    "from sklearn.svm import SVC"
   ]
  },
  {
   "cell_type": "code",
   "execution_count": 8,
   "metadata": {},
   "outputs": [],
   "source": [
    "mnist = fetch_openml(\"mnist_784\", version = 1)\n",
    "X = mnist[\"data\"]\n",
    "y = mnist[\"target\"]\n",
    "\n",
    "some_digit = X[0]\n",
    "y = y.astype(np.uint8)\n",
    "X_train, X_test, y_train, y_test = X[60000:], X[:60000], y[60000:], y[:60000]"
   ]
  },
  {
   "cell_type": "code",
   "execution_count": null,
   "metadata": {},
   "outputs": [],
   "source": []
  },
  {
   "cell_type": "markdown",
   "metadata": {},
   "source": [
    "Training the Support Vector Machine Model.\n",
    "\n",
    "+ Here we are getting the same Output as 5.\n",
    "+ Call the Decision_Function to get the Scores.\n",
    "+ We will get 10 scores from the Scores.\n",
    "+ And the Classifier will Classify the Class with Maximum score, here it is `9.30676256`"
   ]
  },
  {
   "cell_type": "code",
   "execution_count": 9,
   "metadata": {},
   "outputs": [
    {
     "data": {
      "text/plain": [
       "array([5], dtype=uint8)"
      ]
     },
     "execution_count": 9,
     "metadata": {},
     "output_type": "execute_result"
    }
   ],
   "source": [
    "svm_clf = SVC()\n",
    "svm_clf.fit(X_train, y_train)\n",
    "svm_clf.predict([some_digit])"
   ]
  },
  {
   "cell_type": "code",
   "execution_count": 16,
   "metadata": {},
   "outputs": [
    {
     "name": "stdout",
     "output_type": "stream",
     "text": [
      "The Decision Function Scores :-- [[ 0.7387607   1.7409907   7.20754177  8.29511687 -0.30805331  9.30676256\n",
      "   2.76207487  5.07289448  5.10858137  5.03238519]]\n",
      "Classes available in the Dataset are :-- [0 1 2 3 4 5 6 7 8 9]\n",
      "5\n",
      "The Class Corresponds to highest Score is :-- 5\n"
     ]
    }
   ],
   "source": [
    "some_digit_scores = svm_clf.decision_function([some_digit])\n",
    "print(\"The Decision Function Scores :--\",some_digit_scores)\n",
    "## the highest score is classified as 5 correctly.\n",
    "print(\"Classes available in the Dataset are :--\", svm_clf.classes_)\n",
    "print(svm_clf.classes_[5])\n",
    "print(\"The Class Corresponds to highest Score is :--\", np.argmax(some_digit_scores))"
   ]
  },
  {
   "cell_type": "code",
   "execution_count": null,
   "metadata": {},
   "outputs": [],
   "source": []
  },
  {
   "cell_type": "markdown",
   "metadata": {},
   "source": [
    "Training SGDClassifier Model and RandomForest Classifier.\n",
    "\n",
    "+ Initializing the SGD Classifier.\n",
    "+ Fit the models using Training Daasets.\n",
    "+ Predict using some_digit.\n",
    "+ And using decision_function() get the scores.\n",
    "+ Using Cross Val Score find the Classifier Accuracy.\n",
    "\n",
    "+ initially before Scaling,\n",
    "+ `Accuracy = 84%`\n",
    "\n",
    "+ Then in the next cell.\n",
    "+ Define StandardScaler()\n",
    "+ Fit the Scaler using Training data.\n",
    "+ And then check the Accuracy.\n",
    "+ `Accuracy = 88%`"
   ]
  },
  {
   "cell_type": "code",
   "execution_count": 33,
   "metadata": {},
   "outputs": [
    {
     "name": "stdout",
     "output_type": "stream",
     "text": [
      "The Scores associated with the Classes :-- [[-208634.39177593 -331983.21424219 -100423.99958203   70695.99890975\n",
      "  -590617.60031236   29405.6746892  -412272.50950291 -185564.30260432\n",
      "  -169425.53204613 -127982.2263509 ]]\n",
      "The Accuracy of the SGD Classifier is :-- 0.8471036965724167\n"
     ]
    }
   ],
   "source": [
    "from sklearn.linear_model import SGDClassifier\n",
    "from sklearn.model_selection import cross_val_score\n",
    "sgd_clf = SGDClassifier()\n",
    "sgd_clf.fit(X_train, y_train)\n",
    "sgd_clf.predict([some_digit])\n",
    "## check with the decision fnctions scores\n",
    "print(\"The Scores associated with the Classes :--\",sgd_clf.decision_function([some_digit]))\n",
    "## Evaluating the Model using the Cross validation.\n",
    "print(\"The Accuracy of the SGD Classifier is :--\",cross_val_score(sgd_clf, X_train, y_train, cv = 3, scoring = \"accuracy\").mean())"
   ]
  },
  {
   "cell_type": "markdown",
   "metadata": {},
   "source": [
    "Use StandardScaler parameter to Scale the Parameter."
   ]
  },
  {
   "cell_type": "code",
   "execution_count": 36,
   "metadata": {},
   "outputs": [
    {
     "name": "stdout",
     "output_type": "stream",
     "text": [
      "The Accuracy of the SGD Classifier after Scaling the Training Set:-- 0.8858023174842979\n"
     ]
    }
   ],
   "source": [
    "from sklearn.preprocessing import StandardScaler\n",
    "scaler = StandardScaler()\n",
    "X_train_scaled = scaler.fit_transform(X_train.astype(np.float64))\n",
    "print(\"The Accuracy of the SGD Classifier after Scaling the Training Set:--\",cross_val_score(sgd_clf, X_train_scaled, y_train, cv = 3, scoring = \"accuracy\").mean())"
   ]
  },
  {
   "cell_type": "code",
   "execution_count": null,
   "metadata": {},
   "outputs": [],
   "source": []
  }
 ],
 "metadata": {
  "kernelspec": {
   "display_name": "Python 3",
   "language": "python",
   "name": "python3"
  },
  "language_info": {
   "codemirror_mode": {
    "name": "ipython",
    "version": 3
   },
   "file_extension": ".py",
   "mimetype": "text/x-python",
   "name": "python",
   "nbconvert_exporter": "python",
   "pygments_lexer": "ipython3",
   "version": "3.8.3"
  }
 },
 "nbformat": 4,
 "nbformat_minor": 4
}
