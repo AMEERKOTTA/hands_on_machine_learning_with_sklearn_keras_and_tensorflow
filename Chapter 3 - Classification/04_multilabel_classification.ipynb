{
 "cells": [
  {
   "cell_type": "markdown",
   "metadata": {},
   "source": [
    "### MultiLabel Classification\n",
    "\n",
    "+ In some cases you may want your classifier to output multiple classes for Each Instance.\n",
    "+ Such a Classification system that outputs multiple binary tags is called MultiLabel Classification.\n"
   ]
  },
  {
   "cell_type": "code",
   "execution_count": 7,
   "metadata": {},
   "outputs": [],
   "source": [
    "import numpy as np\n",
    "import pandas as pd\n",
    "from sklearn.datasets import fetch_openml\n",
    "from sklearn.neighbors import KNeighborsClassifier\n",
    "from sklearn.model_selection import cross_val_predict\n",
    "from sklearn.metrics import f1_score\n",
    "\n",
    "mnist = fetch_openml(\"mnist_784\", version = 1)\n",
    "X = mnist[\"data\"]\n",
    "y = mnist[\"target\"]\n",
    "\n",
    "some_digit = X[0]\n",
    "y = y.astype(np.uint8)\n",
    "X_train, X_test, y_train, y_test = X[60000:], X[:60000], y[60000:], y[:60000]"
   ]
  },
  {
   "cell_type": "code",
   "execution_count": 8,
   "metadata": {},
   "outputs": [
    {
     "name": "stdout",
     "output_type": "stream",
     "text": [
      "The output is :-- [[False  True]]\n"
     ]
    },
    {
     "data": {
      "text/plain": [
       "0.9568508057081451"
      ]
     },
     "execution_count": 8,
     "metadata": {},
     "output_type": "execute_result"
    }
   ],
   "source": [
    "y_train_large = (y_train >= 7)    ## data points larger than images 7 (7,8,9)\n",
    "y_train_odd = (y_train % 2 == 1)  ## data points which are odd numbers.\n",
    "y_multilabel = np.c_[y_train_large, y_train_odd]\n",
    "knn_clf = KNeighborsClassifier()\n",
    "knn_clf.fit(X_train, y_multilabel)\n",
    "print(\"The output is :--\", knn_clf.predict([some_digit]))\n",
    "## Evaluating using F1 Score.\n",
    "y_train_knn_predict = cross_val_predict(knn_clf, X_train, y_multilabel, cv = 3)\n",
    "f1_score(y_multilabel, y_train_knn_predict, average = \"macro\")"
   ]
  },
  {
   "cell_type": "code",
   "execution_count": null,
   "metadata": {},
   "outputs": [],
   "source": []
  }
 ],
 "metadata": {
  "kernelspec": {
   "display_name": "Python 3",
   "language": "python",
   "name": "python3"
  },
  "language_info": {
   "codemirror_mode": {
    "name": "ipython",
    "version": 3
   },
   "file_extension": ".py",
   "mimetype": "text/x-python",
   "name": "python",
   "nbconvert_exporter": "python",
   "pygments_lexer": "ipython3",
   "version": "3.8.3"
  }
 },
 "nbformat": 4,
 "nbformat_minor": 4
}
