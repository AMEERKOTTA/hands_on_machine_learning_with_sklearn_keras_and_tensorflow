{
 "cells": [
  {
   "cell_type": "markdown",
   "metadata": {},
   "source": [
    "### NON SATURATING ACTIVATION FUNCTIONS\n",
    "\n",
    "+ List of Activation Function available in keras is given below.\n",
    "\n",
    "*WHAT IS DYING RELU*\n",
    "\n",
    "+ during training, some neurons effectively die.\n",
    "+ they stop outputting anything otherthan 0.\n",
    "+ when this happens, gradient descent does not affect anymore\n",
    "+ It will not work properly\n",
    "\n",
    "*LEAKY RELU*\n",
    "\n",
    "+ to solve the above problem.\n",
    "+ the activation function we use is called leaky relu.\n",
    "+ leaky relu always outperfomed the strict RELU function.\n",
    "\n",
    "*ELU - Exponential Linear Unit*\n",
    "\n",
    "+ ELU outperformed all the ReLU variants.\n",
    "+ Training time was Reduced.\n",
    "+ Neural Networks Performed better on the Test Sets.\n",
    "\n",
    "*SELU - scaled Variant of ELU*\n",
    "\n",
    "+ scaled variant of ELU\n",
    "\n",
    "*BACTH NORMALIZATION*\n",
    "\n",
    "+ Batch Normalization is also used to Improve the Model.\n",
    "+ By eliminating the Vanishing Gradient and Exploding Gradient Problems.\n",
    "+ It is done by adding Batch Normalization layers before and after the Activation function layer.\n",
    "\n",
    "Sometimes applying BN before the activation function works better (there's a debate on this topic). Moreover, the layer before a BatchNormalization layer does not need to have bias terms, since the BatchNormalization layer has some as well, it would be a waste of parameters, so you can set use_bias=False when creating those layers:\n",
    "\n",
    "`model = keras.models.Sequential([\n",
    "    keras.layers.Flatten(input_shape=[28, 28]),\n",
    "    keras.layers.BatchNormalization(),\n",
    "    keras.layers.Dense(300, use_bias=False),\n",
    "    keras.layers.BatchNormalization(),\n",
    "    keras.layers.Activation(\"relu\"),\n",
    "    keras.layers.Dense(100, use_bias=False),\n",
    "    keras.layers.BatchNormalization(),\n",
    "    keras.layers.Activation(\"relu\"),\n",
    "    keras.layers.Dense(10, activation=\"softmax\")\n",
    "])`\n",
    "\n",
    "*GRADIENT CLIPPING*\n",
    "\n",
    "+ method to solve exploding gradient.\n",
    "+ this is done by clipping the gradient descent.\n",
    "+ so that they never exceeds some threshold.\n",
    "+ this technique is more used in RNNs.\n",
    "+ Batch Normalization is tricky to use in RNN."
   ]
  },
  {
   "cell_type": "code",
   "execution_count": 15,
   "metadata": {},
   "outputs": [],
   "source": [
    "import tensorflow as tf\n",
    "from tensorflow import keras\n",
    "import matplotlib.pyplot as plt\n",
    "import numpy as np"
   ]
  },
  {
   "cell_type": "code",
   "execution_count": 12,
   "metadata": {},
   "outputs": [
    {
     "data": {
      "text/plain": [
       "['deserialize',\n",
       " 'elu',\n",
       " 'exponential',\n",
       " 'gelu',\n",
       " 'get',\n",
       " 'hard_sigmoid',\n",
       " 'linear',\n",
       " 'relu',\n",
       " 'selu',\n",
       " 'serialize',\n",
       " 'sigmoid',\n",
       " 'softmax',\n",
       " 'softplus',\n",
       " 'softsign',\n",
       " 'swish',\n",
       " 'tanh']"
      ]
     },
     "execution_count": 12,
     "metadata": {},
     "output_type": "execute_result"
    }
   ],
   "source": [
    "activation_functions = [act_fun for act_fun in dir(keras.activations) if not act_fun.startswith(\"_\")]\n",
    "activation_functions"
   ]
  },
  {
   "cell_type": "markdown",
   "metadata": {},
   "source": [
    "**LEAKY RELU**"
   ]
  },
  {
   "cell_type": "code",
   "execution_count": 17,
   "metadata": {},
   "outputs": [
    {
     "data": {
      "image/png": "[encoded data removed]",
      "text/plain": [
       "<Figure size 432x288 with 1 Axes>"
      ]
     },
     "metadata": {
      "needs_background": "light"
     },
     "output_type": "display_data"
    }
   ],
   "source": [
    "def leaky_relu(z, alpha=0.01):\n",
    "    return np.maximum(alpha*z, z)\n",
    "\n",
    "## plot the leaky relu\n",
    "z = np.linspace(-5, 5, 200)\n",
    "plt.plot(z, leaky_relu(z, 0.05), \"b-\", linewidth=2)\n",
    "plt.plot([-5, 5], [0, 0], 'k-')\n",
    "plt.plot([0, 0], [-0.5, 4.2], 'k-')\n",
    "plt.grid(True)\n",
    "props = dict(facecolor='black', shrink=0.1)\n",
    "plt.annotate('Leak', xytext=(-3.5, 0.5), xy=(-5, -0.2), arrowprops=props, fontsize=14, ha=\"center\")\n",
    "plt.title(\"Leaky ReLU activation function\", fontsize=14)\n",
    "plt.axis([-5, 5, -0.5, 4.2])\n",
    "plt.show()"
   ]
  },
  {
   "cell_type": "code",
   "execution_count": 30,
   "metadata": {},
   "outputs": [
    {
     "name": "stdout",
     "output_type": "stream",
     "text": [
      "(55000, 28, 28)\n",
      "(55000,)\n",
      "(5000, 28, 28)\n",
      "(5000,)\n",
      "(10000, 28, 28)\n",
      "(10000,)\n",
      "=================MODEL DEVELOPMENT================\n",
      "=================COMPILE THE MODEL=================\n",
      "=================TRAIN THE MODEL===================\n",
      "Epoch 1/10\n",
      "1719/1719 [==============================] - 5s 2ms/step - loss: 1.3056 - accuracy: 0.6056 - val_loss: 0.8839 - val_accuracy: 0.7196\n",
      "Epoch 2/10\n",
      "1719/1719 [==============================] - 4s 2ms/step - loss: 0.7913 - accuracy: 0.7447 - val_loss: 0.7069 - val_accuracy: 0.7680\n",
      "Epoch 3/10\n",
      "1719/1719 [==============================] - 4s 2ms/step - loss: 0.6750 - accuracy: 0.7797 - val_loss: 0.6379 - val_accuracy: 0.7928\n",
      "Epoch 4/10\n",
      "1719/1719 [==============================] - 4s 2ms/step - loss: 0.6158 - accuracy: 0.7970 - val_loss: 0.5861 - val_accuracy: 0.8084\n",
      "Epoch 5/10\n",
      "1719/1719 [==============================] - 4s 2ms/step - loss: 0.5783 - accuracy: 0.8082 - val_loss: 0.5555 - val_accuracy: 0.8188\n",
      "Epoch 6/10\n",
      "1719/1719 [==============================] - 4s 2ms/step - loss: 0.5514 - accuracy: 0.8150 - val_loss: 0.5335 - val_accuracy: 0.8240\n",
      "Epoch 7/10\n",
      "1719/1719 [==============================] - 4s 2ms/step - loss: 0.5312 - accuracy: 0.8212 - val_loss: 0.5152 - val_accuracy: 0.8316\n",
      "Epoch 8/10\n",
      "1719/1719 [==============================] - 4s 2ms/step - loss: 0.5155 - accuracy: 0.8256 - val_loss: 0.5097 - val_accuracy: 0.8316\n",
      "Epoch 9/10\n",
      "1719/1719 [==============================] - 4s 2ms/step - loss: 0.5030 - accuracy: 0.8289 - val_loss: 0.4914 - val_accuracy: 0.8374\n",
      "Epoch 10/10\n",
      "1719/1719 [==============================] - 4s 2ms/step - loss: 0.4920 - accuracy: 0.8315 - val_loss: 0.4835 - val_accuracy: 0.8400\n"
     ]
    }
   ],
   "source": [
    "## implementing the leaky relu activation function in the model\n",
    "(X_train_full, y_train_full), (X_test, y_test) = keras.datasets.fashion_mnist.load_data()\n",
    "X_train_full = X_train_full / 255.0\n",
    "X_test = X_test / 255.0\n",
    "X_valid, X_train = X_train_full[:5000], X_train_full[5000:]\n",
    "y_valid, y_train = y_train_full[:5000], y_train_full[5000:]\n",
    "print(X_train.shape)\n",
    "print(y_train.shape)\n",
    "print(X_valid.shape)\n",
    "print(y_valid.shape)\n",
    "print(X_test.shape)\n",
    "print(y_test.shape)\n",
    "\n",
    "print(\"=================MODEL DEVELOPMENT================\")\n",
    "model = keras.models.Sequential([\n",
    "    keras.layers.Flatten(input_shape=[28, 28]),\n",
    "    keras.layers.Dense(300, kernel_initializer=\"he_normal\"),\n",
    "    keras.layers.LeakyReLU(),\n",
    "    keras.layers.Dense(100, kernel_initializer=\"he_normal\"),\n",
    "    keras.layers.LeakyReLU(),\n",
    "    keras.layers.Dense(10, activation=\"softmax\")\n",
    "])\n",
    "\n",
    "print(\"=================COMPILE THE MODEL=================\")\n",
    "model.compile(loss=\"sparse_categorical_crossentropy\",\n",
    "              optimizer=keras.optimizers.SGD(learning_rate=1e-3),\n",
    "              metrics=[\"accuracy\"])\n",
    "\n",
    "print(\"=================TRAIN THE MODEL===================\")\n",
    "history = model.fit(X_train, y_train, epochs=10,validation_data=(X_valid, y_valid))"
   ]
  },
  {
   "cell_type": "markdown",
   "metadata": {},
   "source": [
    "TRYING THE PRELU ACTIVATION FUNCTION"
   ]
  },
  {
   "cell_type": "code",
   "execution_count": 31,
   "metadata": {},
   "outputs": [
    {
     "name": "stdout",
     "output_type": "stream",
     "text": [
      "=================MODEL DEVELOPMENT================\n",
      "=================COMPILE THE MODEL=================\n",
      "=================TRAIN THE MODEL===================\n",
      "Epoch 1/10\n",
      "1719/1719 [==============================] - 5s 2ms/step - loss: 1.3627 - accuracy: 0.5800 - val_loss: 0.9319 - val_accuracy: 0.6922\n",
      "Epoch 2/10\n",
      "1719/1719 [==============================] - 4s 2ms/step - loss: 0.8341 - accuracy: 0.7254 - val_loss: 0.7449 - val_accuracy: 0.7558\n",
      "Epoch 3/10\n",
      "1719/1719 [==============================] - 4s 2ms/step - loss: 0.7099 - accuracy: 0.7721 - val_loss: 0.6689 - val_accuracy: 0.7872\n",
      "Epoch 4/10\n",
      "1719/1719 [==============================] - 4s 2ms/step - loss: 0.6426 - accuracy: 0.7921 - val_loss: 0.6076 - val_accuracy: 0.8034\n",
      "Epoch 5/10\n",
      "1719/1719 [==============================] - 4s 2ms/step - loss: 0.5983 - accuracy: 0.8039 - val_loss: 0.5703 - val_accuracy: 0.8146\n",
      "Epoch 6/10\n",
      "1719/1719 [==============================] - 4s 2ms/step - loss: 0.5663 - accuracy: 0.8121 - val_loss: 0.5437 - val_accuracy: 0.8206\n",
      "Epoch 7/10\n",
      "1719/1719 [==============================] - 4s 2ms/step - loss: 0.5422 - accuracy: 0.8185 - val_loss: 0.5212 - val_accuracy: 0.8282\n",
      "Epoch 8/10\n",
      "1719/1719 [==============================] - 4s 2ms/step - loss: 0.5236 - accuracy: 0.8240 - val_loss: 0.5109 - val_accuracy: 0.8306\n",
      "Epoch 9/10\n",
      "1719/1719 [==============================] - 4s 2ms/step - loss: 0.5088 - accuracy: 0.8274 - val_loss: 0.4915 - val_accuracy: 0.8382\n",
      "Epoch 10/10\n",
      "1719/1719 [==============================] - 4s 2ms/step - loss: 0.4962 - accuracy: 0.8305 - val_loss: 0.4828 - val_accuracy: 0.8398\n"
     ]
    }
   ],
   "source": [
    "print(\"=================MODEL DEVELOPMENT================\")\n",
    "model = keras.models.Sequential([\n",
    "    keras.layers.Flatten(input_shape=[28, 28]),\n",
    "    keras.layers.Dense(300, kernel_initializer=\"he_normal\"),\n",
    "    keras.layers.PReLU(),\n",
    "    keras.layers.Dense(100, kernel_initializer=\"he_normal\"),\n",
    "    keras.layers.PReLU(),\n",
    "    keras.layers.Dense(10, activation=\"softmax\")\n",
    "])\n",
    "\n",
    "print(\"=================COMPILE THE MODEL=================\")\n",
    "model.compile(loss=\"sparse_categorical_crossentropy\",\n",
    "              optimizer=keras.optimizers.SGD(learning_rate=1e-3),\n",
    "              metrics=[\"accuracy\"])\n",
    "\n",
    "print(\"=================TRAIN THE MODEL===================\")\n",
    "history = model.fit(X_train, y_train, epochs=10,validation_data=(X_valid, y_valid))"
   ]
  },
  {
   "cell_type": "markdown",
   "metadata": {},
   "source": [
    "**ELU - Exponential Linear Unit**"
   ]
  },
  {
   "cell_type": "code",
   "execution_count": 33,
   "metadata": {},
   "outputs": [
    {
     "data": {
      "image/png": "[encoded data removed]",
      "text/plain": [
       "<Figure size 432x288 with 1 Axes>"
      ]
     },
     "metadata": {
      "needs_background": "light"
     },
     "output_type": "display_data"
    }
   ],
   "source": [
    "def elu(z, alpha=1):\n",
    "    return np.where(z < 0, alpha * (np.exp(z) - 1), z)\n",
    "\n",
    "## plotting the ELU\n",
    "plt.plot(z, elu(z), \"b-\", linewidth=2)\n",
    "plt.plot([-5, 5], [0, 0], 'k-')\n",
    "plt.plot([-5, 5], [-1, -1], 'k--')\n",
    "plt.plot([0, 0], [-2.2, 3.2], 'k-')\n",
    "plt.grid(True)\n",
    "plt.title(r\"ELU activation function ($\\alpha=1$)\", fontsize=14)\n",
    "plt.axis([-5, 5, -2.2, 3.2])\n",
    "plt.show()"
   ]
  },
  {
   "cell_type": "code",
   "execution_count": 36,
   "metadata": {},
   "outputs": [
    {
     "name": "stdout",
     "output_type": "stream",
     "text": [
      "=================MODEL DEVELOPMENT================\n",
      "=================COMPILE THE MODEL=================\n",
      "=================TRAIN THE MODEL===================\n",
      "Epoch 1/10\n",
      "1719/1719 [==============================] - 5s 3ms/step - loss: 1.3846 - accuracy: 0.5888 - val_loss: 0.9273 - val_accuracy: 0.7146\n",
      "Epoch 2/10\n",
      "1719/1719 [==============================] - 4s 3ms/step - loss: 0.8223 - accuracy: 0.7429 - val_loss: 0.7238 - val_accuracy: 0.7690\n",
      "Epoch 3/10\n",
      "1719/1719 [==============================] - 4s 2ms/step - loss: 0.6929 - accuracy: 0.7785 - val_loss: 0.6482 - val_accuracy: 0.7866\n",
      "Epoch 4/10\n",
      "1719/1719 [==============================] - 4s 3ms/step - loss: 0.6277 - accuracy: 0.7978 - val_loss: 0.5921 - val_accuracy: 0.8070\n",
      "Epoch 5/10\n",
      "1719/1719 [==============================] - 4s 2ms/step - loss: 0.5862 - accuracy: 0.8090 - val_loss: 0.5582 - val_accuracy: 0.8212\n",
      "Epoch 6/10\n",
      "1719/1719 [==============================] - 4s 2ms/step - loss: 0.5566 - accuracy: 0.8166 - val_loss: 0.5338 - val_accuracy: 0.8246\n",
      "Epoch 7/10\n",
      "1719/1719 [==============================] - 4s 3ms/step - loss: 0.5343 - accuracy: 0.8223 - val_loss: 0.5139 - val_accuracy: 0.8300\n",
      "Epoch 8/10\n",
      "1719/1719 [==============================] - 4s 2ms/step - loss: 0.5168 - accuracy: 0.8271 - val_loss: 0.5046 - val_accuracy: 0.8332\n",
      "Epoch 9/10\n",
      "1719/1719 [==============================] - 4s 2ms/step - loss: 0.5027 - accuracy: 0.8302 - val_loss: 0.4874 - val_accuracy: 0.8346\n",
      "Epoch 10/10\n",
      "1719/1719 [==============================] - 4s 2ms/step - loss: 0.4905 - accuracy: 0.8341 - val_loss: 0.4789 - val_accuracy: 0.8386\n"
     ]
    }
   ],
   "source": [
    "## implementing methods for ELU\n",
    "keras.layers.Dense(10, activation=\"elu\")\n",
    "\n",
    "print(\"=================MODEL DEVELOPMENT================\")\n",
    "model = keras.models.Sequential([\n",
    "    keras.layers.Flatten(input_shape=[28, 28]),\n",
    "    keras.layers.Dense(300, activation=\"elu\", kernel_initializer=\"he_normal\"),\n",
    "    keras.layers.PReLU(),\n",
    "    keras.layers.Dense(100, activation=\"elu\", kernel_initializer=\"he_normal\"),\n",
    "    keras.layers.PReLU(),\n",
    "    keras.layers.Dense(10, activation=\"softmax\")\n",
    "])\n",
    "\n",
    "print(\"=================COMPILE THE MODEL=================\")\n",
    "model.compile(loss=\"sparse_categorical_crossentropy\",\n",
    "              optimizer=keras.optimizers.SGD(learning_rate=1e-3),\n",
    "              metrics=[\"accuracy\"])\n",
    "\n",
    "print(\"=================TRAIN THE MODEL===================\")\n",
    "history = model.fit(X_train, y_train, epochs=10,validation_data=(X_valid, y_valid))"
   ]
  },
  {
   "cell_type": "markdown",
   "metadata": {},
   "source": [
    "**SELU - scaled Variant of ELU**"
   ]
  },
  {
   "cell_type": "code",
   "execution_count": 53,
   "metadata": {},
   "outputs": [
    {
     "name": "stdout",
     "output_type": "stream",
     "text": [
      "=================MODEL DEVELOPMENT========================\n",
      "=================COMPILE THE MODEL=========================\n",
      "=================TRAIN THE MODEL===========================\n",
      "Epoch 1/10\n",
      "1719/1719 [==============================] - 25s 13ms/step - loss: 1.1694 - accuracy: 0.5669 - val_loss: 1.0183 - val_accuracy: 0.6178\n",
      "Epoch 2/10\n",
      "1719/1719 [==============================] - 20s 12ms/step - loss: 0.7604 - accuracy: 0.7282 - val_loss: 0.6138 - val_accuracy: 0.7796\n",
      "Epoch 3/10\n",
      "1719/1719 [==============================] - 21s 12ms/step - loss: 0.6048 - accuracy: 0.7853 - val_loss: 0.5561 - val_accuracy: 0.8052\n",
      "Epoch 4/10\n",
      "1719/1719 [==============================] - 21s 12ms/step - loss: 0.5504 - accuracy: 0.8074 - val_loss: 0.5273 - val_accuracy: 0.8192\n",
      "Epoch 5/10\n",
      "1719/1719 [==============================] - 21s 12ms/step - loss: 0.5004 - accuracy: 0.8266 - val_loss: 0.4854 - val_accuracy: 0.8330\n",
      "Epoch 6/10\n",
      "1719/1719 [==============================] - 21s 12ms/step - loss: 0.4722 - accuracy: 0.8342 - val_loss: 0.4541 - val_accuracy: 0.8412\n",
      "Epoch 7/10\n",
      "1719/1719 [==============================] - 21s 12ms/step - loss: 0.4372 - accuracy: 0.8467 - val_loss: 0.4343 - val_accuracy: 0.8480\n",
      "Epoch 8/10\n",
      "1719/1719 [==============================] - 21s 12ms/step - loss: 0.4170 - accuracy: 0.8523 - val_loss: 0.4679 - val_accuracy: 0.8396\n",
      "Epoch 9/10\n",
      "1719/1719 [==============================] - 21s 12ms/step - loss: 0.4008 - accuracy: 0.8568 - val_loss: 0.4194 - val_accuracy: 0.8540\n",
      "Epoch 10/10\n",
      "1719/1719 [==============================] - 22s 13ms/step - loss: 0.3830 - accuracy: 0.8641 - val_loss: 0.4189 - val_accuracy: 0.8540\n"
     ]
    }
   ],
   "source": [
    "print(\"=================MODEL DEVELOPMENT========================\")\n",
    "## implementing selu activation function\n",
    "model = keras.models.Sequential()\n",
    "model.add(keras.layers.Flatten(input_shape=[28, 28]))\n",
    "## defining selu activation function\n",
    "model.add(keras.layers.Dense(300, activation=\"selu\",kernel_initializer=\"lecun_normal\"))\n",
    "for layer in range(99):\n",
    "    model.add(keras.layers.Dense(100, activation=\"selu\",kernel_initializer=\"lecun_normal\"))\n",
    "## final layer using softmax activation function itself\n",
    "model.add(keras.layers.Dense(10, activation=\"softmax\"))\n",
    "\n",
    "print(\"=================COMPILE THE MODEL=========================\")\n",
    "model.compile(loss=\"sparse_categorical_crossentropy\",\n",
    "              optimizer=keras.optimizers.SGD(learning_rate=1e-3),\n",
    "              metrics=[\"accuracy\"])\n",
    "\n",
    "print(\"=================TRAIN THE MODEL===========================\")\n",
    "## Now let's train it. Do not forget to scale the inputs to mean 0 and standard deviation 1:\n",
    "pixel_means = X_train.mean(axis=0, keepdims=True)\n",
    "pixel_stds = X_train.std(axis=0, keepdims=True)\n",
    "X_train_scaled = (X_train - pixel_means) / pixel_stds\n",
    "X_valid_scaled = (X_valid - pixel_means) / pixel_stds\n",
    "X_test_scaled = (X_test - pixel_means) / pixel_stds\n",
    "\n",
    "## train the model\n",
    "history = model.fit(X_train_scaled, y_train, epochs=10,validation_data=(X_valid_scaled, y_valid))"
   ]
  },
  {
   "cell_type": "code",
   "execution_count": 54,
   "metadata": {},
   "outputs": [
    {
     "name": "stdout",
     "output_type": "stream",
     "text": [
      "=================MODEL DEVELOPMENT========================\n",
      "=================COMPILE THE MODEL=========================\n",
      "=================TRAIN THE MODEL===========================\n",
      "Epoch 1/10\n",
      "1719/1719 [==============================] - 21s 10ms/step - loss: 2.0168 - accuracy: 0.2048 - val_loss: 2.1770 - val_accuracy: 0.1158\n",
      "Epoch 2/10\n",
      "1719/1719 [==============================] - 17s 10ms/step - loss: 1.4604 - accuracy: 0.3866 - val_loss: 1.1570 - val_accuracy: 0.5318\n",
      "Epoch 3/10\n",
      "1719/1719 [==============================] - 17s 10ms/step - loss: 1.1557 - accuracy: 0.5152 - val_loss: 0.9410 - val_accuracy: 0.6008\n",
      "Epoch 4/10\n",
      "1719/1719 [==============================] - 18s 10ms/step - loss: 0.9652 - accuracy: 0.5973 - val_loss: 0.8563 - val_accuracy: 0.6508\n",
      "Epoch 5/10\n",
      "1719/1719 [==============================] - 18s 10ms/step - loss: 0.8648 - accuracy: 0.6523 - val_loss: 0.8450 - val_accuracy: 0.6418\n",
      "Epoch 6/10\n",
      "1719/1719 [==============================] - 18s 10ms/step - loss: 0.8639 - accuracy: 0.6626 - val_loss: 0.8675 - val_accuracy: 0.6130\n",
      "Epoch 7/10\n",
      "1719/1719 [==============================] - 18s 10ms/step - loss: 0.8780 - accuracy: 0.6597 - val_loss: 0.7080 - val_accuracy: 0.7154\n",
      "Epoch 8/10\n",
      "1719/1719 [==============================] - 18s 10ms/step - loss: 0.8026 - accuracy: 0.6870 - val_loss: 0.7963 - val_accuracy: 0.7136\n",
      "Epoch 9/10\n",
      "1719/1719 [==============================] - 18s 10ms/step - loss: 0.8062 - accuracy: 0.6831 - val_loss: 0.8426 - val_accuracy: 0.6778\n",
      "Epoch 10/10\n",
      "1719/1719 [==============================] - 18s 10ms/step - loss: 0.8375 - accuracy: 0.6702 - val_loss: 0.7087 - val_accuracy: 0.7164\n"
     ]
    }
   ],
   "source": [
    "print(\"=================MODEL DEVELOPMENT========================\")\n",
    "## implementing selu activation function\n",
    "model = keras.models.Sequential()\n",
    "model.add(keras.layers.Flatten(input_shape=[28, 28]))\n",
    "## defining selu activation function\n",
    "model.add(keras.layers.Dense(300, activation=\"relu\",kernel_initializer=\"he_normal\"))\n",
    "for layer in range(99):\n",
    "    model.add(keras.layers.Dense(100, activation=\"relu\",kernel_initializer=\"he_normal\"))\n",
    "## final layer using softmax activation function itself\n",
    "model.add(keras.layers.Dense(10, activation=\"softmax\"))\n",
    "\n",
    "print(\"=================COMPILE THE MODEL=========================\")\n",
    "model.compile(loss=\"sparse_categorical_crossentropy\",\n",
    "              optimizer=keras.optimizers.SGD(learning_rate=1e-3),\n",
    "              metrics=[\"accuracy\"])\n",
    "\n",
    "print(\"=================TRAIN THE MODEL===========================\")\n",
    "## train the model\n",
    "history = model.fit(X_train_scaled, y_train, epochs=10,validation_data=(X_valid_scaled, y_valid))"
   ]
  },
  {
   "cell_type": "markdown",
   "metadata": {},
   "source": [
    "HERE WE ARE SUFFERING FROM VANISHING OR EXPLODING GRADIENT PROBLEM"
   ]
  },
  {
   "cell_type": "markdown",
   "metadata": {},
   "source": [
    "#### BATCH NORMALIZATION"
   ]
  },
  {
   "cell_type": "code",
   "execution_count": 59,
   "metadata": {},
   "outputs": [
    {
     "name": "stdout",
     "output_type": "stream",
     "text": [
      "=====================MODEL DEVELOPMENT=========================\n",
      "Model: \"sequential_13\"\n",
      "_________________________________________________________________\n",
      " Layer (type)                Output Shape              Param #   \n",
      "=================================================================\n",
      " flatten_13 (Flatten)        (None, 784)               0         \n",
      "                                                                 \n",
      " batch_normalization_12 (Bat  (None, 784)              3136      \n",
      " chNormalization)                                                \n",
      "                                                                 \n",
      " dense_336 (Dense)           (None, 300)               235500    \n",
      "                                                                 \n",
      " batch_normalization_13 (Bat  (None, 300)              1200      \n",
      " chNormalization)                                                \n",
      "                                                                 \n",
      " dense_337 (Dense)           (None, 100)               30100     \n",
      "                                                                 \n",
      " batch_normalization_14 (Bat  (None, 100)              400       \n",
      " chNormalization)                                                \n",
      "                                                                 \n",
      " dense_338 (Dense)           (None, 10)                1010      \n",
      "                                                                 \n",
      "=================================================================\n",
      "Total params: 271,346\n",
      "Trainable params: 268,978\n",
      "Non-trainable params: 2,368\n",
      "_________________________________________________________________\n",
      "None\n",
      "=====================COMPILE THE MODEL==========================\n",
      "=====================TRAIN THE MODEL============================\n",
      "Epoch 1/10\n",
      "1719/1719 [==============================] - 7s 3ms/step - loss: 0.8522 - accuracy: 0.7111 - val_loss: 0.5673 - val_accuracy: 0.8124\n",
      "Epoch 2/10\n",
      "1719/1719 [==============================] - 6s 3ms/step - loss: 0.5807 - accuracy: 0.7978 - val_loss: 0.4879 - val_accuracy: 0.8360\n",
      "Epoch 3/10\n",
      "1719/1719 [==============================] - 6s 3ms/step - loss: 0.5261 - accuracy: 0.8170 - val_loss: 0.4503 - val_accuracy: 0.8462\n",
      "Epoch 4/10\n",
      "1719/1719 [==============================] - 6s 3ms/step - loss: 0.4869 - accuracy: 0.8286 - val_loss: 0.4281 - val_accuracy: 0.8522\n",
      "Epoch 5/10\n",
      "1719/1719 [==============================] - 6s 3ms/step - loss: 0.4608 - accuracy: 0.8388 - val_loss: 0.4124 - val_accuracy: 0.8594\n",
      "Epoch 6/10\n",
      "1719/1719 [==============================] - 6s 3ms/step - loss: 0.4435 - accuracy: 0.8429 - val_loss: 0.4020 - val_accuracy: 0.8620\n",
      "Epoch 7/10\n",
      "1719/1719 [==============================] - 5s 3ms/step - loss: 0.4297 - accuracy: 0.8474 - val_loss: 0.3911 - val_accuracy: 0.8660\n",
      "Epoch 8/10\n",
      "1719/1719 [==============================] - 6s 3ms/step - loss: 0.4179 - accuracy: 0.8517 - val_loss: 0.3870 - val_accuracy: 0.8674\n",
      "Epoch 9/10\n",
      "1719/1719 [==============================] - 6s 3ms/step - loss: 0.4067 - accuracy: 0.8549 - val_loss: 0.3788 - val_accuracy: 0.8678\n",
      "Epoch 10/10\n",
      "1719/1719 [==============================] - 6s 3ms/step - loss: 0.3956 - accuracy: 0.8586 - val_loss: 0.3722 - val_accuracy: 0.8694\n"
     ]
    }
   ],
   "source": [
    "print(\"=====================MODEL DEVELOPMENT=========================\")\n",
    "## trying the batch normalization in simple terms\n",
    "model = keras.models.Sequential([\n",
    "    keras.layers.Flatten(input_shape=[28, 28]),\n",
    "    keras.layers.BatchNormalization(),\n",
    "    keras.layers.Dense(300, activation=\"relu\"),\n",
    "    keras.layers.BatchNormalization(),\n",
    "    keras.layers.Dense(100, activation=\"relu\"),\n",
    "    keras.layers.BatchNormalization(),\n",
    "    keras.layers.Dense(10, activation=\"softmax\")\n",
    "])\n",
    "\n",
    "print(model.summary())\n",
    "bn1 = model.layers[1]\n",
    "[(var.name, var.trainable) for var in bn1.variables]\n",
    "\n",
    "print(\"=====================COMPILE THE MODEL==========================\")\n",
    "model.compile(loss=\"sparse_categorical_crossentropy\",\n",
    "              optimizer=keras.optimizers.SGD(learning_rate=1e-3),\n",
    "              metrics=[\"accuracy\"])\n",
    "\n",
    "print(\"=====================TRAIN THE MODEL============================\")\n",
    "history = model.fit(X_train, y_train, epochs=10,validation_data=(X_valid, y_valid))"
   ]
  },
  {
   "cell_type": "code",
   "execution_count": 60,
   "metadata": {},
   "outputs": [
    {
     "name": "stdout",
     "output_type": "stream",
     "text": [
      "=====================MODEL DEVELOPMENT=========================\n",
      "Model: \"sequential_14\"\n",
      "_________________________________________________________________\n",
      " Layer (type)                Output Shape              Param #   \n",
      "=================================================================\n",
      " flatten_14 (Flatten)        (None, 784)               0         \n",
      "                                                                 \n",
      " batch_normalization_15 (Bat  (None, 784)              3136      \n",
      " chNormalization)                                                \n",
      "                                                                 \n",
      " dense_339 (Dense)           (None, 300)               235200    \n",
      "                                                                 \n",
      " batch_normalization_16 (Bat  (None, 300)              1200      \n",
      " chNormalization)                                                \n",
      "                                                                 \n",
      " activation (Activation)     (None, 300)               0         \n",
      "                                                                 \n",
      " dense_340 (Dense)           (None, 100)               30000     \n",
      "                                                                 \n",
      " batch_normalization_17 (Bat  (None, 100)              400       \n",
      " chNormalization)                                                \n",
      "                                                                 \n",
      " activation_1 (Activation)   (None, 100)               0         \n",
      "                                                                 \n",
      " dense_341 (Dense)           (None, 10)                1010      \n",
      "                                                                 \n",
      "=================================================================\n",
      "Total params: 270,946\n",
      "Trainable params: 268,578\n",
      "Non-trainable params: 2,368\n",
      "_________________________________________________________________\n",
      "None\n",
      "=====================COMPILE THE MODEL==========================\n",
      "=====================TRAIN THE MODEL============================\n",
      "Epoch 1/10\n",
      "1719/1719 [==============================] - 7s 3ms/step - loss: 1.0179 - accuracy: 0.6813 - val_loss: 0.6592 - val_accuracy: 0.7914\n",
      "Epoch 2/10\n",
      "1719/1719 [==============================] - 6s 3ms/step - loss: 0.6668 - accuracy: 0.7840 - val_loss: 0.5443 - val_accuracy: 0.8194\n",
      "Epoch 3/10\n",
      "1719/1719 [==============================] - 6s 3ms/step - loss: 0.5881 - accuracy: 0.8034 - val_loss: 0.4934 - val_accuracy: 0.8334\n",
      "Epoch 4/10\n",
      "1719/1719 [==============================] - 6s 3ms/step - loss: 0.5379 - accuracy: 0.8189 - val_loss: 0.4612 - val_accuracy: 0.8416\n",
      "Epoch 5/10\n",
      "1719/1719 [==============================] - 6s 3ms/step - loss: 0.5061 - accuracy: 0.8263 - val_loss: 0.4393 - val_accuracy: 0.8496\n",
      "Epoch 6/10\n",
      "1719/1719 [==============================] - 6s 3ms/step - loss: 0.4867 - accuracy: 0.8323 - val_loss: 0.4223 - val_accuracy: 0.8570\n",
      "Epoch 7/10\n",
      "1719/1719 [==============================] - 6s 3ms/step - loss: 0.4692 - accuracy: 0.8377 - val_loss: 0.4086 - val_accuracy: 0.8600\n",
      "Epoch 8/10\n",
      "1719/1719 [==============================] - 6s 3ms/step - loss: 0.4538 - accuracy: 0.8425 - val_loss: 0.3992 - val_accuracy: 0.8632\n",
      "Epoch 9/10\n",
      "1719/1719 [==============================] - 6s 4ms/step - loss: 0.4420 - accuracy: 0.8473 - val_loss: 0.3901 - val_accuracy: 0.8648\n",
      "Epoch 10/10\n",
      "1719/1719 [==============================] - 6s 4ms/step - loss: 0.4298 - accuracy: 0.8505 - val_loss: 0.3835 - val_accuracy: 0.8650\n"
     ]
    }
   ],
   "source": [
    "## different method for batch normalization\n",
    "print(\"=====================MODEL DEVELOPMENT=========================\")\n",
    "## trying the batch normalization in simple terms\n",
    "model = keras.models.Sequential([\n",
    "    keras.layers.Flatten(input_shape=[28, 28]),\n",
    "    keras.layers.BatchNormalization(),\n",
    "    keras.layers.Dense(300, use_bias=False),\n",
    "    keras.layers.BatchNormalization(),\n",
    "    keras.layers.Activation(\"relu\"),\n",
    "    keras.layers.Dense(100, use_bias=False),\n",
    "    keras.layers.BatchNormalization(),\n",
    "    keras.layers.Activation(\"relu\"),\n",
    "    keras.layers.Dense(10, activation=\"softmax\")\n",
    "])\n",
    "\n",
    "print(model.summary())\n",
    "bn1 = model.layers[1]\n",
    "[(var.name, var.trainable) for var in bn1.variables]\n",
    "\n",
    "print(\"=====================COMPILE THE MODEL==========================\")\n",
    "model.compile(loss=\"sparse_categorical_crossentropy\",\n",
    "              optimizer=keras.optimizers.SGD(learning_rate=1e-3),\n",
    "              metrics=[\"accuracy\"])\n",
    "\n",
    "print(\"=====================TRAIN THE MODEL============================\")\n",
    "history = model.fit(X_train, y_train, epochs=10,validation_data=(X_valid, y_valid))"
   ]
  },
  {
   "cell_type": "markdown",
   "metadata": {},
   "source": [
    "#### GRADIENT CLIPPING\n",
    "\n",
    "+ `optimizer = keras.optimizers.SGD(clipvalue=1.0)`\n",
    "+ `optimizer = keras.optimizers.SGD(clipnorm=1.0)`"
   ]
  },
  {
   "cell_type": "code",
   "execution_count": 61,
   "metadata": {},
   "outputs": [
    {
     "name": "stdout",
     "output_type": "stream",
     "text": [
      "=====================MODEL DEVELOPMENT=========================\n",
      "Model: \"sequential_15\"\n",
      "_________________________________________________________________\n",
      " Layer (type)                Output Shape              Param #   \n",
      "=================================================================\n",
      " flatten_15 (Flatten)        (None, 784)               0         \n",
      "                                                                 \n",
      " batch_normalization_18 (Bat  (None, 784)              3136      \n",
      " chNormalization)                                                \n",
      "                                                                 \n",
      " dense_342 (Dense)           (None, 300)               235200    \n",
      "                                                                 \n",
      " batch_normalization_19 (Bat  (None, 300)              1200      \n",
      " chNormalization)                                                \n",
      "                                                                 \n",
      " activation_2 (Activation)   (None, 300)               0         \n",
      "                                                                 \n",
      " dense_343 (Dense)           (None, 100)               30000     \n",
      "                                                                 \n",
      " batch_normalization_20 (Bat  (None, 100)              400       \n",
      " chNormalization)                                                \n",
      "                                                                 \n",
      " activation_3 (Activation)   (None, 100)               0         \n",
      "                                                                 \n",
      " dense_344 (Dense)           (None, 10)                1010      \n",
      "                                                                 \n",
      "=================================================================\n",
      "Total params: 270,946\n",
      "Trainable params: 268,578\n",
      "Non-trainable params: 2,368\n",
      "_________________________________________________________________\n",
      "None\n",
      "=====================COMPILE THE MODEL==========================\n",
      "=====================TRAIN THE MODEL============================\n",
      "Epoch 1/10\n",
      "1719/1719 [==============================] - 7s 4ms/step - loss: 1.0773 - accuracy: 0.6681 - val_loss: 0.6840 - val_accuracy: 0.7894\n",
      "Epoch 2/10\n",
      "1719/1719 [==============================] - 6s 3ms/step - loss: 0.6875 - accuracy: 0.7826 - val_loss: 0.5577 - val_accuracy: 0.8194\n",
      "Epoch 3/10\n",
      "1719/1719 [==============================] - 6s 3ms/step - loss: 0.6009 - accuracy: 0.8037 - val_loss: 0.5010 - val_accuracy: 0.8348\n",
      "Epoch 4/10\n",
      "1719/1719 [==============================] - 6s 3ms/step - loss: 0.5475 - accuracy: 0.8195 - val_loss: 0.4680 - val_accuracy: 0.8412\n",
      "Epoch 5/10\n",
      "1719/1719 [==============================] - 6s 3ms/step - loss: 0.5137 - accuracy: 0.8263 - val_loss: 0.4445 - val_accuracy: 0.8480\n",
      "Epoch 6/10\n",
      "1719/1719 [==============================] - 6s 3ms/step - loss: 0.4912 - accuracy: 0.8331 - val_loss: 0.4276 - val_accuracy: 0.8532\n",
      "Epoch 7/10\n",
      "1719/1719 [==============================] - 6s 3ms/step - loss: 0.4728 - accuracy: 0.8392 - val_loss: 0.4141 - val_accuracy: 0.8550\n",
      "Epoch 8/10\n",
      "1719/1719 [==============================] - 6s 4ms/step - loss: 0.4587 - accuracy: 0.8435 - val_loss: 0.4048 - val_accuracy: 0.8560\n",
      "Epoch 9/10\n",
      "1719/1719 [==============================] - 6s 4ms/step - loss: 0.4448 - accuracy: 0.8484 - val_loss: 0.3959 - val_accuracy: 0.8572\n",
      "Epoch 10/10\n",
      "1719/1719 [==============================] - 6s 4ms/step - loss: 0.4334 - accuracy: 0.8494 - val_loss: 0.3870 - val_accuracy: 0.8622\n"
     ]
    }
   ],
   "source": [
    "## different method for batch normalization\n",
    "print(\"=====================MODEL DEVELOPMENT=========================\")\n",
    "## trying the batch normalization in simple terms\n",
    "model = keras.models.Sequential([\n",
    "    keras.layers.Flatten(input_shape=[28, 28]),\n",
    "    keras.layers.BatchNormalization(),\n",
    "    keras.layers.Dense(300, use_bias=False),\n",
    "    keras.layers.BatchNormalization(),\n",
    "    keras.layers.Activation(\"relu\"),\n",
    "    keras.layers.Dense(100, use_bias=False),\n",
    "    keras.layers.BatchNormalization(),\n",
    "    keras.layers.Activation(\"relu\"),\n",
    "    keras.layers.Dense(10, activation=\"softmax\")\n",
    "])\n",
    "\n",
    "print(model.summary())\n",
    "bn1 = model.layers[1]\n",
    "[(var.name, var.trainable) for var in bn1.variables]\n",
    "\n",
    "print(\"=====================COMPILE THE MODEL==========================\")\n",
    "model.compile(loss=\"sparse_categorical_crossentropy\",\n",
    "              optimizer=keras.optimizers.SGD(learning_rate=1e-3, clipvalue=1.0),\n",
    "              metrics=[\"accuracy\"])\n",
    "\n",
    "print(\"=====================TRAIN THE MODEL============================\")\n",
    "history = model.fit(X_train, y_train, epochs=10,validation_data=(X_valid, y_valid))"
   ]
  },
  {
   "cell_type": "markdown",
   "metadata": {},
   "source": [
    "***"
   ]
  }
 ],
 "metadata": {
  "kernelspec": {
   "display_name": "Python 3",
   "language": "python",
   "name": "python3"
  },
  "language_info": {
   "codemirror_mode": {
    "name": "ipython",
    "version": 3
   },
   "file_extension": ".py",
   "mimetype": "text/x-python",
   "name": "python",
   "nbconvert_exporter": "python",
   "pygments_lexer": "ipython3",
   "version": "3.8.3"
  }
 },
 "nbformat": 4,
 "nbformat_minor": 4
}
