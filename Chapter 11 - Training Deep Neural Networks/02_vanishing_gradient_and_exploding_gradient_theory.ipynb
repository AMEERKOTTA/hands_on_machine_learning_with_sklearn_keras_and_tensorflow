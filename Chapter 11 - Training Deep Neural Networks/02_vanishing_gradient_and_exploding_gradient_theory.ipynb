{
 "cells": [
  {
   "cell_type": "markdown",
   "metadata": {},
   "source": [
    "### VANISHING GRADIENT AND EXPLODING GRADIENT PROBLEMS\n",
    "\n",
    "BackPropogation algorithm works by going from output layer to input layer.\n",
    "\n",
    "**VANISHING GRADIENT**\n",
    "\n",
    "+ As the gradient goes smaller and smaller as the algorithm progress down to the lower layer.\n",
    "+ As as result, the gradient descent updates leaves the lower layer connection weights virually unchanged.\n",
    "+ and the training never converges to a good solution.\n",
    "+ This problem is called Vanishing Gradient.\n",
    "\n",
    "\n",
    "**EXPLODING GRADIENT**\n",
    "\n",
    "+ Sometimes gradient can go bigger and bigger.\n",
    "+ and the Weights update will be very large.\n",
    "+ Then the algorithm will diverge.\n",
    "+ This problem is called Exploding Gradient."
   ]
  },
  {
   "cell_type": "markdown",
   "metadata": {},
   "source": [
    "Generally, Deep Neural Network Suffer from Unstable Gradient, different layer may learn at Widely Different Speed."
   ]
  },
  {
   "cell_type": "markdown",
   "metadata": {},
   "source": [
    "***"
   ]
  }
 ],
 "metadata": {
  "kernelspec": {
   "display_name": "Python 3",
   "language": "python",
   "name": "python3"
  },
  "language_info": {
   "codemirror_mode": {
    "name": "ipython",
    "version": 3
   },
   "file_extension": ".py",
   "mimetype": "text/x-python",
   "name": "python",
   "nbconvert_exporter": "python",
   "pygments_lexer": "ipython3",
   "version": "3.8.3"
  }
 },
 "nbformat": 4,
 "nbformat_minor": 4
}
