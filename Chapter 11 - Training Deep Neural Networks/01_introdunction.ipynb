{
 "cells": [
  {
   "cell_type": "markdown",
   "metadata": {},
   "source": [
    "### MAIN CHALLENGES IN TRAINING DEEP NEURAL NETWORKS\n",
    "\n",
    "Problems that can come up with training Deep Neural Networks are\n",
    "\n",
    "+ Vanishing Gradient :- gradient goes smaller and smaller\n",
    "+ Exploding Gradient :- gradient goes larger and larger.\n",
    "+ Training Can be Extremely Slow.\n",
    "+ A model with millions of parameters would risk overfitting the training set. Especially if there are no enough training instances."
   ]
  },
  {
   "cell_type": "markdown",
   "metadata": {},
   "source": [
    "***"
   ]
  }
 ],
 "metadata": {
  "kernelspec": {
   "display_name": "Python 3",
   "language": "python",
   "name": "python3"
  },
  "language_info": {
   "codemirror_mode": {
    "name": "ipython",
    "version": 3
   },
   "file_extension": ".py",
   "mimetype": "text/x-python",
   "name": "python",
   "nbconvert_exporter": "python",
   "pygments_lexer": "ipython3",
   "version": "3.8.3"
  }
 },
 "nbformat": 4,
 "nbformat_minor": 4
}
