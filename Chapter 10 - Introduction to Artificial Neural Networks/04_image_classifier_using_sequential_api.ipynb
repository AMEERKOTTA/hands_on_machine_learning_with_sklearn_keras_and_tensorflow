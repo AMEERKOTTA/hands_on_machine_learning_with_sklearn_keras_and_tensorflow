{
 "cells": [
  {
   "cell_type": "markdown",
   "metadata": {},
   "source": [
    "### BUILDING AN IMAGE CLASSIFIER USING SEQUENTIAL API\n",
    "\n",
    "+ First we need to load Fashion MNIST dataset.\n",
    "+ It has 70,000 greyscale images, 28x28 pixels with 10 classes.\n",
    "+ Here the data image is represented as 28x28 array rather than 1D array of size 784.\n",
    "+ Pixel intensities are represented as integers.\n",
    "+ the dataset is already splitted to training and test set.\n",
    "+ now the data is to be splitted to validation set.\n",
    "\n",
    "+ Since we are going to train neural network using gradient descent.\n",
    "+ We must scale the features which is pixel down to [0-1] by dividing by 255.0\n",
    "\n",
    "+ after training the model.\n",
    "+ the `training accuracy = 91%`, `validation accuracy = 88%`\n",
    "+ If the Perfomance on the Training set is much better than on the validation set, the model is overfitting the training set."
   ]
  },
  {
   "cell_type": "code",
   "execution_count": 75,
   "metadata": {},
   "outputs": [],
   "source": [
    "import tensorflow as tf\n",
    "from tensorflow import keras\n",
    "import numpy as np"
   ]
  },
  {
   "cell_type": "code",
   "execution_count": 55,
   "metadata": {},
   "outputs": [
    {
     "name": "stdout",
     "output_type": "stream",
     "text": [
      "===================Shape of the Full Training and Test Set======================\n",
      "(60000, 28, 28)\n",
      "(60000,)\n",
      "(10000, 28, 28)\n",
      "(10000,)\n",
      "===================Shape of the Training and Test Set after the Splitting to Validation Set======================\n",
      "(5000, 28, 28)\n",
      "(55000, 28, 28)\n",
      "(5000,)\n",
      "(55000,)\n",
      "['T-shirt/top', 'Trouser', 'Pullover', 'Dress', 'Coat', 'Sandal', 'Shirt', 'Sneaker', 'Bag', 'Ankle Boot']\n",
      "7\n",
      "Coat\n",
      "Sneaker\n",
      "==============Building the Model using Sequntial API=======================\n",
      "Model: \"sequential_20\"\n",
      "_________________________________________________________________\n",
      " Layer (type)                Output Shape              Param #   \n",
      "=================================================================\n",
      " flatten_19 (Flatten)        (None, 784)               0         \n",
      "                                                                 \n",
      " dense_57 (Dense)            (None, 300)               235500    \n",
      "                                                                 \n",
      " dense_58 (Dense)            (None, 100)               30100     \n",
      "                                                                 \n",
      " dense_59 (Dense)            (None, 10)                1010      \n",
      "                                                                 \n",
      "=================================================================\n",
      "Total params: 266,610\n",
      "Trainable params: 266,610\n",
      "Non-trainable params: 0\n",
      "_________________________________________________________________\n",
      "None\n",
      "[<keras.layers.reshaping.flatten.Flatten object at 0x000001B199F08370>, <keras.layers.core.dense.Dense object at 0x000001B199F28100>, <keras.layers.core.dense.Dense object at 0x000001B199EF02E0>, <keras.layers.core.dense.Dense object at 0x000001B199D8EAC0>]\n",
      "dense_57\n",
      "[[ 0.03301755 -0.06703525 -0.02301047 ...  0.02764568 -0.04655756\n",
      "  -0.03275426]\n",
      " [-0.01650631 -0.06007068 -0.05996734 ... -0.03218273  0.06206796\n",
      "  -0.0675508 ]\n",
      " [ 0.05219443 -0.04116624  0.05883856 ... -0.06176697  0.04477561\n",
      "  -0.07034079]\n",
      " ...\n",
      " [ 0.06186178 -0.02942263  0.02389282 ... -0.02659969  0.0389605\n",
      "  -0.02743212]\n",
      " [-0.05315581 -0.06811556  0.01093434 ...  0.05430701 -0.03383593\n",
      "  -0.00063702]\n",
      " [ 0.07138038  0.02935184 -0.03577296 ...  0.07355283  0.03743482\n",
      "  -0.0667587 ]]\n",
      "(784, 300)\n",
      "[0. 0. 0. 0. 0. 0. 0. 0. 0. 0. 0. 0. 0. 0. 0. 0. 0. 0. 0. 0. 0. 0. 0. 0.\n",
      " 0. 0. 0. 0. 0. 0. 0. 0. 0. 0. 0. 0. 0. 0. 0. 0. 0. 0. 0. 0. 0. 0. 0. 0.\n",
      " 0. 0. 0. 0. 0. 0. 0. 0. 0. 0. 0. 0. 0. 0. 0. 0. 0. 0. 0. 0. 0. 0. 0. 0.\n",
      " 0. 0. 0. 0. 0. 0. 0. 0. 0. 0. 0. 0. 0. 0. 0. 0. 0. 0. 0. 0. 0. 0. 0. 0.\n",
      " 0. 0. 0. 0. 0. 0. 0. 0. 0. 0. 0. 0. 0. 0. 0. 0. 0. 0. 0. 0. 0. 0. 0. 0.\n",
      " 0. 0. 0. 0. 0. 0. 0. 0. 0. 0. 0. 0. 0. 0. 0. 0. 0. 0. 0. 0. 0. 0. 0. 0.\n",
      " 0. 0. 0. 0. 0. 0. 0. 0. 0. 0. 0. 0. 0. 0. 0. 0. 0. 0. 0. 0. 0. 0. 0. 0.\n",
      " 0. 0. 0. 0. 0. 0. 0. 0. 0. 0. 0. 0. 0. 0. 0. 0. 0. 0. 0. 0. 0. 0. 0. 0.\n",
      " 0. 0. 0. 0. 0. 0. 0. 0. 0. 0. 0. 0. 0. 0. 0. 0. 0. 0. 0. 0. 0. 0. 0. 0.\n",
      " 0. 0. 0. 0. 0. 0. 0. 0. 0. 0. 0. 0. 0. 0. 0. 0. 0. 0. 0. 0. 0. 0. 0. 0.\n",
      " 0. 0. 0. 0. 0. 0. 0. 0. 0. 0. 0. 0. 0. 0. 0. 0. 0. 0. 0. 0. 0. 0. 0. 0.\n",
      " 0. 0. 0. 0. 0. 0. 0. 0. 0. 0. 0. 0. 0. 0. 0. 0. 0. 0. 0. 0. 0. 0. 0. 0.\n",
      " 0. 0. 0. 0. 0. 0. 0. 0. 0. 0. 0. 0.]\n",
      "(300,)\n",
      "=================Compiling the model=====================\n",
      "================Training the Model=======================\n",
      "Epoch 1/30\n",
      "1719/1719 [==============================] - 6s 3ms/step - loss: 0.7207 - accuracy: 0.7643 - val_loss: 0.5106 - val_accuracy: 0.8294\n",
      "Epoch 2/30\n",
      "1719/1719 [==============================] - 5s 3ms/step - loss: 0.4906 - accuracy: 0.8295 - val_loss: 0.4758 - val_accuracy: 0.8302\n",
      "Epoch 3/30\n",
      "1719/1719 [==============================] - 5s 3ms/step - loss: 0.4473 - accuracy: 0.8426 - val_loss: 0.4176 - val_accuracy: 0.8608\n",
      "Epoch 4/30\n",
      "1719/1719 [==============================] - 5s 3ms/step - loss: 0.4201 - accuracy: 0.8526 - val_loss: 0.3933 - val_accuracy: 0.8650\n",
      "Epoch 5/30\n",
      "1719/1719 [==============================] - 5s 3ms/step - loss: 0.4001 - accuracy: 0.8592 - val_loss: 0.3996 - val_accuracy: 0.8622\n",
      "Epoch 6/30\n",
      "1719/1719 [==============================] - 5s 3ms/step - loss: 0.3826 - accuracy: 0.8646 - val_loss: 0.3827 - val_accuracy: 0.8676\n",
      "Epoch 7/30\n",
      "1719/1719 [==============================] - 5s 3ms/step - loss: 0.3684 - accuracy: 0.8695 - val_loss: 0.3682 - val_accuracy: 0.8726\n",
      "Epoch 8/30\n",
      "1719/1719 [==============================] - 5s 3ms/step - loss: 0.3560 - accuracy: 0.8740 - val_loss: 0.3564 - val_accuracy: 0.8750\n",
      "Epoch 9/30\n",
      "1719/1719 [==============================] - 5s 3ms/step - loss: 0.3452 - accuracy: 0.8771 - val_loss: 0.3643 - val_accuracy: 0.8712\n",
      "Epoch 10/30\n",
      "1719/1719 [==============================] - 6s 3ms/step - loss: 0.3360 - accuracy: 0.8804 - val_loss: 0.3439 - val_accuracy: 0.8772\n",
      "Epoch 11/30\n",
      "1719/1719 [==============================] - 5s 3ms/step - loss: 0.3262 - accuracy: 0.8839 - val_loss: 0.3436 - val_accuracy: 0.8772\n",
      "Epoch 12/30\n",
      "1719/1719 [==============================] - 5s 3ms/step - loss: 0.3182 - accuracy: 0.8852 - val_loss: 0.3408 - val_accuracy: 0.8790\n",
      "Epoch 13/30\n",
      "1719/1719 [==============================] - 6s 3ms/step - loss: 0.3113 - accuracy: 0.8889 - val_loss: 0.3311 - val_accuracy: 0.8816\n",
      "Epoch 14/30\n",
      "1719/1719 [==============================] - 5s 3ms/step - loss: 0.3038 - accuracy: 0.8915 - val_loss: 0.3270 - val_accuracy: 0.8848\n",
      "Epoch 15/30\n",
      "1719/1719 [==============================] - 5s 3ms/step - loss: 0.2980 - accuracy: 0.8930 - val_loss: 0.3569 - val_accuracy: 0.8756\n",
      "Epoch 16/30\n",
      "1719/1719 [==============================] - 6s 3ms/step - loss: 0.2906 - accuracy: 0.8956 - val_loss: 0.3305 - val_accuracy: 0.8802\n",
      "Epoch 17/30\n",
      "1719/1719 [==============================] - 6s 3ms/step - loss: 0.2859 - accuracy: 0.8974 - val_loss: 0.3255 - val_accuracy: 0.8810\n",
      "Epoch 18/30\n",
      "1719/1719 [==============================] - 5s 3ms/step - loss: 0.2801 - accuracy: 0.8990 - val_loss: 0.3256 - val_accuracy: 0.8810\n",
      "Epoch 19/30\n",
      "1719/1719 [==============================] - 6s 3ms/step - loss: 0.2744 - accuracy: 0.9013 - val_loss: 0.3146 - val_accuracy: 0.8860\n",
      "Epoch 20/30\n",
      "1719/1719 [==============================] - 5s 3ms/step - loss: 0.2696 - accuracy: 0.9019 - val_loss: 0.3498 - val_accuracy: 0.8744\n",
      "Epoch 21/30\n",
      "1719/1719 [==============================] - 5s 3ms/step - loss: 0.2650 - accuracy: 0.9043 - val_loss: 0.3136 - val_accuracy: 0.8858\n",
      "Epoch 22/30\n",
      "1719/1719 [==============================] - 6s 4ms/step - loss: 0.2589 - accuracy: 0.9067 - val_loss: 0.3279 - val_accuracy: 0.8848\n",
      "Epoch 23/30\n",
      "1719/1719 [==============================] - 6s 3ms/step - loss: 0.2551 - accuracy: 0.9080 - val_loss: 0.3077 - val_accuracy: 0.8884\n",
      "Epoch 24/30\n",
      "1719/1719 [==============================] - 6s 3ms/step - loss: 0.2505 - accuracy: 0.9098 - val_loss: 0.3076 - val_accuracy: 0.8852\n",
      "Epoch 25/30\n",
      "1719/1719 [==============================] - 6s 4ms/step - loss: 0.2469 - accuracy: 0.9110 - val_loss: 0.2978 - val_accuracy: 0.8898\n",
      "Epoch 26/30\n",
      "1719/1719 [==============================] - 6s 3ms/step - loss: 0.2423 - accuracy: 0.9123 - val_loss: 0.3016 - val_accuracy: 0.8880\n",
      "Epoch 27/30\n",
      "1719/1719 [==============================] - 6s 3ms/step - loss: 0.2388 - accuracy: 0.9143 - val_loss: 0.3030 - val_accuracy: 0.8902\n",
      "Epoch 28/30\n",
      "1719/1719 [==============================] - 6s 3ms/step - loss: 0.2355 - accuracy: 0.9143 - val_loss: 0.2951 - val_accuracy: 0.8940\n",
      "Epoch 29/30\n",
      "1719/1719 [==============================] - 6s 3ms/step - loss: 0.2305 - accuracy: 0.9167 - val_loss: 0.2995 - val_accuracy: 0.8926\n",
      "Epoch 30/30\n",
      "1719/1719 [==============================] - 6s 3ms/step - loss: 0.2268 - accuracy: 0.9176 - val_loss: 0.3057 - val_accuracy: 0.8920\n"
     ]
    }
   ],
   "source": [
    "## use keras to load the dataset\n",
    "fashion_mnist = keras.datasets.fashion_mnist\n",
    "(X_train_full, y_train_full), (X_test, y_test) = fashion_mnist.load_data()\n",
    "print(\"===================Shape of the Full Training and Test Set======================\")\n",
    "print(X_train_full.shape)\n",
    "print(y_train_full.shape)\n",
    "print(X_test.shape)\n",
    "print(y_test.shape)\n",
    "\n",
    "## the dataset is already splitted to training and test set.\n",
    "## now the data is to be splitted to validation set.\n",
    "X_valid, X_train = X_train_full[:5000]/255.0, X_train_full[5000:]/255.0\n",
    "y_valid, y_train = y_train_full[:5000], y_train_full[5000:]\n",
    "print(\"===================Shape of the Training and Test Set after the Splitting to Validation Set======================\")\n",
    "print(X_valid.shape)\n",
    "print(X_train.shape)\n",
    "print(y_valid.shape)\n",
    "print(y_train.shape)\n",
    "\n",
    "## for fashion mnist, the class names are\n",
    "class_names = [\"T-shirt/top\", \"Trouser\", \"Pullover\", \"Dress\", \"Coat\", \"Sandal\", \"Shirt\", \"Sneaker\", \"Bag\", \"Ankle Boot\"]\n",
    "print(class_names)\n",
    "\n",
    "## first example in the trainning set \n",
    "print(y_train[2])\n",
    "print(class_names[y_train[0]])\n",
    "print(class_names[y_train[2]])\n",
    "\n",
    "print(\"==============Building the Model using Sequntial API=======================\")\n",
    "##defining the model\n",
    "## this is the line to reate the sequential model\n",
    "## simplest kind of keras model for neural networks, this is called sequential API.\n",
    "model = keras.models.Sequential()\n",
    "## First Layer is Flatten Layer\n",
    "## This will convert each input image to 1D array.\n",
    "## here we have to specify the input shape  = (28,28)\n",
    "## we dont need to give the batch size here. only the input shape.\n",
    "## alternatively we can give keras.layers.InputLayer(input_shape=[28,28])\n",
    "model.add(keras.layers.Flatten(input_shape = [28,28]))\n",
    "## next layer is dense layer with 300 neurons.\n",
    "## it will use ReLU activation function.\n",
    "model.add(keras.layers.Dense(300, activation = \"relu\"))\n",
    "## next layer is also a Dense layer with 100 neurons\n",
    "## it also uses the ReLU activation function.\n",
    "model.add(keras.layers.Dense(100, activation = \"relu\"))\n",
    "## next layer is the final layer with 10 neurons. to classify the 10 classes.\n",
    "## here using the softmax actiavtion function.\n",
    "model.add(keras.layers.Dense(10, activation = \"softmax\"))\n",
    "\n",
    "# ## we can do the same thing in the given below manner as well\n",
    "# model = keras.models.Sequential([\n",
    "#     keras.layers.Flatten(input_shape=[28,28]),\n",
    "#     keras.layers.Dense(300, activation = \"relu\"),\n",
    "#     keras.layers.Dense(100, activation = \"relu\"),\n",
    "#     keras.layers.Dense(10, activation = \"softmax\")\n",
    "# ])\n",
    "\n",
    "## printing the model summary\n",
    "print(model.summary())\n",
    "## print the model layers\n",
    "print(model.layers)\n",
    "## check the first hidden layer\n",
    "hidden1 = model.layers[1]\n",
    "print(hidden1.name)\n",
    "## checking the weights and biases.\n",
    "weights, biases = hidden1.get_weights()\n",
    "print(weights)\n",
    "print(weights.shape)\n",
    "print(biases)\n",
    "print(biases.shape)\n",
    "\n",
    "print(\"=================Compiling the model=====================\")\n",
    "## compile the model\n",
    "## compile is to specify the loss fnuction and optimizer to use while training and evaluating.\n",
    "## also we can give the metrics to use while training and evaluating model.\n",
    "## using loss = \"sparse_categorical_crossentropy\"\n",
    "## using optimizer as \"sgd\" which is stochcastic gradient descent.\n",
    "## using the metrics as \"accuracy\"\n",
    "model.compile(loss = \"sparse_categorical_crossentropy\",\n",
    "                 optimizer = \"sgd\",\n",
    "                 metrics = [\"accuracy\"])\n",
    "\n",
    "print(\"================Training the Model=======================\")\n",
    "history = model.fit(X_train, y_train, epochs = 30, validation_data = (X_valid, y_valid))"
   ]
  },
  {
   "cell_type": "code",
   "execution_count": 60,
   "metadata": {},
   "outputs": [
    {
     "data": {
      "image/png": "[encoded data removed]",
      "text/plain": [
       "<Figure size 720x360 with 1 Axes>"
      ]
     },
     "metadata": {
      "needs_background": "light"
     },
     "output_type": "display_data"
    }
   ],
   "source": [
    "## plotting the scores\n",
    "import pandas as pd\n",
    "import matplotlib.pyplot as plt\n",
    "pd.DataFrame(history.history).plot(figsize = (10,5))\n",
    "plt.grid(True)\n",
    "plt.gca().set_ylim(0,1)\n",
    "plt.show()"
   ]
  },
  {
   "cell_type": "markdown",
   "metadata": {},
   "source": [
    "Here the training and validation accuracy is almost similar.\n",
    "\n",
    "+ There is no much Overfitting.\n",
    "\n",
    "If you are not satisfied with your Perfomance of your Model, you should go back and tune Hyperparameters.\n",
    "\n",
    "+ tweak the learning rate.\n",
    "+ try another optimizer.\n",
    "+ increase or decrease the number of layers in NN.\n",
    "+ increase or decrease the number of nuerons per layer.\n",
    "+ type of activation function used.\n",
    "+ tweak the batch size."
   ]
  },
  {
   "cell_type": "code",
   "execution_count": 61,
   "metadata": {},
   "outputs": [
    {
     "name": "stdout",
     "output_type": "stream",
     "text": [
      "313/313 [==============================] - 1s 2ms/step - loss: 79.4376 - accuracy: 0.8261\n"
     ]
    },
    {
     "data": {
      "text/plain": [
       "[79.43755340576172, 0.8260999917984009]"
      ]
     },
     "execution_count": 61,
     "metadata": {},
     "output_type": "execute_result"
    }
   ],
   "source": [
    "## evaluate the model\n",
    "model.evaluate(X_test, y_test)"
   ]
  },
  {
   "cell_type": "markdown",
   "metadata": {},
   "source": [
    "Here the Testing Accuracy is 82%"
   ]
  },
  {
   "cell_type": "code",
   "execution_count": 85,
   "metadata": {},
   "outputs": [
    {
     "name": "stdout",
     "output_type": "stream",
     "text": [
      "[9 2 1]\n",
      "1/1 [==============================] - 0s 24ms/step\n"
     ]
    },
    {
     "data": {
      "text/plain": [
       "array([[0., 0., 0., 0., 0., 0., 0., 0., 0., 1.],\n",
       "       [0., 0., 1., 0., 0., 0., 0., 0., 0., 0.],\n",
       "       [0., 1., 0., 0., 0., 0., 0., 0., 0., 0.]], dtype=float32)"
      ]
     },
     "execution_count": 85,
     "metadata": {},
     "output_type": "execute_result"
    }
   ],
   "source": [
    "## mkae the predictions on the new instances\n",
    "X_new = X_test[:3]\n",
    "# print(X_new)\n",
    "y_new = y_test[:3]\n",
    "print(y_new)\n",
    "\n",
    "## predict using the model.\n",
    "y_proba = model.predict(X_new)\n",
    "y_proba.round(2)\n",
    "\n",
    "## here the first prediction is 9\n",
    "## second predcition is 2\n",
    "## an dthe third is 1\n",
    "\n",
    "# ## another way\n",
    "# y_pred = model.predict_classes(X_new)\n",
    "# print(y_pred)\n",
    "# print(class_names[y_pred])"
   ]
  },
  {
   "cell_type": "markdown",
   "metadata": {},
   "source": [
    "+ here the first prediction is 9\n",
    "+ second predcition is 2\n",
    "+ and the third is 1\n",
    "\n",
    "+ which is exactly the y_new output as we saw earlier."
   ]
  },
  {
   "cell_type": "markdown",
   "metadata": {},
   "source": [
    "***"
   ]
  }
 ],
 "metadata": {
  "kernelspec": {
   "display_name": "Python 3",
   "language": "python",
   "name": "python3"
  },
  "language_info": {
   "codemirror_mode": {
    "name": "ipython",
    "version": 3
   },
   "file_extension": ".py",
   "mimetype": "text/x-python",
   "name": "python",
   "nbconvert_exporter": "python",
   "pygments_lexer": "ipython3",
   "version": "3.8.3"
  }
 },
 "nbformat": 4,
 "nbformat_minor": 4
}
