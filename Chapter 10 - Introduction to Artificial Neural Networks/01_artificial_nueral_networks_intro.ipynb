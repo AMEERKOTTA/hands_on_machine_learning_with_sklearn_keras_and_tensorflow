{
 "cells": [
  {
   "cell_type": "markdown",
   "metadata": {},
   "source": [
    "### INTRODUCTION TO ARTIFICIAL NEURAL NETWORKS\n",
    "\n",
    "+ ANN is Machine Learning Model inspired by the Networks of biological neurons found in ou Brains.\n",
    "+ ANNs are at the very core of Deep Learning.\n",
    "+ ANNs Applications :--\n",
    "    + Classifying Billions of Images (Google Images)\n",
    "    + Speech Recognition Services (Apple Siri)\n",
    "    + Recommendation Engines (You Tube and Netflix)\n",
    "    + DeepMind's AlphaGo\n",
    "\n",
    "\n",
    "**KERAS**\n",
    "\n",
    "+ Beautifully designed and simple high level API for building, training, evaluating and running Neural Networks.\n",
    "+ We can write Custom Keras Components using its low level APIs.\n",
    "\n",
    "\n",
    "**WHY TO BELIEVE IN THE APPLICATION OF ANN NOW??**\n",
    "\n",
    "+ There is Huge quantity of Data Available to train ANN.\n",
    "+ More Computing Power than Ever.\n",
    "+ The Training algorithms have been improved.\n",
    "+ Therotical Limitations of ANNs have turned out to be benign in Practice.\n",
    "+ ANNs seems to have entered a Virtuous Circle of Funding and Progress."
   ]
  },
  {
   "cell_type": "code",
   "execution_count": null,
   "metadata": {},
   "outputs": [],
   "source": []
  }
 ],
 "metadata": {
  "kernelspec": {
   "display_name": "Python 3",
   "language": "python",
   "name": "python3"
  },
  "language_info": {
   "codemirror_mode": {
    "name": "ipython",
    "version": 3
   },
   "file_extension": ".py",
   "mimetype": "text/x-python",
   "name": "python",
   "nbconvert_exporter": "python",
   "pygments_lexer": "ipython3",
   "version": "3.8.3"
  }
 },
 "nbformat": 4,
 "nbformat_minor": 4
}
