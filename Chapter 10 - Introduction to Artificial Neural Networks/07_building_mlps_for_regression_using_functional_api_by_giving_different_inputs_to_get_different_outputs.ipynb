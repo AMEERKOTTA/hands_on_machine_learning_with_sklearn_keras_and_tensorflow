{
 "cells": [
  {
   "cell_type": "markdown",
   "metadata": {},
   "source": [
    "### BUILDING COMPLEX MODELS USING FUNCTIONAL API\n",
    "\n",
    "If you want to sent a Subset of the Features through the wide path, and a differnt Subsets through the Deep Path.\n",
    "\n",
    "+ Five Features through the Wide Path.\n",
    "+ Six Features through the Deep Path.\n",
    "\n",
    "We can solve Problems in Different Scenorios by Functional API method.\n",
    "We can train one NN and can apply more than one tasks to do for the NN.\n",
    "\n",
    "+ `Classify the main Object from the Picture -- Classification` and `Find Coordinates of the Object -- Regression`\n",
    "+ Classify the Persons facial Expression is one task (smiling, surprised, sad etc) and another output can be given as whether they are wearing glasses or not.\n",
    "+ We can also give one auxiliary output."
   ]
  },
  {
   "cell_type": "code",
   "execution_count": 1,
   "metadata": {},
   "outputs": [],
   "source": [
    "import pandas as pd\n",
    "import numpy as np\n",
    "import matplotlib.pyplot as plt\n",
    "import tensorflow as tf\n",
    "from tensorflow import keras\n",
    "\n",
    "from sklearn.datasets import fetch_california_housing\n",
    "from sklearn.model_selection import train_test_split\n",
    "from sklearn.preprocessing import StandardScaler"
   ]
  },
  {
   "cell_type": "code",
   "execution_count": 2,
   "metadata": {},
   "outputs": [
    {
     "name": "stdout",
     "output_type": "stream",
     "text": [
      "   MedInc  HouseAge  AveRooms  AveBedrms  Population  AveOccup  Latitude  \\\n",
      "0  8.3252      41.0  6.984127   1.023810       322.0  2.555556     37.88   \n",
      "1  8.3014      21.0  6.238137   0.971880      2401.0  2.109842     37.86   \n",
      "2  7.2574      52.0  8.288136   1.073446       496.0  2.802260     37.85   \n",
      "3  5.6431      52.0  5.817352   1.073059       558.0  2.547945     37.85   \n",
      "4  3.8462      52.0  6.281853   1.081081       565.0  2.181467     37.85   \n",
      "\n",
      "   Longitude  \n",
      "0    -122.23  \n",
      "1    -122.22  \n",
      "2    -122.24  \n",
      "3    -122.25  \n",
      "4    -122.25  \n",
      "============Splitting data to Training and Testing Sets===============\n",
      "(15480, 8)\n",
      "(5160, 8)\n",
      "(15480,)\n",
      "(5160,)\n",
      "============Splitting data to Training and Validation Sets===============\n",
      "(11610, 8)\n",
      "(3870, 8)\n",
      "(11610,)\n",
      "(3870,)\n",
      "=============scale the Data using the Standard Scaler================\n"
     ]
    }
   ],
   "source": [
    "## fetch the data.\n",
    "housing = fetch_california_housing()\n",
    "housing.keys()\n",
    "# housing.data\n",
    "# housing.target\n",
    "# housing.target_names\n",
    "# housing.feature_names\n",
    "# housing.DESCR\n",
    "# columns = [\"MedInc\",\"HouseAge\",\"AveRooms\",\"AveBedrms\",\"Population\",\"AveOccup\",\"Latitude\",\"Longitude\"]\n",
    "data = pd.DataFrame(housing.data, columns = housing.feature_names)\n",
    "print(data.head())\n",
    "\n",
    "## split the data to trainig and testing and validation sets.\n",
    "print(\"============Splitting data to Training and Testing Sets===============\")\n",
    "X_train_full, X_test, y_train_full, y_test = train_test_split(housing.data, housing.target)\n",
    "print(X_train_full.shape)\n",
    "print(X_test.shape)\n",
    "print(y_train_full.shape)\n",
    "print(y_test.shape)\n",
    "print(\"============Splitting data to Training and Validation Sets===============\")\n",
    "X_train, X_valid, y_train, y_valid = train_test_split(X_train_full, y_train_full)\n",
    "print(X_train.shape)\n",
    "print(X_valid.shape)\n",
    "print(y_train.shape)\n",
    "print(y_valid.shape)\n",
    "print(\"=============scale the Data using the Standard Scaler================\")\n",
    "## initialize the scaler\n",
    "scaler = StandardScaler()\n",
    "X_train = scaler.fit_transform(X_train)\n",
    "X_valid = scaler.transform(X_valid)\n",
    "X_test = scaler.transform(X_test)"
   ]
  },
  {
   "cell_type": "code",
   "execution_count": 7,
   "metadata": {},
   "outputs": [
    {
     "name": "stdout",
     "output_type": "stream",
     "text": [
      "Model: \"model_1\"\n",
      "__________________________________________________________________________________________________\n",
      " Layer (type)                   Output Shape         Param #     Connected to                     \n",
      "==================================================================================================\n",
      " deep_input (InputLayer)        [(None, 6)]          0           []                               \n",
      "                                                                                                  \n",
      " dense_2 (Dense)                (None, 30)           210         ['deep_input[0][0]']             \n",
      "                                                                                                  \n",
      " wide_input (InputLayer)        [(None, 5)]          0           []                               \n",
      "                                                                                                  \n",
      " dense_3 (Dense)                (None, 30)           930         ['dense_2[0][0]']                \n",
      "                                                                                                  \n",
      " concatenate_1 (Concatenate)    (None, 35)           0           ['wide_input[0][0]',             \n",
      "                                                                  'dense_3[0][0]']                \n",
      "                                                                                                  \n",
      " output (Dense)                 (None, 1)            36          ['concatenate_1[0][0]']          \n",
      "                                                                                                  \n",
      "==================================================================================================\n",
      "Total params: 1,176\n",
      "Trainable params: 1,176\n",
      "Non-trainable params: 0\n",
      "__________________________________________________________________________________________________\n"
     ]
    }
   ],
   "source": [
    "## five features through the wide path.\n",
    "input_A = keras.layers.Input(shape = [5], name = \"wide_input\")\n",
    "## six features through the deep path\n",
    "input_B = keras.layers.Input(shape = [6], name = \"deep_input\")\n",
    "## define the hidden layer.\n",
    "hidden1 = keras.layers.Dense(30, activation = \"relu\")(input_B)\n",
    "## define the second hidden layer.\n",
    "hidden2 = keras.layers.Dense(30, activation = \"relu\")(hidden1)\n",
    "## concat the input A and hidden 2\n",
    "concat = keras.layers.concatenate([input_A, hidden2])\n",
    "## output layer.\n",
    "output = keras.layers.Dense(1, name = \"output\")(concat)\n",
    "## model defining.\n",
    "model = keras.Model(inputs = [input_A, input_B], outputs = [output])\n",
    "model.summary()"
   ]
  },
  {
   "cell_type": "code",
   "execution_count": 19,
   "metadata": {},
   "outputs": [
    {
     "name": "stdout",
     "output_type": "stream",
     "text": [
      "(11610, 8)\n",
      "A contains 5 features (11610, 5)\n",
      "B contains 6 features (11610, 6)\n",
      "(3870, 8)\n",
      "A contains 5 features (3870, 5)\n",
      "B contains 6 features (3870, 6)\n",
      "(5160, 8)\n",
      "A contains 5 features (5160, 5)\n",
      "B contains 6 features (5160, 6)\n",
      "A contains 5 features (3, 5)\n",
      "B contains 6 features (3, 6)\n"
     ]
    }
   ],
   "source": [
    "## now when doing the fit method.\n",
    "## we will have to give X_train_A , X_train_B and X_valid_A, X_valid_B for the training and validation sets.\n",
    "## so defining those parameters.\n",
    "X_train_A, X_train_B = X_train[:,:5], X_train[:,2:]\n",
    "print(X_train.shape)\n",
    "print(\"A contains 5 features\",X_train_A.shape)\n",
    "print(\"B contains 6 features\",X_train_B.shape)\n",
    "X_valid_A, X_valid_B = X_valid[:,:5], X_valid[:,2:]\n",
    "print(X_valid.shape)\n",
    "print(\"A contains 5 features\",X_valid_A.shape)\n",
    "print(\"B contains 6 features\",X_valid_B.shape)\n",
    "X_test_A, X_test_B = X_test[:,:5], X_test[:,2:]\n",
    "print(X_test.shape)\n",
    "print(\"A contains 5 features\",X_test_A.shape)\n",
    "print(\"B contains 6 features\",X_test_B.shape)\n",
    "X_new_A, X_new_B = X_test_A[:3], X_test_B[:3]\n",
    "print(\"A contains 5 features\",X_new_A.shape)\n",
    "print(\"B contains 6 features\",X_new_B.shape)"
   ]
  },
  {
   "cell_type": "code",
   "execution_count": 24,
   "metadata": {},
   "outputs": [],
   "source": [
    "## compile the model\n",
    "model.compile(\n",
    "                loss = \"mse\",\n",
    "                optimizer = keras.optimizers.SGD(lr = 1e-3),\n",
    "                metrics = \"accuracy\"\n",
    ")"
   ]
  },
  {
   "cell_type": "code",
   "execution_count": 25,
   "metadata": {},
   "outputs": [
    {
     "name": "stdout",
     "output_type": "stream",
     "text": [
      "Epoch 1/30\n",
      "363/363 [==============================] - 1s 2ms/step - loss: 0.4462 - accuracy: 0.0031 - val_loss: 0.4322 - val_accuracy: 0.0023\n",
      "Epoch 2/30\n",
      "363/363 [==============================] - 1s 2ms/step - loss: 0.4444 - accuracy: 0.0031 - val_loss: 0.4317 - val_accuracy: 0.0023\n",
      "Epoch 3/30\n",
      "363/363 [==============================] - 1s 2ms/step - loss: 0.4431 - accuracy: 0.0031 - val_loss: 0.4294 - val_accuracy: 0.0023\n",
      "Epoch 4/30\n",
      "363/363 [==============================] - 1s 2ms/step - loss: 0.4420 - accuracy: 0.0031 - val_loss: 0.4282 - val_accuracy: 0.0023\n",
      "Epoch 5/30\n",
      "363/363 [==============================] - 1s 2ms/step - loss: 0.4404 - accuracy: 0.0031 - val_loss: 0.4284 - val_accuracy: 0.0023\n",
      "Epoch 6/30\n",
      "363/363 [==============================] - 1s 2ms/step - loss: 0.4390 - accuracy: 0.0031 - val_loss: 0.4265 - val_accuracy: 0.0023\n",
      "Epoch 7/30\n",
      "363/363 [==============================] - 1s 2ms/step - loss: 0.4376 - accuracy: 0.0031 - val_loss: 0.4253 - val_accuracy: 0.0023\n",
      "Epoch 8/30\n",
      "363/363 [==============================] - 1s 2ms/step - loss: 0.4364 - accuracy: 0.0031 - val_loss: 0.4243 - val_accuracy: 0.0023\n",
      "Epoch 9/30\n",
      "363/363 [==============================] - 1s 2ms/step - loss: 0.4354 - accuracy: 0.0031 - val_loss: 0.4229 - val_accuracy: 0.0023\n",
      "Epoch 10/30\n",
      "363/363 [==============================] - 1s 2ms/step - loss: 0.4341 - accuracy: 0.0031 - val_loss: 0.4219 - val_accuracy: 0.0023\n",
      "Epoch 11/30\n",
      "363/363 [==============================] - 1s 2ms/step - loss: 0.4326 - accuracy: 0.0031 - val_loss: 0.4210 - val_accuracy: 0.0023\n",
      "Epoch 12/30\n",
      "363/363 [==============================] - 1s 2ms/step - loss: 0.4314 - accuracy: 0.0031 - val_loss: 0.4196 - val_accuracy: 0.0023\n",
      "Epoch 13/30\n",
      "363/363 [==============================] - 1s 2ms/step - loss: 0.4300 - accuracy: 0.0031 - val_loss: 0.4187 - val_accuracy: 0.0023\n",
      "Epoch 14/30\n",
      "363/363 [==============================] - 1s 2ms/step - loss: 0.4287 - accuracy: 0.0031 - val_loss: 0.4186 - val_accuracy: 0.0023\n",
      "Epoch 15/30\n",
      "363/363 [==============================] - 1s 2ms/step - loss: 0.4279 - accuracy: 0.0031 - val_loss: 0.4168 - val_accuracy: 0.0023\n",
      "Epoch 16/30\n",
      "363/363 [==============================] - 1s 2ms/step - loss: 0.4266 - accuracy: 0.0031 - val_loss: 0.4159 - val_accuracy: 0.0023\n",
      "Epoch 17/30\n",
      "363/363 [==============================] - 1s 2ms/step - loss: 0.4250 - accuracy: 0.0031 - val_loss: 0.4151 - val_accuracy: 0.0023\n",
      "Epoch 18/30\n",
      "363/363 [==============================] - 1s 2ms/step - loss: 0.4243 - accuracy: 0.0031 - val_loss: 0.4140 - val_accuracy: 0.0023\n",
      "Epoch 19/30\n",
      "363/363 [==============================] - 1s 2ms/step - loss: 0.4231 - accuracy: 0.0031 - val_loss: 0.4123 - val_accuracy: 0.0023\n",
      "Epoch 20/30\n",
      "363/363 [==============================] - 1s 2ms/step - loss: 0.4221 - accuracy: 0.0031 - val_loss: 0.4116 - val_accuracy: 0.0023\n",
      "Epoch 21/30\n",
      "363/363 [==============================] - 1s 2ms/step - loss: 0.4207 - accuracy: 0.0031 - val_loss: 0.4107 - val_accuracy: 0.0023\n",
      "Epoch 22/30\n",
      "363/363 [==============================] - 1s 2ms/step - loss: 0.4198 - accuracy: 0.0031 - val_loss: 0.4095 - val_accuracy: 0.0023\n",
      "Epoch 23/30\n",
      "363/363 [==============================] - 1s 2ms/step - loss: 0.4185 - accuracy: 0.0031 - val_loss: 0.4099 - val_accuracy: 0.0023\n",
      "Epoch 24/30\n",
      "363/363 [==============================] - 1s 2ms/step - loss: 0.4174 - accuracy: 0.0031 - val_loss: 0.4077 - val_accuracy: 0.0023\n",
      "Epoch 25/30\n",
      "363/363 [==============================] - 1s 2ms/step - loss: 0.4163 - accuracy: 0.0031 - val_loss: 0.4071 - val_accuracy: 0.0023\n",
      "Epoch 26/30\n",
      "363/363 [==============================] - 1s 2ms/step - loss: 0.4153 - accuracy: 0.0031 - val_loss: 0.4063 - val_accuracy: 0.0023\n",
      "Epoch 27/30\n",
      "363/363 [==============================] - 1s 2ms/step - loss: 0.4145 - accuracy: 0.0031 - val_loss: 0.4053 - val_accuracy: 0.0023\n",
      "Epoch 28/30\n",
      "363/363 [==============================] - 1s 2ms/step - loss: 0.4135 - accuracy: 0.0031 - val_loss: 0.4044 - val_accuracy: 0.0023\n",
      "Epoch 29/30\n",
      "363/363 [==============================] - 1s 2ms/step - loss: 0.4120 - accuracy: 0.0031 - val_loss: 0.4047 - val_accuracy: 0.0023\n",
      "Epoch 30/30\n",
      "363/363 [==============================] - 1s 2ms/step - loss: 0.4114 - accuracy: 0.0031 - val_loss: 0.4024 - val_accuracy: 0.0023\n"
     ]
    }
   ],
   "source": [
    "## train the model\n",
    "history = model.fit(\n",
    "                    (X_train_A, X_train_B),\n",
    "                    y_train,\n",
    "                    epochs = 30,\n",
    "                    validation_data=((X_valid_A,X_valid_B), y_valid)\n",
    ")"
   ]
  },
  {
   "cell_type": "code",
   "execution_count": 26,
   "metadata": {},
   "outputs": [
    {
     "name": "stdout",
     "output_type": "stream",
     "text": [
      "162/162 [==============================] - 0s 2ms/step - loss: 0.4222 - accuracy: 0.0031\n"
     ]
    }
   ],
   "source": [
    "## test the model\n",
    "mse_test = model.evaluate((X_test_A, X_test_B), y_test)"
   ]
  },
  {
   "cell_type": "code",
   "execution_count": 27,
   "metadata": {},
   "outputs": [
    {
     "name": "stdout",
     "output_type": "stream",
     "text": [
      "1/1 [==============================] - 0s 78ms/step\n"
     ]
    }
   ],
   "source": [
    "## predict the model\n",
    "y_pred = model.predict((X_new_A, X_new_B))"
   ]
  },
  {
   "cell_type": "code",
   "execution_count": 28,
   "metadata": {},
   "outputs": [
    {
     "data": {
      "image/png": "[encoded data removed]",
      "text/plain": [
       "<Figure size 720x360 with 1 Axes>"
      ]
     },
     "metadata": {
      "needs_background": "light"
     },
     "output_type": "display_data"
    }
   ],
   "source": [
    "## plot the curve of the scores from the training.\n",
    "## plotting the scores\n",
    "pd.DataFrame(history.history).plot(figsize = (10,5))\n",
    "plt.grid(True)\n",
    "plt.gca().set_ylim(0,1)\n",
    "plt.show()"
   ]
  },
  {
   "cell_type": "markdown",
   "metadata": {},
   "source": [
    "This is not a good Model that we can rely upon."
   ]
  },
  {
   "cell_type": "markdown",
   "metadata": {},
   "source": [
    "#### ADDING AN AUXILIARY OUTPUT"
   ]
  },
  {
   "cell_type": "code",
   "execution_count": 29,
   "metadata": {},
   "outputs": [
    {
     "name": "stdout",
     "output_type": "stream",
     "text": [
      "Model: \"model_2\"\n",
      "__________________________________________________________________________________________________\n",
      " Layer (type)                   Output Shape         Param #     Connected to                     \n",
      "==================================================================================================\n",
      " deep_input (InputLayer)        [(None, 6)]          0           []                               \n",
      "                                                                                                  \n",
      " dense_4 (Dense)                (None, 30)           210         ['deep_input[0][0]']             \n",
      "                                                                                                  \n",
      " wide_input (InputLayer)        [(None, 5)]          0           []                               \n",
      "                                                                                                  \n",
      " dense_5 (Dense)                (None, 30)           930         ['dense_4[0][0]']                \n",
      "                                                                                                  \n",
      " concatenate_2 (Concatenate)    (None, 35)           0           ['wide_input[0][0]',             \n",
      "                                                                  'dense_5[0][0]']                \n",
      "                                                                                                  \n",
      " main_output (Dense)            (None, 1)            36          ['concatenate_2[0][0]']          \n",
      "                                                                                                  \n",
      " aux_output (Dense)             (None, 1)            31          ['dense_5[0][0]']                \n",
      "                                                                                                  \n",
      "==================================================================================================\n",
      "Total params: 1,207\n",
      "Trainable params: 1,207\n",
      "Non-trainable params: 0\n",
      "__________________________________________________________________________________________________\n"
     ]
    }
   ],
   "source": [
    "## five features through the wide path.\n",
    "input_A = keras.layers.Input(shape = [5], name = \"wide_input\")\n",
    "## six features through the deep path\n",
    "input_B = keras.layers.Input(shape = [6], name = \"deep_input\")\n",
    "## define the hidden layer.\n",
    "hidden1 = keras.layers.Dense(30, activation = \"relu\")(input_B)\n",
    "## define the second hidden layer.\n",
    "hidden2 = keras.layers.Dense(30, activation = \"relu\")(hidden1)\n",
    "## concat the input A and hidden 2\n",
    "concat = keras.layers.concatenate([input_A, hidden2])\n",
    "## output layer.\n",
    "output = keras.layers.Dense(1, name = \"main_output\")(concat)\n",
    "## adding the auxiliary output.\n",
    "aux_output = keras.layers.Dense(1, name = \"aux_output\")(hidden2)\n",
    "## model defining.\n",
    "model = keras.Model(inputs = [input_A, input_B], outputs = [output, aux_output])\n",
    "model.summary()"
   ]
  },
  {
   "cell_type": "code",
   "execution_count": 31,
   "metadata": {},
   "outputs": [],
   "source": [
    "## compile the model\n",
    "## we have to give the loss function to each outputs.\n",
    "model.compile(\n",
    "                loss = [\"mse\",\"mse\"],\n",
    "                optimizer = \"sgd\",\n",
    "                metrics = \"accuracy\",\n",
    "                loss_weights = [0.9, 1.0]\n",
    ")"
   ]
  },
  {
   "cell_type": "code",
   "execution_count": 32,
   "metadata": {},
   "outputs": [
    {
     "name": "stdout",
     "output_type": "stream",
     "text": [
      "Epoch 1/20\n",
      "363/363 [==============================] - 2s 3ms/step - loss: 1.8314 - main_output_loss: 0.8393 - aux_output_loss: 1.0760 - main_output_accuracy: 0.0030 - aux_output_accuracy: 0.0031 - val_loss: 1.2080 - val_main_output_loss: 0.5101 - val_aux_output_loss: 0.7489 - val_main_output_accuracy: 0.0023 - val_aux_output_accuracy: 0.0026\n",
      "Epoch 2/20\n",
      "363/363 [==============================] - 1s 2ms/step - loss: 1.1953 - main_output_loss: 0.4890 - aux_output_loss: 0.7553 - main_output_accuracy: 0.0030 - aux_output_accuracy: 0.0031 - val_loss: 1.0536 - val_main_output_loss: 0.4684 - val_aux_output_loss: 0.6320 - val_main_output_accuracy: 0.0023 - val_aux_output_accuracy: 0.0026\n",
      "Epoch 3/20\n",
      "363/363 [==============================] - 1s 2ms/step - loss: 1.0215 - main_output_loss: 0.4655 - aux_output_loss: 0.6025 - main_output_accuracy: 0.0030 - aux_output_accuracy: 0.0031 - val_loss: 0.9395 - val_main_output_loss: 0.4305 - val_aux_output_loss: 0.5521 - val_main_output_accuracy: 0.0023 - val_aux_output_accuracy: 0.0026\n",
      "Epoch 4/20\n",
      "363/363 [==============================] - 1s 2ms/step - loss: 0.9473 - main_output_loss: 0.4368 - aux_output_loss: 0.5542 - main_output_accuracy: 0.0030 - aux_output_accuracy: 0.0031 - val_loss: 0.8911 - val_main_output_loss: 0.4144 - val_aux_output_loss: 0.5181 - val_main_output_accuracy: 0.0023 - val_aux_output_accuracy: 0.0026\n",
      "Epoch 5/20\n",
      "363/363 [==============================] - 1s 2ms/step - loss: 0.9104 - main_output_loss: 0.4299 - aux_output_loss: 0.5235 - main_output_accuracy: 0.0030 - aux_output_accuracy: 0.0031 - val_loss: 0.8464 - val_main_output_loss: 0.3988 - val_aux_output_loss: 0.4875 - val_main_output_accuracy: 0.0026 - val_aux_output_accuracy: 0.0026\n",
      "Epoch 6/20\n",
      "363/363 [==============================] - 1s 2ms/step - loss: 0.8612 - main_output_loss: 0.4129 - aux_output_loss: 0.4895 - main_output_accuracy: 0.0030 - aux_output_accuracy: 0.0031 - val_loss: 0.8103 - val_main_output_loss: 0.3835 - val_aux_output_loss: 0.4652 - val_main_output_accuracy: 0.0026 - val_aux_output_accuracy: 0.0026\n",
      "Epoch 7/20\n",
      "363/363 [==============================] - 1s 2ms/step - loss: 0.8119 - main_output_loss: 0.3849 - aux_output_loss: 0.4655 - main_output_accuracy: 0.0030 - aux_output_accuracy: 0.0031 - val_loss: 0.7859 - val_main_output_loss: 0.3788 - val_aux_output_loss: 0.4450 - val_main_output_accuracy: 0.0026 - val_aux_output_accuracy: 0.0026\n",
      "Epoch 8/20\n",
      "363/363 [==============================] - 1s 2ms/step - loss: 0.8276 - main_output_loss: 0.4085 - aux_output_loss: 0.4599 - main_output_accuracy: 0.0030 - aux_output_accuracy: 0.0031 - val_loss: 0.7740 - val_main_output_loss: 0.3681 - val_aux_output_loss: 0.4427 - val_main_output_accuracy: 0.0026 - val_aux_output_accuracy: 0.0026\n",
      "Epoch 9/20\n",
      "363/363 [==============================] - 1s 2ms/step - loss: 0.8131 - main_output_loss: 0.3940 - aux_output_loss: 0.4585 - main_output_accuracy: 0.0030 - aux_output_accuracy: 0.0031 - val_loss: 0.7779 - val_main_output_loss: 0.3661 - val_aux_output_loss: 0.4484 - val_main_output_accuracy: 0.0026 - val_aux_output_accuracy: 0.0026\n",
      "Epoch 10/20\n",
      "363/363 [==============================] - 1s 2ms/step - loss: 0.7756 - main_output_loss: 0.3748 - aux_output_loss: 0.4383 - main_output_accuracy: 0.0030 - aux_output_accuracy: 0.0031 - val_loss: 0.8264 - val_main_output_loss: 0.3883 - val_aux_output_loss: 0.4769 - val_main_output_accuracy: 0.0026 - val_aux_output_accuracy: 0.0026\n",
      "Epoch 11/20\n",
      "363/363 [==============================] - 1s 2ms/step - loss: 0.7497 - main_output_loss: 0.3596 - aux_output_loss: 0.4261 - main_output_accuracy: 0.0030 - aux_output_accuracy: 0.0031 - val_loss: 0.7510 - val_main_output_loss: 0.3570 - val_aux_output_loss: 0.4297 - val_main_output_accuracy: 0.0026 - val_aux_output_accuracy: 0.0026\n",
      "Epoch 12/20\n",
      "363/363 [==============================] - 1s 2ms/step - loss: 0.7345 - main_output_loss: 0.3521 - aux_output_loss: 0.4176 - main_output_accuracy: 0.0030 - aux_output_accuracy: 0.0031 - val_loss: 0.7408 - val_main_output_loss: 0.3520 - val_aux_output_loss: 0.4240 - val_main_output_accuracy: 0.0026 - val_aux_output_accuracy: 0.0026\n",
      "Epoch 13/20\n",
      "363/363 [==============================] - 1s 2ms/step - loss: 0.7234 - main_output_loss: 0.3474 - aux_output_loss: 0.4107 - main_output_accuracy: 0.0030 - aux_output_accuracy: 0.0031 - val_loss: 0.7854 - val_main_output_loss: 0.3656 - val_aux_output_loss: 0.4563 - val_main_output_accuracy: 0.0026 - val_aux_output_accuracy: 0.0026\n",
      "Epoch 14/20\n",
      "363/363 [==============================] - 1s 2ms/step - loss: 0.7172 - main_output_loss: 0.3464 - aux_output_loss: 0.4055 - main_output_accuracy: 0.0030 - aux_output_accuracy: 0.0031 - val_loss: 0.7900 - val_main_output_loss: 0.3719 - val_aux_output_loss: 0.4553 - val_main_output_accuracy: 0.0026 - val_aux_output_accuracy: 0.0026\n",
      "Epoch 15/20\n",
      "363/363 [==============================] - 1s 2ms/step - loss: 0.7149 - main_output_loss: 0.3441 - aux_output_loss: 0.4052 - main_output_accuracy: 0.0030 - aux_output_accuracy: 0.0031 - val_loss: 0.7352 - val_main_output_loss: 0.3493 - val_aux_output_loss: 0.4209 - val_main_output_accuracy: 0.0026 - val_aux_output_accuracy: 0.0026\n",
      "Epoch 16/20\n",
      "363/363 [==============================] - 1s 2ms/step - loss: 0.7099 - main_output_loss: 0.3470 - aux_output_loss: 0.3976 - main_output_accuracy: 0.0030 - aux_output_accuracy: 0.0031 - val_loss: 0.7150 - val_main_output_loss: 0.3450 - val_aux_output_loss: 0.4045 - val_main_output_accuracy: 0.0026 - val_aux_output_accuracy: 0.0026\n",
      "Epoch 17/20\n",
      "363/363 [==============================] - 1s 2ms/step - loss: 0.7025 - main_output_loss: 0.3397 - aux_output_loss: 0.3968 - main_output_accuracy: 0.0030 - aux_output_accuracy: 0.0031 - val_loss: 0.7117 - val_main_output_loss: 0.3407 - val_aux_output_loss: 0.4051 - val_main_output_accuracy: 0.0026 - val_aux_output_accuracy: 0.0026\n",
      "Epoch 18/20\n",
      "363/363 [==============================] - 1s 2ms/step - loss: 0.6911 - main_output_loss: 0.3340 - aux_output_loss: 0.3905 - main_output_accuracy: 0.0030 - aux_output_accuracy: 0.0031 - val_loss: 0.7217 - val_main_output_loss: 0.3428 - val_aux_output_loss: 0.4132 - val_main_output_accuracy: 0.0026 - val_aux_output_accuracy: 0.0026\n",
      "Epoch 19/20\n",
      "363/363 [==============================] - 1s 2ms/step - loss: 0.6938 - main_output_loss: 0.3346 - aux_output_loss: 0.3927 - main_output_accuracy: 0.0030 - aux_output_accuracy: 0.0031 - val_loss: 0.7172 - val_main_output_loss: 0.3414 - val_aux_output_loss: 0.4099 - val_main_output_accuracy: 0.0026 - val_aux_output_accuracy: 0.0026\n",
      "Epoch 20/20\n",
      "363/363 [==============================] - 1s 2ms/step - loss: 0.6840 - main_output_loss: 0.3317 - aux_output_loss: 0.3855 - main_output_accuracy: 0.0030 - aux_output_accuracy: 0.0031 - val_loss: 0.7062 - val_main_output_loss: 0.3393 - val_aux_output_loss: 0.4008 - val_main_output_accuracy: 0.0026 - val_aux_output_accuracy: 0.0026\n"
     ]
    }
   ],
   "source": [
    "## train the model\n",
    "## train the model\n",
    "history = model.fit(\n",
    "                    (X_train_A, X_train_B),\n",
    "                    [y_train,y_train],\n",
    "                    epochs = 20,\n",
    "                    validation_data=([X_valid_A,X_valid_B], [y_valid, y_valid])\n",
    ")"
   ]
  },
  {
   "cell_type": "code",
   "execution_count": 45,
   "metadata": {},
   "outputs": [
    {
     "name": "stdout",
     "output_type": "stream",
     "text": [
      "162/162 [==============================] - 0s 2ms/step - loss: 0.7349 - main_output_loss: 0.3568 - aux_output_loss: 0.4138 - main_output_accuracy: 0.0031 - aux_output_accuracy: 0.0031\n"
     ]
    },
    {
     "ename": "ValueError",
     "evalue": "too many values to unpack (expected 3)",
     "output_type": "error",
     "traceback": [
      "\u001b[1;31m---------------------------------------------------------------------------\u001b[0m",
      "\u001b[1;31mValueError\u001b[0m                                Traceback (most recent call last)",
      "\u001b[1;32m<ipython-input-45-c315148764ea>\u001b[0m in \u001b[0;36m<module>\u001b[1;34m\u001b[0m\n\u001b[0;32m      1\u001b[0m \u001b[1;31m## evaluate the model\u001b[0m\u001b[1;33m\u001b[0m\u001b[1;33m\u001b[0m\u001b[1;33m\u001b[0m\u001b[0m\n\u001b[0;32m      2\u001b[0m \u001b[1;31m## when evaluating the model, keras will return the total loss as well as the individual loss.\u001b[0m\u001b[1;33m\u001b[0m\u001b[1;33m\u001b[0m\u001b[1;33m\u001b[0m\u001b[0m\n\u001b[1;32m----> 3\u001b[1;33m \u001b[0mtotal_loss\u001b[0m\u001b[1;33m,\u001b[0m\u001b[0mmain_loss\u001b[0m\u001b[1;33m,\u001b[0m \u001b[0maux_loss\u001b[0m \u001b[1;33m=\u001b[0m \u001b[0mmodel\u001b[0m\u001b[1;33m.\u001b[0m\u001b[0mevaluate\u001b[0m\u001b[1;33m(\u001b[0m\u001b[1;33m[\u001b[0m\u001b[0mX_test_A\u001b[0m\u001b[1;33m,\u001b[0m \u001b[0mX_test_B\u001b[0m\u001b[1;33m]\u001b[0m\u001b[1;33m,\u001b[0m \u001b[1;33m[\u001b[0m\u001b[0my_test\u001b[0m\u001b[1;33m,\u001b[0m \u001b[0my_test\u001b[0m\u001b[1;33m]\u001b[0m\u001b[1;33m)\u001b[0m\u001b[1;33m\u001b[0m\u001b[1;33m\u001b[0m\u001b[0m\n\u001b[0m",
      "\u001b[1;31mValueError\u001b[0m: too many values to unpack (expected 3)"
     ]
    }
   ],
   "source": [
    "## evaluate the model\n",
    "## when evaluating the model, keras will return the total loss as well as the individual loss.\n",
    "total_loss,main_loss, aux_loss = model.evaluate([X_test_A, X_test_B], [y_test, y_test])"
   ]
  },
  {
   "cell_type": "code",
   "execution_count": 38,
   "metadata": {},
   "outputs": [
    {
     "name": "stdout",
     "output_type": "stream",
     "text": [
      "1/1 [==============================] - 0s 71ms/step\n"
     ]
    }
   ],
   "source": [
    "y_pred_main, y_pred_aux = model.predict([X_new_A, X_new_B])"
   ]
  },
  {
   "cell_type": "code",
   "execution_count": 46,
   "metadata": {},
   "outputs": [
    {
     "data": {
      "image/png": "[encoded data removed]",
      "text/plain": [
       "<Figure size 720x360 with 1 Axes>"
      ]
     },
     "metadata": {
      "needs_background": "light"
     },
     "output_type": "display_data"
    }
   ],
   "source": [
    "## plotting the scores\n",
    "pd.DataFrame(history.history).plot(figsize = (10,5))\n",
    "plt.grid(True)\n",
    "plt.gca().set_ylim(0,1)\n",
    "plt.show()"
   ]
  },
  {
   "cell_type": "code",
   "execution_count": null,
   "metadata": {},
   "outputs": [],
   "source": []
  }
 ],
 "metadata": {
  "kernelspec": {
   "display_name": "Python 3",
   "language": "python",
   "name": "python3"
  },
  "language_info": {
   "codemirror_mode": {
    "name": "ipython",
    "version": 3
   },
   "file_extension": ".py",
   "mimetype": "text/x-python",
   "name": "python",
   "nbconvert_exporter": "python",
   "pygments_lexer": "ipython3",
   "version": "3.8.3"
  }
 },
 "nbformat": 4,
 "nbformat_minor": 4
}
