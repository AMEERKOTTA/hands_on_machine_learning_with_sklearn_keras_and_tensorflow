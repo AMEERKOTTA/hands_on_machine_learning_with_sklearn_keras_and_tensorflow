{
  "nbformat": 4,
  "nbformat_minor": 0,
  "metadata": {
    "colab": {
      "provenance": [],
      "authorship_tag": "ABX9TyPp96lkxhYsCCO3JWt/sM9m",
      "include_colab_link": true
    },
    "kernelspec": {
      "name": "python3",
      "display_name": "Python 3"
    },
    "language_info": {
      "name": "python"
    }
  },
  "cells": [
    {
      "cell_type": "markdown",
      "metadata": {
        "id": "view-in-github",
        "colab_type": "text"
      },
      "source": [
        "<a href=\"https://colab.research.google.com/github/AMEERKOTTA/hands_on_machine_learning_with_sklearn_keras_and_tensorflow/blob/main/Intro%20to%20Tensorflow%20for%20Deep%20Learning/09-NLP%3A%20Recurrent%20Neural%20Networks/01_using_lstm_model_using_subwords.ipynb\" target=\"_parent\"><img src=\"https://colab.research.google.com/assets/colab-badge.svg\" alt=\"Open In Colab\"/></a>"
      ]
    },
    {
      "cell_type": "markdown",
      "source": [
        "# **LSTM MODEL USING SUBWORDS**"
      ],
      "metadata": {
        "id": "JNrhiuO8Szc1"
      }
    },
    {
      "cell_type": "markdown",
      "source": [
        "IMPORT LIBRARIES"
      ],
      "metadata": {
        "id": "7FKc9NJJS_T0"
      }
    },
    {
      "cell_type": "code",
      "source": [
        "import tensorflow as tf\n",
        "\n",
        "from tensorflow.keras.preprocessing.sequence import pad_sequences"
      ],
      "metadata": {
        "id": "vqavD7YuS68Z"
      },
      "execution_count": 1,
      "outputs": []
    },
    {
      "cell_type": "markdown",
      "source": [
        "GET THE DATASET"
      ],
      "metadata": {
        "id": "veoUe6X_TFbI"
      }
    },
    {
      "cell_type": "code",
      "source": [
        "!wget --no-check-certificate \\\n",
        "    https://drive.google.com/uc?id=13ySLC_ue6Umt9RJYSeM2t-V0kCv-4C-P -O /tmp/sentiment.csv"
      ],
      "metadata": {
        "colab": {
          "base_uri": "https://localhost:8080/"
        },
        "id": "eKZKi686TEGk",
        "outputId": "94f7db9c-2daa-4864-96a4-bc41ae584208"
      },
      "execution_count": 2,
      "outputs": [
        {
          "output_type": "stream",
          "name": "stdout",
          "text": [
            "--2023-03-09 07:36:38--  https://drive.google.com/uc?id=13ySLC_ue6Umt9RJYSeM2t-V0kCv-4C-P\n",
            "Resolving drive.google.com (drive.google.com)... 74.125.137.139, 74.125.137.100, 74.125.137.113, ...\n",
            "Connecting to drive.google.com (drive.google.com)|74.125.137.139|:443... connected.\n",
            "HTTP request sent, awaiting response... 303 See Other\n",
            "Location: https://doc-08-ak-docs.googleusercontent.com/docs/securesc/ha0ro937gcuc7l7deffksulhg5h7mbp1/36421q3toq5vcg50l9ki2scc3a7htaoi/1678347375000/11118900490791463723/*/13ySLC_ue6Umt9RJYSeM2t-V0kCv-4C-P?uuid=1e940e2e-cf54-4015-8824-ee3a0d732960 [following]\n",
            "Warning: wildcards not supported in HTTP.\n",
            "--2023-03-09 07:36:39--  https://doc-08-ak-docs.googleusercontent.com/docs/securesc/ha0ro937gcuc7l7deffksulhg5h7mbp1/36421q3toq5vcg50l9ki2scc3a7htaoi/1678347375000/11118900490791463723/*/13ySLC_ue6Umt9RJYSeM2t-V0kCv-4C-P?uuid=1e940e2e-cf54-4015-8824-ee3a0d732960\n",
            "Resolving doc-08-ak-docs.googleusercontent.com (doc-08-ak-docs.googleusercontent.com)... 142.250.141.132, 2607:f8b0:4023:c0b::84\n",
            "Connecting to doc-08-ak-docs.googleusercontent.com (doc-08-ak-docs.googleusercontent.com)|142.250.141.132|:443... connected.\n",
            "HTTP request sent, awaiting response... 200 OK\n",
            "Length: 127831 (125K) [text/csv]\n",
            "Saving to: ‘/tmp/sentiment.csv’\n",
            "\n",
            "/tmp/sentiment.csv  100%[===================>] 124.83K  --.-KB/s    in 0.002s  \n",
            "\n",
            "2023-03-09 07:36:39 (57.9 MB/s) - ‘/tmp/sentiment.csv’ saved [127831/127831]\n",
            "\n"
          ]
        }
      ]
    },
    {
      "cell_type": "markdown",
      "source": [
        "LOAD THE DATASET INTO PANDAS DATAFRAME"
      ],
      "metadata": {
        "id": "y0bhwr2xTRb7"
      }
    },
    {
      "cell_type": "code",
      "source": [
        "import pandas as pd\n",
        "\n",
        "dataset = pd.read_csv('/tmp/sentiment.csv')\n",
        "\n",
        "# Extract out sentences and labels\n",
        "sentences = dataset['text'].tolist()\n",
        "labels = dataset['sentiment'].tolist()"
      ],
      "metadata": {
        "id": "ZnzhfL13TOmU"
      },
      "execution_count": 3,
      "outputs": []
    },
    {
      "cell_type": "code",
      "source": [
        "# Print some example sentences and labels\n",
        "for x in range(10):\n",
        "  print(sentences[x])\n",
        "  print(labels[x])\n",
        "  print(\"\\n\")"
      ],
      "metadata": {
        "colab": {
          "base_uri": "https://localhost:8080/"
        },
        "id": "dW-a3GCiTW0s",
        "outputId": "b5d13f4f-dbf9-4cdb-e896-353cf3b6662f"
      },
      "execution_count": 5,
      "outputs": [
        {
          "output_type": "stream",
          "name": "stdout",
          "text": [
            "So there is no way for me to plug it in here in the US unless I go by a converter.\n",
            "0\n",
            "\n",
            "\n",
            "Good case Excellent value.\n",
            "1\n",
            "\n",
            "\n",
            "Great for the jawbone.\n",
            "1\n",
            "\n",
            "\n",
            "Tied to charger for conversations lasting more than 45 minutes.MAJOR PROBLEMS!!\n",
            "0\n",
            "\n",
            "\n",
            "The mic is great.\n",
            "1\n",
            "\n",
            "\n",
            "I have to jiggle the plug to get it to line up right to get decent volume.\n",
            "0\n",
            "\n",
            "\n",
            "If you have several dozen or several hundred contacts then imagine the fun of sending each of them one by one.\n",
            "0\n",
            "\n",
            "\n",
            "If you are Razr owner...you must have this!\n",
            "1\n",
            "\n",
            "\n",
            "Needless to say I wasted my money.\n",
            "0\n",
            "\n",
            "\n",
            "What a waste of money and time!.\n",
            "0\n",
            "\n",
            "\n"
          ]
        }
      ]
    },
    {
      "cell_type": "markdown",
      "source": [
        "CREATE A SUBWORDS DATASET"
      ],
      "metadata": {
        "id": "9ZNCFmPETi9c"
      }
    },
    {
      "cell_type": "code",
      "source": [
        "import tensorflow_datasets as tfds\n",
        "\n",
        "vocab_size = 1000\n",
        "tokenizer = tfds.deprecated.text.SubwordTextEncoder.build_from_corpus(sentences, vocab_size, max_subword_length=5)\n",
        "\n",
        "# How big is the vocab size?\n",
        "print(\"Vocab size is :---\", tokenizer.vocab_size)"
      ],
      "metadata": {
        "colab": {
          "base_uri": "https://localhost:8080/"
        },
        "id": "2jAH43gFTZlq",
        "outputId": "c35aa689-b766-404b-fdec-635873979832"
      },
      "execution_count": 7,
      "outputs": [
        {
          "output_type": "stream",
          "name": "stdout",
          "text": [
            "Vocab size is :--- 999\n"
          ]
        }
      ]
    },
    {
      "cell_type": "code",
      "source": [
        "# Check that the tokenizer works appropriately\n",
        "num = 5\n",
        "print(sentences[num])\n",
        "encoded = tokenizer.encode(sentences[num])\n",
        "print(encoded)"
      ],
      "metadata": {
        "colab": {
          "base_uri": "https://localhost:8080/"
        },
        "id": "1GM9P0kPTq-R",
        "outputId": "56466a21-e0f5-48f2-dd47-6edeaf14b5fb"
      },
      "execution_count": 8,
      "outputs": [
        {
          "output_type": "stream",
          "name": "stdout",
          "text": [
            "I have to jiggle the plug to get it to line up right to get decent volume.\n",
            "[4, 31, 6, 849, 162, 450, 12, 1, 600, 438, 775, 6, 175, 14, 6, 55, 213, 159, 474, 775, 6, 175, 614, 380, 295, 148, 72, 789]\n"
          ]
        }
      ]
    },
    {
      "cell_type": "code",
      "source": [
        "# Separately print out each subword, decoded\n",
        "for i in encoded:\n",
        "  print(tokenizer.decode([i]))"
      ],
      "metadata": {
        "colab": {
          "base_uri": "https://localhost:8080/"
        },
        "id": "_eTRsAzlTz7u",
        "outputId": "94d3195e-5984-478c-dca2-05f94fe0ced3"
      },
      "execution_count": 9,
      "outputs": [
        {
          "output_type": "stream",
          "name": "stdout",
          "text": [
            "I \n",
            "have \n",
            "to \n",
            "j\n",
            "ig\n",
            "gl\n",
            "e \n",
            "the \n",
            "pl\n",
            "ug\n",
            " \n",
            "to \n",
            "get \n",
            "it \n",
            "to \n",
            "li\n",
            "ne \n",
            "up \n",
            "right\n",
            " \n",
            "to \n",
            "get \n",
            "dec\n",
            "ent \n",
            "vo\n",
            "lu\n",
            "me\n",
            ".\n"
          ]
        }
      ]
    },
    {
      "cell_type": "markdown",
      "source": [
        "REPLACE THE SENTENCE DATA WITH ENCODED SUBWORDS"
      ],
      "metadata": {
        "id": "XLzLB_TrUCph"
      }
    },
    {
      "cell_type": "code",
      "source": [
        "for i, sentence in enumerate(sentences):\n",
        "  sentences[i] = tokenizer.encode(sentence)"
      ],
      "metadata": {
        "id": "eTHYvsWqT9lv"
      },
      "execution_count": 10,
      "outputs": []
    },
    {
      "cell_type": "code",
      "source": [
        "# Check the sentences are appropriately replaced\n",
        "print(sentences[5])"
      ],
      "metadata": {
        "colab": {
          "base_uri": "https://localhost:8080/"
        },
        "id": "2wSp0z40UMq1",
        "outputId": "8bdbd5cd-9175-44c9-e726-4d1c9ab5a5f8"
      },
      "execution_count": 11,
      "outputs": [
        {
          "output_type": "stream",
          "name": "stdout",
          "text": [
            "[4, 31, 6, 849, 162, 450, 12, 1, 600, 438, 775, 6, 175, 14, 6, 55, 213, 159, 474, 775, 6, 175, 614, 380, 295, 148, 72, 789]\n"
          ]
        }
      ]
    },
    {
      "cell_type": "markdown",
      "source": [
        "FINAL PREPROCESSING"
      ],
      "metadata": {
        "id": "LLR4gSoEUUui"
      }
    },
    {
      "cell_type": "code",
      "source": [
        "import numpy as np\n",
        "\n",
        "max_length = 50\n",
        "trunc_type='post'\n",
        "padding_type='post'\n",
        "\n",
        "# Pad all sequences\n",
        "sequences_padded = pad_sequences(sentences, maxlen=max_length, \n",
        "                                 padding=padding_type, truncating=trunc_type)\n",
        "\n",
        "# Separate out the sentences and labels into training and test sets\n",
        "training_size = int(len(sentences) * 0.8)\n",
        "\n",
        "training_sequences = sequences_padded[0:training_size]\n",
        "testing_sequences = sequences_padded[training_size:]\n",
        "training_labels = labels[0:training_size]\n",
        "testing_labels = labels[training_size:]\n",
        "\n",
        "# Make labels into numpy arrays for use with the network later\n",
        "training_labels_final = np.array(training_labels)\n",
        "testing_labels_final = np.array(testing_labels)"
      ],
      "metadata": {
        "id": "1Mc222ImUQPz"
      },
      "execution_count": 12,
      "outputs": []
    },
    {
      "cell_type": "markdown",
      "source": [
        "MODEL USING AN EMBEDDING LAYER"
      ],
      "metadata": {
        "id": "V4STyGXDUezo"
      }
    },
    {
      "cell_type": "code",
      "source": [
        "embedding_dim = 16\n",
        "\n",
        "model = tf.keras.Sequential([\n",
        "    tf.keras.layers.Embedding(vocab_size, embedding_dim, input_length=max_length),\n",
        "    tf.keras.layers.GlobalAveragePooling1D(), \n",
        "    tf.keras.layers.Dense(6, activation='relu'),\n",
        "    tf.keras.layers.Dense(1, activation='sigmoid')\n",
        "])\n",
        "\n",
        "model.summary()"
      ],
      "metadata": {
        "colab": {
          "base_uri": "https://localhost:8080/"
        },
        "id": "cwh9xpyIUZ3i",
        "outputId": "c4816fcf-0f34-43eb-d1a1-20e0ad554da8"
      },
      "execution_count": 13,
      "outputs": [
        {
          "output_type": "stream",
          "name": "stdout",
          "text": [
            "Model: \"sequential\"\n",
            "_________________________________________________________________\n",
            " Layer (type)                Output Shape              Param #   \n",
            "=================================================================\n",
            " embedding (Embedding)       (None, 50, 16)            16000     \n",
            "                                                                 \n",
            " global_average_pooling1d (G  (None, 16)               0         \n",
            " lobalAveragePooling1D)                                          \n",
            "                                                                 \n",
            " dense (Dense)               (None, 6)                 102       \n",
            "                                                                 \n",
            " dense_1 (Dense)             (None, 1)                 7         \n",
            "                                                                 \n",
            "=================================================================\n",
            "Total params: 16,109\n",
            "Trainable params: 16,109\n",
            "Non-trainable params: 0\n",
            "_________________________________________________________________\n"
          ]
        }
      ]
    },
    {
      "cell_type": "markdown",
      "source": [
        "TRAIN THE MODEL"
      ],
      "metadata": {
        "id": "5QdWJwduUllh"
      }
    },
    {
      "cell_type": "code",
      "source": [
        "num_epochs = 30\n",
        "model.compile(loss='binary_crossentropy',optimizer='adam',metrics=['accuracy'])\n",
        "history = model.fit(training_sequences, training_labels_final, epochs=num_epochs, validation_data=(testing_sequences, testing_labels_final))"
      ],
      "metadata": {
        "colab": {
          "base_uri": "https://localhost:8080/"
        },
        "id": "9pJE9shoUh3B",
        "outputId": "e9c45b62-ab41-4eda-a447-53879730ff69"
      },
      "execution_count": 14,
      "outputs": [
        {
          "output_type": "stream",
          "name": "stdout",
          "text": [
            "Epoch 1/30\n",
            "50/50 [==============================] - 2s 7ms/step - loss: 0.6913 - accuracy: 0.5286 - val_loss: 0.6970 - val_accuracy: 0.4135\n",
            "Epoch 2/30\n",
            "50/50 [==============================] - 0s 3ms/step - loss: 0.6873 - accuracy: 0.5524 - val_loss: 0.6960 - val_accuracy: 0.4561\n",
            "Epoch 3/30\n",
            "50/50 [==============================] - 0s 3ms/step - loss: 0.6804 - accuracy: 0.5819 - val_loss: 0.6904 - val_accuracy: 0.4987\n",
            "Epoch 4/30\n",
            "50/50 [==============================] - 0s 3ms/step - loss: 0.6677 - accuracy: 0.6114 - val_loss: 0.6797 - val_accuracy: 0.5564\n",
            "Epoch 5/30\n",
            "50/50 [==============================] - 0s 3ms/step - loss: 0.6492 - accuracy: 0.6723 - val_loss: 0.6635 - val_accuracy: 0.6165\n",
            "Epoch 6/30\n",
            "50/50 [==============================] - 0s 3ms/step - loss: 0.6249 - accuracy: 0.7276 - val_loss: 0.6514 - val_accuracy: 0.5990\n",
            "Epoch 7/30\n",
            "50/50 [==============================] - 0s 3ms/step - loss: 0.5931 - accuracy: 0.7784 - val_loss: 0.6312 - val_accuracy: 0.6516\n",
            "Epoch 8/30\n",
            "50/50 [==============================] - 0s 3ms/step - loss: 0.5584 - accuracy: 0.8023 - val_loss: 0.5955 - val_accuracy: 0.7243\n",
            "Epoch 9/30\n",
            "50/50 [==============================] - 0s 3ms/step - loss: 0.5195 - accuracy: 0.8324 - val_loss: 0.5869 - val_accuracy: 0.6817\n",
            "Epoch 10/30\n",
            "50/50 [==============================] - 0s 4ms/step - loss: 0.4852 - accuracy: 0.8242 - val_loss: 0.5596 - val_accuracy: 0.7343\n",
            "Epoch 11/30\n",
            "50/50 [==============================] - 0s 4ms/step - loss: 0.4484 - accuracy: 0.8550 - val_loss: 0.5343 - val_accuracy: 0.7594\n",
            "Epoch 12/30\n",
            "50/50 [==============================] - 0s 3ms/step - loss: 0.4176 - accuracy: 0.8613 - val_loss: 0.5289 - val_accuracy: 0.7393\n",
            "Epoch 13/30\n",
            "50/50 [==============================] - 0s 3ms/step - loss: 0.3901 - accuracy: 0.8675 - val_loss: 0.5069 - val_accuracy: 0.7820\n",
            "Epoch 14/30\n",
            "50/50 [==============================] - 0s 3ms/step - loss: 0.3658 - accuracy: 0.8719 - val_loss: 0.5173 - val_accuracy: 0.7469\n",
            "Epoch 15/30\n",
            "50/50 [==============================] - 0s 3ms/step - loss: 0.3440 - accuracy: 0.8826 - val_loss: 0.5041 - val_accuracy: 0.7519\n",
            "Epoch 16/30\n",
            "50/50 [==============================] - 0s 3ms/step - loss: 0.3258 - accuracy: 0.8914 - val_loss: 0.5025 - val_accuracy: 0.7569\n",
            "Epoch 17/30\n",
            "50/50 [==============================] - 0s 3ms/step - loss: 0.3082 - accuracy: 0.8920 - val_loss: 0.5022 - val_accuracy: 0.7519\n",
            "Epoch 18/30\n",
            "50/50 [==============================] - 0s 3ms/step - loss: 0.2926 - accuracy: 0.8958 - val_loss: 0.5144 - val_accuracy: 0.7519\n",
            "Epoch 19/30\n",
            "50/50 [==============================] - 0s 3ms/step - loss: 0.2780 - accuracy: 0.9046 - val_loss: 0.4999 - val_accuracy: 0.7519\n",
            "Epoch 20/30\n",
            "50/50 [==============================] - 0s 3ms/step - loss: 0.2669 - accuracy: 0.9102 - val_loss: 0.5204 - val_accuracy: 0.7494\n",
            "Epoch 21/30\n",
            "50/50 [==============================] - 0s 3ms/step - loss: 0.2551 - accuracy: 0.9115 - val_loss: 0.5113 - val_accuracy: 0.7444\n",
            "Epoch 22/30\n",
            "50/50 [==============================] - 0s 3ms/step - loss: 0.2455 - accuracy: 0.9127 - val_loss: 0.5126 - val_accuracy: 0.7519\n",
            "Epoch 23/30\n",
            "50/50 [==============================] - 0s 3ms/step - loss: 0.2339 - accuracy: 0.9178 - val_loss: 0.5341 - val_accuracy: 0.7494\n",
            "Epoch 24/30\n",
            "50/50 [==============================] - 0s 3ms/step - loss: 0.2245 - accuracy: 0.9228 - val_loss: 0.5207 - val_accuracy: 0.7519\n",
            "Epoch 25/30\n",
            "50/50 [==============================] - 0s 3ms/step - loss: 0.2162 - accuracy: 0.9253 - val_loss: 0.5326 - val_accuracy: 0.7519\n",
            "Epoch 26/30\n",
            "50/50 [==============================] - 0s 3ms/step - loss: 0.2091 - accuracy: 0.9303 - val_loss: 0.5422 - val_accuracy: 0.7393\n",
            "Epoch 27/30\n",
            "50/50 [==============================] - 0s 3ms/step - loss: 0.2005 - accuracy: 0.9322 - val_loss: 0.5470 - val_accuracy: 0.7469\n",
            "Epoch 28/30\n",
            "50/50 [==============================] - 0s 3ms/step - loss: 0.1933 - accuracy: 0.9347 - val_loss: 0.5568 - val_accuracy: 0.7444\n",
            "Epoch 29/30\n",
            "50/50 [==============================] - 0s 3ms/step - loss: 0.1846 - accuracy: 0.9397 - val_loss: 0.5518 - val_accuracy: 0.7594\n",
            "Epoch 30/30\n",
            "50/50 [==============================] - 0s 3ms/step - loss: 0.1825 - accuracy: 0.9454 - val_loss: 0.5961 - val_accuracy: 0.7393\n"
          ]
        }
      ]
    },
    {
      "cell_type": "code",
      "source": [
        "import matplotlib.pyplot as plt\n",
        "\n",
        "\n",
        "def plot_graphs(history, string):\n",
        "  plt.plot(history.history[string])\n",
        "  plt.plot(history.history['val_'+string])\n",
        "  plt.xlabel(\"Epochs\")\n",
        "  plt.ylabel(string)\n",
        "  plt.legend([string, 'val_'+string])\n",
        "  plt.show()\n",
        "  \n",
        "plot_graphs(history, \"accuracy\")\n",
        "plot_graphs(history, \"loss\")"
      ],
      "metadata": {
        "colab": {
          "base_uri": "https://localhost:8080/",
          "height": 541
        },
        "id": "BcUI7E0AUn7M",
        "outputId": "c65691ce-966b-4abf-cf02-70b0c8bab686"
      },
      "execution_count": 15,
      "outputs": [
        {
          "output_type": "display_data",
          "data": {
            "text/plain": [
              "<Figure size 432x288 with 1 Axes>"
            ],
            "image/png": "[encoded data removed]"
          },
          "metadata": {
            "needs_background": "light"
          }
        },
        {
          "output_type": "display_data",
          "data": {
            "text/plain": [
              "<Figure size 432x288 with 1 Axes>"
            ],
            "image/png": "[encoded data removed]"
          },
          "metadata": {
            "needs_background": "light"
          }
        }
      ]
    },
    {
      "cell_type": "markdown",
      "source": [
        "DEFINE A FUNCTION TO PREDICT THE SENTIMENT REVIEWS\n",
        "\n",
        "We'll be creating models with some differences and will use each model to predict the sentiment of some new reviews.\n",
        "\n",
        "To save time, create a function that will take in a model and some new reviews, and print out the sentiment of each reviews.\n",
        "\n",
        "The higher the sentiment value is to 1, the more positive the review is."
      ],
      "metadata": {
        "id": "HAlW77vuU8lh"
      }
    },
    {
      "cell_type": "code",
      "source": [
        "# Define a function to take a series of reviews\n",
        "# and predict whether each one is a positive or negative review\n",
        "\n",
        "# max_length = 100 # previously defined\n",
        "\n",
        "def predict_review(model, new_sentences, maxlen=max_length, show_padded_sequence=True ):\n",
        "  # Keep the original sentences so that we can keep using them later\n",
        "  # Create an array to hold the encoded sequences\n",
        "  new_sequences = []\n",
        "\n",
        "  # Convert the new reviews to sequences\n",
        "  for i, frvw in enumerate(new_sentences):\n",
        "    new_sequences.append(tokenizer.encode(frvw))\n",
        "\n",
        "  trunc_type='post' \n",
        "  padding_type='post'\n",
        "\n",
        "  # Pad all sequences for the new reviews\n",
        "  new_reviews_padded = pad_sequences(new_sequences, maxlen=max_length, \n",
        "                                 padding=padding_type, truncating=trunc_type)             \n",
        "\n",
        "  classes = model.predict(new_reviews_padded)\n",
        "\n",
        "  # The closer the class is to 1, the more positive the review is\n",
        "  for x in range(len(new_sentences)):\n",
        "    \n",
        "    # We can see the padded sequence if desired\n",
        "    # Print the sequence\n",
        "    if (show_padded_sequence):\n",
        "      print(new_reviews_padded[x])\n",
        "    # Print the review as text\n",
        "    print(new_sentences[x])\n",
        "    # Print its predicted class\n",
        "    print(classes[x])\n",
        "    print(\"\\n\")"
      ],
      "metadata": {
        "id": "JT8iQPdvUtHP"
      },
      "execution_count": 16,
      "outputs": []
    },
    {
      "cell_type": "code",
      "source": [
        "# Use the model to predict some reviews   \n",
        "fake_reviews = [\"I love this phone\", \n",
        "                \"Everything was cold\",\n",
        "                \"Everything was hot exactly as I wanted\", \n",
        "                \"Everything was green\", \n",
        "                \"the host seated us immediately\",\n",
        "                \"they gave us free chocolate cake\", \n",
        "                \"we couldn't hear each other talk because of the shouting in the kitchen\"\n",
        "              ]\n",
        "\n",
        "predict_review(model, fake_reviews)"
      ],
      "metadata": {
        "colab": {
          "base_uri": "https://localhost:8080/"
        },
        "id": "G97YtXzoVuEl",
        "outputId": "d8045c93-231e-4aba-b336-c47af3b4a26c"
      },
      "execution_count": 17,
      "outputs": [
        {
          "output_type": "stream",
          "name": "stdout",
          "text": [
            "1/1 [==============================] - 0s 185ms/step\n",
            "[  4 281  16  25   0   0   0   0   0   0   0   0   0   0   0   0   0   0\n",
            "   0   0   0   0   0   0   0   0   0   0   0   0   0   0   0   0   0   0\n",
            "   0   0   0   0   0   0   0   0   0   0   0   0   0   0]\n",
            "I love this phone\n",
            "[0.9196361]\n",
            "\n",
            "\n",
            "[812 227 864 100 775   9 525 843   0   0   0   0   0   0   0   0   0   0\n",
            "   0   0   0   0   0   0   0   0   0   0   0   0   0   0   0   0   0   0\n",
            "   0   0   0   0   0   0   0   0   0   0   0   0   0   0]\n",
            "Everything was cold\n",
            "[0.15386628]\n",
            "\n",
            "\n",
            "[812 227 864 100 775   9 109   8 333 731  24  61   4 171  59  77   0   0\n",
            "   0   0   0   0   0   0   0   0   0   0   0   0   0   0   0   0   0   0\n",
            "   0   0   0   0   0   0   0   0   0   0   0   0   0   0]\n",
            "Everything was hot exactly as I wanted\n",
            "[0.39783558]\n",
            "\n",
            "\n",
            "[812 227 864 100 775   9 157 359 853   0   0   0   0   0   0   0   0   0\n",
            "   0   0   0   0   0   0   0   0   0   0   0   0   0   0   0   0   0   0\n",
            "   0   0   0   0   0   0   0   0   0   0   0   0   0   0]\n",
            "Everything was green\n",
            "[0.14216559]\n",
            "\n",
            "\n",
            "[  1 109 228 540 237 635 241 423 340  89 298   0   0   0   0   0   0   0\n",
            "   0   0   0   0   0   0   0   0   0   0   0   0   0   0   0   0   0   0\n",
            "   0   0   0   0   0   0   0   0   0   0   0   0   0   0]\n",
            "the host seated us immediately\n",
            "[0.5121036]\n",
            "\n",
            "\n",
            "[154 242  47 635 341  12 569 547 147 319 775 125  85   0   0   0   0   0\n",
            "   0   0   0   0   0   0   0   0   0   0   0   0   0   0   0   0   0   0\n",
            "   0   0   0   0   0   0   0   0   0   0   0   0   0   0]\n",
            "they gave us free chocolate cake\n",
            "[0.78241044]\n",
            "\n",
            "\n",
            "[158 190 853 782   8 607 775 210 232 146 775 470  67 305 101  15   1 328\n",
            " 296  26  19   1 661 641 195   0   0   0   0   0   0   0   0   0   0   0\n",
            "   0   0   0   0   0   0   0   0   0   0   0   0   0   0]\n",
            "we couldn't hear each other talk because of the shouting in the kitchen\n",
            "[0.01556643]\n",
            "\n",
            "\n"
          ]
        }
      ]
    },
    {
      "cell_type": "markdown",
      "source": [
        "DEFINE A FUNCTION TO TRAIN AND SHOW THE RESULTS OF DIFFERENT MODELS WITH DIFFERENT LAYERS\n",
        "\n",
        "In the rest of this colab, we will define models, and then see the results.\n",
        "\n",
        "Define a function that will take the model, compile it, train it, graph the accuracy and loss, and then predict some results."
      ],
      "metadata": {
        "id": "u8aWlMa9WDVD"
      }
    },
    {
      "cell_type": "code",
      "source": [
        "def fit_model_now (model, sentences) :\n",
        "  model.compile(loss='binary_crossentropy',optimizer='adam',metrics=['accuracy'])\n",
        "  model.summary()\n",
        "  history = model.fit(training_sequences, training_labels_final, epochs=num_epochs, \n",
        "                      validation_data=(testing_sequences, testing_labels_final))\n",
        "  return history\n",
        "\n",
        "def plot_results (history):\n",
        "  plot_graphs(history, \"accuracy\")\n",
        "  plot_graphs(history, \"loss\")\n",
        "\n",
        "def fit_model_and_show_results (model, sentences):\n",
        "  history = fit_model_now(model, sentences)\n",
        "  plot_results(history)\n",
        "  predict_review(model, sentences)"
      ],
      "metadata": {
        "id": "cm5iFRaYV1bn"
      },
      "execution_count": 18,
      "outputs": []
    },
    {
      "cell_type": "markdown",
      "source": [
        "BIDIRECTIONAL LSTM MODEL\n",
        "\n",
        "Create a new model that uses a bidirectional LSTM.\n",
        "\n",
        "Then use the function we have already defined to compile the model, train it, graph the accuracy and loss, then predict some results."
      ],
      "metadata": {
        "id": "kuVD3glGWnTN"
      }
    },
    {
      "cell_type": "code",
      "source": [
        "# Define the model\n",
        "model_bidi_lstm = tf.keras.Sequential([\n",
        "    tf.keras.layers.Embedding(vocab_size, embedding_dim, input_length=max_length),\n",
        "    tf.keras.layers.Bidirectional(tf.keras.layers.LSTM(embedding_dim)), \n",
        "    tf.keras.layers.Dense(6, activation='relu'), \n",
        "    tf.keras.layers.Dense(1, activation='sigmoid')\n",
        "])\n",
        "\n",
        "# Compile and train the model and then show the predictions for our extra sentences\n",
        "fit_model_and_show_results(model_bidi_lstm, fake_reviews)"
      ],
      "metadata": {
        "colab": {
          "base_uri": "https://localhost:8080/",
          "height": 1000
        },
        "id": "obJGH77NWkgZ",
        "outputId": "1256e8ee-ac4c-4b71-b5fa-c72d5ee37dd7"
      },
      "execution_count": 19,
      "outputs": [
        {
          "output_type": "stream",
          "name": "stdout",
          "text": [
            "Model: \"sequential_1\"\n",
            "_________________________________________________________________\n",
            " Layer (type)                Output Shape              Param #   \n",
            "=================================================================\n",
            " embedding_1 (Embedding)     (None, 50, 16)            16000     \n",
            "                                                                 \n",
            " bidirectional (Bidirectiona  (None, 32)               4224      \n",
            " l)                                                              \n",
            "                                                                 \n",
            " dense_2 (Dense)             (None, 6)                 198       \n",
            "                                                                 \n",
            " dense_3 (Dense)             (None, 1)                 7         \n",
            "                                                                 \n",
            "=================================================================\n",
            "Total params: 20,429\n",
            "Trainable params: 20,429\n",
            "Non-trainable params: 0\n",
            "_________________________________________________________________\n",
            "Epoch 1/30\n",
            "50/50 [==============================] - 8s 52ms/step - loss: 0.6894 - accuracy: 0.5229 - val_loss: 0.6933 - val_accuracy: 0.4336\n",
            "Epoch 2/30\n",
            "50/50 [==============================] - 2s 33ms/step - loss: 0.6329 - accuracy: 0.6522 - val_loss: 0.6219 - val_accuracy: 0.6291\n",
            "Epoch 3/30\n",
            "50/50 [==============================] - 3s 62ms/step - loss: 0.4392 - accuracy: 0.8236 - val_loss: 0.5102 - val_accuracy: 0.7669\n",
            "Epoch 4/30\n",
            "50/50 [==============================] - 3s 63ms/step - loss: 0.3223 - accuracy: 0.8726 - val_loss: 0.5450 - val_accuracy: 0.7544\n",
            "Epoch 5/30\n",
            "50/50 [==============================] - 3s 54ms/step - loss: 0.2561 - accuracy: 0.9065 - val_loss: 0.6955 - val_accuracy: 0.7268\n",
            "Epoch 6/30\n",
            "50/50 [==============================] - 2s 33ms/step - loss: 0.2163 - accuracy: 0.9240 - val_loss: 0.6909 - val_accuracy: 0.7544\n",
            "Epoch 7/30\n",
            "50/50 [==============================] - 2s 33ms/step - loss: 0.1717 - accuracy: 0.9448 - val_loss: 0.7082 - val_accuracy: 0.7444\n",
            "Epoch 8/30\n",
            "50/50 [==============================] - 2s 34ms/step - loss: 0.1327 - accuracy: 0.9586 - val_loss: 0.8047 - val_accuracy: 0.7519\n",
            "Epoch 9/30\n",
            "50/50 [==============================] - 2s 34ms/step - loss: 0.1187 - accuracy: 0.9648 - val_loss: 0.8817 - val_accuracy: 0.7393\n",
            "Epoch 10/30\n",
            "50/50 [==============================] - 2s 33ms/step - loss: 0.1161 - accuracy: 0.9736 - val_loss: 0.8023 - val_accuracy: 0.7368\n",
            "Epoch 11/30\n",
            "50/50 [==============================] - 2s 47ms/step - loss: 0.1062 - accuracy: 0.9699 - val_loss: 0.9140 - val_accuracy: 0.7619\n",
            "Epoch 12/30\n",
            "50/50 [==============================] - 2s 47ms/step - loss: 0.0795 - accuracy: 0.9805 - val_loss: 0.9554 - val_accuracy: 0.7494\n",
            "Epoch 13/30\n",
            "50/50 [==============================] - 2s 34ms/step - loss: 0.0672 - accuracy: 0.9862 - val_loss: 0.8230 - val_accuracy: 0.7544\n",
            "Epoch 14/30\n",
            "50/50 [==============================] - 2s 34ms/step - loss: 0.1548 - accuracy: 0.9523 - val_loss: 0.8357 - val_accuracy: 0.7619\n",
            "Epoch 15/30\n",
            "50/50 [==============================] - 2s 34ms/step - loss: 0.0761 - accuracy: 0.9818 - val_loss: 1.0768 - val_accuracy: 0.7368\n",
            "Epoch 16/30\n",
            "50/50 [==============================] - 2s 35ms/step - loss: 0.0558 - accuracy: 0.9906 - val_loss: 1.0045 - val_accuracy: 0.7569\n",
            "Epoch 17/30\n",
            "50/50 [==============================] - 2s 36ms/step - loss: 0.0440 - accuracy: 0.9931 - val_loss: 1.1048 - val_accuracy: 0.7469\n",
            "Epoch 18/30\n",
            "50/50 [==============================] - 3s 57ms/step - loss: 0.0368 - accuracy: 0.9950 - val_loss: 1.1241 - val_accuracy: 0.7519\n",
            "Epoch 19/30\n",
            "50/50 [==============================] - 2s 39ms/step - loss: 0.0388 - accuracy: 0.9944 - val_loss: 1.1741 - val_accuracy: 0.7444\n",
            "Epoch 20/30\n",
            "50/50 [==============================] - 2s 35ms/step - loss: 0.0552 - accuracy: 0.9874 - val_loss: 1.2704 - val_accuracy: 0.7343\n",
            "Epoch 21/30\n",
            "50/50 [==============================] - 2s 33ms/step - loss: 0.0472 - accuracy: 0.9912 - val_loss: 1.1646 - val_accuracy: 0.7469\n",
            "Epoch 22/30\n",
            "50/50 [==============================] - 2s 35ms/step - loss: 0.0324 - accuracy: 0.9956 - val_loss: 1.1897 - val_accuracy: 0.7519\n",
            "Epoch 23/30\n",
            "50/50 [==============================] - 2s 34ms/step - loss: 0.0291 - accuracy: 0.9962 - val_loss: 1.2259 - val_accuracy: 0.7494\n",
            "Epoch 24/30\n",
            "50/50 [==============================] - 2s 40ms/step - loss: 0.0279 - accuracy: 0.9962 - val_loss: 1.2443 - val_accuracy: 0.7469\n",
            "Epoch 25/30\n",
            "50/50 [==============================] - 3s 55ms/step - loss: 0.0268 - accuracy: 0.9962 - val_loss: 1.2685 - val_accuracy: 0.7469\n",
            "Epoch 26/30\n",
            "50/50 [==============================] - 2s 35ms/step - loss: 0.0259 - accuracy: 0.9962 - val_loss: 1.2665 - val_accuracy: 0.7544\n",
            "Epoch 27/30\n",
            "50/50 [==============================] - 2s 34ms/step - loss: 0.0252 - accuracy: 0.9962 - val_loss: 1.2931 - val_accuracy: 0.7494\n",
            "Epoch 28/30\n",
            "50/50 [==============================] - 2s 35ms/step - loss: 0.0244 - accuracy: 0.9962 - val_loss: 1.3173 - val_accuracy: 0.7469\n",
            "Epoch 29/30\n",
            "50/50 [==============================] - 2s 34ms/step - loss: 0.0238 - accuracy: 0.9962 - val_loss: 1.3099 - val_accuracy: 0.7519\n",
            "Epoch 30/30\n",
            "50/50 [==============================] - 2s 34ms/step - loss: 0.0228 - accuracy: 0.9962 - val_loss: 1.3545 - val_accuracy: 0.7519\n"
          ]
        },
        {
          "output_type": "display_data",
          "data": {
            "text/plain": [
              "<Figure size 432x288 with 1 Axes>"
            ],
            "image/png": "[encoded data removed]"
          },
          "metadata": {
            "needs_background": "light"
          }
        },
        {
          "output_type": "display_data",
          "data": {
            "text/plain": [
              "<Figure size 432x288 with 1 Axes>"
            ],
            "image/png": "[encoded data removed]"
          },
          "metadata": {
            "needs_background": "light"
          }
        },
        {
          "output_type": "stream",
          "name": "stdout",
          "text": [
            "1/1 [==============================] - 1s 1s/step\n",
            "[  4 281  16  25   0   0   0   0   0   0   0   0   0   0   0   0   0   0\n",
            "   0   0   0   0   0   0   0   0   0   0   0   0   0   0   0   0   0   0\n",
            "   0   0   0   0   0   0   0   0   0   0   0   0   0   0]\n",
            "I love this phone\n",
            "[0.9985705]\n",
            "\n",
            "\n",
            "[812 227 864 100 775   9 525 843   0   0   0   0   0   0   0   0   0   0\n",
            "   0   0   0   0   0   0   0   0   0   0   0   0   0   0   0   0   0   0\n",
            "   0   0   0   0   0   0   0   0   0   0   0   0   0   0]\n",
            "Everything was cold\n",
            "[0.00862261]\n",
            "\n",
            "\n",
            "[812 227 864 100 775   9 109   8 333 731  24  61   4 171  59  77   0   0\n",
            "   0   0   0   0   0   0   0   0   0   0   0   0   0   0   0   0   0   0\n",
            "   0   0   0   0   0   0   0   0   0   0   0   0   0   0]\n",
            "Everything was hot exactly as I wanted\n",
            "[0.95618224]\n",
            "\n",
            "\n",
            "[812 227 864 100 775   9 157 359 853   0   0   0   0   0   0   0   0   0\n",
            "   0   0   0   0   0   0   0   0   0   0   0   0   0   0   0   0   0   0\n",
            "   0   0   0   0   0   0   0   0   0   0   0   0   0   0]\n",
            "Everything was green\n",
            "[0.01226897]\n",
            "\n",
            "\n",
            "[  1 109 228 540 237 635 241 423 340  89 298   0   0   0   0   0   0   0\n",
            "   0   0   0   0   0   0   0   0   0   0   0   0   0   0   0   0   0   0\n",
            "   0   0   0   0   0   0   0   0   0   0   0   0   0   0]\n",
            "the host seated us immediately\n",
            "[0.9960313]\n",
            "\n",
            "\n",
            "[154 242  47 635 341  12 569 547 147 319 775 125  85   0   0   0   0   0\n",
            "   0   0   0   0   0   0   0   0   0   0   0   0   0   0   0   0   0   0\n",
            "   0   0   0   0   0   0   0   0   0   0   0   0   0   0]\n",
            "they gave us free chocolate cake\n",
            "[0.78376615]\n",
            "\n",
            "\n",
            "[158 190 853 782   8 607 775 210 232 146 775 470  67 305 101  15   1 328\n",
            " 296  26  19   1 661 641 195   0   0   0   0   0   0   0   0   0   0   0\n",
            "   0   0   0   0   0   0   0   0   0   0   0   0   0   0]\n",
            "we couldn't hear each other talk because of the shouting in the kitchen\n",
            "[0.00432087]\n",
            "\n",
            "\n"
          ]
        }
      ]
    },
    {
      "cell_type": "markdown",
      "source": [
        "MULTIPLE BIDIRECTIONAL LAYER MODEL AND ITS PREDICTIONS\n",
        "\n",
        "Now let's see if we get any improvements from adding another Bidirectional LSTM layer to the model.\n",
        "\n",
        "Notice that the first Bidirectionl LSTM layer returns a sequence."
      ],
      "metadata": {
        "id": "g6F7uGbwXWiM"
      }
    },
    {
      "cell_type": "code",
      "source": [
        "model_multiple_bidi_lstm = tf.keras.Sequential([\n",
        "    tf.keras.layers.Embedding(vocab_size, embedding_dim, input_length=max_length),\n",
        "    tf.keras.layers.Bidirectional(tf.keras.layers.LSTM(embedding_dim, \n",
        "                                                       return_sequences=True)), \n",
        "    tf.keras.layers.Bidirectional(tf.keras.layers.LSTM(embedding_dim)),\n",
        "    tf.keras.layers.Dense(6, activation='relu'),\n",
        "    tf.keras.layers.Dense(1, activation='sigmoid')\n",
        "])\n",
        "\n",
        "fit_model_and_show_results(model_multiple_bidi_lstm, fake_reviews)"
      ],
      "metadata": {
        "colab": {
          "base_uri": "https://localhost:8080/",
          "height": 1000
        },
        "id": "QZu6owVZW5Yp",
        "outputId": "8b870201-d2b7-4e19-a087-f08b2aaaf586"
      },
      "execution_count": 20,
      "outputs": [
        {
          "output_type": "stream",
          "name": "stdout",
          "text": [
            "Model: \"sequential_2\"\n",
            "_________________________________________________________________\n",
            " Layer (type)                Output Shape              Param #   \n",
            "=================================================================\n",
            " embedding_2 (Embedding)     (None, 50, 16)            16000     \n",
            "                                                                 \n",
            " bidirectional_1 (Bidirectio  (None, 50, 32)           4224      \n",
            " nal)                                                            \n",
            "                                                                 \n",
            " bidirectional_2 (Bidirectio  (None, 32)               6272      \n",
            " nal)                                                            \n",
            "                                                                 \n",
            " dense_4 (Dense)             (None, 6)                 198       \n",
            "                                                                 \n",
            " dense_5 (Dense)             (None, 1)                 7         \n",
            "                                                                 \n",
            "=================================================================\n",
            "Total params: 26,701\n",
            "Trainable params: 26,701\n",
            "Non-trainable params: 0\n",
            "_________________________________________________________________\n",
            "Epoch 1/30\n",
            "50/50 [==============================] - 14s 122ms/step - loss: 0.6916 - accuracy: 0.5286 - val_loss: 0.6939 - val_accuracy: 0.4286\n",
            "Epoch 2/30\n",
            "50/50 [==============================] - 3s 66ms/step - loss: 0.5918 - accuracy: 0.6861 - val_loss: 0.5901 - val_accuracy: 0.7168\n",
            "Epoch 3/30\n",
            "50/50 [==============================] - 4s 74ms/step - loss: 0.3805 - accuracy: 0.8424 - val_loss: 0.4998 - val_accuracy: 0.7669\n",
            "Epoch 4/30\n",
            "50/50 [==============================] - 4s 89ms/step - loss: 0.3108 - accuracy: 0.8751 - val_loss: 0.5539 - val_accuracy: 0.7719\n",
            "Epoch 5/30\n",
            "50/50 [==============================] - 3s 66ms/step - loss: 0.2441 - accuracy: 0.9196 - val_loss: 0.6179 - val_accuracy: 0.7744\n",
            "Epoch 6/30\n",
            "50/50 [==============================] - 3s 69ms/step - loss: 0.2009 - accuracy: 0.9366 - val_loss: 0.7049 - val_accuracy: 0.7594\n",
            "Epoch 7/30\n",
            "50/50 [==============================] - 5s 91ms/step - loss: 0.1688 - accuracy: 0.9479 - val_loss: 0.8783 - val_accuracy: 0.7268\n",
            "Epoch 8/30\n",
            "50/50 [==============================] - 3s 67ms/step - loss: 0.1539 - accuracy: 0.9510 - val_loss: 0.7635 - val_accuracy: 0.7393\n",
            "Epoch 9/30\n",
            "50/50 [==============================] - 3s 68ms/step - loss: 0.1476 - accuracy: 0.9510 - val_loss: 0.8447 - val_accuracy: 0.7118\n",
            "Epoch 10/30\n",
            "50/50 [==============================] - 4s 90ms/step - loss: 0.1369 - accuracy: 0.9567 - val_loss: 0.8824 - val_accuracy: 0.7494\n",
            "Epoch 11/30\n",
            "50/50 [==============================] - 3s 69ms/step - loss: 0.1072 - accuracy: 0.9724 - val_loss: 0.8864 - val_accuracy: 0.7519\n",
            "Epoch 12/30\n",
            "50/50 [==============================] - 3s 67ms/step - loss: 0.0787 - accuracy: 0.9818 - val_loss: 1.0431 - val_accuracy: 0.7268\n",
            "Epoch 13/30\n",
            "50/50 [==============================] - 3s 66ms/step - loss: 0.0684 - accuracy: 0.9849 - val_loss: 1.0629 - val_accuracy: 0.7243\n",
            "Epoch 14/30\n",
            "50/50 [==============================] - 5s 92ms/step - loss: 0.0931 - accuracy: 0.9718 - val_loss: 1.0660 - val_accuracy: 0.7268\n",
            "Epoch 15/30\n",
            "50/50 [==============================] - 3s 66ms/step - loss: 0.0842 - accuracy: 0.9774 - val_loss: 1.0474 - val_accuracy: 0.7393\n",
            "Epoch 16/30\n",
            "50/50 [==============================] - 3s 68ms/step - loss: 0.0657 - accuracy: 0.9843 - val_loss: 1.1120 - val_accuracy: 0.7293\n",
            "Epoch 17/30\n",
            "50/50 [==============================] - 5s 92ms/step - loss: 0.0583 - accuracy: 0.9849 - val_loss: 1.1295 - val_accuracy: 0.7218\n",
            "Epoch 18/30\n",
            "50/50 [==============================] - 4s 70ms/step - loss: 0.0944 - accuracy: 0.9730 - val_loss: 0.9197 - val_accuracy: 0.7343\n",
            "Epoch 19/30\n",
            "50/50 [==============================] - 3s 67ms/step - loss: 0.0848 - accuracy: 0.9755 - val_loss: 1.1862 - val_accuracy: 0.7068\n",
            "Epoch 20/30\n",
            "50/50 [==============================] - 4s 84ms/step - loss: 0.0584 - accuracy: 0.9862 - val_loss: 1.0137 - val_accuracy: 0.7293\n",
            "Epoch 21/30\n",
            "50/50 [==============================] - 4s 78ms/step - loss: 0.0471 - accuracy: 0.9900 - val_loss: 1.0520 - val_accuracy: 0.7419\n",
            "Epoch 22/30\n",
            "50/50 [==============================] - 3s 68ms/step - loss: 0.0401 - accuracy: 0.9925 - val_loss: 1.2672 - val_accuracy: 0.7243\n",
            "Epoch 23/30\n",
            "50/50 [==============================] - 3s 68ms/step - loss: 0.0422 - accuracy: 0.9906 - val_loss: 1.0717 - val_accuracy: 0.7393\n",
            "Epoch 24/30\n",
            "50/50 [==============================] - 5s 92ms/step - loss: 0.0394 - accuracy: 0.9912 - val_loss: 1.1847 - val_accuracy: 0.7318\n",
            "Epoch 25/30\n",
            "50/50 [==============================] - 3s 67ms/step - loss: 0.0301 - accuracy: 0.9950 - val_loss: 1.3521 - val_accuracy: 0.7143\n",
            "Epoch 26/30\n",
            "50/50 [==============================] - 4s 70ms/step - loss: 0.0267 - accuracy: 0.9956 - val_loss: 1.3814 - val_accuracy: 0.7143\n",
            "Epoch 27/30\n",
            "50/50 [==============================] - 5s 92ms/step - loss: 0.0250 - accuracy: 0.9956 - val_loss: 1.3210 - val_accuracy: 0.7268\n",
            "Epoch 28/30\n",
            "50/50 [==============================] - 3s 67ms/step - loss: 0.0246 - accuracy: 0.9962 - val_loss: 1.3396 - val_accuracy: 0.7243\n",
            "Epoch 29/30\n",
            "50/50 [==============================] - 3s 68ms/step - loss: 0.0237 - accuracy: 0.9962 - val_loss: 1.3878 - val_accuracy: 0.7218\n",
            "Epoch 30/30\n",
            "50/50 [==============================] - 4s 74ms/step - loss: 0.0232 - accuracy: 0.9962 - val_loss: 1.3931 - val_accuracy: 0.7293\n"
          ]
        },
        {
          "output_type": "display_data",
          "data": {
            "text/plain": [
              "<Figure size 432x288 with 1 Axes>"
            ],
            "image/png": "[encoded data removed]"
          },
          "metadata": {
            "needs_background": "light"
          }
        },
        {
          "output_type": "display_data",
          "data": {
            "text/plain": [
              "<Figure size 432x288 with 1 Axes>"
            ],
            "image/png": "[encoded data removed]"
          },
          "metadata": {
            "needs_background": "light"
          }
        },
        {
          "output_type": "stream",
          "name": "stdout",
          "text": [
            "1/1 [==============================] - 2s 2s/step\n",
            "[  4 281  16  25   0   0   0   0   0   0   0   0   0   0   0   0   0   0\n",
            "   0   0   0   0   0   0   0   0   0   0   0   0   0   0   0   0   0   0\n",
            "   0   0   0   0   0   0   0   0   0   0   0   0   0   0]\n",
            "I love this phone\n",
            "[0.9979291]\n",
            "\n",
            "\n",
            "[812 227 864 100 775   9 525 843   0   0   0   0   0   0   0   0   0   0\n",
            "   0   0   0   0   0   0   0   0   0   0   0   0   0   0   0   0   0   0\n",
            "   0   0   0   0   0   0   0   0   0   0   0   0   0   0]\n",
            "Everything was cold\n",
            "[0.00590393]\n",
            "\n",
            "\n",
            "[812 227 864 100 775   9 109   8 333 731  24  61   4 171  59  77   0   0\n",
            "   0   0   0   0   0   0   0   0   0   0   0   0   0   0   0   0   0   0\n",
            "   0   0   0   0   0   0   0   0   0   0   0   0   0   0]\n",
            "Everything was hot exactly as I wanted\n",
            "[0.98479307]\n",
            "\n",
            "\n",
            "[812 227 864 100 775   9 157 359 853   0   0   0   0   0   0   0   0   0\n",
            "   0   0   0   0   0   0   0   0   0   0   0   0   0   0   0   0   0   0\n",
            "   0   0   0   0   0   0   0   0   0   0   0   0   0   0]\n",
            "Everything was green\n",
            "[0.0067311]\n",
            "\n",
            "\n",
            "[  1 109 228 540 237 635 241 423 340  89 298   0   0   0   0   0   0   0\n",
            "   0   0   0   0   0   0   0   0   0   0   0   0   0   0   0   0   0   0\n",
            "   0   0   0   0   0   0   0   0   0   0   0   0   0   0]\n",
            "the host seated us immediately\n",
            "[0.99165064]\n",
            "\n",
            "\n",
            "[154 242  47 635 341  12 569 547 147 319 775 125  85   0   0   0   0   0\n",
            "   0   0   0   0   0   0   0   0   0   0   0   0   0   0   0   0   0   0\n",
            "   0   0   0   0   0   0   0   0   0   0   0   0   0   0]\n",
            "they gave us free chocolate cake\n",
            "[0.9987462]\n",
            "\n",
            "\n",
            "[158 190 853 782   8 607 775 210 232 146 775 470  67 305 101  15   1 328\n",
            " 296  26  19   1 661 641 195   0   0   0   0   0   0   0   0   0   0   0\n",
            "   0   0   0   0   0   0   0   0   0   0   0   0   0   0]\n",
            "we couldn't hear each other talk because of the shouting in the kitchen\n",
            "[0.00426208]\n",
            "\n",
            "\n"
          ]
        }
      ]
    },
    {
      "cell_type": "markdown",
      "source": [
        "COMPARE PREDICTIONS OF ALL MODELS\n",
        "\n",
        "It can be hard to see which model gives a better prediction for different reviews when you examine each model separately. So for comparison purposes, here we define some more reviews and print out the predictions that each of the three models gives for each review:\n",
        "\n",
        "+ Embeddings and a Global Average Pooling layer\n",
        "+ Embeddings and a Bidirectional LSTM layer\n",
        "+ Embeddings and two Bidirectional LSTM layers\n",
        "\n",
        "The results are not always what you might expect. The input dataset is fairly small, it has less than 2000 reviews. Some of the reviews are fairly short, and some of the short ones are fairly repetitive which reduces their impact on improving the model, such as these two reviews:\n",
        "\n",
        "+ Bad Quality.\n",
        "+ Low Quality."
      ],
      "metadata": {
        "id": "0foqxdTkYWhg"
      }
    },
    {
      "cell_type": "code",
      "source": [
        "my_reviews =[\"lovely\", \"dreadful\", \"stay away\",\n",
        "             \"everything was hot exactly as I wanted\",\n",
        "             \"everything was not exactly as I wanted\",\n",
        "             \"they gave us free chocolate cake\",\n",
        "             \"I've never eaten anything so spicy in my life, my throat burned for hours\",\n",
        "             \"for a phone that is as expensive as this one I expect it to be much easier to use than this thing is\",\n",
        "             \"we left there very full for a low price so I'd say you just can't go wrong at this place\",\n",
        "             \"that place does not have quality meals and it isn't a good place to go for dinner\",\n",
        "             ]"
      ],
      "metadata": {
        "id": "qLPv4yR3XqK8"
      },
      "execution_count": 21,
      "outputs": []
    },
    {
      "cell_type": "code",
      "source": [
        "print(\"===================================\\n\",\"Embeddings only:\\n\", \"===================================\",)\n",
        "predict_review(model, my_reviews, show_padded_sequence=False)\n",
        "\n",
        "print(\"===================================\\n\", \"With a single bidirectional LSTM:\\n\", \"===================================\")\n",
        "predict_review(model_bidi_lstm, my_reviews, show_padded_sequence=False)\n",
        "\n",
        "print(\"===================================\\n\",\"With two bidirectional LSTMs:\\n\", \"===================================\")\n",
        "predict_review(model_multiple_bidi_lstm, my_reviews, show_padded_sequence=False)"
      ],
      "metadata": {
        "colab": {
          "base_uri": "https://localhost:8080/"
        },
        "id": "-SUdGnNlY0BM",
        "outputId": "78b75684-c130-43f5-9199-df87a21f1e78"
      },
      "execution_count": 22,
      "outputs": [
        {
          "output_type": "stream",
          "name": "stdout",
          "text": [
            "===================================\n",
            " Embeddings only:\n",
            " ===================================\n",
            "1/1 [==============================] - 0s 130ms/step\n",
            "lovely\n",
            "[0.9354501]\n",
            "\n",
            "\n",
            "dreadful\n",
            "[0.38665316]\n",
            "\n",
            "\n",
            "stay away\n",
            "[0.7031025]\n",
            "\n",
            "\n",
            "everything was hot exactly as I wanted\n",
            "[0.81042236]\n",
            "\n",
            "\n",
            "everything was not exactly as I wanted\n",
            "[0.6218571]\n",
            "\n",
            "\n",
            "they gave us free chocolate cake\n",
            "[0.78241044]\n",
            "\n",
            "\n",
            "I've never eaten anything so spicy in my life, my throat burned for hours\n",
            "[0.02601865]\n",
            "\n",
            "\n",
            "for a phone that is as expensive as this one I expect it to be much easier to use than this thing is\n",
            "[0.5953585]\n",
            "\n",
            "\n",
            "we left there very full for a low price so I'd say you just can't go wrong at this place\n",
            "[0.80975115]\n",
            "\n",
            "\n",
            "that place does not have quality meals and it isn't a good place to go for dinner\n",
            "[0.8828726]\n",
            "\n",
            "\n",
            "===================================\n",
            " With a single bidirectional LSTM:\n",
            " ===================================\n",
            "1/1 [==============================] - 0s 131ms/step\n",
            "lovely\n",
            "[0.9931889]\n",
            "\n",
            "\n",
            "dreadful\n",
            "[0.00738904]\n",
            "\n",
            "\n",
            "stay away\n",
            "[0.01277276]\n",
            "\n",
            "\n",
            "everything was hot exactly as I wanted\n",
            "[0.9904069]\n",
            "\n",
            "\n",
            "everything was not exactly as I wanted\n",
            "[0.01325343]\n",
            "\n",
            "\n",
            "they gave us free chocolate cake\n",
            "[0.78376615]\n",
            "\n",
            "\n",
            "I've never eaten anything so spicy in my life, my throat burned for hours\n",
            "[0.99835145]\n",
            "\n",
            "\n",
            "for a phone that is as expensive as this one I expect it to be much easier to use than this thing is\n",
            "[0.01451879]\n",
            "\n",
            "\n",
            "we left there very full for a low price so I'd say you just can't go wrong at this place\n",
            "[0.9999827]\n",
            "\n",
            "\n",
            "that place does not have quality meals and it isn't a good place to go for dinner\n",
            "[0.04337158]\n",
            "\n",
            "\n",
            "===================================\n",
            " With two bidirectional LSTMs:\n",
            " ===================================\n",
            "1/1 [==============================] - 0s 61ms/step\n",
            "lovely\n",
            "[0.99764466]\n",
            "\n",
            "\n",
            "dreadful\n",
            "[0.00882191]\n",
            "\n",
            "\n",
            "stay away\n",
            "[0.00935913]\n",
            "\n",
            "\n",
            "everything was hot exactly as I wanted\n",
            "[0.99880034]\n",
            "\n",
            "\n",
            "everything was not exactly as I wanted\n",
            "[0.01476929]\n",
            "\n",
            "\n",
            "they gave us free chocolate cake\n",
            "[0.9987462]\n",
            "\n",
            "\n",
            "I've never eaten anything so spicy in my life, my throat burned for hours\n",
            "[0.00653791]\n",
            "\n",
            "\n",
            "for a phone that is as expensive as this one I expect it to be much easier to use than this thing is\n",
            "[0.00508752]\n",
            "\n",
            "\n",
            "we left there very full for a low price so I'd say you just can't go wrong at this place\n",
            "[0.6354218]\n",
            "\n",
            "\n",
            "that place does not have quality meals and it isn't a good place to go for dinner\n",
            "[0.00692878]\n",
            "\n",
            "\n"
          ]
        }
      ]
    },
    {
      "cell_type": "markdown",
      "source": [
        "****"
      ],
      "metadata": {
        "id": "8AgCsqEnbzOA"
      }
    }
  ]
}