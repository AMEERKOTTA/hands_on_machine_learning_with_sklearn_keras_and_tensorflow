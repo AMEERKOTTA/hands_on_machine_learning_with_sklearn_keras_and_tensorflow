{
  "nbformat": 4,
  "nbformat_minor": 0,
  "metadata": {
    "colab": {
      "provenance": []
    },
    "kernelspec": {
      "name": "python3",
      "display_name": "Python 3"
    },
    "language_info": {
      "name": "python"
    }
  },
  "cells": [
    {
      "cell_type": "markdown",
      "source": [
        "# **BASIC MODEL FOR SENTIMENT ANALYSIS USING SUBWORDS**"
      ],
      "metadata": {
        "id": "Hb8Hj_asYq4I"
      }
    },
    {
      "cell_type": "markdown",
      "source": [
        "IMPORT LIBRARIES"
      ],
      "metadata": {
        "id": "xMqDnDLsYzBY"
      }
    },
    {
      "cell_type": "code",
      "source": [
        "import tensorflow as tf\n",
        "\n",
        "from tensorflow.keras.preprocessing.sequence import pad_sequences"
      ],
      "metadata": {
        "id": "vgBv6613YvfY"
      },
      "execution_count": 1,
      "outputs": []
    },
    {
      "cell_type": "markdown",
      "source": [
        "GET THE DATASET"
      ],
      "metadata": {
        "id": "z49R0MI1Y3nW"
      }
    },
    {
      "cell_type": "code",
      "source": [
        "!wget --no-check-certificate \\\n",
        "    https://drive.google.com/uc?id=13ySLC_ue6Umt9RJYSeM2t-V0kCv-4C-P \\\n",
        "    -O /tmp/sentiment.csv"
      ],
      "metadata": {
        "colab": {
          "base_uri": "https://localhost:8080/"
        },
        "id": "y5gApbMkY1Yq",
        "outputId": "1837bd6c-2208-48dc-a90d-111996170302"
      },
      "execution_count": 2,
      "outputs": [
        {
          "output_type": "stream",
          "name": "stdout",
          "text": [
            "--2023-03-07 14:04:54--  https://drive.google.com/uc?id=13ySLC_ue6Umt9RJYSeM2t-V0kCv-4C-P\n",
            "Resolving drive.google.com (drive.google.com)... 142.251.163.139, 142.251.163.102, 142.251.163.100, ...\n",
            "Connecting to drive.google.com (drive.google.com)|142.251.163.139|:443... connected.\n",
            "HTTP request sent, awaiting response... 303 See Other\n",
            "Location: https://doc-08-ak-docs.googleusercontent.com/docs/securesc/ha0ro937gcuc7l7deffksulhg5h7mbp1/5dce1no1csk4e057u60aic3a3u5dl88v/1678197825000/11118900490791463723/*/13ySLC_ue6Umt9RJYSeM2t-V0kCv-4C-P?uuid=0c5ae168-0a36-4547-8cf6-e4de72e40a5f [following]\n",
            "Warning: wildcards not supported in HTTP.\n",
            "--2023-03-07 14:04:55--  https://doc-08-ak-docs.googleusercontent.com/docs/securesc/ha0ro937gcuc7l7deffksulhg5h7mbp1/5dce1no1csk4e057u60aic3a3u5dl88v/1678197825000/11118900490791463723/*/13ySLC_ue6Umt9RJYSeM2t-V0kCv-4C-P?uuid=0c5ae168-0a36-4547-8cf6-e4de72e40a5f\n",
            "Resolving doc-08-ak-docs.googleusercontent.com (doc-08-ak-docs.googleusercontent.com)... 172.253.115.132, 2607:f8b0:4004:c06::84\n",
            "Connecting to doc-08-ak-docs.googleusercontent.com (doc-08-ak-docs.googleusercontent.com)|172.253.115.132|:443... connected.\n",
            "HTTP request sent, awaiting response... 200 OK\n",
            "Length: 127831 (125K) [text/csv]\n",
            "Saving to: ‘/tmp/sentiment.csv’\n",
            "\n",
            "/tmp/sentiment.csv  100%[===================>] 124.83K  --.-KB/s    in 0.002s  \n",
            "\n",
            "2023-03-07 14:04:55 (49.3 MB/s) - ‘/tmp/sentiment.csv’ saved [127831/127831]\n",
            "\n"
          ]
        }
      ]
    },
    {
      "cell_type": "markdown",
      "source": [
        "LOAD THE DATASET"
      ],
      "metadata": {
        "id": "T1_511btY-ux"
      }
    },
    {
      "cell_type": "code",
      "source": [
        "import pandas as pd\n",
        "\n",
        "dataset = pd.read_csv('/tmp/sentiment.csv')\n",
        "\n",
        "# Just extract out sentences and labels first - we will create subwords here\n",
        "sentences = dataset['text'].tolist()\n",
        "labels = dataset['sentiment'].tolist()"
      ],
      "metadata": {
        "id": "MNZdovbnY7Jb"
      },
      "execution_count": 3,
      "outputs": []
    },
    {
      "cell_type": "markdown",
      "source": [
        "CREATE SUBWORDS DATASET\n",
        "\n",
        "+ We can use the existing Amazon and Yelp reviews dataset \n",
        "+ with tensorflow_datasets's `SubwordTextEncoder` functionality.\n",
        "+ `SubwordTextEncoder.build_from_corpus()` will create a tokenizer. \n",
        "+ We can also use this functionality to get subwords from a much larger corpus of text as well.\n",
        "+ we'll create a subword vocab_size = 1,000 most common words, \n",
        "+ as well as cutting off each subword to be at most 5 characters."
      ],
      "metadata": {
        "id": "s5N0X9T6ae2i"
      }
    },
    {
      "cell_type": "code",
      "source": [
        "import tensorflow_datasets as tfds\n",
        "\n",
        "vocab_size = 1000\n",
        "tokenizer = tfds.deprecated.text.SubwordTextEncoder.build_from_corpus(sentences, \n",
        "                                                                      vocab_size, \n",
        "                                                                      max_subword_length=5)"
      ],
      "metadata": {
        "id": "9WvpGUP0ZCKw"
      },
      "execution_count": 4,
      "outputs": []
    },
    {
      "cell_type": "code",
      "source": [
        "# Check that the tokenizer works appropriately\n",
        "num = 5\n",
        "print(sentences[num])\n",
        "encoded = tokenizer.encode(sentences[num])\n",
        "print(encoded)\n",
        "# Separately print out each subword, decoded\n",
        "for i in encoded:\n",
        "  print(tokenizer.decode([i]))"
      ],
      "metadata": {
        "colab": {
          "base_uri": "https://localhost:8080/"
        },
        "id": "YIF1artgbNO3",
        "outputId": "cb4a5afe-f5ab-4bb3-feb2-f96091354aaf"
      },
      "execution_count": 5,
      "outputs": [
        {
          "output_type": "stream",
          "name": "stdout",
          "text": [
            "I have to jiggle the plug to get it to line up right to get decent volume.\n",
            "[4, 31, 6, 849, 162, 450, 12, 1, 600, 438, 775, 6, 175, 14, 6, 55, 213, 159, 474, 775, 6, 175, 614, 380, 295, 148, 72, 789]\n",
            "I \n",
            "have \n",
            "to \n",
            "j\n",
            "ig\n",
            "gl\n",
            "e \n",
            "the \n",
            "pl\n",
            "ug\n",
            " \n",
            "to \n",
            "get \n",
            "it \n",
            "to \n",
            "li\n",
            "ne \n",
            "up \n",
            "right\n",
            " \n",
            "to \n",
            "get \n",
            "dec\n",
            "ent \n",
            "vo\n",
            "lu\n",
            "me\n",
            ".\n"
          ]
        }
      ]
    },
    {
      "cell_type": "markdown",
      "source": [
        "REPLACE SENTENCE DATA WITH ENCODED SUBWORDS\n",
        "\n",
        "+ Re-create the dataset to be used for training by actually encoding each of the individual sentences. \n",
        "+ This is equivalent to text_to_sequences with the Tokenizer we used in earlier exercises."
      ],
      "metadata": {
        "id": "HteynarVbfYE"
      }
    },
    {
      "cell_type": "code",
      "source": [
        "for i, sentence in enumerate(sentences):\n",
        "  sentences[i] = tokenizer.encode(sentence)\n",
        "\n",
        "# Check the sentences are appropriately replaced\n",
        "print(sentences[1])"
      ],
      "metadata": {
        "colab": {
          "base_uri": "https://localhost:8080/"
        },
        "id": "dEGB_SH8baGl",
        "outputId": "32d7bcec-3511-4eca-f65c-b4d847448f09"
      },
      "execution_count": 6,
      "outputs": [
        {
          "output_type": "stream",
          "name": "stdout",
          "text": [
            "[625, 677, 626, 274, 380, 633, 148, 844, 789]\n"
          ]
        }
      ]
    },
    {
      "cell_type": "markdown",
      "source": [
        "PREPROCESSING THE DATA"
      ],
      "metadata": {
        "id": "6_NCVritcfjh"
      }
    },
    {
      "cell_type": "code",
      "source": [
        "import numpy as np\n",
        "\n",
        "max_length = 50\n",
        "trunc_type='post'\n",
        "padding_type='post'\n",
        "\n",
        "# Pad all sentences\n",
        "sentences_padded = pad_sequences(sentences, maxlen=max_length, \n",
        "                                 padding=padding_type, truncating=trunc_type)\n",
        "\n",
        "# Separate out the sentences and labels into training and test sets\n",
        "training_size = int(len(sentences) * 0.8)\n",
        "\n",
        "training_sentences = sentences_padded[0:training_size]\n",
        "testing_sentences = sentences_padded[training_size:]\n",
        "training_labels = labels[0:training_size]\n",
        "testing_labels = labels[training_size:]\n",
        "\n",
        "# Make labels into numpy arrays for use with the network later\n",
        "training_labels_final = np.array(training_labels)\n",
        "testing_labels_final = np.array(testing_labels)"
      ],
      "metadata": {
        "id": "7NcYYzuYcK2h"
      },
      "execution_count": 7,
      "outputs": []
    },
    {
      "cell_type": "markdown",
      "source": [
        "BUILD THE MODEL"
      ],
      "metadata": {
        "id": "uBDqVuhIclSL"
      }
    },
    {
      "cell_type": "code",
      "source": [
        "embedding_dim = 16\n",
        "model = tf.keras.Sequential([\n",
        "    tf.keras.layers.Embedding(vocab_size, embedding_dim, input_length=max_length),\n",
        "    tf.keras.layers.GlobalAveragePooling1D(),\n",
        "    tf.keras.layers.Dense(6, activation='relu'),\n",
        "    tf.keras.layers.Dense(1, activation='sigmoid')\n",
        "])\n",
        "\n",
        "model.summary()"
      ],
      "metadata": {
        "colab": {
          "base_uri": "https://localhost:8080/"
        },
        "id": "1xEfDvjwckW3",
        "outputId": "99476209-9546-4dea-b489-594e5f56fb75"
      },
      "execution_count": 8,
      "outputs": [
        {
          "output_type": "stream",
          "name": "stdout",
          "text": [
            "Model: \"sequential\"\n",
            "_________________________________________________________________\n",
            " Layer (type)                Output Shape              Param #   \n",
            "=================================================================\n",
            " embedding (Embedding)       (None, 50, 16)            16000     \n",
            "                                                                 \n",
            " global_average_pooling1d (G  (None, 16)               0         \n",
            " lobalAveragePooling1D)                                          \n",
            "                                                                 \n",
            " dense (Dense)               (None, 6)                 102       \n",
            "                                                                 \n",
            " dense_1 (Dense)             (None, 1)                 7         \n",
            "                                                                 \n",
            "=================================================================\n",
            "Total params: 16,109\n",
            "Trainable params: 16,109\n",
            "Non-trainable params: 0\n",
            "_________________________________________________________________\n"
          ]
        }
      ]
    },
    {
      "cell_type": "markdown",
      "source": [
        "COMPILE AND TRAIN THE MODEL"
      ],
      "metadata": {
        "id": "kRaYLbZkcup8"
      }
    },
    {
      "cell_type": "code",
      "source": [
        "num_epochs = 100\n",
        "model.compile(loss='binary_crossentropy',optimizer='adam',metrics=['accuracy'])\n",
        "history = model.fit(training_sentences, training_labels_final, epochs=num_epochs, \n",
        "                    validation_data=(testing_sentences, testing_labels_final))"
      ],
      "metadata": {
        "colab": {
          "base_uri": "https://localhost:8080/"
        },
        "id": "ENmxJ9-2cqZC",
        "outputId": "d04faa95-2e8a-43ac-8bb8-04589f2d54b0"
      },
      "execution_count": 9,
      "outputs": [
        {
          "output_type": "stream",
          "name": "stdout",
          "text": [
            "Epoch 1/100\n",
            "50/50 [==============================] - 3s 17ms/step - loss: 0.6922 - accuracy: 0.5267 - val_loss: 0.6958 - val_accuracy: 0.4185\n",
            "Epoch 2/100\n",
            "50/50 [==============================] - 0s 4ms/step - loss: 0.6891 - accuracy: 0.5411 - val_loss: 0.6956 - val_accuracy: 0.4561\n",
            "Epoch 3/100\n",
            "50/50 [==============================] - 0s 4ms/step - loss: 0.6829 - accuracy: 0.5813 - val_loss: 0.6897 - val_accuracy: 0.5063\n",
            "Epoch 4/100\n",
            "50/50 [==============================] - 0s 3ms/step - loss: 0.6734 - accuracy: 0.6095 - val_loss: 0.6830 - val_accuracy: 0.5414\n",
            "Epoch 5/100\n",
            "50/50 [==============================] - 0s 3ms/step - loss: 0.6586 - accuracy: 0.6855 - val_loss: 0.6783 - val_accuracy: 0.5288\n",
            "Epoch 6/100\n",
            "50/50 [==============================] - 0s 4ms/step - loss: 0.6346 - accuracy: 0.7050 - val_loss: 0.6461 - val_accuracy: 0.6842\n",
            "Epoch 7/100\n",
            "50/50 [==============================] - 0s 3ms/step - loss: 0.6028 - accuracy: 0.7608 - val_loss: 0.6238 - val_accuracy: 0.7093\n",
            "Epoch 8/100\n",
            "50/50 [==============================] - 0s 4ms/step - loss: 0.5649 - accuracy: 0.7960 - val_loss: 0.5995 - val_accuracy: 0.7193\n",
            "Epoch 9/100\n",
            "50/50 [==============================] - 0s 3ms/step - loss: 0.5249 - accuracy: 0.8180 - val_loss: 0.5800 - val_accuracy: 0.7118\n",
            "Epoch 10/100\n",
            "50/50 [==============================] - 0s 3ms/step - loss: 0.4854 - accuracy: 0.8387 - val_loss: 0.5543 - val_accuracy: 0.7469\n",
            "Epoch 11/100\n",
            "50/50 [==============================] - 0s 3ms/step - loss: 0.4475 - accuracy: 0.8581 - val_loss: 0.5358 - val_accuracy: 0.7469\n",
            "Epoch 12/100\n",
            "50/50 [==============================] - 0s 3ms/step - loss: 0.4142 - accuracy: 0.8650 - val_loss: 0.5178 - val_accuracy: 0.7719\n",
            "Epoch 13/100\n",
            "50/50 [==============================] - 0s 4ms/step - loss: 0.3842 - accuracy: 0.8713 - val_loss: 0.5204 - val_accuracy: 0.7368\n",
            "Epoch 14/100\n",
            "50/50 [==============================] - 0s 3ms/step - loss: 0.3599 - accuracy: 0.8738 - val_loss: 0.5102 - val_accuracy: 0.7469\n",
            "Epoch 15/100\n",
            "50/50 [==============================] - 0s 3ms/step - loss: 0.3373 - accuracy: 0.8845 - val_loss: 0.5126 - val_accuracy: 0.7494\n",
            "Epoch 16/100\n",
            "50/50 [==============================] - 0s 3ms/step - loss: 0.3172 - accuracy: 0.8858 - val_loss: 0.5040 - val_accuracy: 0.7569\n",
            "Epoch 17/100\n",
            "50/50 [==============================] - 0s 3ms/step - loss: 0.3008 - accuracy: 0.8945 - val_loss: 0.5029 - val_accuracy: 0.7519\n",
            "Epoch 18/100\n",
            "50/50 [==============================] - 0s 4ms/step - loss: 0.2852 - accuracy: 0.8964 - val_loss: 0.5109 - val_accuracy: 0.7594\n",
            "Epoch 19/100\n",
            "50/50 [==============================] - 0s 4ms/step - loss: 0.2716 - accuracy: 0.9008 - val_loss: 0.5079 - val_accuracy: 0.7594\n",
            "Epoch 20/100\n",
            "50/50 [==============================] - 0s 3ms/step - loss: 0.2579 - accuracy: 0.9046 - val_loss: 0.5276 - val_accuracy: 0.7494\n",
            "Epoch 21/100\n",
            "50/50 [==============================] - 0s 4ms/step - loss: 0.2476 - accuracy: 0.9127 - val_loss: 0.5208 - val_accuracy: 0.7569\n",
            "Epoch 22/100\n",
            "50/50 [==============================] - 0s 3ms/step - loss: 0.2359 - accuracy: 0.9203 - val_loss: 0.5171 - val_accuracy: 0.7619\n",
            "Epoch 23/100\n",
            "50/50 [==============================] - 0s 3ms/step - loss: 0.2265 - accuracy: 0.9209 - val_loss: 0.5254 - val_accuracy: 0.7519\n",
            "Epoch 24/100\n",
            "50/50 [==============================] - 0s 4ms/step - loss: 0.2172 - accuracy: 0.9253 - val_loss: 0.5664 - val_accuracy: 0.7419\n",
            "Epoch 25/100\n",
            "50/50 [==============================] - 0s 6ms/step - loss: 0.2106 - accuracy: 0.9247 - val_loss: 0.5426 - val_accuracy: 0.7444\n",
            "Epoch 26/100\n",
            "50/50 [==============================] - 0s 5ms/step - loss: 0.2009 - accuracy: 0.9291 - val_loss: 0.5381 - val_accuracy: 0.7619\n",
            "Epoch 27/100\n",
            "50/50 [==============================] - 0s 5ms/step - loss: 0.1937 - accuracy: 0.9347 - val_loss: 0.5600 - val_accuracy: 0.7444\n",
            "Epoch 28/100\n",
            "50/50 [==============================] - 0s 6ms/step - loss: 0.1864 - accuracy: 0.9404 - val_loss: 0.5663 - val_accuracy: 0.7494\n",
            "Epoch 29/100\n",
            "50/50 [==============================] - 0s 5ms/step - loss: 0.1800 - accuracy: 0.9422 - val_loss: 0.5723 - val_accuracy: 0.7519\n",
            "Epoch 30/100\n",
            "50/50 [==============================] - 0s 6ms/step - loss: 0.1737 - accuracy: 0.9454 - val_loss: 0.5884 - val_accuracy: 0.7419\n",
            "Epoch 31/100\n",
            "50/50 [==============================] - 0s 5ms/step - loss: 0.1672 - accuracy: 0.9479 - val_loss: 0.5956 - val_accuracy: 0.7494\n",
            "Epoch 32/100\n",
            "50/50 [==============================] - 0s 6ms/step - loss: 0.1628 - accuracy: 0.9548 - val_loss: 0.6135 - val_accuracy: 0.7419\n",
            "Epoch 33/100\n",
            "50/50 [==============================] - 0s 6ms/step - loss: 0.1569 - accuracy: 0.9542 - val_loss: 0.6166 - val_accuracy: 0.7519\n",
            "Epoch 34/100\n",
            "50/50 [==============================] - 0s 4ms/step - loss: 0.1536 - accuracy: 0.9542 - val_loss: 0.6294 - val_accuracy: 0.7469\n",
            "Epoch 35/100\n",
            "50/50 [==============================] - 0s 4ms/step - loss: 0.1464 - accuracy: 0.9611 - val_loss: 0.6399 - val_accuracy: 0.7494\n",
            "Epoch 36/100\n",
            "50/50 [==============================] - 0s 4ms/step - loss: 0.1409 - accuracy: 0.9642 - val_loss: 0.6710 - val_accuracy: 0.7444\n",
            "Epoch 37/100\n",
            "50/50 [==============================] - 0s 4ms/step - loss: 0.1368 - accuracy: 0.9611 - val_loss: 0.6609 - val_accuracy: 0.7494\n",
            "Epoch 38/100\n",
            "50/50 [==============================] - 0s 3ms/step - loss: 0.1329 - accuracy: 0.9680 - val_loss: 0.6912 - val_accuracy: 0.7469\n",
            "Epoch 39/100\n",
            "50/50 [==============================] - 0s 3ms/step - loss: 0.1276 - accuracy: 0.9674 - val_loss: 0.6932 - val_accuracy: 0.7469\n",
            "Epoch 40/100\n",
            "50/50 [==============================] - 0s 3ms/step - loss: 0.1247 - accuracy: 0.9667 - val_loss: 0.7254 - val_accuracy: 0.7293\n",
            "Epoch 41/100\n",
            "50/50 [==============================] - 0s 3ms/step - loss: 0.1193 - accuracy: 0.9711 - val_loss: 0.7149 - val_accuracy: 0.7519\n",
            "Epoch 42/100\n",
            "50/50 [==============================] - 0s 4ms/step - loss: 0.1170 - accuracy: 0.9686 - val_loss: 0.7331 - val_accuracy: 0.7494\n",
            "Epoch 43/100\n",
            "50/50 [==============================] - 0s 3ms/step - loss: 0.1112 - accuracy: 0.9699 - val_loss: 0.7714 - val_accuracy: 0.7268\n",
            "Epoch 44/100\n",
            "50/50 [==============================] - 0s 4ms/step - loss: 0.1094 - accuracy: 0.9718 - val_loss: 0.7555 - val_accuracy: 0.7569\n",
            "Epoch 45/100\n",
            "50/50 [==============================] - 0s 3ms/step - loss: 0.1046 - accuracy: 0.9743 - val_loss: 0.7658 - val_accuracy: 0.7519\n",
            "Epoch 46/100\n",
            "50/50 [==============================] - 0s 3ms/step - loss: 0.1012 - accuracy: 0.9749 - val_loss: 0.7863 - val_accuracy: 0.7519\n",
            "Epoch 47/100\n",
            "50/50 [==============================] - 0s 3ms/step - loss: 0.0992 - accuracy: 0.9730 - val_loss: 0.7888 - val_accuracy: 0.7519\n",
            "Epoch 48/100\n",
            "50/50 [==============================] - 0s 6ms/step - loss: 0.0955 - accuracy: 0.9743 - val_loss: 0.8046 - val_accuracy: 0.7569\n",
            "Epoch 49/100\n",
            "50/50 [==============================] - 0s 9ms/step - loss: 0.0935 - accuracy: 0.9761 - val_loss: 0.8235 - val_accuracy: 0.7519\n",
            "Epoch 50/100\n",
            "50/50 [==============================] - 1s 12ms/step - loss: 0.0895 - accuracy: 0.9793 - val_loss: 0.8305 - val_accuracy: 0.7544\n",
            "Epoch 51/100\n",
            "50/50 [==============================] - 1s 10ms/step - loss: 0.0864 - accuracy: 0.9818 - val_loss: 0.8465 - val_accuracy: 0.7519\n",
            "Epoch 52/100\n",
            "50/50 [==============================] - 0s 3ms/step - loss: 0.0841 - accuracy: 0.9799 - val_loss: 0.8612 - val_accuracy: 0.7519\n",
            "Epoch 53/100\n",
            "50/50 [==============================] - 0s 4ms/step - loss: 0.0799 - accuracy: 0.9831 - val_loss: 0.8868 - val_accuracy: 0.7393\n",
            "Epoch 54/100\n",
            "50/50 [==============================] - 0s 3ms/step - loss: 0.0774 - accuracy: 0.9837 - val_loss: 0.8834 - val_accuracy: 0.7569\n",
            "Epoch 55/100\n",
            "50/50 [==============================] - 0s 4ms/step - loss: 0.0753 - accuracy: 0.9831 - val_loss: 0.8957 - val_accuracy: 0.7544\n",
            "Epoch 56/100\n",
            "50/50 [==============================] - 0s 3ms/step - loss: 0.0735 - accuracy: 0.9862 - val_loss: 0.9306 - val_accuracy: 0.7419\n",
            "Epoch 57/100\n",
            "50/50 [==============================] - 0s 4ms/step - loss: 0.0717 - accuracy: 0.9837 - val_loss: 0.9408 - val_accuracy: 0.7368\n",
            "Epoch 58/100\n",
            "50/50 [==============================] - 0s 5ms/step - loss: 0.0680 - accuracy: 0.9868 - val_loss: 0.9511 - val_accuracy: 0.7469\n",
            "Epoch 59/100\n",
            "50/50 [==============================] - 0s 7ms/step - loss: 0.0658 - accuracy: 0.9862 - val_loss: 0.9658 - val_accuracy: 0.7444\n",
            "Epoch 60/100\n",
            "50/50 [==============================] - 0s 8ms/step - loss: 0.0636 - accuracy: 0.9887 - val_loss: 0.9789 - val_accuracy: 0.7444\n",
            "Epoch 61/100\n",
            "50/50 [==============================] - 0s 9ms/step - loss: 0.0609 - accuracy: 0.9906 - val_loss: 1.0165 - val_accuracy: 0.7343\n",
            "Epoch 62/100\n",
            "50/50 [==============================] - 0s 7ms/step - loss: 0.0595 - accuracy: 0.9887 - val_loss: 1.0151 - val_accuracy: 0.7393\n",
            "Epoch 63/100\n",
            "50/50 [==============================] - 0s 9ms/step - loss: 0.0570 - accuracy: 0.9893 - val_loss: 1.0266 - val_accuracy: 0.7444\n",
            "Epoch 64/100\n",
            "50/50 [==============================] - 0s 9ms/step - loss: 0.0543 - accuracy: 0.9912 - val_loss: 1.0533 - val_accuracy: 0.7393\n",
            "Epoch 65/100\n",
            "50/50 [==============================] - 0s 7ms/step - loss: 0.0530 - accuracy: 0.9925 - val_loss: 1.0537 - val_accuracy: 0.7469\n",
            "Epoch 66/100\n",
            "50/50 [==============================] - 0s 8ms/step - loss: 0.0513 - accuracy: 0.9912 - val_loss: 1.0554 - val_accuracy: 0.7544\n",
            "Epoch 67/100\n",
            "50/50 [==============================] - 0s 8ms/step - loss: 0.0501 - accuracy: 0.9900 - val_loss: 1.0809 - val_accuracy: 0.7419\n",
            "Epoch 68/100\n",
            "50/50 [==============================] - 0s 7ms/step - loss: 0.0480 - accuracy: 0.9925 - val_loss: 1.1108 - val_accuracy: 0.7393\n",
            "Epoch 69/100\n",
            "50/50 [==============================] - 1s 14ms/step - loss: 0.0456 - accuracy: 0.9925 - val_loss: 1.1401 - val_accuracy: 0.7318\n",
            "Epoch 70/100\n",
            "50/50 [==============================] - 1s 14ms/step - loss: 0.0457 - accuracy: 0.9918 - val_loss: 1.1199 - val_accuracy: 0.7494\n",
            "Epoch 71/100\n",
            "50/50 [==============================] - 1s 11ms/step - loss: 0.0426 - accuracy: 0.9937 - val_loss: 1.1357 - val_accuracy: 0.7519\n",
            "Epoch 72/100\n",
            "50/50 [==============================] - 1s 13ms/step - loss: 0.0409 - accuracy: 0.9956 - val_loss: 1.1475 - val_accuracy: 0.7494\n",
            "Epoch 73/100\n",
            "50/50 [==============================] - 1s 11ms/step - loss: 0.0400 - accuracy: 0.9937 - val_loss: 1.1747 - val_accuracy: 0.7393\n",
            "Epoch 74/100\n",
            "50/50 [==============================] - 0s 5ms/step - loss: 0.0391 - accuracy: 0.9944 - val_loss: 1.1845 - val_accuracy: 0.7444\n",
            "Epoch 75/100\n",
            "50/50 [==============================] - 0s 3ms/step - loss: 0.0385 - accuracy: 0.9931 - val_loss: 1.2212 - val_accuracy: 0.7318\n",
            "Epoch 76/100\n",
            "50/50 [==============================] - 0s 4ms/step - loss: 0.0368 - accuracy: 0.9956 - val_loss: 1.2174 - val_accuracy: 0.7419\n",
            "Epoch 77/100\n",
            "50/50 [==============================] - 0s 4ms/step - loss: 0.0338 - accuracy: 0.9975 - val_loss: 1.2347 - val_accuracy: 0.7444\n",
            "Epoch 78/100\n",
            "50/50 [==============================] - 0s 3ms/step - loss: 0.0325 - accuracy: 0.9956 - val_loss: 1.2395 - val_accuracy: 0.7419\n",
            "Epoch 79/100\n",
            "50/50 [==============================] - 0s 4ms/step - loss: 0.0322 - accuracy: 0.9956 - val_loss: 1.2675 - val_accuracy: 0.7393\n",
            "Epoch 80/100\n",
            "50/50 [==============================] - 0s 3ms/step - loss: 0.0305 - accuracy: 0.9975 - val_loss: 1.2819 - val_accuracy: 0.7393\n",
            "Epoch 81/100\n",
            "50/50 [==============================] - 0s 3ms/step - loss: 0.0291 - accuracy: 0.9981 - val_loss: 1.2831 - val_accuracy: 0.7444\n",
            "Epoch 82/100\n",
            "50/50 [==============================] - 0s 3ms/step - loss: 0.0284 - accuracy: 0.9975 - val_loss: 1.3217 - val_accuracy: 0.7419\n",
            "Epoch 83/100\n",
            "50/50 [==============================] - 0s 4ms/step - loss: 0.0270 - accuracy: 0.9975 - val_loss: 1.3287 - val_accuracy: 0.7393\n",
            "Epoch 84/100\n",
            "50/50 [==============================] - 0s 4ms/step - loss: 0.0261 - accuracy: 0.9975 - val_loss: 1.3355 - val_accuracy: 0.7494\n",
            "Epoch 85/100\n",
            "50/50 [==============================] - 0s 4ms/step - loss: 0.0263 - accuracy: 0.9975 - val_loss: 1.3580 - val_accuracy: 0.7469\n",
            "Epoch 86/100\n",
            "50/50 [==============================] - 0s 3ms/step - loss: 0.0246 - accuracy: 0.9981 - val_loss: 1.3850 - val_accuracy: 0.7419\n",
            "Epoch 87/100\n",
            "50/50 [==============================] - 0s 4ms/step - loss: 0.0232 - accuracy: 0.9975 - val_loss: 1.3871 - val_accuracy: 0.7469\n",
            "Epoch 88/100\n",
            "50/50 [==============================] - 0s 4ms/step - loss: 0.0229 - accuracy: 0.9987 - val_loss: 1.4141 - val_accuracy: 0.7419\n",
            "Epoch 89/100\n",
            "50/50 [==============================] - 0s 4ms/step - loss: 0.0227 - accuracy: 0.9987 - val_loss: 1.4154 - val_accuracy: 0.7494\n",
            "Epoch 90/100\n",
            "50/50 [==============================] - 0s 4ms/step - loss: 0.0208 - accuracy: 0.9987 - val_loss: 1.4354 - val_accuracy: 0.7444\n",
            "Epoch 91/100\n",
            "50/50 [==============================] - 0s 4ms/step - loss: 0.0199 - accuracy: 0.9987 - val_loss: 1.4585 - val_accuracy: 0.7444\n",
            "Epoch 92/100\n",
            "50/50 [==============================] - 0s 3ms/step - loss: 0.0192 - accuracy: 0.9987 - val_loss: 1.4780 - val_accuracy: 0.7393\n",
            "Epoch 93/100\n",
            "50/50 [==============================] - 0s 4ms/step - loss: 0.0185 - accuracy: 0.9994 - val_loss: 1.4800 - val_accuracy: 0.7519\n",
            "Epoch 94/100\n",
            "50/50 [==============================] - 0s 3ms/step - loss: 0.0183 - accuracy: 0.9994 - val_loss: 1.5176 - val_accuracy: 0.7393\n",
            "Epoch 95/100\n",
            "50/50 [==============================] - 0s 3ms/step - loss: 0.0171 - accuracy: 0.9994 - val_loss: 1.5188 - val_accuracy: 0.7419\n",
            "Epoch 96/100\n",
            "50/50 [==============================] - 0s 3ms/step - loss: 0.0165 - accuracy: 0.9994 - val_loss: 1.5180 - val_accuracy: 0.7519\n",
            "Epoch 97/100\n",
            "50/50 [==============================] - 0s 4ms/step - loss: 0.0164 - accuracy: 0.9994 - val_loss: 1.5611 - val_accuracy: 0.7393\n",
            "Epoch 98/100\n",
            "50/50 [==============================] - 0s 3ms/step - loss: 0.0152 - accuracy: 0.9994 - val_loss: 1.5727 - val_accuracy: 0.7393\n",
            "Epoch 99/100\n",
            "50/50 [==============================] - 0s 3ms/step - loss: 0.0146 - accuracy: 0.9987 - val_loss: 1.5879 - val_accuracy: 0.7393\n",
            "Epoch 100/100\n",
            "50/50 [==============================] - 0s 4ms/step - loss: 0.0139 - accuracy: 0.9994 - val_loss: 1.6088 - val_accuracy: 0.7393\n"
          ]
        }
      ]
    },
    {
      "cell_type": "code",
      "source": [
        "import matplotlib.pyplot as plt\n",
        "\n",
        "\n",
        "def plot_graphs(history, string):\n",
        "  plt.plot(history.history[string])\n",
        "  plt.plot(history.history['val_'+string])\n",
        "  plt.xlabel(\"Epochs\")\n",
        "  plt.ylabel(string)\n",
        "  plt.legend([string, 'val_'+string])\n",
        "  plt.show()\n",
        "  \n",
        "plot_graphs(history, \"accuracy\")\n",
        "plot_graphs(history, \"loss\")"
      ],
      "metadata": {
        "colab": {
          "base_uri": "https://localhost:8080/",
          "height": 541
        },
        "id": "jKHfj5ojczHj",
        "outputId": "274bf82e-0bb8-4572-c122-b17a54c90e10"
      },
      "execution_count": 10,
      "outputs": [
        {
          "output_type": "display_data",
          "data": {
            "text/plain": [
              "<Figure size 432x288 with 1 Axes>"
            ],
            "image/png": "[encoded data removed]"
          },
          "metadata": {
            "needs_background": "light"
          }
        },
        {
          "output_type": "display_data",
          "data": {
            "text/plain": [
              "<Figure size 432x288 with 1 Axes>"
            ],
            "image/png": "[encoded data removed]"
          },
          "metadata": {
            "needs_background": "light"
          }
        }
      ]
    },
    {
      "cell_type": "markdown",
      "source": [
        "GET THE FILES FOR VISUALIZATION"
      ],
      "metadata": {
        "id": "mdkcvo-qdAm-"
      }
    },
    {
      "cell_type": "code",
      "source": [
        "# First get the weights of the embedding layer\n",
        "e = model.layers[0]\n",
        "weights = e.get_weights()[0]\n",
        "print(weights.shape) # shape: (vocab_size, embedding_dim)"
      ],
      "metadata": {
        "colab": {
          "base_uri": "https://localhost:8080/"
        },
        "id": "F6z6Z7poc-m5",
        "outputId": "d0597753-9540-4ca4-bb7f-db7d112237f8"
      },
      "execution_count": 11,
      "outputs": [
        {
          "output_type": "stream",
          "name": "stdout",
          "text": [
            "(1000, 16)\n"
          ]
        }
      ]
    },
    {
      "cell_type": "code",
      "source": [
        "import io\n",
        "\n",
        "# Write out the embedding vectors and metadata\n",
        "out_v = io.open('vecs.tsv', 'w', encoding='utf-8')\n",
        "out_m = io.open('meta.tsv', 'w', encoding='utf-8')\n",
        "for word_num in range(0, vocab_size - 1):\n",
        "  word = tokenizer.decode([word_num])\n",
        "  embeddings = weights[word_num]\n",
        "  out_m.write(word + \"\\n\")\n",
        "  out_v.write('\\t'.join([str(x) for x in embeddings]) + \"\\n\")\n",
        "out_v.close()\n",
        "out_m.close()"
      ],
      "metadata": {
        "id": "hWqx46badE_x"
      },
      "execution_count": 12,
      "outputs": []
    },
    {
      "cell_type": "code",
      "source": [
        "# Download the files\n",
        "try:\n",
        "  from google.colab import files\n",
        "except ImportError:\n",
        "  pass\n",
        "else:\n",
        "  files.download('vecs.tsv')\n",
        "  files.download('meta.tsv')"
      ],
      "metadata": {
        "colab": {
          "base_uri": "https://localhost:8080/",
          "height": 17
        },
        "id": "kgCLrW6hdHC2",
        "outputId": "41629a5c-f465-4159-9ff8-406effbef60b"
      },
      "execution_count": 13,
      "outputs": [
        {
          "output_type": "display_data",
          "data": {
            "text/plain": [
              "<IPython.core.display.Javascript object>"
            ],
            "application/javascript": [
              "\n",
              "    async function download(id, filename, size) {\n",
              "      if (!google.colab.kernel.accessAllowed) {\n",
              "        return;\n",
              "      }\n",
              "      const div = document.createElement('div');\n",
              "      const label = document.createElement('label');\n",
              "      label.textContent = `Downloading \"${filename}\": `;\n",
              "      div.appendChild(label);\n",
              "      const progress = document.createElement('progress');\n",
              "      progress.max = size;\n",
              "      div.appendChild(progress);\n",
              "      document.body.appendChild(div);\n",
              "\n",
              "      const buffers = [];\n",
              "      let downloaded = 0;\n",
              "\n",
              "      const channel = await google.colab.kernel.comms.open(id);\n",
              "      // Send a message to notify the kernel that we're ready.\n",
              "      channel.send({})\n",
              "\n",
              "      for await (const message of channel.messages) {\n",
              "        // Send a message to notify the kernel that we're ready.\n",
              "        channel.send({})\n",
              "        if (message.buffers) {\n",
              "          for (const buffer of message.buffers) {\n",
              "            buffers.push(buffer);\n",
              "            downloaded += buffer.byteLength;\n",
              "            progress.value = downloaded;\n",
              "          }\n",
              "        }\n",
              "      }\n",
              "      const blob = new Blob(buffers, {type: 'application/binary'});\n",
              "      const a = document.createElement('a');\n",
              "      a.href = window.URL.createObjectURL(blob);\n",
              "      a.download = filename;\n",
              "      div.appendChild(a);\n",
              "      a.click();\n",
              "      div.remove();\n",
              "    }\n",
              "  "
            ]
          },
          "metadata": {}
        },
        {
          "output_type": "display_data",
          "data": {
            "text/plain": [
              "<IPython.core.display.Javascript object>"
            ],
            "application/javascript": [
              "download(\"download_253409ab-62aa-42f9-8f0f-4804a644309e\", \"vecs.tsv\", 185583)"
            ]
          },
          "metadata": {}
        },
        {
          "output_type": "display_data",
          "data": {
            "text/plain": [
              "<IPython.core.display.Javascript object>"
            ],
            "application/javascript": [
              "\n",
              "    async function download(id, filename, size) {\n",
              "      if (!google.colab.kernel.accessAllowed) {\n",
              "        return;\n",
              "      }\n",
              "      const div = document.createElement('div');\n",
              "      const label = document.createElement('label');\n",
              "      label.textContent = `Downloading \"${filename}\": `;\n",
              "      div.appendChild(label);\n",
              "      const progress = document.createElement('progress');\n",
              "      progress.max = size;\n",
              "      div.appendChild(progress);\n",
              "      document.body.appendChild(div);\n",
              "\n",
              "      const buffers = [];\n",
              "      let downloaded = 0;\n",
              "\n",
              "      const channel = await google.colab.kernel.comms.open(id);\n",
              "      // Send a message to notify the kernel that we're ready.\n",
              "      channel.send({})\n",
              "\n",
              "      for await (const message of channel.messages) {\n",
              "        // Send a message to notify the kernel that we're ready.\n",
              "        channel.send({})\n",
              "        if (message.buffers) {\n",
              "          for (const buffer of message.buffers) {\n",
              "            buffers.push(buffer);\n",
              "            downloaded += buffer.byteLength;\n",
              "            progress.value = downloaded;\n",
              "          }\n",
              "        }\n",
              "      }\n",
              "      const blob = new Blob(buffers, {type: 'application/binary'});\n",
              "      const a = document.createElement('a');\n",
              "      a.href = window.URL.createObjectURL(blob);\n",
              "      a.download = filename;\n",
              "      div.appendChild(a);\n",
              "      a.click();\n",
              "      div.remove();\n",
              "    }\n",
              "  "
            ]
          },
          "metadata": {}
        },
        {
          "output_type": "display_data",
          "data": {
            "text/plain": [
              "<IPython.core.display.Javascript object>"
            ],
            "application/javascript": [
              "download(\"download_751568db-73ba-497f-a397-a36243f01637\", \"meta.tsv\", 3901)"
            ]
          },
          "metadata": {}
        }
      ]
    },
    {
      "cell_type": "markdown",
      "source": [
        "***"
      ],
      "metadata": {
        "id": "tjN8CgBLdZLI"
      }
    }
  ]
}