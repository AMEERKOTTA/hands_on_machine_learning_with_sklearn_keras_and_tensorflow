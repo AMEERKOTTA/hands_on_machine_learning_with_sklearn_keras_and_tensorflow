{
  "nbformat": 4,
  "nbformat_minor": 0,
  "metadata": {
    "colab": {
      "provenance": [],
      "authorship_tag": "ABX9TyO3RmZSuij3VOzPeWcMrU7D",
      "include_colab_link": true
    },
    "kernelspec": {
      "name": "python3",
      "display_name": "Python 3"
    },
    "language_info": {
      "name": "python"
    }
  },
  "cells": [
    {
      "cell_type": "markdown",
      "metadata": {
        "id": "view-in-github",
        "colab_type": "text"
      },
      "source": [
        "<a href=\"https://colab.research.google.com/github/AMEERKOTTA/hands_on_machine_learning_with_sklearn_keras_and_tensorflow/blob/main/Intro%20to%20Tensorflow%20for%20Deep%20Learning/08-NLP%3A%20Tokenization%20and%20Embeddings/01_introduction_to_natural_language_processing.ipynb\" target=\"_parent\"><img src=\"https://colab.research.google.com/assets/colab-badge.svg\" alt=\"Open In Colab\"/></a>"
      ]
    },
    {
      "cell_type": "markdown",
      "source": [
        "# **INTRODUCTION TO NLP**\n",
        "\n",
        "+ NLP focusses on analyzing meaning of text and speech.\n",
        "+ Starts with Recognition - What words are given in the text / speech ?\n",
        "+ Then Sentiment Analysis - Sentiment of the Words.\n",
        "  + positive sentiment\n",
        "  + negative sentiment\n",
        "+ Generating new Text\n",
        "  + Writing Song.\n",
        "  + Writing a Script from Scratch.\n",
        "  + etc\n",
        "\n",
        "**APPLICATIONS OF NLP**\n",
        "\n",
        "+ Many Applications like,\n",
        "+ Sentiment Analysis.\n",
        "+ Dictation.\n",
        "+ Translation.\n",
        "+ Voice Assistants.\n",
        "+ Smart Speakers.\n",
        "+ Smart Home Devices.\n",
        "+ and more.\n",
        "+ Devices using NLP are proliferating in the Home and Office.\n",
        "\n",
        "***\n"
      ],
      "metadata": {
        "id": "66S47rqxmyRW"
      }
    }
  ]
}