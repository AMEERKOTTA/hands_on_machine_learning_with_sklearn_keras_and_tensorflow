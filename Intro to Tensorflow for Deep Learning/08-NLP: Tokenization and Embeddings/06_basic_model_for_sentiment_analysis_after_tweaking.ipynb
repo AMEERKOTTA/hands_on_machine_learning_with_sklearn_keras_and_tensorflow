{
  "nbformat": 4,
  "nbformat_minor": 0,
  "metadata": {
    "colab": {
      "provenance": []
    },
    "kernelspec": {
      "name": "python3",
      "display_name": "Python 3"
    },
    "language_info": {
      "name": "python"
    }
  },
  "cells": [
    {
      "cell_type": "markdown",
      "source": [
        "# **BASIC MODEL AFTER TWEAKING**"
      ],
      "metadata": {
        "id": "U_dAoQl2QOax"
      }
    },
    {
      "cell_type": "markdown",
      "source": [
        "IMPORT THE REQUIRED LIBRARIES"
      ],
      "metadata": {
        "id": "nQPvdQYKQWtg"
      }
    },
    {
      "cell_type": "code",
      "source": [
        "import tensorflow as tf\n",
        "import numpy as np\n",
        "import pandas as pd\n",
        "\n",
        "from tensorflow.keras.preprocessing.text import Tokenizer\n",
        "from tensorflow.keras.preprocessing.sequence import pad_sequences"
      ],
      "metadata": {
        "id": "KA6UmUbQQSAt"
      },
      "execution_count": 3,
      "outputs": []
    },
    {
      "cell_type": "markdown",
      "source": [
        "GET THE DATASET"
      ],
      "metadata": {
        "id": "f5KC29kgQkAD"
      }
    },
    {
      "cell_type": "code",
      "source": [
        "!wget --no-check-certificate \\\n",
        "    https://drive.google.com/uc?id=13ySLC_ue6Umt9RJYSeM2t-V0kCv-4C-P \\\n",
        "    -O /tmp/sentiment.csv"
      ],
      "metadata": {
        "colab": {
          "base_uri": "https://localhost:8080/"
        },
        "id": "29hVDYtJQcX5",
        "outputId": "23de7d7b-bf00-4792-dfc5-93adc32b3307"
      },
      "execution_count": 2,
      "outputs": [
        {
          "output_type": "stream",
          "name": "stdout",
          "text": [
            "--2023-03-07 13:28:38--  https://drive.google.com/uc?id=13ySLC_ue6Umt9RJYSeM2t-V0kCv-4C-P\n",
            "Resolving drive.google.com (drive.google.com)... 74.125.204.113, 74.125.204.139, 74.125.204.102, ...\n",
            "Connecting to drive.google.com (drive.google.com)|74.125.204.113|:443... connected.\n",
            "HTTP request sent, awaiting response... 303 See Other\n",
            "Location: https://doc-08-ak-docs.googleusercontent.com/docs/securesc/ha0ro937gcuc7l7deffksulhg5h7mbp1/0vflrmccllns3b9msrjt9aafug3q9sdd/1678195650000/11118900490791463723/*/13ySLC_ue6Umt9RJYSeM2t-V0kCv-4C-P?uuid=1fd97f4a-069f-4df3-9e47-faceaf18aa6c [following]\n",
            "Warning: wildcards not supported in HTTP.\n",
            "--2023-03-07 13:28:38--  https://doc-08-ak-docs.googleusercontent.com/docs/securesc/ha0ro937gcuc7l7deffksulhg5h7mbp1/0vflrmccllns3b9msrjt9aafug3q9sdd/1678195650000/11118900490791463723/*/13ySLC_ue6Umt9RJYSeM2t-V0kCv-4C-P?uuid=1fd97f4a-069f-4df3-9e47-faceaf18aa6c\n",
            "Resolving doc-08-ak-docs.googleusercontent.com (doc-08-ak-docs.googleusercontent.com)... 108.177.97.132, 2404:6800:4008:c00::84\n",
            "Connecting to doc-08-ak-docs.googleusercontent.com (doc-08-ak-docs.googleusercontent.com)|108.177.97.132|:443... connected.\n",
            "HTTP request sent, awaiting response... 200 OK\n",
            "Length: 127831 (125K) [text/csv]\n",
            "Saving to: ‘/tmp/sentiment.csv’\n",
            "\n",
            "/tmp/sentiment.csv  100%[===================>] 124.83K  --.-KB/s    in 0.002s  \n",
            "\n",
            "2023-03-07 13:28:39 (75.1 MB/s) - ‘/tmp/sentiment.csv’ saved [127831/127831]\n",
            "\n"
          ]
        }
      ]
    },
    {
      "cell_type": "markdown",
      "source": [
        "LOAD THE DATASET"
      ],
      "metadata": {
        "id": "ApsDU4SsQw3h"
      }
    },
    {
      "cell_type": "code",
      "source": [
        "dataset = pd.read_csv('/tmp/sentiment.csv')\n",
        "\n",
        "sentences = dataset['text'].tolist()\n",
        "labels = dataset['sentiment'].tolist()\n",
        "\n",
        "# Separate out the sentences and labels into training and test sets\n",
        "training_size = int(len(sentences) * 0.8)\n",
        "\n",
        "training_sentences = sentences[0:training_size]\n",
        "testing_sentences = sentences[training_size:]\n",
        "training_labels = labels[0:training_size]\n",
        "testing_labels = labels[training_size:]\n",
        "\n",
        "# Make labels into numpy arrays for use with the network later\n",
        "training_labels_final = np.array(training_labels)\n",
        "testing_labels_final = np.array(testing_labels)"
      ],
      "metadata": {
        "id": "--UPb5yrQnxW"
      },
      "execution_count": 4,
      "outputs": []
    },
    {
      "cell_type": "markdown",
      "source": [
        "TOKENIZE THE DATASET\n",
        "\n",
        "Previously we used the Parameters.\n",
        "\n",
        "      vocab_size = 1000\n",
        "      embedding_dim = 16\n",
        "      max_length = 100\n",
        "      trunc_type='post'\n",
        "      padding_type='post'\n",
        "\n",
        "\n",
        "\n",
        "\n",
        "\n",
        "\n",
        "\n"
      ],
      "metadata": {
        "id": "AyA5t_S4Q6v1"
      }
    },
    {
      "cell_type": "code",
      "source": [
        "vocab_size = 500\n",
        "embedding_dim = 16\n",
        "max_length = 50\n",
        "trunc_type='post'\n",
        "padding_type='post'\n",
        "oov_tok = \"<OOV>\"\n",
        "\n",
        "tokenizer = Tokenizer(num_words = vocab_size, oov_token=oov_tok)\n",
        "tokenizer.fit_on_texts(training_sentences)\n",
        "word_index = tokenizer.word_index\n",
        "training_sequences = tokenizer.texts_to_sequences(training_sentences)\n",
        "training_padded = pad_sequences(training_sequences, maxlen=max_length, padding=padding_type, truncating=trunc_type)\n",
        "\n",
        "testing_sequences = tokenizer.texts_to_sequences(testing_sentences)\n",
        "testing_padded = pad_sequences(testing_sequences, maxlen=max_length, padding=padding_type, truncating=trunc_type)"
      ],
      "metadata": {
        "id": "vi5LwqW8QzeE"
      },
      "execution_count": 5,
      "outputs": []
    },
    {
      "cell_type": "markdown",
      "source": [
        "DEVELOP THE MODEL"
      ],
      "metadata": {
        "id": "zH_OeMfFRWvk"
      }
    },
    {
      "cell_type": "code",
      "source": [
        "model = tf.keras.Sequential([\n",
        "    tf.keras.layers.Embedding(vocab_size, embedding_dim, input_length=max_length),\n",
        "    tf.keras.layers.GlobalAveragePooling1D(),  ## used the GlobalAveragePooling1D() layer\n",
        "    tf.keras.layers.Dense(6, activation='relu'),\n",
        "    tf.keras.layers.Dense(1, activation='sigmoid')\n",
        "])\n",
        "model.compile(loss='binary_crossentropy',optimizer='adam',metrics=['accuracy'])\n",
        "model.summary()"
      ],
      "metadata": {
        "colab": {
          "base_uri": "https://localhost:8080/"
        },
        "id": "fsQ42XvURTvJ",
        "outputId": "287cf12f-3fb9-4bdd-d8fe-e333035b9aad"
      },
      "execution_count": 6,
      "outputs": [
        {
          "output_type": "stream",
          "name": "stdout",
          "text": [
            "Model: \"sequential\"\n",
            "_________________________________________________________________\n",
            " Layer (type)                Output Shape              Param #   \n",
            "=================================================================\n",
            " embedding (Embedding)       (None, 50, 16)            8000      \n",
            "                                                                 \n",
            " global_average_pooling1d (G  (None, 16)               0         \n",
            " lobalAveragePooling1D)                                          \n",
            "                                                                 \n",
            " dense (Dense)               (None, 6)                 102       \n",
            "                                                                 \n",
            " dense_1 (Dense)             (None, 1)                 7         \n",
            "                                                                 \n",
            "=================================================================\n",
            "Total params: 8,109\n",
            "Trainable params: 8,109\n",
            "Non-trainable params: 0\n",
            "_________________________________________________________________\n"
          ]
        }
      ]
    },
    {
      "cell_type": "markdown",
      "source": [
        "TRAIN THE MODEL"
      ],
      "metadata": {
        "id": "TsAvKkBDRelo"
      }
    },
    {
      "cell_type": "code",
      "source": [
        "num_epochs = 100\n",
        "history = model.fit(training_padded, training_labels_final, epochs=num_epochs, validation_data=(testing_padded, testing_labels_final))"
      ],
      "metadata": {
        "colab": {
          "base_uri": "https://localhost:8080/"
        },
        "id": "Y5RS1pIaRd35",
        "outputId": "672b92cc-d300-44f4-ad99-8a12841f1a6c"
      },
      "execution_count": 7,
      "outputs": [
        {
          "output_type": "stream",
          "name": "stdout",
          "text": [
            "Epoch 1/100\n",
            "50/50 [==============================] - 3s 11ms/step - loss: 0.6916 - accuracy: 0.5223 - val_loss: 0.6994 - val_accuracy: 0.4110\n",
            "Epoch 2/100\n",
            "50/50 [==============================] - 0s 6ms/step - loss: 0.6897 - accuracy: 0.5235 - val_loss: 0.6975 - val_accuracy: 0.4135\n",
            "Epoch 3/100\n",
            "50/50 [==============================] - 0s 5ms/step - loss: 0.6861 - accuracy: 0.5298 - val_loss: 0.6976 - val_accuracy: 0.4311\n",
            "Epoch 4/100\n",
            "50/50 [==============================] - 0s 5ms/step - loss: 0.6802 - accuracy: 0.5518 - val_loss: 0.6927 - val_accuracy: 0.4612\n",
            "Epoch 5/100\n",
            "50/50 [==============================] - 0s 5ms/step - loss: 0.6714 - accuracy: 0.5920 - val_loss: 0.6812 - val_accuracy: 0.5338\n",
            "Epoch 6/100\n",
            "50/50 [==============================] - 0s 6ms/step - loss: 0.6592 - accuracy: 0.6529 - val_loss: 0.6792 - val_accuracy: 0.5188\n",
            "Epoch 7/100\n",
            "50/50 [==============================] - 0s 5ms/step - loss: 0.6421 - accuracy: 0.6667 - val_loss: 0.6566 - val_accuracy: 0.6190\n",
            "Epoch 8/100\n",
            "50/50 [==============================] - 0s 5ms/step - loss: 0.6206 - accuracy: 0.7175 - val_loss: 0.6393 - val_accuracy: 0.6617\n",
            "Epoch 9/100\n",
            "50/50 [==============================] - 0s 6ms/step - loss: 0.5948 - accuracy: 0.7696 - val_loss: 0.6300 - val_accuracy: 0.6241\n",
            "Epoch 10/100\n",
            "50/50 [==============================] - 0s 6ms/step - loss: 0.5681 - accuracy: 0.7753 - val_loss: 0.5988 - val_accuracy: 0.7444\n",
            "Epoch 11/100\n",
            "50/50 [==============================] - 0s 5ms/step - loss: 0.5379 - accuracy: 0.8192 - val_loss: 0.5757 - val_accuracy: 0.7769\n",
            "Epoch 12/100\n",
            "50/50 [==============================] - 0s 8ms/step - loss: 0.5092 - accuracy: 0.8205 - val_loss: 0.5716 - val_accuracy: 0.7118\n",
            "Epoch 13/100\n",
            "50/50 [==============================] - 1s 15ms/step - loss: 0.4815 - accuracy: 0.8349 - val_loss: 0.5500 - val_accuracy: 0.7469\n",
            "Epoch 14/100\n",
            "50/50 [==============================] - 1s 14ms/step - loss: 0.4552 - accuracy: 0.8456 - val_loss: 0.5440 - val_accuracy: 0.7318\n",
            "Epoch 15/100\n",
            "50/50 [==============================] - 0s 6ms/step - loss: 0.4304 - accuracy: 0.8512 - val_loss: 0.5213 - val_accuracy: 0.7644\n",
            "Epoch 16/100\n",
            "50/50 [==============================] - 0s 5ms/step - loss: 0.4085 - accuracy: 0.8531 - val_loss: 0.5192 - val_accuracy: 0.7393\n",
            "Epoch 17/100\n",
            "50/50 [==============================] - 0s 5ms/step - loss: 0.3888 - accuracy: 0.8650 - val_loss: 0.5120 - val_accuracy: 0.7393\n",
            "Epoch 18/100\n",
            "50/50 [==============================] - 0s 6ms/step - loss: 0.3727 - accuracy: 0.8657 - val_loss: 0.5135 - val_accuracy: 0.7268\n",
            "Epoch 19/100\n",
            "50/50 [==============================] - 0s 5ms/step - loss: 0.3548 - accuracy: 0.8701 - val_loss: 0.4895 - val_accuracy: 0.7669\n",
            "Epoch 20/100\n",
            "50/50 [==============================] - 0s 6ms/step - loss: 0.3411 - accuracy: 0.8745 - val_loss: 0.5050 - val_accuracy: 0.7293\n",
            "Epoch 21/100\n",
            "50/50 [==============================] - 0s 6ms/step - loss: 0.3285 - accuracy: 0.8713 - val_loss: 0.4800 - val_accuracy: 0.7769\n",
            "Epoch 22/100\n",
            "50/50 [==============================] - 0s 5ms/step - loss: 0.3153 - accuracy: 0.8820 - val_loss: 0.4759 - val_accuracy: 0.7769\n",
            "Epoch 23/100\n",
            "50/50 [==============================] - 0s 5ms/step - loss: 0.3079 - accuracy: 0.8776 - val_loss: 0.4893 - val_accuracy: 0.7594\n",
            "Epoch 24/100\n",
            "50/50 [==============================] - 0s 5ms/step - loss: 0.2980 - accuracy: 0.8832 - val_loss: 0.4780 - val_accuracy: 0.7694\n",
            "Epoch 25/100\n",
            "50/50 [==============================] - 0s 5ms/step - loss: 0.2890 - accuracy: 0.8945 - val_loss: 0.4837 - val_accuracy: 0.7569\n",
            "Epoch 26/100\n",
            "50/50 [==============================] - 0s 5ms/step - loss: 0.2789 - accuracy: 0.8908 - val_loss: 0.4980 - val_accuracy: 0.7368\n",
            "Epoch 27/100\n",
            "50/50 [==============================] - 0s 5ms/step - loss: 0.2708 - accuracy: 0.8977 - val_loss: 0.4940 - val_accuracy: 0.7444\n",
            "Epoch 28/100\n",
            "50/50 [==============================] - 0s 5ms/step - loss: 0.2637 - accuracy: 0.9033 - val_loss: 0.5152 - val_accuracy: 0.7268\n",
            "Epoch 29/100\n",
            "50/50 [==============================] - 0s 5ms/step - loss: 0.2615 - accuracy: 0.8989 - val_loss: 0.5134 - val_accuracy: 0.7318\n",
            "Epoch 30/100\n",
            "50/50 [==============================] - 0s 6ms/step - loss: 0.2533 - accuracy: 0.9002 - val_loss: 0.4837 - val_accuracy: 0.7694\n",
            "Epoch 31/100\n",
            "50/50 [==============================] - 0s 6ms/step - loss: 0.2475 - accuracy: 0.9096 - val_loss: 0.5174 - val_accuracy: 0.7343\n",
            "Epoch 32/100\n",
            "50/50 [==============================] - 0s 9ms/step - loss: 0.2404 - accuracy: 0.9090 - val_loss: 0.4868 - val_accuracy: 0.7719\n",
            "Epoch 33/100\n",
            "50/50 [==============================] - 0s 8ms/step - loss: 0.2365 - accuracy: 0.9090 - val_loss: 0.5198 - val_accuracy: 0.7393\n",
            "Epoch 34/100\n",
            "50/50 [==============================] - 0s 8ms/step - loss: 0.2323 - accuracy: 0.9102 - val_loss: 0.5300 - val_accuracy: 0.7318\n",
            "Epoch 35/100\n",
            "50/50 [==============================] - 0s 8ms/step - loss: 0.2285 - accuracy: 0.9127 - val_loss: 0.5115 - val_accuracy: 0.7494\n",
            "Epoch 36/100\n",
            "50/50 [==============================] - 0s 7ms/step - loss: 0.2242 - accuracy: 0.9140 - val_loss: 0.5248 - val_accuracy: 0.7444\n",
            "Epoch 37/100\n",
            "50/50 [==============================] - 0s 8ms/step - loss: 0.2185 - accuracy: 0.9140 - val_loss: 0.5552 - val_accuracy: 0.7293\n",
            "Epoch 38/100\n",
            "50/50 [==============================] - 0s 7ms/step - loss: 0.2158 - accuracy: 0.9127 - val_loss: 0.5205 - val_accuracy: 0.7469\n",
            "Epoch 39/100\n",
            "50/50 [==============================] - 0s 5ms/step - loss: 0.2108 - accuracy: 0.9165 - val_loss: 0.5609 - val_accuracy: 0.7368\n",
            "Epoch 40/100\n",
            "50/50 [==============================] - 0s 6ms/step - loss: 0.2135 - accuracy: 0.9153 - val_loss: 0.5687 - val_accuracy: 0.7343\n",
            "Epoch 41/100\n",
            "50/50 [==============================] - 0s 5ms/step - loss: 0.2071 - accuracy: 0.9196 - val_loss: 0.5278 - val_accuracy: 0.7419\n",
            "Epoch 42/100\n",
            "50/50 [==============================] - 0s 5ms/step - loss: 0.2021 - accuracy: 0.9190 - val_loss: 0.5758 - val_accuracy: 0.7393\n",
            "Epoch 43/100\n",
            "50/50 [==============================] - 0s 5ms/step - loss: 0.1997 - accuracy: 0.9247 - val_loss: 0.5579 - val_accuracy: 0.7368\n",
            "Epoch 44/100\n",
            "50/50 [==============================] - 0s 5ms/step - loss: 0.1968 - accuracy: 0.9234 - val_loss: 0.5867 - val_accuracy: 0.7368\n",
            "Epoch 45/100\n",
            "50/50 [==============================] - 0s 5ms/step - loss: 0.1937 - accuracy: 0.9278 - val_loss: 0.5516 - val_accuracy: 0.7494\n",
            "Epoch 46/100\n",
            "50/50 [==============================] - 0s 6ms/step - loss: 0.1923 - accuracy: 0.9228 - val_loss: 0.5684 - val_accuracy: 0.7419\n",
            "Epoch 47/100\n",
            "50/50 [==============================] - 0s 5ms/step - loss: 0.1889 - accuracy: 0.9272 - val_loss: 0.5607 - val_accuracy: 0.7494\n",
            "Epoch 48/100\n",
            "50/50 [==============================] - 0s 6ms/step - loss: 0.1863 - accuracy: 0.9228 - val_loss: 0.6096 - val_accuracy: 0.7243\n",
            "Epoch 49/100\n",
            "50/50 [==============================] - 0s 5ms/step - loss: 0.1841 - accuracy: 0.9303 - val_loss: 0.5742 - val_accuracy: 0.7469\n",
            "Epoch 50/100\n",
            "50/50 [==============================] - 0s 6ms/step - loss: 0.1834 - accuracy: 0.9297 - val_loss: 0.6004 - val_accuracy: 0.7268\n",
            "Epoch 51/100\n",
            "50/50 [==============================] - 0s 6ms/step - loss: 0.1818 - accuracy: 0.9309 - val_loss: 0.5821 - val_accuracy: 0.7469\n",
            "Epoch 52/100\n",
            "50/50 [==============================] - 0s 6ms/step - loss: 0.1779 - accuracy: 0.9266 - val_loss: 0.6297 - val_accuracy: 0.7218\n",
            "Epoch 53/100\n",
            "50/50 [==============================] - 0s 5ms/step - loss: 0.1763 - accuracy: 0.9303 - val_loss: 0.5858 - val_accuracy: 0.7494\n",
            "Epoch 54/100\n",
            "50/50 [==============================] - 0s 5ms/step - loss: 0.1756 - accuracy: 0.9272 - val_loss: 0.6052 - val_accuracy: 0.7444\n",
            "Epoch 55/100\n",
            "50/50 [==============================] - 0s 6ms/step - loss: 0.1723 - accuracy: 0.9328 - val_loss: 0.6016 - val_accuracy: 0.7494\n",
            "Epoch 56/100\n",
            "50/50 [==============================] - 0s 6ms/step - loss: 0.1721 - accuracy: 0.9303 - val_loss: 0.6855 - val_accuracy: 0.7043\n",
            "Epoch 57/100\n",
            "50/50 [==============================] - 0s 5ms/step - loss: 0.1707 - accuracy: 0.9328 - val_loss: 0.6194 - val_accuracy: 0.7469\n",
            "Epoch 58/100\n",
            "50/50 [==============================] - 0s 5ms/step - loss: 0.1674 - accuracy: 0.9272 - val_loss: 0.6191 - val_accuracy: 0.7469\n",
            "Epoch 59/100\n",
            "50/50 [==============================] - 0s 5ms/step - loss: 0.1668 - accuracy: 0.9366 - val_loss: 0.6529 - val_accuracy: 0.7218\n",
            "Epoch 60/100\n",
            "50/50 [==============================] - 0s 6ms/step - loss: 0.1667 - accuracy: 0.9303 - val_loss: 0.6841 - val_accuracy: 0.7168\n",
            "Epoch 61/100\n",
            "50/50 [==============================] - 0s 5ms/step - loss: 0.1630 - accuracy: 0.9353 - val_loss: 0.6248 - val_accuracy: 0.7444\n",
            "Epoch 62/100\n",
            "50/50 [==============================] - 0s 6ms/step - loss: 0.1602 - accuracy: 0.9379 - val_loss: 0.6280 - val_accuracy: 0.7444\n",
            "Epoch 63/100\n",
            "50/50 [==============================] - 0s 5ms/step - loss: 0.1618 - accuracy: 0.9347 - val_loss: 0.6463 - val_accuracy: 0.7368\n",
            "Epoch 64/100\n",
            "50/50 [==============================] - 0s 6ms/step - loss: 0.1572 - accuracy: 0.9391 - val_loss: 0.6493 - val_accuracy: 0.7393\n",
            "Epoch 65/100\n",
            "50/50 [==============================] - 0s 6ms/step - loss: 0.1560 - accuracy: 0.9448 - val_loss: 0.7597 - val_accuracy: 0.6917\n",
            "Epoch 66/100\n",
            "50/50 [==============================] - 0s 5ms/step - loss: 0.1571 - accuracy: 0.9397 - val_loss: 0.7406 - val_accuracy: 0.7018\n",
            "Epoch 67/100\n",
            "50/50 [==============================] - 0s 6ms/step - loss: 0.1537 - accuracy: 0.9416 - val_loss: 0.6639 - val_accuracy: 0.7393\n",
            "Epoch 68/100\n",
            "50/50 [==============================] - 0s 6ms/step - loss: 0.1535 - accuracy: 0.9404 - val_loss: 0.7320 - val_accuracy: 0.7143\n",
            "Epoch 69/100\n",
            "50/50 [==============================] - 0s 6ms/step - loss: 0.1511 - accuracy: 0.9429 - val_loss: 0.7153 - val_accuracy: 0.7293\n",
            "Epoch 70/100\n",
            "50/50 [==============================] - 0s 6ms/step - loss: 0.1488 - accuracy: 0.9422 - val_loss: 0.7137 - val_accuracy: 0.7343\n",
            "Epoch 71/100\n",
            "50/50 [==============================] - 0s 6ms/step - loss: 0.1487 - accuracy: 0.9435 - val_loss: 0.7270 - val_accuracy: 0.7318\n",
            "Epoch 72/100\n",
            "50/50 [==============================] - 0s 6ms/step - loss: 0.1451 - accuracy: 0.9466 - val_loss: 0.8035 - val_accuracy: 0.6992\n",
            "Epoch 73/100\n",
            "50/50 [==============================] - 0s 6ms/step - loss: 0.1498 - accuracy: 0.9473 - val_loss: 0.6828 - val_accuracy: 0.7393\n",
            "Epoch 74/100\n",
            "50/50 [==============================] - 0s 8ms/step - loss: 0.1471 - accuracy: 0.9441 - val_loss: 0.7671 - val_accuracy: 0.7218\n",
            "Epoch 75/100\n",
            "50/50 [==============================] - 0s 8ms/step - loss: 0.1456 - accuracy: 0.9466 - val_loss: 0.7915 - val_accuracy: 0.7068\n",
            "Epoch 76/100\n",
            "50/50 [==============================] - 0s 8ms/step - loss: 0.1428 - accuracy: 0.9454 - val_loss: 0.7440 - val_accuracy: 0.7318\n",
            "Epoch 77/100\n",
            "50/50 [==============================] - 0s 8ms/step - loss: 0.1417 - accuracy: 0.9473 - val_loss: 0.7392 - val_accuracy: 0.7343\n",
            "Epoch 78/100\n",
            "50/50 [==============================] - 0s 7ms/step - loss: 0.1411 - accuracy: 0.9504 - val_loss: 0.7807 - val_accuracy: 0.7293\n",
            "Epoch 79/100\n",
            "50/50 [==============================] - 0s 8ms/step - loss: 0.1396 - accuracy: 0.9454 - val_loss: 0.7278 - val_accuracy: 0.7393\n",
            "Epoch 80/100\n",
            "50/50 [==============================] - 0s 7ms/step - loss: 0.1400 - accuracy: 0.9454 - val_loss: 0.7625 - val_accuracy: 0.7343\n",
            "Epoch 81/100\n",
            "50/50 [==============================] - 0s 5ms/step - loss: 0.1356 - accuracy: 0.9517 - val_loss: 0.7578 - val_accuracy: 0.7318\n",
            "Epoch 82/100\n",
            "50/50 [==============================] - 0s 6ms/step - loss: 0.1351 - accuracy: 0.9504 - val_loss: 0.7935 - val_accuracy: 0.7318\n",
            "Epoch 83/100\n",
            "50/50 [==============================] - 0s 5ms/step - loss: 0.1351 - accuracy: 0.9498 - val_loss: 0.8068 - val_accuracy: 0.7293\n",
            "Epoch 84/100\n",
            "50/50 [==============================] - 0s 6ms/step - loss: 0.1370 - accuracy: 0.9479 - val_loss: 0.8768 - val_accuracy: 0.7043\n",
            "Epoch 85/100\n",
            "50/50 [==============================] - 0s 9ms/step - loss: 0.1357 - accuracy: 0.9498 - val_loss: 0.8007 - val_accuracy: 0.7368\n",
            "Epoch 86/100\n",
            "50/50 [==============================] - 1s 10ms/step - loss: 0.1337 - accuracy: 0.9492 - val_loss: 0.7824 - val_accuracy: 0.7368\n",
            "Epoch 87/100\n",
            "50/50 [==============================] - 1s 13ms/step - loss: 0.1348 - accuracy: 0.9498 - val_loss: 0.8835 - val_accuracy: 0.7143\n",
            "Epoch 88/100\n",
            "50/50 [==============================] - 1s 11ms/step - loss: 0.1353 - accuracy: 0.9523 - val_loss: 0.7927 - val_accuracy: 0.7343\n",
            "Epoch 89/100\n",
            "50/50 [==============================] - 1s 10ms/step - loss: 0.1305 - accuracy: 0.9523 - val_loss: 0.8442 - val_accuracy: 0.7293\n",
            "Epoch 90/100\n",
            "50/50 [==============================] - 1s 10ms/step - loss: 0.1310 - accuracy: 0.9561 - val_loss: 0.8509 - val_accuracy: 0.7293\n",
            "Epoch 91/100\n",
            "50/50 [==============================] - 0s 9ms/step - loss: 0.1283 - accuracy: 0.9510 - val_loss: 0.8344 - val_accuracy: 0.7343\n",
            "Epoch 92/100\n",
            "50/50 [==============================] - 0s 7ms/step - loss: 0.1279 - accuracy: 0.9485 - val_loss: 0.8581 - val_accuracy: 0.7318\n",
            "Epoch 93/100\n",
            "50/50 [==============================] - 0s 7ms/step - loss: 0.1267 - accuracy: 0.9567 - val_loss: 0.8290 - val_accuracy: 0.7343\n",
            "Epoch 94/100\n",
            "50/50 [==============================] - 0s 7ms/step - loss: 0.1264 - accuracy: 0.9529 - val_loss: 0.8985 - val_accuracy: 0.7268\n",
            "Epoch 95/100\n",
            "50/50 [==============================] - 0s 7ms/step - loss: 0.1244 - accuracy: 0.9542 - val_loss: 0.9661 - val_accuracy: 0.6967\n",
            "Epoch 96/100\n",
            "50/50 [==============================] - 1s 14ms/step - loss: 0.1276 - accuracy: 0.9492 - val_loss: 0.8824 - val_accuracy: 0.7318\n",
            "Epoch 97/100\n",
            "50/50 [==============================] - 0s 10ms/step - loss: 0.1244 - accuracy: 0.9554 - val_loss: 0.8859 - val_accuracy: 0.7343\n",
            "Epoch 98/100\n",
            "50/50 [==============================] - 0s 7ms/step - loss: 0.1239 - accuracy: 0.9605 - val_loss: 0.8948 - val_accuracy: 0.7343\n",
            "Epoch 99/100\n",
            "50/50 [==============================] - 0s 9ms/step - loss: 0.1227 - accuracy: 0.9579 - val_loss: 0.9602 - val_accuracy: 0.7093\n",
            "Epoch 100/100\n",
            "50/50 [==============================] - 0s 7ms/step - loss: 0.1259 - accuracy: 0.9529 - val_loss: 0.8735 - val_accuracy: 0.7368\n"
          ]
        }
      ]
    },
    {
      "cell_type": "code",
      "source": [
        "## visualize the training graph\n",
        "import matplotlib.pyplot as plt\n",
        "\n",
        "\n",
        "def plot_graphs(history, string):\n",
        "  plt.plot(history.history[string])\n",
        "  plt.plot(history.history['val_'+string])\n",
        "  plt.xlabel(\"Epochs\")\n",
        "  plt.ylabel(string)\n",
        "  plt.legend([string, 'val_'+string])\n",
        "  plt.show()\n",
        "  \n",
        "plot_graphs(history, \"accuracy\")\n",
        "plot_graphs(history, \"loss\")"
      ],
      "metadata": {
        "colab": {
          "base_uri": "https://localhost:8080/",
          "height": 543
        },
        "id": "3G4bdQS8SCbr",
        "outputId": "1e6d7dd2-dafe-4430-f41b-4ec4a034e5a6"
      },
      "execution_count": 8,
      "outputs": [
        {
          "output_type": "display_data",
          "data": {
            "text/plain": [
              "<Figure size 432x288 with 1 Axes>"
            ],
            "image/png": "[encoded data removed]"
          },
          "metadata": {
            "needs_background": "light"
          }
        },
        {
          "output_type": "display_data",
          "data": {
            "text/plain": [
              "<Figure size 432x288 with 1 Axes>"
            ],
            "image/png": "[encoded data removed]"
          },
          "metadata": {
            "needs_background": "light"
          }
        }
      ]
    },
    {
      "cell_type": "markdown",
      "source": [
        "GET FILES FOR VISUALIZING THE NETWORK"
      ],
      "metadata": {
        "id": "SYawM_-sST6Q"
      }
    },
    {
      "cell_type": "code",
      "source": [
        "# First get the weights of the embedding layer\n",
        "e = model.layers[0]\n",
        "weights = e.get_weights()[0]\n",
        "print(weights.shape) # shape: (vocab_size, embedding_dim)"
      ],
      "metadata": {
        "colab": {
          "base_uri": "https://localhost:8080/"
        },
        "id": "VToiqVdDSOHj",
        "outputId": "4c7a62fa-ea22-4633-c733-80e98ea6d314"
      },
      "execution_count": 9,
      "outputs": [
        {
          "output_type": "stream",
          "name": "stdout",
          "text": [
            "(500, 16)\n"
          ]
        }
      ]
    },
    {
      "cell_type": "code",
      "source": [
        "import io\n",
        "\n",
        "# Create the reverse word index\n",
        "reverse_word_index = dict([(value, key) for (key, value) in word_index.items()])\n",
        "\n",
        "# Write out the embedding vectors and metadata\n",
        "out_v = io.open('vecs.tsv', 'w', encoding='utf-8')\n",
        "out_m = io.open('meta.tsv', 'w', encoding='utf-8')\n",
        "for word_num in range(1, vocab_size):\n",
        "  word = reverse_word_index[word_num]\n",
        "  embeddings = weights[word_num]\n",
        "  out_m.write(word + \"\\n\")\n",
        "  out_v.write('\\t'.join([str(x) for x in embeddings]) + \"\\n\")\n",
        "out_v.close()\n",
        "out_m.close()"
      ],
      "metadata": {
        "id": "MfjalgfpSzAM"
      },
      "execution_count": 10,
      "outputs": []
    },
    {
      "cell_type": "code",
      "source": [
        "# Download the files\n",
        "try:\n",
        "  from google.colab import files\n",
        "except ImportError:\n",
        "  pass\n",
        "else:\n",
        "  files.download('vecs.tsv')\n",
        "  files.download('meta.tsv')"
      ],
      "metadata": {
        "colab": {
          "base_uri": "https://localhost:8080/",
          "height": 17
        },
        "id": "G6GXTUgUS2Nu",
        "outputId": "bfc78b31-c14f-4840-9b9d-b1f049d45bb3"
      },
      "execution_count": 11,
      "outputs": [
        {
          "output_type": "display_data",
          "data": {
            "text/plain": [
              "<IPython.core.display.Javascript object>"
            ],
            "application/javascript": [
              "\n",
              "    async function download(id, filename, size) {\n",
              "      if (!google.colab.kernel.accessAllowed) {\n",
              "        return;\n",
              "      }\n",
              "      const div = document.createElement('div');\n",
              "      const label = document.createElement('label');\n",
              "      label.textContent = `Downloading \"${filename}\": `;\n",
              "      div.appendChild(label);\n",
              "      const progress = document.createElement('progress');\n",
              "      progress.max = size;\n",
              "      div.appendChild(progress);\n",
              "      document.body.appendChild(div);\n",
              "\n",
              "      const buffers = [];\n",
              "      let downloaded = 0;\n",
              "\n",
              "      const channel = await google.colab.kernel.comms.open(id);\n",
              "      // Send a message to notify the kernel that we're ready.\n",
              "      channel.send({})\n",
              "\n",
              "      for await (const message of channel.messages) {\n",
              "        // Send a message to notify the kernel that we're ready.\n",
              "        channel.send({})\n",
              "        if (message.buffers) {\n",
              "          for (const buffer of message.buffers) {\n",
              "            buffers.push(buffer);\n",
              "            downloaded += buffer.byteLength;\n",
              "            progress.value = downloaded;\n",
              "          }\n",
              "        }\n",
              "      }\n",
              "      const blob = new Blob(buffers, {type: 'application/binary'});\n",
              "      const a = document.createElement('a');\n",
              "      a.href = window.URL.createObjectURL(blob);\n",
              "      a.download = filename;\n",
              "      div.appendChild(a);\n",
              "      a.click();\n",
              "      div.remove();\n",
              "    }\n",
              "  "
            ]
          },
          "metadata": {}
        },
        {
          "output_type": "display_data",
          "data": {
            "text/plain": [
              "<IPython.core.display.Javascript object>"
            ],
            "application/javascript": [
              "download(\"download_e04fa1fe-fdf6-47aa-a731-0b101f4c6fd8\", \"vecs.tsv\", 89912)"
            ]
          },
          "metadata": {}
        },
        {
          "output_type": "display_data",
          "data": {
            "text/plain": [
              "<IPython.core.display.Javascript object>"
            ],
            "application/javascript": [
              "\n",
              "    async function download(id, filename, size) {\n",
              "      if (!google.colab.kernel.accessAllowed) {\n",
              "        return;\n",
              "      }\n",
              "      const div = document.createElement('div');\n",
              "      const label = document.createElement('label');\n",
              "      label.textContent = `Downloading \"${filename}\": `;\n",
              "      div.appendChild(label);\n",
              "      const progress = document.createElement('progress');\n",
              "      progress.max = size;\n",
              "      div.appendChild(progress);\n",
              "      document.body.appendChild(div);\n",
              "\n",
              "      const buffers = [];\n",
              "      let downloaded = 0;\n",
              "\n",
              "      const channel = await google.colab.kernel.comms.open(id);\n",
              "      // Send a message to notify the kernel that we're ready.\n",
              "      channel.send({})\n",
              "\n",
              "      for await (const message of channel.messages) {\n",
              "        // Send a message to notify the kernel that we're ready.\n",
              "        channel.send({})\n",
              "        if (message.buffers) {\n",
              "          for (const buffer of message.buffers) {\n",
              "            buffers.push(buffer);\n",
              "            downloaded += buffer.byteLength;\n",
              "            progress.value = downloaded;\n",
              "          }\n",
              "        }\n",
              "      }\n",
              "      const blob = new Blob(buffers, {type: 'application/binary'});\n",
              "      const a = document.createElement('a');\n",
              "      a.href = window.URL.createObjectURL(blob);\n",
              "      a.download = filename;\n",
              "      div.appendChild(a);\n",
              "      a.click();\n",
              "      div.remove();\n",
              "    }\n",
              "  "
            ]
          },
          "metadata": {}
        },
        {
          "output_type": "display_data",
          "data": {
            "text/plain": [
              "<IPython.core.display.Javascript object>"
            ],
            "application/javascript": [
              "download(\"download_8b37d2dc-f51c-44db-8434-2af98a62a75d\", \"meta.tsv\", 3025)"
            ]
          },
          "metadata": {}
        }
      ]
    },
    {
      "cell_type": "markdown",
      "source": [
        "PREDICTION OF SENTIMENTS USING MODEL"
      ],
      "metadata": {
        "id": "_nq0hoyFS_EN"
      }
    },
    {
      "cell_type": "code",
      "source": [
        "# Use the model to predict a review   \n",
        "fake_reviews = ['I love this phone', 'I hate spaghetti', \n",
        "                'Everything was cold',\n",
        "                'Everything was hot exactly as I wanted', \n",
        "                'Everything was green', \n",
        "                'the host seated us immediately',\n",
        "                'they gave us free chocolate cake', \n",
        "                'not sure about the wilted flowers on the table',\n",
        "                'only works when I stand on tippy toes', \n",
        "                'does not work when I stand on my head']\n",
        "\n",
        "print(fake_reviews) \n",
        "\n",
        "# Create the sequences\n",
        "padding_type='post'\n",
        "sample_sequences = tokenizer.texts_to_sequences(fake_reviews)\n",
        "fakes_padded = pad_sequences(sample_sequences, padding=padding_type, maxlen=max_length)           \n",
        "\n",
        "print('\\nHOT OFF THE PRESS! HERE ARE SOME NEWLY MINTED, ABSOLUTELY GENUINE REVIEWS!\\n')              \n",
        "\n",
        "classes = model.predict(fakes_padded)\n",
        "\n",
        "# The closer the class is to 1, the more positive the review is deemed to be\n",
        "for x in range(len(fake_reviews)):\n",
        "  print(fake_reviews[x])\n",
        "  print(classes[x])\n",
        "  print('\\n')\n"
      ],
      "metadata": {
        "colab": {
          "base_uri": "https://localhost:8080/"
        },
        "id": "zJ5qG5EsS44o",
        "outputId": "89f40bee-7061-4dcc-f853-f44f3ccd6c2b"
      },
      "execution_count": 12,
      "outputs": [
        {
          "output_type": "stream",
          "name": "stdout",
          "text": [
            "['I love this phone', 'I hate spaghetti', 'Everything was cold', 'Everything was hot exactly as I wanted', 'Everything was green', 'the host seated us immediately', 'they gave us free chocolate cake', 'not sure about the wilted flowers on the table', 'only works when I stand on tippy toes', 'does not work when I stand on my head']\n",
            "\n",
            "HOT OFF THE PRESS! HERE ARE SOME NEWLY MINTED, ABSOLUTELY GENUINE REVIEWS!\n",
            "\n",
            "1/1 [==============================] - 1s 687ms/step\n",
            "I love this phone\n",
            "[0.99921817]\n",
            "\n",
            "\n",
            "I hate spaghetti\n",
            "[0.00690118]\n",
            "\n",
            "\n",
            "Everything was cold\n",
            "[0.64587796]\n",
            "\n",
            "\n",
            "Everything was hot exactly as I wanted\n",
            "[0.2875314]\n",
            "\n",
            "\n",
            "Everything was green\n",
            "[0.64587796]\n",
            "\n",
            "\n",
            "the host seated us immediately\n",
            "[0.94967806]\n",
            "\n",
            "\n",
            "they gave us free chocolate cake\n",
            "[0.99956226]\n",
            "\n",
            "\n",
            "not sure about the wilted flowers on the table\n",
            "[0.0051156]\n",
            "\n",
            "\n",
            "only works when I stand on tippy toes\n",
            "[0.9980793]\n",
            "\n",
            "\n",
            "does not work when I stand on my head\n",
            "[0.00429131]\n",
            "\n",
            "\n"
          ]
        }
      ]
    },
    {
      "cell_type": "markdown",
      "source": [
        "***"
      ],
      "metadata": {
        "id": "loCBNKcJTPWA"
      }
    }
  ]
}