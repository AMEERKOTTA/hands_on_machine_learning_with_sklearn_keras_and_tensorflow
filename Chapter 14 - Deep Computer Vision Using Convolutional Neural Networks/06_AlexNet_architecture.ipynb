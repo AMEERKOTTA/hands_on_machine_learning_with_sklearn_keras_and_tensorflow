{
 "cells": [
  {
   "cell_type": "markdown",
   "metadata": {},
   "source": [
    "### AlexNet ARCHITECTURE"
   ]
  },
  {
   "cell_type": "markdown",
   "metadata": {},
   "source": [
    "**IMPORT TOOLS AND LIBRARIES**"
   ]
  },
  {
   "cell_type": "code",
   "execution_count": 1,
   "metadata": {},
   "outputs": [],
   "source": [
    "import tensorflow as tf\n",
    "from tensorflow import keras\n",
    "import matplotlib.pyplot as plt\n",
    "import os\n",
    "import time"
   ]
  },
  {
   "cell_type": "markdown",
   "metadata": {},
   "source": [
    "**IMPORT DATASET**\n",
    "+ CIFAR-10 dataset contain 60000 colored images.\n",
    "+ with dimension of Each,` [32,32]`\n",
    "+ Content of the Dataset is sampled to 10 Classes.\n",
    "    + airplane\n",
    "    + automobile\n",
    "    + bird\n",
    "    + cat\n",
    "    + deer\n",
    "    + dog\n",
    "    + frog\n",
    "    + horse\n",
    "    + ship\n",
    "    + truck\n",
    "+ CIFAR-10 contains\n",
    "    + 50000 training data\n",
    "    + 10000 testing data.\n",
    "+ And make the Validation Data.\n",
    "+ After the preparation of the Validation Dataset.\n",
    "+ the data must be represented in Tensorflow Dataset Representation.\n",
    "+ use `tf.data.Dataset.from_tensor_slices()`"
   ]
  },
  {
   "cell_type": "code",
   "execution_count": 2,
   "metadata": {},
   "outputs": [
    {
     "name": "stdout",
     "output_type": "stream",
     "text": [
      "=====================IMPORTING THE DATASET AND MAKING TRAINING AND TESTING SETS====================\n",
      "Training Images Dataset Shape :---- (50000, 32, 32, 3)\n",
      "Training Labels Dataset Shape :---- (50000, 1)\n",
      "Testing Images Dataset Shape :---- (10000, 32, 32, 3)\n",
      "Testing Labels Dataset Shape :---- (10000, 1)\n",
      "=====================DEFINING THE CLASS NAMES========================================================\n",
      "Class Names :-- ['airplane', 'automobile', 'bird', 'cat', 'deer', 'dog', 'frog', 'horse', 'ship', 'truck']\n",
      "==========================DEFINING THE VALIDATION DATA====================================\n",
      "Validation Images Dataset Shape :-- (5000, 32, 32, 3)\n",
      "Validation Labels Dataset Shape :-- (5000, 1)\n",
      "Training Images Dataset Shape :---- (45000, 32, 32, 3)\n",
      "Training Labels Dataset Shape :---- (45000, 1)\n",
      "============================PREPARING THE DATA TO TENSORFLOW DATASET REPRESENTATION====================\n",
      "Tensorflow Representation of training images and labels 45000\n",
      "Tensorflow Representation of testing images and labels 10000\n",
      "Tensorflow Representation of validation images and labels 5000\n"
     ]
    }
   ],
   "source": [
    "## import the dataset\n",
    "print(\"=====================IMPORTING THE DATASET AND MAKING TRAINING AND TESTING SETS====================\")\n",
    "(train_images, train_labels), (test_images, test_labels) = keras.datasets.cifar10.load_data()\n",
    "print(\"Training Images Dataset Shape :----\",train_images.shape)\n",
    "print(\"Training Labels Dataset Shape :----\",train_labels.shape)\n",
    "print(\"Testing Images Dataset Shape :----\",test_images.shape)\n",
    "print(\"Testing Labels Dataset Shape :----\",test_labels.shape)\n",
    "\n",
    "## defining the class names as a list\n",
    "print(\"=====================DEFINING THE CLASS NAMES========================================================\")\n",
    "class_names = [\"airplane\", \"automobile\", \"bird\", \"cat\", \"deer\", \"dog\", \"frog\", \"horse\", \"ship\", \"truck\"]\n",
    "print(\"Class Names :--\", class_names)\n",
    "\n",
    "## defining the validation data\n",
    "print(\"==========================DEFINING THE VALIDATION DATA====================================\")\n",
    "validation_images, validation_labels = train_images[:5000], train_labels[:5000]\n",
    "train_images, train_labels = train_images[5000:], train_labels[5000:]\n",
    "print(\"Validation Images Dataset Shape :--\", validation_images.shape)\n",
    "print(\"Validation Labels Dataset Shape :--\", validation_labels.shape)\n",
    "print(\"Training Images Dataset Shape :----\",train_images.shape)\n",
    "print(\"Training Labels Dataset Shape :----\",train_labels.shape)\n",
    "\n",
    "print(\"============================PREPARING THE DATA TO TENSORFLOW DATASET REPRESENTATION====================\")\n",
    "train_ds = tf.data.Dataset.from_tensor_slices((train_images, train_labels))\n",
    "print(\"Tensorflow Representation of training images and labels\", len(train_ds))\n",
    "test_ds = tf.data.Dataset.from_tensor_slices((test_images, test_labels))\n",
    "print(\"Tensorflow Representation of testing images and labels\", len(test_ds))\n",
    "validation_ds = tf.data.Dataset.from_tensor_slices((validation_images, validation_labels))\n",
    "print(\"Tensorflow Representation of validation images and labels\", len(validation_ds))"
   ]
  },
  {
   "cell_type": "markdown",
   "metadata": {},
   "source": [
    "**PREPROCESSING**\n",
    "\n",
    "+ Preprocessing means transformation of data from one form to another form.\n",
    "+ Visualize the CIFAR-10 Dataset.\n",
    "\n",
    "Primary Transformations are :--\n",
    "\n",
    "    + Normalizing and Standardizing the Images.\n",
    "    + Resizing the Images from 32x32 to 227x227\n",
    "    + AlexNet Input Images are Expecting 227x227 Image.\n",
    "    + For these tasks, we will create a function."
   ]
  },
  {
   "cell_type": "code",
   "execution_count": 3,
   "metadata": {},
   "outputs": [
    {
     "data": {
      "image/png": "[encoded data removed]",
      "text/plain": [
       "<Figure size 1440x1440 with 10 Axes>"
      ]
     },
     "metadata": {
      "needs_background": "light"
     },
     "output_type": "display_data"
    }
   ],
   "source": [
    "plt.figure(figsize=(20,20))\n",
    "for i, (image, label) in enumerate(train_ds.take(10)):\n",
    "    ax = plt.subplot(5,5,i+1)\n",
    "    plt.imshow(image)\n",
    "    plt.title(class_names[label.numpy()[0]])\n",
    "    plt.axis('off')"
   ]
  },
  {
   "cell_type": "code",
   "execution_count": 4,
   "metadata": {},
   "outputs": [],
   "source": [
    "## function for nomalization and resizing the images.\n",
    "def process_images(image, label):\n",
    "    ## normalize the images to have a mean of 0 and standard deviation 1.\n",
    "    image = tf.image.per_image_standardization(image)\n",
    "    ## resize the images from 32x32 to 227x227\n",
    "    image = tf.image.resize(image, (227,227))\n",
    "    return image, label"
   ]
  },
  {
   "cell_type": "markdown",
   "metadata": {},
   "source": [
    "**DATA / INPUT PIPELINE**\n",
    "\n",
    "+ Building an Input Pipeline.\n",
    "+ It is the Series of Functions or methods to call one after the other consecutively.\n",
    "+ Input Pipelines are the Chain of functions that either act upon the data or enforces an operation through the Pipeline.\n",
    "+ Lets get the Size of each dataset partition we created.\n",
    "+ the size of the dataset s required to ensure that the dataset is thoroghly shuffled before passed through the Network.\n",
    "\n",
    "For the Input Data Pipeline. We will do three Data Preprocessing steps.\n",
    "   1. Preprocessing the Data within the Dataset.\n",
    "   2. Shuffle the Dataset.\n",
    "   3. Batch Data within the Dataset"
   ]
  },
  {
   "cell_type": "code",
   "execution_count": 5,
   "metadata": {},
   "outputs": [
    {
     "name": "stdout",
     "output_type": "stream",
     "text": [
      "Training Data Size :--- 45000\n",
      "Testing Data Size :--- 10000\n",
      "Validation Data Size :--- 5000\n"
     ]
    }
   ],
   "source": [
    "## creating a fnuction for it\n",
    "def size_of_dataset_partition(dataset):\n",
    "    data_ds_size = tf.data.experimental.cardinality(dataset).numpy()\n",
    "    return data_ds_size\n",
    "\n",
    "train_ds_size = size_of_dataset_partition(train_ds)\n",
    "test_ds_size = size_of_dataset_partition(test_ds)\n",
    "validation_ds_size = size_of_dataset_partition(validation_ds)\n",
    "\n",
    "print(\"Training Data Size :---\", train_ds_size)\n",
    "print(\"Testing Data Size :---\", test_ds_size)\n",
    "print(\"Validation Data Size :---\", validation_ds_size)"
   ]
  },
  {
   "cell_type": "code",
   "execution_count": 6,
   "metadata": {},
   "outputs": [],
   "source": [
    "train_ds = (train_ds\n",
    "                  .map(process_images)\n",
    "                  .shuffle(buffer_size=train_ds_size)\n",
    "                  .batch(batch_size=32, drop_remainder=True))\n",
    "test_ds = (test_ds\n",
    "                  .map(process_images)\n",
    "                  .shuffle(buffer_size=train_ds_size)\n",
    "                  .batch(batch_size=32, drop_remainder=True))\n",
    "validation_ds = (validation_ds\n",
    "                  .map(process_images)\n",
    "                  .shuffle(buffer_size=train_ds_size)\n",
    "                  .batch(batch_size=32, drop_remainder=True))"
   ]
  },
  {
   "cell_type": "code",
   "execution_count": 7,
   "metadata": {},
   "outputs": [
    {
     "name": "stdout",
     "output_type": "stream",
     "text": [
      "<BatchDataset element_spec=(TensorSpec(shape=(32, 227, 227, 3), dtype=tf.float32, name=None), TensorSpec(shape=(32, 1), dtype=tf.uint8, name=None))>\n",
      "<BatchDataset element_spec=(TensorSpec(shape=(32, 227, 227, 3), dtype=tf.float32, name=None), TensorSpec(shape=(32, 1), dtype=tf.uint8, name=None))>\n",
      "<BatchDataset element_spec=(TensorSpec(shape=(32, 227, 227, 3), dtype=tf.float32, name=None), TensorSpec(shape=(32, 1), dtype=tf.uint8, name=None))>\n"
     ]
    }
   ],
   "source": [
    "print(train_ds)\n",
    "print(test_ds)\n",
    "print(validation_ds)"
   ]
  },
  {
   "cell_type": "markdown",
   "metadata": {},
   "source": [
    "**MODEL DEVELOPMENT**"
   ]
  },
  {
   "cell_type": "code",
   "execution_count": 9,
   "metadata": {},
   "outputs": [
    {
     "name": "stdout",
     "output_type": "stream",
     "text": [
      "Model: \"sequential_1\"\n",
      "_________________________________________________________________\n",
      " Layer (type)                Output Shape              Param #   \n",
      "=================================================================\n",
      " conv2d_5 (Conv2D)           (None, 55, 55, 96)        34944     \n",
      "                                                                 \n",
      " batch_normalization_5 (Batc  (None, 55, 55, 96)       384       \n",
      " hNormalization)                                                 \n",
      "                                                                 \n",
      " max_pooling2d_3 (MaxPooling  (None, 27, 27, 96)       0         \n",
      " 2D)                                                             \n",
      "                                                                 \n",
      " conv2d_6 (Conv2D)           (None, 27, 27, 256)       614656    \n",
      "                                                                 \n",
      " batch_normalization_6 (Batc  (None, 27, 27, 256)      1024      \n",
      " hNormalization)                                                 \n",
      "                                                                 \n",
      " max_pooling2d_4 (MaxPooling  (None, 13, 13, 256)      0         \n",
      " 2D)                                                             \n",
      "                                                                 \n",
      " conv2d_7 (Conv2D)           (None, 13, 13, 384)       885120    \n",
      "                                                                 \n",
      " batch_normalization_7 (Batc  (None, 13, 13, 384)      1536      \n",
      " hNormalization)                                                 \n",
      "                                                                 \n",
      " conv2d_8 (Conv2D)           (None, 13, 13, 384)       1327488   \n",
      "                                                                 \n",
      " batch_normalization_8 (Batc  (None, 13, 13, 384)      1536      \n",
      " hNormalization)                                                 \n",
      "                                                                 \n",
      " conv2d_9 (Conv2D)           (None, 13, 13, 384)       1327488   \n",
      "                                                                 \n",
      " batch_normalization_9 (Batc  (None, 13, 13, 384)      1536      \n",
      " hNormalization)                                                 \n",
      "                                                                 \n",
      " max_pooling2d_5 (MaxPooling  (None, 6, 6, 384)        0         \n",
      " 2D)                                                             \n",
      "                                                                 \n",
      " flatten_1 (Flatten)         (None, 13824)             0         \n",
      "                                                                 \n",
      " dense_3 (Dense)             (None, 4096)              56627200  \n",
      "                                                                 \n",
      " dropout_2 (Dropout)         (None, 4096)              0         \n",
      "                                                                 \n",
      " dense_4 (Dense)             (None, 4096)              16781312  \n",
      "                                                                 \n",
      " dropout_3 (Dropout)         (None, 4096)              0         \n",
      "                                                                 \n",
      " dense_5 (Dense)             (None, 10)                40970     \n",
      "                                                                 \n",
      "=================================================================\n",
      "Total params: 77,645,194\n",
      "Trainable params: 77,642,186\n",
      "Non-trainable params: 3,008\n",
      "_________________________________________________________________\n"
     ]
    }
   ],
   "source": [
    "model = keras.models.Sequential([\n",
    "    ## first convolutional layer\n",
    "    ## filters = 96\n",
    "    ## kernel size = 11\n",
    "    ## strides = 4\n",
    "    ## activation = \"relu\"\n",
    "    ## input size = (227,227,3)\n",
    "    keras.layers.Conv2D(filters=96, kernel_size=(11,11), strides=(4,4), activation='relu', input_shape=(227,227,3)),\n",
    "    ## batch normalization is used for dealing with unstable gradients.\n",
    "    keras.layers.BatchNormalization(),\n",
    "    ## maxpooling layer\n",
    "    ## pool size = 3\n",
    "    ## strides = 2\n",
    "    keras.layers.MaxPool2D(pool_size=(3,3), strides=(2,2)),\n",
    "    ## second convolutional layer\n",
    "    ## filters = 256\n",
    "    ## kernel size = 5\n",
    "    ## strides = 1\n",
    "    ## activation = \"relu\"\n",
    "    ## padding \"same\" - zero padding\n",
    "    keras.layers.Conv2D(filters=256, kernel_size=(5,5), strides=(1,1), activation='relu', padding=\"same\"),\n",
    "    keras.layers.BatchNormalization(),\n",
    "    keras.layers.MaxPool2D(pool_size=(3,3), strides=(2,2)),\n",
    "    ## third convolutional layer\n",
    "    ## filters = 384\n",
    "    ## kernel size = 3\n",
    "    ## strides = 1\n",
    "    ## activation = \"relu\"\n",
    "    ## padding \"same\" - zero padding\n",
    "    keras.layers.Conv2D(filters=384, kernel_size=(3,3), strides=(1,1), activation='relu', padding=\"same\"),\n",
    "    keras.layers.BatchNormalization(),\n",
    "    ## forth convolutional layer\n",
    "    ## filters = 384\n",
    "    ## kernel size = 3\n",
    "    ## strides = 1\n",
    "    ## activation = \"relu\"\n",
    "    ## padding \"same\" - zero padding\n",
    "    keras.layers.Conv2D(filters=384, kernel_size=(3,3), strides=(1,1), activation='relu', padding=\"same\"),\n",
    "    keras.layers.BatchNormalization(),\n",
    "    ## fifth convolutional layer\n",
    "    ## filters = 256\n",
    "    ## kernel size = 3\n",
    "    ## strides = 1\n",
    "    ## activation = \"relu\"\n",
    "    ## padding \"same\" - zero padding\n",
    "    keras.layers.Conv2D(filters=384, kernel_size=(3,3), strides=(1,1), activation='relu', padding=\"same\"),\n",
    "    keras.layers.BatchNormalization(),\n",
    "    keras.layers.MaxPool2D(pool_size=(3,3), strides=(2,2)),\n",
    "    keras.layers.Flatten(),\n",
    "    keras.layers.Dense(4096, activation='relu'),\n",
    "    keras.layers.Dropout(0.5),\n",
    "    keras.layers.Dense(4096, activation='relu'),\n",
    "    keras.layers.Dropout(0.5),\n",
    "    keras.layers.Dense(10, activation='softmax')\n",
    "])\n",
    "\n",
    "model.summary()\n",
    "\n",
    "## compile the model\n",
    "model.compile(loss='sparse_categorical_crossentropy', optimizer=tf.optimizers.SGD(lr=0.001), metrics=['accuracy'])"
   ]
  },
  {
   "cell_type": "code",
   "execution_count": 10,
   "metadata": {},
   "outputs": [],
   "source": [
    "root_logdir = os.path.join(os.curdir, \"logs\\\\fit\\\\\")\n",
    "def get_run_logdir():\n",
    "    run_id = time.strftime(\"run_%Y_%m_%d-%H_%M_%S\")\n",
    "    return os.path.join(root_logdir, run_id)\n",
    "run_logdir = get_run_logdir()\n",
    "tensorboard_cb = keras.callbacks.TensorBoard(run_logdir)"
   ]
  },
  {
   "cell_type": "markdown",
   "metadata": {},
   "source": [
    "**TRAINING THE MODEL**"
   ]
  },
  {
   "cell_type": "code",
   "execution_count": 11,
   "metadata": {},
   "outputs": [],
   "source": [
    "# ## training the model\n",
    "# model.fit(train_ds,\n",
    "#           epochs=5,\n",
    "#           validation_data=validation_ds,\n",
    "#           validation_freq=1,\n",
    "#           callbacks=[tensorboard_cb])"
   ]
  },
  {
   "cell_type": "markdown",
   "metadata": {},
   "source": [
    "**EVALUATING THE MODEL**"
   ]
  },
  {
   "cell_type": "code",
   "execution_count": 12,
   "metadata": {},
   "outputs": [],
   "source": [
    "# model.evaluate(test_ds)"
   ]
  },
  {
   "cell_type": "markdown",
   "metadata": {},
   "source": [
    "This Custom Implemented AlexNet network that was trained, validated and evaluated on CIFAR-10 dataset to create a model with an Evaluation accuracy of 74% on the test dataset containing 5000 datapoints."
   ]
  },
  {
   "cell_type": "markdown",
   "metadata": {},
   "source": [
    "***"
   ]
  }
 ],
 "metadata": {
  "kernelspec": {
   "display_name": "Python 3",
   "language": "python",
   "name": "python3"
  },
  "language_info": {
   "codemirror_mode": {
    "name": "ipython",
    "version": 3
   },
   "file_extension": ".py",
   "mimetype": "text/x-python",
   "name": "python",
   "nbconvert_exporter": "python",
   "pygments_lexer": "ipython3",
   "version": "3.8.3"
  }
 },
 "nbformat": 4,
 "nbformat_minor": 4
}
