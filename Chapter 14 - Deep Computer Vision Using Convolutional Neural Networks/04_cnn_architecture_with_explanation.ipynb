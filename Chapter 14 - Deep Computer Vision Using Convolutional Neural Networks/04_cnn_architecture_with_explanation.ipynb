{
 "cells": [
  {
   "cell_type": "markdown",
   "metadata": {},
   "source": [
    "### CNN ARCHITECTURE WITH EXPLANATION"
   ]
  },
  {
   "cell_type": "code",
   "execution_count": 1,
   "metadata": {},
   "outputs": [],
   "source": [
    "import tensorflow as tf\n",
    "from tensorflow import keras\n",
    "import sklearn\n",
    "import numpy as np\n",
    "import matplotlib.pyplot as plt\n",
    "from sklearn.datasets import load_sample_image\n",
    "import os"
   ]
  },
  {
   "cell_type": "code",
   "execution_count": 3,
   "metadata": {},
   "outputs": [],
   "source": [
    "## fetch the data\n",
    "## fetch the data and preprocess the data\n",
    "(X_train_full, y_train_full), (X_test, y_test) = keras.datasets.fashion_mnist.load_data()\n",
    "X_train, X_valid = X_train_full[:-5000], X_train_full[-5000:]\n",
    "y_train, y_valid = y_train_full[:-5000], y_train_full[-5000:]\n",
    "\n",
    "X_mean = X_train.mean(axis=0, keepdims=True)\n",
    "X_std = X_train.std(axis=0, keepdims=True) + 1e-7\n",
    "X_train = (X_train - X_mean) / X_std\n",
    "X_valid = (X_valid - X_mean) / X_std\n",
    "X_test = (X_test - X_mean) / X_std\n",
    "\n",
    "X_train = X_train[..., np.newaxis]\n",
    "X_valid = X_valid[..., np.newaxis]\n",
    "X_test = X_test[..., np.newaxis]"
   ]
  },
  {
   "cell_type": "code",
   "execution_count": 8,
   "metadata": {},
   "outputs": [
    {
     "name": "stdout",
     "output_type": "stream",
     "text": [
      "Model: \"sequential_2\"\n",
      "_________________________________________________________________\n",
      " Layer (type)                Output Shape              Param #   \n",
      "=================================================================\n",
      " conv2d_15 (Conv2D)          (None, 28, 28, 64)        3200      \n",
      "                                                                 \n",
      " max_pooling2d_8 (MaxPooling  (None, 14, 14, 64)       0         \n",
      " 2D)                                                             \n",
      "                                                                 \n",
      " conv2d_16 (Conv2D)          (None, 14, 14, 128)       73856     \n",
      "                                                                 \n",
      " conv2d_17 (Conv2D)          (None, 14, 14, 128)       147584    \n",
      "                                                                 \n",
      " max_pooling2d_9 (MaxPooling  (None, 7, 7, 128)        0         \n",
      " 2D)                                                             \n",
      "                                                                 \n",
      " conv2d_18 (Conv2D)          (None, 7, 7, 256)         295168    \n",
      "                                                                 \n",
      " conv2d_19 (Conv2D)          (None, 7, 7, 256)         590080    \n",
      "                                                                 \n",
      " max_pooling2d_10 (MaxPoolin  (None, 3, 3, 256)        0         \n",
      " g2D)                                                            \n",
      "                                                                 \n",
      " flatten_2 (Flatten)         (None, 2304)              0         \n",
      "                                                                 \n",
      " dense_6 (Dense)             (None, 128)               295040    \n",
      "                                                                 \n",
      " dropout_4 (Dropout)         (None, 128)               0         \n",
      "                                                                 \n",
      " dense_7 (Dense)             (None, 64)                8256      \n",
      "                                                                 \n",
      " dropout_5 (Dropout)         (None, 64)                0         \n",
      "                                                                 \n",
      " dense_8 (Dense)             (None, 10)                650       \n",
      "                                                                 \n",
      "=================================================================\n",
      "Total params: 1,413,834\n",
      "Trainable params: 1,413,834\n",
      "Non-trainable params: 0\n",
      "_________________________________________________________________\n"
     ]
    }
   ],
   "source": [
    "## model development\n",
    "model = keras.models.Sequential([\n",
    "    ## first layer uses 64 filters of size 7x7\n",
    "    ## no strides applied, because input images are not very large.\n",
    "    ## input_shape = [28,28,1] 1 is the color channel, which is gray.\n",
    "    keras.layers.Conv2D(64, 7, activation = \"relu\", padding = \"same\", input_shape = [28,28,1]),\n",
    "    ## then use a maxpooling layer.\n",
    "    ## pool size = 2.\n",
    "    ## so it divides each spatial dimension by factor of 2\n",
    "    keras.layers.MaxPooling2D(2),\n",
    "    ## then using 2 Conv Layers.\n",
    "    ## 128 filters of size 3x3\n",
    "    ## activation = relu\n",
    "    ## padding = same ie zero padding.\n",
    "    keras.layers.Conv2D(128, 3, activation = \"relu\", padding = \"same\"),\n",
    "    keras.layers.Conv2D(128, 3, activation = \"relu\", padding = \"same\"),\n",
    "    ## again giving the maxpooling layer.\n",
    "    keras.layers.MaxPooling2D(2),\n",
    "    ## then using 2 Conv Layers.\n",
    "    ## 256 filters of size 3x3\n",
    "    ## activation = relu\n",
    "    ## padding = same ie zero padding.\n",
    "    keras.layers.Conv2D(256, 3, activation = \"relu\", padding = \"same\"),\n",
    "    keras.layers.Conv2D(256, 3, activation = \"relu\", padding = \"same\"),\n",
    "    ## again giving the maxpooling layer\n",
    "    keras.layers.MaxPooling2D(2),\n",
    "    ## now flatten the result to feed that into Dense layers.\n",
    "    ## ie fully connected layers.\n",
    "    keras.layers.Flatten(),\n",
    "    ## prepare the Dense layer.\n",
    "    keras.layers.Dense(128, activation = \"relu\"),\n",
    "    ## using the dropout layer\n",
    "    ## with 50% rate.\n",
    "    ## this will reduce the overfitting.\n",
    "    keras.layers.Dropout(0.5),\n",
    "    ## defining the Dense layers again\n",
    "    keras.layers.Dense(64, activation = \"relu\"),\n",
    "    ## again dropout\n",
    "    keras.layers.Dropout(0.5),\n",
    "    ## final classification layer\n",
    "    keras.layers.Dense(10, activation = \"softmax\")\n",
    "])\n",
    "model.summary()"
   ]
  },
  {
   "cell_type": "code",
   "execution_count": 9,
   "metadata": {},
   "outputs": [],
   "source": [
    "## compile the model\n",
    "model.compile(loss=\"sparse_categorical_crossentropy\", optimizer=\"nadam\", metrics=[\"accuracy\"])"
   ]
  },
  {
   "cell_type": "code",
   "execution_count": 10,
   "metadata": {},
   "outputs": [
    {
     "name": "stdout",
     "output_type": "stream",
     "text": [
      "Epoch 1/10\n",
      "1719/1719 [==============================] - 364s 211ms/step - loss: 0.7173 - accuracy: 0.7499 - val_loss: 0.4139 - val_accuracy: 0.8482\n",
      "Epoch 2/10\n",
      "1719/1719 [==============================] - 354s 206ms/step - loss: 0.4302 - accuracy: 0.8558 - val_loss: 0.3200 - val_accuracy: 0.8836\n",
      "Epoch 3/10\n",
      "1719/1719 [==============================] - 363s 211ms/step - loss: 0.3712 - accuracy: 0.8760 - val_loss: 0.3407 - val_accuracy: 0.8818\n",
      "Epoch 4/10\n",
      "1719/1719 [==============================] - 371s 216ms/step - loss: 0.3339 - accuracy: 0.8865 - val_loss: 0.2993 - val_accuracy: 0.8906\n",
      "Epoch 5/10\n",
      "1719/1719 [==============================] - 361s 210ms/step - loss: 0.3139 - accuracy: 0.8935 - val_loss: 0.2875 - val_accuracy: 0.8948\n",
      "Epoch 6/10\n",
      "1719/1719 [==============================] - 357s 207ms/step - loss: 0.2949 - accuracy: 0.8999 - val_loss: 0.2750 - val_accuracy: 0.9022\n",
      "Epoch 7/10\n",
      "1719/1719 [==============================] - 366s 213ms/step - loss: 0.2791 - accuracy: 0.9047 - val_loss: 0.2696 - val_accuracy: 0.8988\n",
      "Epoch 8/10\n",
      "1719/1719 [==============================] - 370s 215ms/step - loss: 0.2691 - accuracy: 0.9093 - val_loss: 0.2709 - val_accuracy: 0.9036\n",
      "Epoch 9/10\n",
      "1719/1719 [==============================] - 417s 243ms/step - loss: 0.2593 - accuracy: 0.9107 - val_loss: 0.2816 - val_accuracy: 0.9056\n",
      "Epoch 10/10\n",
      "1719/1719 [==============================] - 419s 243ms/step - loss: 0.2576 - accuracy: 0.9130 - val_loss: 0.2922 - val_accuracy: 0.9028\n"
     ]
    }
   ],
   "source": [
    "## fit the model and train it\n",
    "history = model.fit(X_train, y_train, epochs=10, validation_data=(X_valid, y_valid))"
   ]
  },
  {
   "cell_type": "code",
   "execution_count": 12,
   "metadata": {},
   "outputs": [
    {
     "name": "stdout",
     "output_type": "stream",
     "text": [
      "313/313 [==============================] - 14s 44ms/step - loss: 0.3001 - accuracy: 0.9003\n"
     ]
    }
   ],
   "source": [
    "score = model.evaluate(X_test, y_test)"
   ]
  },
  {
   "cell_type": "code",
   "execution_count": 13,
   "metadata": {},
   "outputs": [
    {
     "name": "stdout",
     "output_type": "stream",
     "text": [
      "1/1 [==============================] - 0s 282ms/step\n"
     ]
    }
   ],
   "source": [
    "X_new = X_test[:10] # pretend we have new images\n",
    "y_pred = model.predict(X_new)"
   ]
  },
  {
   "cell_type": "markdown",
   "metadata": {},
   "source": [
    "***"
   ]
  }
 ],
 "metadata": {
  "kernelspec": {
   "display_name": "Python 3",
   "language": "python",
   "name": "python3"
  },
  "language_info": {
   "codemirror_mode": {
    "name": "ipython",
    "version": 3
   },
   "file_extension": ".py",
   "mimetype": "text/x-python",
   "name": "python",
   "nbconvert_exporter": "python",
   "pygments_lexer": "ipython3",
   "version": "3.8.3"
  }
 },
 "nbformat": 4,
 "nbformat_minor": 4
}
