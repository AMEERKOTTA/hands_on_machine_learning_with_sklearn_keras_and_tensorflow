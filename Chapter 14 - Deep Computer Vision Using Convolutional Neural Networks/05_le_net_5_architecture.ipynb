{
 "cells": [
  {
   "cell_type": "markdown",
   "metadata": {},
   "source": [
    "### LeNet-5 ARCHITECTURE\n",
    "\n",
    "+ the network has 5 layers.\n",
    "+ three set of convolutional layer.\n",
    "+ with the combination of average pooling layers.\n",
    "+ then two fully connected layers.\n",
    "+ then softmax classification layer for classification."
   ]
  },
  {
   "cell_type": "code",
   "execution_count": 10,
   "metadata": {},
   "outputs": [
    {
     "name": "stdout",
     "output_type": "stream",
     "text": [
      "(60000, 28, 28)\n",
      "(60000,)\n",
      "(10000, 28, 28)\n",
      "(10000,)\n",
      "(60000, 28, 28, 1)\n",
      "(10000, 28, 28, 1)\n",
      "(5000, 28, 28, 1)\n",
      "(5000,)\n"
     ]
    }
   ],
   "source": [
    "import tensorflow as tf\n",
    "from tensorflow import keras\n",
    "import sklearn\n",
    "import numpy as np\n",
    "import matplotlib.pyplot as plt\n",
    "from sklearn.datasets import load_sample_image\n",
    "import os\n",
    "\n",
    "(train_x, train_y), (test_x, test_y) = keras.datasets.mnist.load_data()\n",
    "train_x = train_x / 255.0\n",
    "test_x = test_x / 255.0\n",
    "print(train_x.shape)\n",
    "print(train_y.shape)\n",
    "print(test_x.shape)\n",
    "print(test_y.shape)\n",
    "## expand the dimension to one more.\n",
    "train_x = tf.expand_dims(train_x, 3)\n",
    "test_x = tf.expand_dims(test_x, 3)\n",
    "print(train_x.shape)\n",
    "print(test_x.shape)\n",
    "## define the validation sets.\n",
    "val_x = train_x[:5000]\n",
    "val_y = train_y[:5000]\n",
    "print(val_x.shape)\n",
    "print(val_y.shape)"
   ]
  },
  {
   "cell_type": "code",
   "execution_count": 12,
   "metadata": {},
   "outputs": [
    {
     "name": "stdout",
     "output_type": "stream",
     "text": [
      "Model: \"sequential\"\n",
      "_________________________________________________________________\n",
      " Layer (type)                Output Shape              Param #   \n",
      "=================================================================\n",
      " conv2d (Conv2D)             (None, 28, 28, 6)         156       \n",
      "                                                                 \n",
      " average_pooling2d (AverageP  (None, 14, 14, 6)        0         \n",
      " ooling2D)                                                       \n",
      "                                                                 \n",
      " conv2d_1 (Conv2D)           (None, 10, 10, 16)        2416      \n",
      "                                                                 \n",
      " average_pooling2d_1 (Averag  (None, 5, 5, 16)         0         \n",
      " ePooling2D)                                                     \n",
      "                                                                 \n",
      " conv2d_2 (Conv2D)           (None, 1, 1, 120)         48120     \n",
      "                                                                 \n",
      " flatten (Flatten)           (None, 120)               0         \n",
      "                                                                 \n",
      " dense (Dense)               (None, 84)                10164     \n",
      "                                                                 \n",
      " dense_1 (Dense)             (None, 10)                850       \n",
      "                                                                 \n",
      "=================================================================\n",
      "Total params: 61,706\n",
      "Trainable params: 61,706\n",
      "Non-trainable params: 0\n",
      "_________________________________________________________________\n"
     ]
    }
   ],
   "source": [
    "lenet_5_model = keras.models.Sequential([\n",
    "    ## first layer\n",
    "    ## filters are 6, and size of the filter is 5x5.\n",
    "    ## strides = 1\n",
    "    ## activation = tanh\n",
    "    ## padding = same - zero padding.\n",
    "    ## input shape = train_x[0].shape -- TensorShape([28, 28, 1])\n",
    "    keras.layers.Conv2D(6, kernel_size=5, strides=1,  activation='tanh', input_shape=train_x[0].shape, padding='same'), #C1\n",
    "    ## avaerage pooling\n",
    "    ## filter size is 2.\n",
    "    keras.layers.AveragePooling2D(), #S2\n",
    "    ## second conv layer\n",
    "    ## filters are 16.\n",
    "    ## filter size is 5x5.\n",
    "    ## strides = 1\n",
    "    ## activation = \"tanh\"\n",
    "    ## padding = valid - no padding.\n",
    "    keras.layers.Conv2D(16, kernel_size=5, strides=1, activation='tanh', padding='valid'), #C3\n",
    "    ## average pooling\n",
    "    ## filter size is 2\n",
    "    keras.layers.AveragePooling2D(), #S4\n",
    "    ## third convoluitonal layer\n",
    "    ## filetrs are 120\n",
    "    ## size is 5x5.\n",
    "    ## stride = 1 \n",
    "    ## activation = tanh\n",
    "    ## padding = valid.\n",
    "    keras.layers.Conv2D(120, kernel_size=5, strides=1, activation='tanh', padding='valid'), #C5\n",
    "    ## now flatten the result to pass to the Dense layers.\n",
    "    keras.layers.Flatten(), #Flatten   \n",
    "    ## first dense layer\n",
    "    ## 84 fully connected networks.\n",
    "    ## activation = tanh\n",
    "    keras.layers.Dense(84, activation='tanh'), #F6\n",
    "    ## last and final layer.\n",
    "    ## 10 classes output.\n",
    "    ## activation = softmax.\n",
    "    keras.layers.Dense(10, activation='softmax') #Output layer\n",
    "])\n",
    "\n",
    "lenet_5_model.summary()"
   ]
  },
  {
   "cell_type": "code",
   "execution_count": 13,
   "metadata": {},
   "outputs": [],
   "source": [
    "lenet_5_model.compile(optimizer=\"adam\", loss=keras.losses.sparse_categorical_crossentropy, metrics=[\"accuracy\"])"
   ]
  },
  {
   "cell_type": "code",
   "execution_count": 14,
   "metadata": {},
   "outputs": [
    {
     "name": "stdout",
     "output_type": "stream",
     "text": [
      "Epoch 1/10\n",
      "1875/1875 [==============================] - 62s 31ms/step - loss: 0.2232 - accuracy: 0.9334 - val_loss: 0.0818 - val_accuracy: 0.9784\n",
      "Epoch 2/10\n",
      "1875/1875 [==============================] - 57s 31ms/step - loss: 0.0844 - accuracy: 0.9740 - val_loss: 0.0570 - val_accuracy: 0.9842\n",
      "Epoch 3/10\n",
      "1875/1875 [==============================] - 57s 31ms/step - loss: 0.0570 - accuracy: 0.9826 - val_loss: 0.0398 - val_accuracy: 0.9890\n",
      "Epoch 4/10\n",
      "1875/1875 [==============================] - 56s 30ms/step - loss: 0.0425 - accuracy: 0.9868 - val_loss: 0.0302 - val_accuracy: 0.9908\n",
      "Epoch 5/10\n",
      "1875/1875 [==============================] - 58s 31ms/step - loss: 0.0355 - accuracy: 0.9894 - val_loss: 0.0292 - val_accuracy: 0.9906\n",
      "Epoch 6/10\n",
      "1875/1875 [==============================] - 57s 31ms/step - loss: 0.0297 - accuracy: 0.9902 - val_loss: 0.0191 - val_accuracy: 0.9938\n",
      "Epoch 7/10\n",
      "1875/1875 [==============================] - 57s 31ms/step - loss: 0.0241 - accuracy: 0.9923 - val_loss: 0.0211 - val_accuracy: 0.9928\n",
      "Epoch 8/10\n",
      "1875/1875 [==============================] - 56s 30ms/step - loss: 0.0205 - accuracy: 0.9937 - val_loss: 0.0164 - val_accuracy: 0.9946\n",
      "Epoch 9/10\n",
      "1875/1875 [==============================] - 56s 30ms/step - loss: 0.0187 - accuracy: 0.9939 - val_loss: 0.0145 - val_accuracy: 0.9950\n",
      "Epoch 10/10\n",
      "1875/1875 [==============================] - 56s 30ms/step - loss: 0.0160 - accuracy: 0.9945 - val_loss: 0.0150 - val_accuracy: 0.9946\n"
     ]
    },
    {
     "data": {
      "text/plain": [
       "<keras.callbacks.History at 0x1d03d8121f0>"
      ]
     },
     "execution_count": 14,
     "metadata": {},
     "output_type": "execute_result"
    }
   ],
   "source": [
    "lenet_5_model.fit(train_x, train_y, epochs=10, validation_data=(val_x, val_y))"
   ]
  },
  {
   "cell_type": "code",
   "execution_count": 15,
   "metadata": {},
   "outputs": [
    {
     "name": "stdout",
     "output_type": "stream",
     "text": [
      "313/313 [==============================] - 3s 10ms/step - loss: 0.0444 - accuracy: 0.9854\n"
     ]
    },
    {
     "data": {
      "text/plain": [
       "[0.04437955096364021, 0.9854000210762024]"
      ]
     },
     "execution_count": 15,
     "metadata": {},
     "output_type": "execute_result"
    }
   ],
   "source": [
    "lenet_5_model.evaluate(test_x, test_y)"
   ]
  },
  {
   "cell_type": "markdown",
   "metadata": {},
   "source": [
    "***"
   ]
  }
 ],
 "metadata": {
  "kernelspec": {
   "display_name": "Python 3",
   "language": "python",
   "name": "python3"
  },
  "language_info": {
   "codemirror_mode": {
    "name": "ipython",
    "version": 3
   },
   "file_extension": ".py",
   "mimetype": "text/x-python",
   "name": "python",
   "nbconvert_exporter": "python",
   "pygments_lexer": "ipython3",
   "version": "3.8.3"
  }
 },
 "nbformat": 4,
 "nbformat_minor": 4
}
