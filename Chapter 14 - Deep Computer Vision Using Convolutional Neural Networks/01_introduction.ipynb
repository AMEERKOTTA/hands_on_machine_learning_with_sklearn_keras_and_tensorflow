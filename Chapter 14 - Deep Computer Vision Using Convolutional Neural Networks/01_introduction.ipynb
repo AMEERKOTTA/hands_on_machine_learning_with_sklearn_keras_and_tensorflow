{
 "cells": [
  {
   "cell_type": "markdown",
   "metadata": {},
   "source": [
    "### INTRODUCTION TO CONVOLUTIONAL NEURAL NETWORKS\n",
    "\n",
    "+ CNN powers services like\n",
    "\n",
    "    + Image Search Services.\n",
    "    + Self Driving Cars.\n",
    "    + Automate Video Classification System.\n",
    "    + Voice Recognition.\n",
    "    + Natural Language Processing.\n",
    "    \n",
    "In this Chapter, will discuss and Implement about\n",
    "\n",
    "+ Where CNNs came from.\n",
    "+ What their Building Blocks look like.\n",
    "+ How to Implement them Using Tensorflow and Keras.\n",
    "\n",
    "\n",
    "Will discuss about Topics like\n",
    "\n",
    "+ Best CNN architectures\n",
    "+ Object Detection - classifying multiple objects in an Image and placing Bounding box around them.\n",
    "+ Semantic Segmentation - Classifying Each Pixel according to the Class of Object it Belongs to."
   ]
  },
  {
   "cell_type": "markdown",
   "metadata": {},
   "source": [
    "***"
   ]
  }
 ],
 "metadata": {
  "kernelspec": {
   "display_name": "Python 3",
   "language": "python",
   "name": "python3"
  },
  "language_info": {
   "codemirror_mode": {
    "name": "ipython",
    "version": 3
   },
   "file_extension": ".py",
   "mimetype": "text/x-python",
   "name": "python",
   "nbconvert_exporter": "python",
   "pygments_lexer": "ipython3",
   "version": "3.8.3"
  }
 },
 "nbformat": 4,
 "nbformat_minor": 4
}
