{
  "nbformat": 4,
  "nbformat_minor": 0,
  "metadata": {
    "colab": {
      "provenance": [],
      "authorship_tag": "ABX9TyMlUDXhuTvYKSIVkgX4Z3by",
      "include_colab_link": true
    },
    "kernelspec": {
      "name": "python3",
      "display_name": "Python 3"
    },
    "language_info": {
      "name": "python"
    }
  },
  "cells": [
    {
      "cell_type": "markdown",
      "metadata": {
        "id": "view-in-github",
        "colab_type": "text"
      },
      "source": [
        "<a href=\"https://colab.research.google.com/github/AMEERKOTTA/hands_on_machine_learning_with_sklearn_keras_and_tensorflow/blob/main/Chapter%2015%20-%20Processing%20Sequences%20Using%20RNNs%20and%20CNNs/06_multistep_forecast_using_deep_rnn_model.ipynb\" target=\"_parent\"><img src=\"https://colab.research.google.com/assets/colab-badge.svg\" alt=\"Open In Colab\"/></a>"
      ]
    },
    {
      "cell_type": "markdown",
      "source": [
        "# **MULTI STEP FORECAST USING DEEP RNN MODEL WITH DENSE LAYER**"
      ],
      "metadata": {
        "id": "XDJuDGYUv3ek"
      }
    },
    {
      "cell_type": "code",
      "source": [
        "# To plot pretty figures\n",
        "%matplotlib inline\n",
        "import matplotlib as mpl\n",
        "import numpy as np\n",
        "import matplotlib.pyplot as plt\n",
        "\n",
        "import tensorflow as tf\n",
        "from tensorflow import keras\n",
        "from tensorflow.keras.layers import SimpleRNN"
      ],
      "metadata": {
        "id": "2aWTeSwDv9Z9"
      },
      "execution_count": 1,
      "outputs": []
    },
    {
      "cell_type": "code",
      "source": [
        "## define a function to generate time series\n",
        "def generate_time_series(batch_size, n_steps):\n",
        "  \"\"\" Function Returns a Numpy array of shape [batch_size, time steps, 1]\n",
        "      Series is a sum of two sine waves of fixed amplitudes.\n",
        "      But random frequencies and phases, plus some noise.\n",
        "      :param :- batch_size : number of data points.\n",
        "      :param :- n_steps :- number of steps.\n",
        "  \"\"\"\n",
        "  freq1, freq2, offset1, offset2 = np.random.randn(4, batch_size, 1)\n",
        "  time = np.linspace(0,1,n_steps)\n",
        "  series = 0.5 * np.sin((time - offset1) * (freq1 * 10 + 10))\n",
        "  series += 0.2 * np.sin((time - offset2) * (freq2 * 20 + 20))\n",
        "  series += 0.1 * np.sin(np.random.rand(batch_size, n_steps) - 0.5)\n",
        "  return series[..., np.newaxis].astype(np.float32)"
      ],
      "metadata": {
        "id": "uxJKchCjv_Rm"
      },
      "execution_count": 2,
      "outputs": []
    },
    {
      "cell_type": "code",
      "source": [
        "## define the sequence data, time series data.\n",
        "n_steps = 50\n",
        "series = generate_time_series(10000, n_steps + 1)\n",
        "X_train, y_train = series[:7000, :n_steps], series[:7000, -1]\n",
        "X_valid, y_valid = series[7000:9000, :n_steps], series[7000:9000, -1]\n",
        "X_test, y_test = series[9000:, :n_steps], series[9000:, -1]\n",
        "\n",
        "print(X_train.shape)  ## [batch_size, time steps, dimensionality]\n",
        "print(y_train.shape)\n",
        "print(X_valid.shape)\n",
        "print(y_valid.shape)\n",
        "print(X_test.shape)\n",
        "print(y_test.shape)"
      ],
      "metadata": {
        "colab": {
          "base_uri": "https://localhost:8080/"
        },
        "id": "x8WjpmNzwA5b",
        "outputId": "004620d5-2a37-4eb0-fbc8-86fce62fa895"
      },
      "execution_count": 3,
      "outputs": [
        {
          "output_type": "stream",
          "name": "stdout",
          "text": [
            "(7000, 50, 1)\n",
            "(7000, 1)\n",
            "(2000, 50, 1)\n",
            "(2000, 1)\n",
            "(1000, 50, 1)\n",
            "(1000, 1)\n"
          ]
        }
      ]
    },
    {
      "cell_type": "code",
      "source": [
        "## plot the series\n",
        "def plot_series(series, y=None, y_pred=None, x_label=\"$t$\", y_label=\"$x(t)$\", legend=True):\n",
        "    plt.plot(series, \".-\")\n",
        "    if y is not None:\n",
        "        plt.plot(n_steps, y, \"bo\", label=\"Target\")\n",
        "    if y_pred is not None:\n",
        "        plt.plot(n_steps, y_pred, \"rx\", markersize=10, label=\"Prediction\")\n",
        "    plt.grid(True)\n",
        "    if x_label:\n",
        "        plt.xlabel(x_label, fontsize=16)\n",
        "    if y_label:\n",
        "        plt.ylabel(y_label, fontsize=16, rotation=0)\n",
        "    plt.hlines(0, 0, 100, linewidth=1)\n",
        "    plt.axis([0, n_steps + 1, -1, 1])\n",
        "    if legend and (y or y_pred):\n",
        "        plt.legend(fontsize=14, loc=\"upper left\")\n",
        "\n",
        "## plotting validation set graph.\n",
        "\n",
        "fig, axes = plt.subplots(nrows=1, ncols=3, sharey=True, figsize=(12, 4))\n",
        "for col in range(3):\n",
        "    plt.sca(axes[col])\n",
        "    plot_series(X_valid[col, :, 0], y_valid[col, 0],\n",
        "                y_label=(\"$x(t)$\" if col==0 else None),\n",
        "                legend=(col == 0))\n",
        "plt.show()"
      ],
      "metadata": {
        "colab": {
          "base_uri": "https://localhost:8080/",
          "height": 289
        },
        "id": "bp4ayHmgwCuF",
        "outputId": "558624e3-aac9-4815-852f-781018cb8f1b"
      },
      "execution_count": 4,
      "outputs": [
        {
          "output_type": "display_data",
          "data": {
            "text/plain": [
              "<Figure size 864x288 with 3 Axes>"
            ],
            "image/png": "[encoded data removed]"
          },
          "metadata": {
            "needs_background": "light"
          }
        }
      ]
    },
    {
      "cell_type": "code",
      "source": [
        "## Deep RNN with three layers.\n",
        "## including two hidden layer.\n",
        "## one output layer.\n",
        "## return sequneces = True or the layers of hidden layers.\n",
        "## bcz in keras, rnn layers will only return the final output.\n",
        "## to make them return one output per time step.\n",
        "## set return_sequences = True.\n",
        "## by using the Dense layer, seems that model converges faster than simple RNN layer.\n",
        "## and also if we want to change the default \"tanh\" activation function.\n",
        "## we can use the Dense Layer.\n",
        "model = keras.models.Sequential([\n",
        "    keras.layers.SimpleRNN(20, return_sequences=True, input_shape = [None, 1]),\n",
        "    keras.layers.SimpleRNN(20),\n",
        "    keras.layers.Dense(1)\n",
        "])\n",
        "model.summary()"
      ],
      "metadata": {
        "colab": {
          "base_uri": "https://localhost:8080/"
        },
        "id": "5oXUgjthwE6_",
        "outputId": "a881c750-2437-41a8-9a69-107b2d6339be"
      },
      "execution_count": 5,
      "outputs": [
        {
          "output_type": "stream",
          "name": "stdout",
          "text": [
            "Model: \"sequential\"\n",
            "_________________________________________________________________\n",
            " Layer (type)                Output Shape              Param #   \n",
            "=================================================================\n",
            " simple_rnn (SimpleRNN)      (None, None, 20)          440       \n",
            "                                                                 \n",
            " simple_rnn_1 (SimpleRNN)    (None, 20)                820       \n",
            "                                                                 \n",
            " dense (Dense)               (None, 1)                 21        \n",
            "                                                                 \n",
            "=================================================================\n",
            "Total params: 1,281\n",
            "Trainable params: 1,281\n",
            "Non-trainable params: 0\n",
            "_________________________________________________________________\n"
          ]
        }
      ]
    },
    {
      "cell_type": "code",
      "source": [
        "## compile the model\n",
        "model.compile(\n",
        "    loss = \"mse\",\n",
        "    optimizer = \"adam\"\n",
        ")"
      ],
      "metadata": {
        "id": "hCLJXEuPwHAN"
      },
      "execution_count": 6,
      "outputs": []
    },
    {
      "cell_type": "code",
      "source": [
        "## train the model\n",
        "r = model.fit(X_train, y_train,\n",
        "              validation_data = (X_valid, y_valid),\n",
        "              epochs = 20)"
      ],
      "metadata": {
        "colab": {
          "base_uri": "https://localhost:8080/"
        },
        "id": "Jc_zBkJlwJwU",
        "outputId": "9f7d9f17-c636-446c-df38-d18cfe975316"
      },
      "execution_count": 7,
      "outputs": [
        {
          "output_type": "stream",
          "name": "stdout",
          "text": [
            "Epoch 1/20\n",
            "219/219 [==============================] - 8s 28ms/step - loss: 0.0594 - val_loss: 0.0153\n",
            "Epoch 2/20\n",
            "219/219 [==============================] - 5s 24ms/step - loss: 0.0107 - val_loss: 0.0087\n",
            "Epoch 3/20\n",
            "219/219 [==============================] - 5s 21ms/step - loss: 0.0080 - val_loss: 0.0076\n",
            "Epoch 4/20\n",
            "219/219 [==============================] - 7s 33ms/step - loss: 0.0074 - val_loss: 0.0076\n",
            "Epoch 5/20\n",
            "219/219 [==============================] - 6s 28ms/step - loss: 0.0072 - val_loss: 0.0068\n",
            "Epoch 6/20\n",
            "219/219 [==============================] - 7s 30ms/step - loss: 0.0069 - val_loss: 0.0071\n",
            "Epoch 7/20\n",
            "219/219 [==============================] - 5s 22ms/step - loss: 0.0069 - val_loss: 0.0071\n",
            "Epoch 8/20\n",
            "219/219 [==============================] - 6s 29ms/step - loss: 0.0068 - val_loss: 0.0069\n",
            "Epoch 9/20\n",
            "219/219 [==============================] - 5s 22ms/step - loss: 0.0067 - val_loss: 0.0064\n",
            "Epoch 10/20\n",
            "219/219 [==============================] - 5s 22ms/step - loss: 0.0067 - val_loss: 0.0068\n",
            "Epoch 11/20\n",
            "219/219 [==============================] - 6s 27ms/step - loss: 0.0069 - val_loss: 0.0067\n",
            "Epoch 12/20\n",
            "219/219 [==============================] - 5s 21ms/step - loss: 0.0066 - val_loss: 0.0072\n",
            "Epoch 13/20\n",
            "219/219 [==============================] - 6s 29ms/step - loss: 0.0067 - val_loss: 0.0066\n",
            "Epoch 14/20\n",
            "219/219 [==============================] - 5s 21ms/step - loss: 0.0067 - val_loss: 0.0064\n",
            "Epoch 15/20\n",
            "219/219 [==============================] - 5s 22ms/step - loss: 0.0066 - val_loss: 0.0070\n",
            "Epoch 16/20\n",
            "219/219 [==============================] - 6s 28ms/step - loss: 0.0067 - val_loss: 0.0066\n",
            "Epoch 17/20\n",
            "219/219 [==============================] - 5s 21ms/step - loss: 0.0063 - val_loss: 0.0064\n",
            "Epoch 18/20\n",
            "219/219 [==============================] - 6s 29ms/step - loss: 0.0065 - val_loss: 0.0070\n",
            "Epoch 19/20\n",
            "219/219 [==============================] - 5s 22ms/step - loss: 0.0063 - val_loss: 0.0067\n",
            "Epoch 20/20\n",
            "219/219 [==============================] - 6s 26ms/step - loss: 0.0063 - val_loss: 0.0066\n"
          ]
        }
      ]
    },
    {
      "cell_type": "code",
      "source": [
        "n_steps = 50\n",
        "series = generate_time_series(1, n_steps + 10)\n",
        "X_new, Y_new = series[:, :n_steps], series[:, n_steps:]\n",
        "X = X_new\n",
        "for step_ahead in range(10):\n",
        "    y_pred_one = model.predict(X[:, step_ahead:])[:, np.newaxis, :]\n",
        "    X = np.concatenate([X, y_pred_one], axis=1)\n",
        "\n",
        "Y_pred = X[:, n_steps:]\n",
        "# print(Y_pred)"
      ],
      "metadata": {
        "colab": {
          "base_uri": "https://localhost:8080/"
        },
        "id": "8xg-hbJjwMD_",
        "outputId": "059365bf-77db-4359-f842-dbe1ac708d3b"
      },
      "execution_count": 13,
      "outputs": [
        {
          "output_type": "stream",
          "name": "stdout",
          "text": [
            "1/1 [==============================] - 0s 83ms/step\n",
            "1/1 [==============================] - 0s 43ms/step\n",
            "1/1 [==============================] - 0s 45ms/step\n",
            "1/1 [==============================] - 0s 158ms/step\n",
            "1/1 [==============================] - 0s 44ms/step\n",
            "1/1 [==============================] - 0s 47ms/step\n",
            "1/1 [==============================] - 0s 60ms/step\n",
            "1/1 [==============================] - 0s 107ms/step\n",
            "1/1 [==============================] - 0s 33ms/step\n",
            "1/1 [==============================] - 0s 31ms/step\n"
          ]
        }
      ]
    },
    {
      "cell_type": "code",
      "source": [
        "Y_pred.shape  ## 10 means 10 step prediction, or forecasting."
      ],
      "metadata": {
        "colab": {
          "base_uri": "https://localhost:8080/"
        },
        "id": "-jsM46REwRKD",
        "outputId": "3f38dd8d-22a3-4b3f-a46e-36174f3ac277"
      },
      "execution_count": 9,
      "outputs": [
        {
          "output_type": "execute_result",
          "data": {
            "text/plain": [
              "(1, 10, 1)"
            ]
          },
          "metadata": {},
          "execution_count": 9
        }
      ]
    },
    {
      "cell_type": "code",
      "source": [
        "def plot_multiple_forecasts(X, Y, Y_pred):\n",
        "    n_steps = X.shape[1]\n",
        "    ahead = Y.shape[1]\n",
        "    plot_series(X[0, :, 0])\n",
        "    plt.plot(np.arange(n_steps, n_steps + ahead), Y[0, :, 0], \"bo-\", label=\"Actual\")\n",
        "    plt.plot(np.arange(n_steps, n_steps + ahead), Y_pred[0, :, 0], \"rx-\", label=\"Forecast\", markersize=10)\n",
        "    plt.axis([0, n_steps + ahead, -1, 1])\n",
        "    plt.legend(fontsize=14)\n",
        "\n",
        "plot_multiple_forecasts(X_new, Y_new, Y_pred)\n",
        "plt.show();"
      ],
      "metadata": {
        "colab": {
          "base_uri": "https://localhost:8080/",
          "height": 289
        },
        "id": "l0knqLy3wTOj",
        "outputId": "b27d6f2b-1b67-430e-b803-367d99ce38af"
      },
      "execution_count": 14,
      "outputs": [
        {
          "output_type": "display_data",
          "data": {
            "text/plain": [
              "<Figure size 432x288 with 1 Axes>"
            ],
            "image/png": "[encoded data removed]"
          },
          "metadata": {
            "needs_background": "light"
          }
        }
      ]
    },
    {
      "cell_type": "markdown",
      "source": [
        "+ Now let's use this model to predict the next 10 values. \n",
        "+ We first need to regenerate the sequences with 9 more time steps.\n"
      ],
      "metadata": {
        "id": "7obfJ2mQxNQr"
      }
    },
    {
      "cell_type": "code",
      "source": [
        "## regenerating the sequence for another 9 more time steps\n",
        "n_steps = 50   ## n steps = 50\n",
        "series = generate_time_series(10000, n_steps + 10)  ## regenerating the time steps for another 9 steps.\n",
        "X_train, Y_train = series[:7000, :n_steps], series[:7000, -10:, 0]   ## define the training set, test and validation set\n",
        "X_valid, Y_valid = series[7000:9000, :n_steps], series[7000:9000, -10:, 0]\n",
        "X_test, Y_test = series[9000:, :n_steps], series[9000:, -10:, 0]\n",
        "\n",
        "print(X_train.shape)\n",
        "print(y_train.shape)\n",
        "print(X_valid.shape)\n",
        "print(y_valid.shape)\n",
        "print(X_test.shape)\n",
        "print(y_test.shape)"
      ],
      "metadata": {
        "colab": {
          "base_uri": "https://localhost:8080/"
        },
        "id": "N-bCH4XfxAcu",
        "outputId": "cc9fd5cc-80eb-49d0-91d3-22f408f9ff44"
      },
      "execution_count": 21,
      "outputs": [
        {
          "output_type": "stream",
          "name": "stdout",
          "text": [
            "(7000, 50, 1)\n",
            "(7000, 1)\n",
            "(2000, 50, 1)\n",
            "(2000, 1)\n",
            "(1000, 50, 1)\n",
            "(1000, 1)\n"
          ]
        }
      ]
    },
    {
      "cell_type": "markdown",
      "source": [
        "Now let's predict the next 10 values one by one:"
      ],
      "metadata": {
        "id": "pDW76Yi_yQE0"
      }
    },
    {
      "cell_type": "code",
      "source": [
        "X = X_valid\n",
        "print(\"Before Predictions :--\",X.shape)  ## here the shape is 50\n",
        "for step_ahead in range(10):\n",
        "    y_pred_one = model.predict(X)[:, np.newaxis, :]\n",
        "    X = np.concatenate([X, y_pred_one], axis=1)\n",
        "print(\"After Predictions :--\",X.shape)  ## here the shape is 60\n",
        "Y_pred = X[:, n_steps:, 0]\n",
        "print(\"Shape of the Predicted Output :--\",Y_pred.shape)"
      ],
      "metadata": {
        "colab": {
          "base_uri": "https://localhost:8080/"
        },
        "id": "9EoJAlKKx1u4",
        "outputId": "da9914c2-a1d3-4400-ebbb-169b7c7df48d"
      },
      "execution_count": 27,
      "outputs": [
        {
          "output_type": "stream",
          "name": "stdout",
          "text": [
            "Before Predictions :-- (2000, 50, 1)\n",
            "63/63 [==============================] - 1s 22ms/step\n",
            "63/63 [==============================] - 1s 8ms/step\n",
            "63/63 [==============================] - 1s 8ms/step\n",
            "63/63 [==============================] - 0s 8ms/step\n",
            "63/63 [==============================] - 0s 7ms/step\n",
            "63/63 [==============================] - 0s 7ms/step\n",
            "63/63 [==============================] - 0s 7ms/step\n",
            "63/63 [==============================] - 1s 9ms/step\n",
            "63/63 [==============================] - 1s 8ms/step\n",
            "63/63 [==============================] - 1s 8ms/step\n",
            "After Predictions :-- (2000, 60, 1)\n",
            "Shape of the Predicted Output :-- (2000, 10)\n"
          ]
        }
      ]
    },
    {
      "cell_type": "code",
      "source": [
        "## mse between y_valid and y_pred\n",
        "np.mean(keras.metrics.mean_squared_error(Y_valid, Y_pred))"
      ],
      "metadata": {
        "colab": {
          "base_uri": "https://localhost:8080/"
        },
        "id": "xlDFmBS-ygjO",
        "outputId": "c7bac9dd-c587-4db8-b51b-20b48fcbdf3d"
      },
      "execution_count": 28,
      "outputs": [
        {
          "output_type": "execute_result",
          "data": {
            "text/plain": [
              "0.0742575"
            ]
          },
          "metadata": {},
          "execution_count": 28
        }
      ]
    },
    {
      "cell_type": "markdown",
      "source": [
        "Let's compare this performance with some baselines: \n",
        "+ naive predictions and a simple linear model:"
      ],
      "metadata": {
        "id": "lJQddwBTzcFL"
      }
    },
    {
      "cell_type": "code",
      "source": [
        "Y_naive_pred = np.tile(X_valid[:, -1], 10) # take the last time step value, and repeat it 10 times\n",
        "print(Y_naive_pred.shape)\n",
        "np.mean(keras.metrics.mean_squared_error(Y_valid, Y_naive_pred))"
      ],
      "metadata": {
        "colab": {
          "base_uri": "https://localhost:8080/"
        },
        "id": "J--YqZ3vzWfj",
        "outputId": "0e414113-5e92-4cfd-bdad-f546c67b6592"
      },
      "execution_count": 29,
      "outputs": [
        {
          "output_type": "stream",
          "name": "stdout",
          "text": [
            "(2000, 10)\n"
          ]
        },
        {
          "output_type": "execute_result",
          "data": {
            "text/plain": [
              "0.17442837"
            ]
          },
          "metadata": {},
          "execution_count": 29
        }
      ]
    },
    {
      "cell_type": "markdown",
      "source": [
        "MODEL"
      ],
      "metadata": {
        "id": "YB61HEkg0AgL"
      }
    },
    {
      "cell_type": "code",
      "source": [
        "## define the model\n",
        "model = keras.models.Sequential([\n",
        "    keras.layers.Flatten(input_shape=[50, 1]),\n",
        "    keras.layers.Dense(10)\n",
        "])\n",
        "\n",
        "model.compile(loss=\"mse\", optimizer=\"adam\")\n",
        "r = model.fit(X_train, Y_train, epochs=20,\n",
        "                    validation_data=(X_valid, Y_valid))"
      ],
      "metadata": {
        "colab": {
          "base_uri": "https://localhost:8080/"
        },
        "id": "asuVDvx5zosH",
        "outputId": "fca8b1fb-35ce-4f89-93f3-a5ef8457506b"
      },
      "execution_count": 30,
      "outputs": [
        {
          "output_type": "stream",
          "name": "stdout",
          "text": [
            "Epoch 1/20\n",
            "219/219 [==============================] - 1s 3ms/step - loss: 0.1846 - val_loss: 0.1311\n",
            "Epoch 2/20\n",
            "219/219 [==============================] - 1s 3ms/step - loss: 0.1189 - val_loss: 0.1175\n",
            "Epoch 3/20\n",
            "219/219 [==============================] - 0s 2ms/step - loss: 0.1103 - val_loss: 0.1119\n",
            "Epoch 4/20\n",
            "219/219 [==============================] - 0s 2ms/step - loss: 0.1065 - val_loss: 0.1087\n",
            "Epoch 5/20\n",
            "219/219 [==============================] - 1s 3ms/step - loss: 0.1041 - val_loss: 0.1069\n",
            "Epoch 6/20\n",
            "219/219 [==============================] - 0s 2ms/step - loss: 0.1025 - val_loss: 0.1053\n",
            "Epoch 7/20\n",
            "219/219 [==============================] - 0s 2ms/step - loss: 0.1013 - val_loss: 0.1042\n",
            "Epoch 8/20\n",
            "219/219 [==============================] - 1s 2ms/step - loss: 0.1002 - val_loss: 0.1030\n",
            "Epoch 9/20\n",
            "219/219 [==============================] - 0s 2ms/step - loss: 0.0992 - val_loss: 0.1025\n",
            "Epoch 10/20\n",
            "219/219 [==============================] - 1s 3ms/step - loss: 0.0984 - val_loss: 0.1017\n",
            "Epoch 11/20\n",
            "219/219 [==============================] - 1s 3ms/step - loss: 0.0978 - val_loss: 0.1008\n",
            "Epoch 12/20\n",
            "219/219 [==============================] - 1s 3ms/step - loss: 0.0973 - val_loss: 0.0999\n",
            "Epoch 13/20\n",
            "219/219 [==============================] - 1s 3ms/step - loss: 0.0969 - val_loss: 0.0996\n",
            "Epoch 14/20\n",
            "219/219 [==============================] - 1s 3ms/step - loss: 0.0964 - val_loss: 0.0992\n",
            "Epoch 15/20\n",
            "219/219 [==============================] - 0s 2ms/step - loss: 0.0959 - val_loss: 0.0989\n",
            "Epoch 16/20\n",
            "219/219 [==============================] - 1s 2ms/step - loss: 0.0955 - val_loss: 0.0984\n",
            "Epoch 17/20\n",
            "219/219 [==============================] - 1s 3ms/step - loss: 0.0953 - val_loss: 0.0982\n",
            "Epoch 18/20\n",
            "219/219 [==============================] - 0s 2ms/step - loss: 0.0950 - val_loss: 0.0975\n",
            "Epoch 19/20\n",
            "219/219 [==============================] - 1s 3ms/step - loss: 0.0948 - val_loss: 0.0978\n",
            "Epoch 20/20\n",
            "219/219 [==============================] - 0s 2ms/step - loss: 0.0945 - val_loss: 0.0971\n"
          ]
        }
      ]
    },
    {
      "cell_type": "markdown",
      "source": [
        "MODEL DEEP RNN MODEL"
      ],
      "metadata": {
        "id": "AIs4gtUb0CD6"
      }
    },
    {
      "cell_type": "code",
      "source": [
        "model = keras.models.Sequential([\n",
        "    keras.layers.SimpleRNN(20, return_sequences=True, input_shape=[None, 1]),\n",
        "    keras.layers.SimpleRNN(20),\n",
        "    keras.layers.Dense(10)  ## 10 steps\n",
        "])\n",
        "\n",
        "model.compile(loss=\"mse\", optimizer=\"adam\")\n",
        "history = model.fit(X_train, Y_train, epochs=20,\n",
        "                    validation_data=(X_valid, Y_valid))"
      ],
      "metadata": {
        "colab": {
          "base_uri": "https://localhost:8080/"
        },
        "id": "W9PHh8kHz2HS",
        "outputId": "f9f7ae5b-f180-45db-cac4-28fd51368d36"
      },
      "execution_count": 31,
      "outputs": [
        {
          "output_type": "stream",
          "name": "stdout",
          "text": [
            "Epoch 1/20\n",
            "219/219 [==============================] - 11s 30ms/step - loss: 0.1136 - val_loss: 0.0951\n",
            "Epoch 2/20\n",
            "219/219 [==============================] - 6s 29ms/step - loss: 0.0787 - val_loss: 0.0728\n",
            "Epoch 3/20\n",
            "219/219 [==============================] - 5s 23ms/step - loss: 0.0589 - val_loss: 0.0565\n",
            "Epoch 4/20\n",
            "219/219 [==============================] - 5s 23ms/step - loss: 0.0521 - val_loss: 0.0502\n",
            "Epoch 5/20\n",
            "219/219 [==============================] - 6s 26ms/step - loss: 0.0478 - val_loss: 0.0496\n",
            "Epoch 6/20\n",
            "219/219 [==============================] - 5s 21ms/step - loss: 0.0451 - val_loss: 0.0442\n",
            "Epoch 7/20\n",
            "219/219 [==============================] - 6s 28ms/step - loss: 0.0438 - val_loss: 0.0455\n",
            "Epoch 8/20\n",
            "219/219 [==============================] - 5s 23ms/step - loss: 0.0426 - val_loss: 0.0489\n",
            "Epoch 9/20\n",
            "219/219 [==============================] - 6s 26ms/step - loss: 0.0414 - val_loss: 0.0404\n",
            "Epoch 10/20\n",
            "219/219 [==============================] - 5s 24ms/step - loss: 0.0412 - val_loss: 0.0448\n",
            "Epoch 11/20\n",
            "219/219 [==============================] - 5s 23ms/step - loss: 0.0398 - val_loss: 0.0413\n",
            "Epoch 12/20\n",
            "219/219 [==============================] - 6s 27ms/step - loss: 0.0397 - val_loss: 0.0408\n",
            "Epoch 13/20\n",
            "219/219 [==============================] - 5s 23ms/step - loss: 0.0386 - val_loss: 0.0391\n",
            "Epoch 14/20\n",
            "219/219 [==============================] - 6s 27ms/step - loss: 0.0387 - val_loss: 0.0411\n",
            "Epoch 15/20\n",
            "219/219 [==============================] - 5s 22ms/step - loss: 0.0381 - val_loss: 0.0391\n",
            "Epoch 16/20\n",
            "219/219 [==============================] - 5s 23ms/step - loss: 0.0376 - val_loss: 0.0402\n",
            "Epoch 17/20\n",
            "219/219 [==============================] - 6s 28ms/step - loss: 0.0371 - val_loss: 0.0373\n",
            "Epoch 18/20\n",
            "219/219 [==============================] - 5s 23ms/step - loss: 0.0365 - val_loss: 0.0366\n",
            "Epoch 19/20\n",
            "219/219 [==============================] - 6s 27ms/step - loss: 0.0377 - val_loss: 0.0378\n",
            "Epoch 20/20\n",
            "219/219 [==============================] - 5s 22ms/step - loss: 0.0365 - val_loss: 0.0359\n"
          ]
        }
      ]
    },
    {
      "cell_type": "code",
      "source": [
        "series = generate_time_series(1, 50 + 10)\n",
        "X_new, Y_new = series[:, :50, :], series[:, -10:, :]\n",
        "Y_pred = model.predict(X_new)[..., np.newaxis]\n",
        "print(X_new.shape)\n",
        "print(Y_new.shape)\n",
        "print(Y_pred.shape)"
      ],
      "metadata": {
        "colab": {
          "base_uri": "https://localhost:8080/"
        },
        "id": "KYqPb2UC0JGa",
        "outputId": "6aa0e724-f39f-4e29-ec2b-8349357472a6"
      },
      "execution_count": 33,
      "outputs": [
        {
          "output_type": "stream",
          "name": "stdout",
          "text": [
            "1/1 [==============================] - 0s 41ms/step\n",
            "(1, 50, 1)\n",
            "(1, 10, 1)\n",
            "(1, 10, 1)\n"
          ]
        }
      ]
    },
    {
      "cell_type": "code",
      "source": [
        "plot_multiple_forecasts(X_new, Y_new, Y_pred)\n",
        "plt.show();"
      ],
      "metadata": {
        "colab": {
          "base_uri": "https://localhost:8080/",
          "height": 289
        },
        "id": "HVqmJi_Y1jkj",
        "outputId": "7ae85fde-283e-4647-8824-4fe3f38ef71a"
      },
      "execution_count": 34,
      "outputs": [
        {
          "output_type": "display_data",
          "data": {
            "text/plain": [
              "<Figure size 432x288 with 1 Axes>"
            ],
            "image/png": "[encoded data removed]"
          },
          "metadata": {
            "needs_background": "light"
          }
        }
      ]
    },
    {
      "cell_type": "markdown",
      "source": [
        "+ Now let's create an RNN that predicts the next 10 steps at each time step. \n",
        "+ That is, instead of just forecasting time steps 50 to 59 based on time steps 0 to 49, \n",
        "+ it will forecast time steps 1 to 10 at time step 0, \n",
        "+ then time steps 2 to 11 at time step 1, and so on, \n",
        "+ and finally it will forecast time steps 50 to 59 at the last time step. \n",
        "+ Notice that the model is causal: when it makes predictions at any time step, it can only see past time steps."
      ],
      "metadata": {
        "id": "K9gxG5xD2E13"
      }
    },
    {
      "cell_type": "code",
      "source": [
        "n_steps = 50\n",
        "series = generate_time_series(10000, n_steps + 10)\n",
        "print(\"Shape of Series :--\", series.shape)\n",
        "X_train = series[:7000, :n_steps]\n",
        "print(\"Shape of Training Set :--\", X_train.shape)\n",
        "X_valid = series[7000:9000, :n_steps]\n",
        "print(\"Shape of Validation Set :--\", X_valid.shape)\n",
        "X_test = series[9000:, :n_steps]\n",
        "print(\"Shape of Testing Set :--\", X_test.shape)\n",
        "Y = np.empty((10000, n_steps, 10))\n",
        "print(\"Shape of Y :--\", Y.shape)\n",
        "for step_ahead in range(1, 10 + 1):\n",
        "    Y[..., step_ahead - 1] = series[..., step_ahead:step_ahead + n_steps, 0]\n",
        "Y_train = Y[:7000]\n",
        "print(\"Step of Training Labels :--\", Y_train.shape)\n",
        "Y_valid = Y[7000:9000]\n",
        "print(\"Step of Validation Labels :--\", Y_valid.shape)\n",
        "Y_test = Y[9000:]\n",
        "print(\"Step of Testing Labels :--\", Y_test.shape)"
      ],
      "metadata": {
        "colab": {
          "base_uri": "https://localhost:8080/"
        },
        "id": "s4G8sqWy1ynq",
        "outputId": "f642c7ef-2c8c-4145-d8bc-bbb13aa59e71"
      },
      "execution_count": 40,
      "outputs": [
        {
          "output_type": "stream",
          "name": "stdout",
          "text": [
            "Shape of Series :-- (10000, 60, 1)\n",
            "Shape of Training Set :-- (7000, 50, 1)\n",
            "Shape of Validation Set :-- (2000, 50, 1)\n",
            "Shape of Testing Set :-- (1000, 50, 1)\n",
            "Shape of Y :-- (10000, 50, 10)\n",
            "Step of Training Labels :-- (7000, 50, 10)\n",
            "Step of Validation Labels :-- (2000, 50, 10)\n",
            "Step of Testing Labels :-- (1000, 50, 10)\n"
          ]
        }
      ]
    },
    {
      "cell_type": "code",
      "source": [
        "model = keras.models.Sequential([\n",
        "    keras.layers.SimpleRNN(20, return_sequences=True, input_shape=[None, 1]),\n",
        "    keras.layers.SimpleRNN(20, return_sequences=True),\n",
        "    keras.layers.TimeDistributed(keras.layers.Dense(10))\n",
        "])\n",
        "\n",
        "def last_time_step_mse(Y_true, Y_pred):\n",
        "    return keras.metrics.mean_squared_error(Y_true[:, -1], Y_pred[:, -1])\n",
        "\n",
        "model.compile(loss=\"mse\", optimizer=keras.optimizers.Adam(learning_rate=0.01), metrics=[last_time_step_mse])\n",
        "history = model.fit(X_train, Y_train, epochs=20,\n",
        "                    validation_data=(X_valid, Y_valid))"
      ],
      "metadata": {
        "colab": {
          "base_uri": "https://localhost:8080/"
        },
        "id": "znEy6jN_2euU",
        "outputId": "997f368d-1f19-43f0-9a88-bfb27f6ea997"
      },
      "execution_count": 41,
      "outputs": [
        {
          "output_type": "stream",
          "name": "stdout",
          "text": [
            "Epoch 1/20\n",
            "219/219 [==============================] - 9s 29ms/step - loss: 0.0929 - last_time_step_mse: 0.0910 - val_loss: 0.0778 - val_last_time_step_mse: 0.0687\n",
            "Epoch 2/20\n",
            "219/219 [==============================] - 5s 23ms/step - loss: 0.0712 - last_time_step_mse: 0.0648 - val_loss: 0.0688 - val_last_time_step_mse: 0.0606\n",
            "Epoch 3/20\n",
            "219/219 [==============================] - 7s 33ms/step - loss: 0.0702 - last_time_step_mse: 0.0635 - val_loss: 0.0693 - val_last_time_step_mse: 0.0593\n",
            "Epoch 4/20\n",
            "219/219 [==============================] - 6s 25ms/step - loss: 0.0644 - last_time_step_mse: 0.0555 - val_loss: 0.0625 - val_last_time_step_mse: 0.0528\n",
            "Epoch 5/20\n",
            "219/219 [==============================] - 5s 23ms/step - loss: 0.0620 - last_time_step_mse: 0.0527 - val_loss: 0.0585 - val_last_time_step_mse: 0.0476\n",
            "Epoch 6/20\n",
            "219/219 [==============================] - 6s 28ms/step - loss: 0.0717 - last_time_step_mse: 0.0651 - val_loss: 0.0695 - val_last_time_step_mse: 0.0594\n",
            "Epoch 7/20\n",
            "219/219 [==============================] - 5s 23ms/step - loss: 0.0676 - last_time_step_mse: 0.0587 - val_loss: 0.0643 - val_last_time_step_mse: 0.0533\n",
            "Epoch 8/20\n",
            "219/219 [==============================] - 6s 28ms/step - loss: 0.0640 - last_time_step_mse: 0.0552 - val_loss: 0.0609 - val_last_time_step_mse: 0.0482\n",
            "Epoch 9/20\n",
            "219/219 [==============================] - 5s 23ms/step - loss: 0.0594 - last_time_step_mse: 0.0482 - val_loss: 0.0598 - val_last_time_step_mse: 0.0470\n",
            "Epoch 10/20\n",
            "219/219 [==============================] - 6s 28ms/step - loss: 0.0580 - last_time_step_mse: 0.0469 - val_loss: 0.0562 - val_last_time_step_mse: 0.0432\n",
            "Epoch 11/20\n",
            "219/219 [==============================] - 5s 24ms/step - loss: 0.0561 - last_time_step_mse: 0.0442 - val_loss: 0.0653 - val_last_time_step_mse: 0.0529\n",
            "Epoch 12/20\n",
            "219/219 [==============================] - 5s 22ms/step - loss: 0.0555 - last_time_step_mse: 0.0444 - val_loss: 0.0526 - val_last_time_step_mse: 0.0387\n",
            "Epoch 13/20\n",
            "219/219 [==============================] - 6s 28ms/step - loss: 0.0573 - last_time_step_mse: 0.0453 - val_loss: 0.0545 - val_last_time_step_mse: 0.0411\n",
            "Epoch 14/20\n",
            "219/219 [==============================] - 5s 22ms/step - loss: 0.0534 - last_time_step_mse: 0.0411 - val_loss: 0.0579 - val_last_time_step_mse: 0.0459\n",
            "Epoch 15/20\n",
            "219/219 [==============================] - 7s 30ms/step - loss: 0.0583 - last_time_step_mse: 0.0468 - val_loss: 0.0973 - val_last_time_step_mse: 0.0957\n",
            "Epoch 16/20\n",
            "219/219 [==============================] - 5s 22ms/step - loss: 0.0940 - last_time_step_mse: 0.0933 - val_loss: 0.0973 - val_last_time_step_mse: 0.0976\n",
            "Epoch 17/20\n",
            "219/219 [==============================] - 6s 25ms/step - loss: 0.0913 - last_time_step_mse: 0.0912 - val_loss: 0.0865 - val_last_time_step_mse: 0.0847\n",
            "Epoch 18/20\n",
            "219/219 [==============================] - 5s 24ms/step - loss: 0.0851 - last_time_step_mse: 0.0842 - val_loss: 0.0822 - val_last_time_step_mse: 0.0783\n",
            "Epoch 19/20\n",
            "219/219 [==============================] - 5s 22ms/step - loss: 0.0824 - last_time_step_mse: 0.0813 - val_loss: 0.0810 - val_last_time_step_mse: 0.0777\n",
            "Epoch 20/20\n",
            "219/219 [==============================] - 7s 30ms/step - loss: 0.0793 - last_time_step_mse: 0.0779 - val_loss: 0.0765 - val_last_time_step_mse: 0.0714\n"
          ]
        }
      ]
    },
    {
      "cell_type": "code",
      "source": [
        "series = generate_time_series(1, 50 + 10)\n",
        "print(\"Shape of the Series :--\", series.shape)\n",
        "X_new, Y_new = series[:, :50, :], series[:, 50:, :]\n",
        "print(X_new.shape), print(Y_new.shape)\n",
        "Y_pred = model.predict(X_new)[:, -1][..., np.newaxis]\n",
        "print(Y_pred.shape)"
      ],
      "metadata": {
        "colab": {
          "base_uri": "https://localhost:8080/"
        },
        "id": "Ub1aAwpd3i4I",
        "outputId": "0cb38374-ede8-4d79-e81b-04b5d7e7c10a"
      },
      "execution_count": 42,
      "outputs": [
        {
          "output_type": "stream",
          "name": "stdout",
          "text": [
            "Shape of the Series :-- (1, 60, 1)\n",
            "(1, 50, 1)\n",
            "(1, 10, 1)\n",
            "1/1 [==============================] - 1s 792ms/step\n",
            "(1, 10, 1)\n"
          ]
        }
      ]
    },
    {
      "cell_type": "code",
      "source": [
        "plot_multiple_forecasts(X_new, Y_new, Y_pred)\n",
        "plt.show();"
      ],
      "metadata": {
        "colab": {
          "base_uri": "https://localhost:8080/",
          "height": 289
        },
        "id": "CURDohux4ShU",
        "outputId": "5a5290e3-51bb-493a-a150-a31f4144648e"
      },
      "execution_count": 43,
      "outputs": [
        {
          "output_type": "display_data",
          "data": {
            "text/plain": [
              "<Figure size 432x288 with 1 Axes>"
            ],
            "image/png": "[encoded data removed]"
          },
          "metadata": {
            "needs_background": "light"
          }
        }
      ]
    },
    {
      "cell_type": "markdown",
      "source": [
        "Here is the Prediction."
      ],
      "metadata": {
        "id": "qW2Xf-624lWL"
      }
    },
    {
      "cell_type": "markdown",
      "source": [
        "Deep RNN with Batch Normalization"
      ],
      "metadata": {
        "id": "DUALrHAj4s6J"
      }
    },
    {
      "cell_type": "code",
      "source": [
        "model = keras.models.Sequential([\n",
        "    keras.layers.SimpleRNN(20, return_sequences=True, input_shape=[None, 1]),\n",
        "    keras.layers.BatchNormalization(),\n",
        "    keras.layers.SimpleRNN(20, return_sequences=True),\n",
        "    keras.layers.BatchNormalization(),\n",
        "    keras.layers.TimeDistributed(keras.layers.Dense(10))\n",
        "])\n",
        "\n",
        "model.compile(loss=\"mse\", optimizer=\"adam\", metrics=[last_time_step_mse])\n",
        "history = model.fit(X_train, Y_train, epochs=20,\n",
        "                    validation_data=(X_valid, Y_valid))"
      ],
      "metadata": {
        "colab": {
          "base_uri": "https://localhost:8080/"
        },
        "id": "Qg7jr3KT4XPk",
        "outputId": "58d4fb82-1607-48ed-de74-d04bbbdba1a9"
      },
      "execution_count": 44,
      "outputs": [
        {
          "output_type": "stream",
          "name": "stdout",
          "text": [
            "Epoch 1/20\n",
            "219/219 [==============================] - 11s 35ms/step - loss: 0.2339 - last_time_step_mse: 0.2188 - val_loss: 0.1256 - val_last_time_step_mse: 0.1198\n",
            "Epoch 2/20\n",
            "219/219 [==============================] - 6s 29ms/step - loss: 0.0893 - last_time_step_mse: 0.0852 - val_loss: 0.0863 - val_last_time_step_mse: 0.0791\n",
            "Epoch 3/20\n",
            "219/219 [==============================] - 6s 28ms/step - loss: 0.0809 - last_time_step_mse: 0.0762 - val_loss: 0.0778 - val_last_time_step_mse: 0.0702\n",
            "Epoch 4/20\n",
            "219/219 [==============================] - 5s 24ms/step - loss: 0.0764 - last_time_step_mse: 0.0705 - val_loss: 0.0737 - val_last_time_step_mse: 0.0651\n",
            "Epoch 5/20\n",
            "219/219 [==============================] - 7s 31ms/step - loss: 0.0722 - last_time_step_mse: 0.0648 - val_loss: 0.0709 - val_last_time_step_mse: 0.0597\n",
            "Epoch 6/20\n",
            "219/219 [==============================] - 6s 28ms/step - loss: 0.0687 - last_time_step_mse: 0.0594 - val_loss: 0.0672 - val_last_time_step_mse: 0.0550\n",
            "Epoch 7/20\n",
            "219/219 [==============================] - 7s 32ms/step - loss: 0.0659 - last_time_step_mse: 0.0555 - val_loss: 0.0639 - val_last_time_step_mse: 0.0512\n",
            "Epoch 8/20\n",
            "219/219 [==============================] - 5s 25ms/step - loss: 0.0640 - last_time_step_mse: 0.0527 - val_loss: 0.0638 - val_last_time_step_mse: 0.0512\n",
            "Epoch 9/20\n",
            "219/219 [==============================] - 7s 33ms/step - loss: 0.0628 - last_time_step_mse: 0.0511 - val_loss: 0.0641 - val_last_time_step_mse: 0.0505\n",
            "Epoch 10/20\n",
            "219/219 [==============================] - 6s 26ms/step - loss: 0.0614 - last_time_step_mse: 0.0491 - val_loss: 0.0645 - val_last_time_step_mse: 0.0516\n",
            "Epoch 11/20\n",
            "219/219 [==============================] - 7s 32ms/step - loss: 0.0607 - last_time_step_mse: 0.0485 - val_loss: 0.0604 - val_last_time_step_mse: 0.0458\n",
            "Epoch 12/20\n",
            "219/219 [==============================] - 6s 26ms/step - loss: 0.0595 - last_time_step_mse: 0.0465 - val_loss: 0.0593 - val_last_time_step_mse: 0.0450\n",
            "Epoch 13/20\n",
            "219/219 [==============================] - 7s 30ms/step - loss: 0.0589 - last_time_step_mse: 0.0455 - val_loss: 0.0583 - val_last_time_step_mse: 0.0429\n",
            "Epoch 14/20\n",
            "219/219 [==============================] - 6s 25ms/step - loss: 0.0585 - last_time_step_mse: 0.0446 - val_loss: 0.0600 - val_last_time_step_mse: 0.0461\n",
            "Epoch 15/20\n",
            "219/219 [==============================] - 7s 31ms/step - loss: 0.0579 - last_time_step_mse: 0.0439 - val_loss: 0.0576 - val_last_time_step_mse: 0.0430\n",
            "Epoch 16/20\n",
            "219/219 [==============================] - 5s 24ms/step - loss: 0.0572 - last_time_step_mse: 0.0431 - val_loss: 0.0579 - val_last_time_step_mse: 0.0433\n",
            "Epoch 17/20\n",
            "219/219 [==============================] - 11s 48ms/step - loss: 0.0571 - last_time_step_mse: 0.0430 - val_loss: 0.0593 - val_last_time_step_mse: 0.0450\n",
            "Epoch 18/20\n",
            "219/219 [==============================] - 7s 30ms/step - loss: 0.0568 - last_time_step_mse: 0.0426 - val_loss: 0.0557 - val_last_time_step_mse: 0.0401\n",
            "Epoch 19/20\n",
            "219/219 [==============================] - 9s 39ms/step - loss: 0.0564 - last_time_step_mse: 0.0417 - val_loss: 0.0564 - val_last_time_step_mse: 0.0409\n",
            "Epoch 20/20\n",
            "219/219 [==============================] - 8s 36ms/step - loss: 0.0560 - last_time_step_mse: 0.0415 - val_loss: 0.0559 - val_last_time_step_mse: 0.0408\n"
          ]
        }
      ]
    },
    {
      "cell_type": "code",
      "source": [
        "series = generate_time_series(1, 50 + 10)\n",
        "print(\"Shape of the Series :--\", series.shape)\n",
        "X_new, Y_new = series[:, :50, :], series[:, 50:, :]\n",
        "print(X_new.shape), print(Y_new.shape)\n",
        "Y_pred = model.predict(X_new)[:, -1][..., np.newaxis]\n",
        "print(Y_pred.shape)\n",
        "\n",
        "plot_multiple_forecasts(X_new, Y_new, Y_pred)\n",
        "plt.show();"
      ],
      "metadata": {
        "colab": {
          "base_uri": "https://localhost:8080/",
          "height": 376
        },
        "id": "dhLogpYG4xNR",
        "outputId": "eec35ce4-a9f7-4a59-c7ab-88132a7ecf2d"
      },
      "execution_count": 45,
      "outputs": [
        {
          "output_type": "stream",
          "name": "stdout",
          "text": [
            "Shape of the Series :-- (1, 60, 1)\n",
            "(1, 50, 1)\n",
            "(1, 10, 1)\n",
            "1/1 [==============================] - 1s 590ms/step\n",
            "(1, 10, 1)\n"
          ]
        },
        {
          "output_type": "display_data",
          "data": {
            "text/plain": [
              "<Figure size 432x288 with 1 Axes>"
            ],
            "image/png": "[encoded data removed]"
          },
          "metadata": {
            "needs_background": "light"
          }
        }
      ]
    },
    {
      "cell_type": "markdown",
      "source": [
        "These are the Outputs of the Predictions.\n",
        "\n",
        "***"
      ],
      "metadata": {
        "id": "LoKKmj7y5kPx"
      }
    }
  ]
}